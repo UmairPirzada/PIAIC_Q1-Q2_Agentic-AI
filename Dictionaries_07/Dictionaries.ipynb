{
 "cells": [
  {
   "cell_type": "markdown",
   "metadata": {},
   "source": [
    "# What is a Dictionary?\n",
    "Dictionary, a data structure in Python, is a collection of key-value pairs, where each key is unique, and each key is associated with a specific value. Unlike other data structures in Python, like lists or sets, dictionaries are unordered, meaning that the items are not stored in any particular sequence.\n",
    "\n",
    "Dictionary enable the association of values with unique keys, providing a way to store and retrieve information using meaningful identifiers. Dictionaries are particularly valuable when there is a need for fast data access and retrieval based on specific keys. They are versatile and widely used in scenarios where data needs to be stored and accessed in a structured manner."
   ]
  },
  {
   "cell_type": "markdown",
   "metadata": {},
   "source": [
    "# Why Do We Need Dictionaries?\n",
    "The Problem: Efficient Data Lookups\n",
    "Consider a scenario where 're managing a collection of student scores in different subjects. Initially, might think of using two separate lists—one for student names and one for their corresponding scores:\n",
    "\n"
   ]
  },
  {
   "cell_type": "code",
   "execution_count": 1,
   "metadata": {},
   "outputs": [
    {
     "name": "stdout",
     "output_type": "stream",
     "text": [
      "['Alice', 'Bob', 'Charlie']\n",
      "[85, 92, 78]\n"
     ]
    }
   ],
   "source": [
    "students : list[str ]= [\"Alice\", \"Bob\", \"Charlie\"]\n",
    "scores : list[int] = [85, 92, 78]\n",
    "print(students)\n",
    "print(scores)"
   ]
  },
  {
   "cell_type": "markdown",
   "metadata": {},
   "source": [
    "To find the score of a specific student, would need to first find the index of the student's name in the students list and then use that index to look up the score in the scores list:"
   ]
  },
  {
   "cell_type": "code",
   "execution_count": 3,
   "metadata": {},
   "outputs": [
    {
     "name": "stdout",
     "output_type": "stream",
     "text": [
      "0\n",
      "85\n"
     ]
    }
   ],
   "source": [
    "index : int = students.index(\"Alice\")\n",
    "score : int = scores[index]\n",
    "print(index)\n",
    "print(score)"
   ]
  },
  {
   "cell_type": "markdown",
   "metadata": {},
   "source": [
    "While this approach works, it quickly becomes inefficient as the lists grow in size. Searching for a student's name in the list takes time, and managing two separate lists can lead to errors, especially if they become out of sync."
   ]
  },
  {
   "cell_type": "markdown",
   "metadata": {},
   "source": [
    "# The Solution: Constant-Time Lookups with Dictionaries\n",
    "Dictionaries provide a more efficient and intuitive way to handle this situation. By using student names as keys and their scores as values, can store the data in a dictionary:\n",
    "\n"
   ]
  },
  {
   "cell_type": "code",
   "execution_count": 7,
   "metadata": {},
   "outputs": [],
   "source": [
    "students_scores: dict[str,int]= {\n",
    "    \"Alice\": 85,\n",
    "    \"Bob\": 92,\n",
    "    \"Charlie\": 78\n",
    "}"
   ]
  },
  {
   "cell_type": "markdown",
   "metadata": {},
   "source": [
    "Now, finding a student's score is much simpler and faster:"
   ]
  },
  {
   "cell_type": "code",
   "execution_count": 9,
   "metadata": {},
   "outputs": [
    {
     "data": {
      "text/plain": [
       "85"
      ]
     },
     "execution_count": 9,
     "metadata": {},
     "output_type": "execute_result"
    }
   ],
   "source": [
    "score: int = students_scores[\"Alice\"]\n",
    "score"
   ]
  },
  {
   "cell_type": "code",
   "execution_count": 10,
   "metadata": {},
   "outputs": [
    {
     "data": {
      "text/plain": [
       "92"
      ]
     },
     "execution_count": 10,
     "metadata": {},
     "output_type": "execute_result"
    }
   ],
   "source": [
    "score: int = students_scores[\"Bob\"]\n",
    "score"
   ]
  },
  {
   "cell_type": "markdown",
   "metadata": {},
   "source": [
    "This operation is performed in constant time, regardless of the number of students."
   ]
  },
  {
   "cell_type": "markdown",
   "metadata": {},
   "source": [
    "# What Problems Do Dictionaries Solve?\n",
    "### 1. Fast Data Retrieval\n",
    "\n",
    "Dictionaries are optimized for fast data retrieval. Instead of searching through an entire list, can quickly access any value directly by its key.\n",
    "\n",
    "### 2. Clearer, More Expressive Code\n",
    "\n",
    "Dictionaries allow us to write clearer and more expressive code. The key-value structure makes it obvious what each item represents, improving code readability.\n",
    "\n",
    "### 3. Flexibility in Data Organization\n",
    "\n",
    "Dictionaries offer flexibility in how organize data. can store complex structures, like lists or other dictionaries, as values, enabling us to represent nested or hierarchical data.\n",
    "\n",
    "# Working with Dictionaries in Python\n",
    "\n",
    "### Important Properties\n",
    "\n",
    "Each key should be unique\n",
    "\n",
    "Key can be any immutable type of object\n",
    "\n",
    "len() function also works with dictionaries i.e. returns the length of key-value pairs\n",
    "\n",
    "A dictionary is a one way tool i.e. We can find the value from key but cannot find they key from value. It works the same way as original dictionary.We can find urdu menaing of word in english but not the english meaning of urdu word.\n",
    "\n",
    "The dictionaries are not ordered. We might have different orders when we use print() function.\n",
    "\n",
    "Dictionaries are not a sequence type. So can we use for loop with dictionaries? No! and Yes! We'll see it in below examples."
   ]
  },
  {
   "cell_type": "markdown",
   "metadata": {},
   "source": [
    "# Creating a Dictionary\n",
    "can create a dictionary using curly braces {} or the dict() function.\n",
    "\n",
    "# Example:"
   ]
  },
  {
   "cell_type": "code",
   "execution_count": 11,
   "metadata": {},
   "outputs": [],
   "source": [
    "# Using curly braces\n",
    "student_scores : dict[str, int] = {\n",
    "    \"Alice\": 85,\n",
    "    \"Bob\": 92,\n",
    "    \"Charlie\": 78\n",
    "}\n",
    "\n",
    "# Using dict() function\n",
    "student_scores : dict[str,int] = dict(Alice=85, Bob=92, Charlie=78)"
   ]
  },
  {
   "cell_type": "markdown",
   "metadata": {},
   "source": [
    "# Accessing Values\n",
    "can access values in a dictionary using the key inside square brackets [] or with the .get() method.\n",
    "\n",
    "# Example:"
   ]
  },
  {
   "cell_type": "code",
   "execution_count": 12,
   "metadata": {},
   "outputs": [
    {
     "name": "stdout",
     "output_type": "stream",
     "text": [
      "85\n",
      "92\n"
     ]
    }
   ],
   "source": [
    "# Accessing a value using a key\n",
    "print(student_scores[\"Alice\"])  \n",
    "\n",
    "# Using the get() method\n",
    "print(student_scores.get(\"Bob\")) "
   ]
  },
  {
   "cell_type": "markdown",
   "metadata": {},
   "source": [
    "# Handling Missing Keys\n",
    "The .get() method is safer for accessing keys, as it returns None or a default value if the key is not found, rather than raising a KeyError.\n",
    "\n",
    "# Example:"
   ]
  },
  {
   "cell_type": "code",
   "execution_count": 13,
   "metadata": {},
   "outputs": [
    {
     "ename": "KeyError",
     "evalue": "'David'",
     "output_type": "error",
     "traceback": [
      "\u001b[0;31m---------------------------------------------------------------------------\u001b[0m",
      "\u001b[0;31mKeyError\u001b[0m                                  Traceback (most recent call last)",
      "Cell \u001b[0;32mIn[13], line 2\u001b[0m\n\u001b[1;32m      1\u001b[0m \u001b[38;5;66;03m# Using square brackets (raises KeyError if key is not found)\u001b[39;00m\n\u001b[0;32m----> 2\u001b[0m \u001b[38;5;28mprint\u001b[39m(\u001b[43mstudent_scores\u001b[49m\u001b[43m[\u001b[49m\u001b[38;5;124;43m\"\u001b[39;49m\u001b[38;5;124;43mDavid\u001b[39;49m\u001b[38;5;124;43m\"\u001b[39;49m\u001b[43m]\u001b[49m)  \u001b[38;5;66;03m# Uncommenting this line would raise KeyError\u001b[39;00m\n",
      "\u001b[0;31mKeyError\u001b[0m: 'David'"
     ]
    }
   ],
   "source": [
    "# Using square brackets (raises KeyError if key is not found)\n",
    "print(student_scores[\"David\"])  # Uncommenting this line would raise KeyError"
   ]
  },
  {
   "cell_type": "code",
   "execution_count": 14,
   "metadata": {},
   "outputs": [
    {
     "name": "stdout",
     "output_type": "stream",
     "text": [
      "None\n",
      "Not Found\n"
     ]
    }
   ],
   "source": [
    "# Using get() (returns None if key is not found)\n",
    "print(student_scores.get(\"David\")) \n",
    "\n",
    "# Providing a default value with get()\n",
    "print(student_scores.get(\"David\", \"Not Found\"))"
   ]
  },
  {
   "cell_type": "markdown",
   "metadata": {},
   "source": [
    "# Adding and Updating Items\n",
    "can add a new key-value pair or update an existing one using square brackets [].\n",
    "\n",
    "# Example:"
   ]
  },
  {
   "cell_type": "code",
   "execution_count": 15,
   "metadata": {},
   "outputs": [
    {
     "name": "stdout",
     "output_type": "stream",
     "text": [
      "{'Alice': 85, 'Bob': 92, 'Charlie': 78, 'David': 88}\n",
      "{'Alice': 90, 'Bob': 92, 'Charlie': 78, 'David': 88}\n"
     ]
    }
   ],
   "source": [
    "# Adding a new key-value pair\n",
    "student_scores[\"David\"] = 88\n",
    "print(student_scores)  \n",
    "\n",
    "# Updating an existing key-value pair\n",
    "student_scores[\"Alice\"] = 90\n",
    "print(student_scores)  \n"
   ]
  },
  {
   "cell_type": "markdown",
   "metadata": {},
   "source": [
    "# Removing Items\n",
    "can remove items using the del statement, the .pop() method, or the .popitem() method.\n",
    "\n",
    "# Example:"
   ]
  },
  {
   "cell_type": "code",
   "execution_count": 16,
   "metadata": {},
   "outputs": [
    {
     "name": "stdout",
     "output_type": "stream",
     "text": [
      "{'Alice': 90, 'Bob': 92, 'David': 88}\n",
      "88\n",
      "{'Alice': 90, 'Bob': 92}\n",
      "('Bob', 92)\n",
      "{'Alice': 90}\n"
     ]
    }
   ],
   "source": [
    "# Removing a specific key-value pair using del\n",
    "del student_scores[\"Charlie\"]\n",
    "print(student_scores)  \n",
    "\n",
    "# Removing a specific key-value pair using pop()\n",
    "removed_score = student_scores.pop(\"David\")\n",
    "print(removed_score)  \n",
    "print(student_scores) \n",
    "\n",
    "# Removing the last inserted key-value pair using popitem()\n",
    "last_item = student_scores.popitem()\n",
    "print(last_item) \n",
    "print(student_scores)  "
   ]
  },
  {
   "cell_type": "markdown",
   "metadata": {},
   "source": [
    "# Checking if a Key Exists\n",
    "can check if a key exists in a dictionary using the in keyword.\n",
    "\n",
    "# Example:"
   ]
  },
  {
   "cell_type": "code",
   "execution_count": 17,
   "metadata": {},
   "outputs": [
    {
     "name": "stdout",
     "output_type": "stream",
     "text": [
      "True\n",
      "False\n"
     ]
    }
   ],
   "source": [
    "print(\"Alice\" in student_scores)  \n",
    "print(\"Charlie\" in student_scores)  "
   ]
  },
  {
   "cell_type": "markdown",
   "metadata": {},
   "source": [
    "# Iterating Through a Dictionary\n",
    "We can iterate through the keys, values, or key-value pairs in a dictionary using a for loop.\n",
    "\n",
    "# Example:"
   ]
  },
  {
   "cell_type": "code",
   "execution_count": 18,
   "metadata": {},
   "outputs": [
    {
     "name": "stdout",
     "output_type": "stream",
     "text": [
      "Alice\n",
      "90\n",
      "Alice: 90\n"
     ]
    }
   ],
   "source": [
    "# Iterating through keys\n",
    "for student in student_scores:\n",
    "    print(student)\n",
    "\n",
    "# Iterating through values\n",
    "for score in student_scores.values():\n",
    "    print(score)\n",
    "\n",
    "# Iterating through key-value pairs\n",
    "for student, score in student_scores.items():\n",
    "    print(f\"{student}: {score}\")\n"
   ]
  },
  {
   "cell_type": "markdown",
   "metadata": {},
   "source": [
    "# Dictionary Methods\n",
    "### 1. .keys() Method\n",
    "Returns a view object that displays a list of all the keys in the dictionary.\n",
    "\n",
    "# Example:"
   ]
  },
  {
   "cell_type": "code",
   "execution_count": 19,
   "metadata": {},
   "outputs": [
    {
     "name": "stdout",
     "output_type": "stream",
     "text": [
      "dict_keys(['Alice'])\n"
     ]
    }
   ],
   "source": [
    "keys = student_scores.keys()\n",
    "print(keys)  "
   ]
  },
  {
   "cell_type": "markdown",
   "metadata": {},
   "source": [
    "### 2. .values() Method\n",
    "Returns a view object that displays a list of all the values in the dictionary.\n",
    "\n",
    "### Example:"
   ]
  },
  {
   "cell_type": "code",
   "execution_count": 20,
   "metadata": {},
   "outputs": [
    {
     "name": "stdout",
     "output_type": "stream",
     "text": [
      "dict_values([90])\n"
     ]
    }
   ],
   "source": [
    "values = student_scores.values()\n",
    "print(values) "
   ]
  },
  {
   "cell_type": "markdown",
   "metadata": {},
   "source": [
    "### 3. .items() Method\n",
    "Returns a view object that displays a list of the dictionary’s key-value tuple pairs.\n",
    "\n",
    "### Example:"
   ]
  },
  {
   "cell_type": "code",
   "execution_count": 21,
   "metadata": {},
   "outputs": [
    {
     "name": "stdout",
     "output_type": "stream",
     "text": [
      "dict_items([('Alice', 90)])\n"
     ]
    }
   ],
   "source": [
    "items = student_scores.items()\n",
    "print(items) "
   ]
  },
  {
   "cell_type": "markdown",
   "metadata": {},
   "source": [
    "### 4. .update() Method\n",
    "Updates the dictionary with elements from another dictionary or from an iterable of key-value pairs.\n",
    "\n",
    "### Example:"
   ]
  },
  {
   "cell_type": "code",
   "execution_count": 22,
   "metadata": {},
   "outputs": [
    {
     "name": "stdout",
     "output_type": "stream",
     "text": [
      "{'Alice': 90, 'Eve': 95, 'Frank': 87}\n"
     ]
    }
   ],
   "source": [
    "additional_scores = {\"Eve\": 95, \"Frank\": 87}\n",
    "student_scores.update(additional_scores)\n",
    "print(student_scores)  "
   ]
  },
  {
   "cell_type": "markdown",
   "metadata": {},
   "source": [
    "### 5. .clear() Method\n",
    "Removes all items from the dictionary.\n",
    "\n",
    "### Example:"
   ]
  },
  {
   "cell_type": "code",
   "execution_count": 23,
   "metadata": {},
   "outputs": [
    {
     "name": "stdout",
     "output_type": "stream",
     "text": [
      "{}\n"
     ]
    }
   ],
   "source": [
    "student_scores.clear()\n",
    "print(student_scores)  "
   ]
  },
  {
   "cell_type": "markdown",
   "metadata": {},
   "source": [
    "###  5. .copy() Method\n",
    "Removes all items from the dictionary.\n",
    "\n",
    "### Example:"
   ]
  },
  {
   "cell_type": "code",
   "execution_count": 24,
   "metadata": {},
   "outputs": [
    {
     "name": "stdout",
     "output_type": "stream",
     "text": [
      "{}\n"
     ]
    }
   ],
   "source": [
    "sutdent_scroes_copy = student_scores.copy()\n",
    "print(sutdent_scroes_copy)"
   ]
  },
  {
   "cell_type": "markdown",
   "metadata": {},
   "source": [
    "### Dictionary Comprehension\n",
    "We can also apply comprehension method on dictionaries.\n",
    "\n",
    "### Example:"
   ]
  },
  {
   "cell_type": "code",
   "execution_count": 25,
   "metadata": {},
   "outputs": [
    {
     "name": "stdout",
     "output_type": "stream",
     "text": [
      "{0: 0, 1: 1, 2: 2, 3: 3, 4: 4}\n"
     ]
    }
   ],
   "source": [
    "values : dict[int,int] = {x:x for x in range(5)}\n",
    "print(values) "
   ]
  },
  {
   "cell_type": "code",
   "execution_count": 26,
   "metadata": {},
   "outputs": [
    {
     "name": "stdout",
     "output_type": "stream",
     "text": [
      "{0: 'apple', 1: 'banana', 2: 'orange'}\n"
     ]
    }
   ],
   "source": [
    "fruits : list[str] = [\"apple\", \"banana\", \"orange\"]\n",
    "fruits_dict : dict[int,str] = {i:fruit for i, fruit in enumerate(fruits)}\n",
    "print(fruits_dict)  "
   ]
  },
  {
   "cell_type": "markdown",
   "metadata": {},
   "source": []
  }
 ],
 "metadata": {
  "kernelspec": {
   "display_name": "Python 3",
   "language": "python",
   "name": "python3"
  },
  "language_info": {
   "codemirror_mode": {
    "name": "ipython",
    "version": 3
   },
   "file_extension": ".py",
   "mimetype": "text/x-python",
   "name": "python",
   "nbconvert_exporter": "python",
   "pygments_lexer": "ipython3",
   "version": "3.12.5"
  }
 },
 "nbformat": 4,
 "nbformat_minor": 2
}
