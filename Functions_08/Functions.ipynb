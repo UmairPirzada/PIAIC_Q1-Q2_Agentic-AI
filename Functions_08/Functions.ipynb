{
  "cells": [
    {
      "cell_type": "markdown",
      "metadata": {
        "id": "ZFeeuWLKMQ8v"
      },
      "source": [
        "# Functions\n",
        "---"
      ]
    },
    {
      "cell_type": "code",
      "execution_count": 1,
      "metadata": {
        "colab": {
          "base_uri": "https://localhost:8080/"
        },
        "id": "MWcg6bQTMWe9",
        "outputId": "c7ac049b-cefa-4b38-be56-f67037307567"
      },
      "outputs": [
        {
          "name": "stdout",
          "output_type": "stream",
          "text": [
            "Hello Class!\n",
            "Hello Class!\n",
            "Hello Class!\n"
          ]
        }
      ],
      "source": [
        "# 1- Define the function\n",
        "def greet ():\n",
        "    # function body\n",
        "    print(\"Hello Class!\")\n",
        "\n",
        "# 2- InvoCation / Call\n",
        "greet()\n",
        "\n",
        "greet()\n",
        "\n",
        "greet()\n"
      ]
    },
    {
      "cell_type": "code",
      "execution_count": 2,
      "metadata": {
        "colab": {
          "base_uri": "https://localhost:8080/"
        },
        "id": "vnHjvP_dNvdD",
        "outputId": "7891bc98-ce7e-469a-a980-24a280ef0bf2"
      },
      "outputs": [
        {
          "name": "stdout",
          "output_type": "stream",
          "text": [
            "12\n",
            "12\n",
            "12\n"
          ]
        }
      ],
      "source": [
        "\n",
        "def addition ():\n",
        "    x = 4\n",
        "    y = 8\n",
        "    print(x + y)\n",
        "\n",
        "addition()\n",
        "addition()\n",
        "addition()"
      ]
    },
    {
      "cell_type": "code",
      "execution_count": 3,
      "metadata": {
        "colab": {
          "base_uri": "https://localhost:8080/"
        },
        "id": "fJe0MmdSOekK",
        "outputId": "47c87eaa-8fe1-411e-e8fa-feb9e572d2d4"
      },
      "outputs": [
        {
          "name": "stdout",
          "output_type": "stream",
          "text": [
            "15\n",
            "45\n"
          ]
        }
      ],
      "source": [
        "def addition (x, y):\n",
        "    result = x + y\n",
        "    print(result)\n",
        "\n",
        "\n",
        "addition(5, 10)\n",
        "\n",
        "addition(15, 30)"
      ]
    },
    {
      "cell_type": "code",
      "execution_count": 4,
      "metadata": {
        "colab": {
          "base_uri": "https://localhost:8080/"
        },
        "id": "bJVpBrCKQh6c",
        "outputId": "70eff75e-a508-4d2e-ea73-9a5023ddbfa1"
      },
      "outputs": [
        {
          "name": "stdout",
          "output_type": "stream",
          "text": [
            "Rehan\n",
            "Value of a: None\n",
            " value of 5\n"
          ]
        }
      ],
      "source": [
        "# def addition (x, y):\n",
        "#     result = x + y\n",
        "#     print(result)\n",
        "\n",
        "\n",
        "a = print(\"Rehan\")\n",
        "print(f\"Value of a: {a}\")\n",
        "\n",
        "y = int(\"5\")\n",
        "print(f\" value of {y}\")"
      ]
    },
    {
      "cell_type": "code",
      "execution_count": 5,
      "metadata": {
        "colab": {
          "base_uri": "https://localhost:8080/"
        },
        "id": "_k9mvRe4bCkP",
        "outputId": "f484bdef-3ec2-4416-f412-5a88803c9b91"
      },
      "outputs": [
        {
          "name": "stdout",
          "output_type": "stream",
          "text": [
            "9\n",
            "36\n"
          ]
        }
      ],
      "source": [
        "def addition (x, y):\n",
        "    result = x + y\n",
        "    return result\n",
        "\n",
        "result1 = addition(4,5)\n",
        "print(result1)\n",
        "\n",
        "print(4*result1)"
      ]
    },
    {
      "cell_type": "code",
      "execution_count": 7,
      "metadata": {
        "colab": {
          "base_uri": "https://localhost:8080/"
        },
        "id": "urmzRlyrc8BI",
        "outputId": "56bb4c00-e691-4c00-c713-4faa5a99d32f"
      },
      "outputs": [
        {
          "name": "stdout",
          "output_type": "stream",
          "text": [
            "hi\n",
            "None\n",
            "22\n",
            "hi\n",
            "None\n"
          ]
        }
      ],
      "source": [
        "def addition (x, y):\n",
        "    if x < 10 or y < 10:\n",
        "        print(\"hi\")\n",
        "        return\n",
        "    return x + y\n",
        "\n",
        "print(addition(10,9))\n",
        "print(addition(10,12))\n",
        "print(addition(4,5))\n",
        "\n"
      ]
    },
    {
      "cell_type": "code",
      "execution_count": 8,
      "metadata": {
        "colab": {
          "base_uri": "https://localhost:8080/"
        },
        "id": "kaBxpxNXeuWm",
        "outputId": "286f650c-2c3d-4b5f-d0fb-23fcf798056e"
      },
      "outputs": [
        {
          "name": "stdout",
          "output_type": "stream",
          "text": [
            "(4, 5)\n"
          ]
        }
      ],
      "source": [
        "\n",
        "def return_multiple_values ():\n",
        "    x = 4\n",
        "    y = 5\n",
        "    return x, y\n",
        "\n",
        "print(return_multiple_values())"
      ]
    },
    {
      "cell_type": "code",
      "execution_count": 9,
      "metadata": {
        "colab": {
          "base_uri": "https://localhost:8080/"
        },
        "id": "XSf1a2-jfXDi",
        "outputId": "d3ad4a23-34fa-4f52-a9eb-17604eb7f3a7"
      },
      "outputs": [
        {
          "name": "stdout",
          "output_type": "stream",
          "text": [
            "3\n",
            "-3\n"
          ]
        }
      ],
      "source": [
        "def subtraction (x,y):\n",
        "    return x - y\n",
        "\n",
        "print(subtraction(10,7))\n",
        "\n",
        "print(subtraction(7,10))\n",
        "\n",
        "\n",
        "\n",
        "\n"
      ]
    },
    {
      "cell_type": "code",
      "execution_count": 10,
      "metadata": {
        "colab": {
          "base_uri": "https://localhost:8080/"
        },
        "id": "lXzo6WXMgN0V",
        "outputId": "0df1a0e9-f2ae-4754-c83e-1850ba572a2b"
      },
      "outputs": [
        {
          "name": "stdout",
          "output_type": "stream",
          "text": [
            "Rehan Khan\n",
            "khan Rehan\n"
          ]
        }
      ],
      "source": [
        "def full_name (first_name, last_name):\n",
        "    print(f\"{first_name} {last_name}\")\n",
        "\n",
        "full_name(\"Rehan\", \"Khan\")\n",
        "\n",
        "full_name(\"khan\", \"Rehan\")"
      ]
    },
    {
      "cell_type": "markdown",
      "metadata": {
        "id": "k0U8baMkD_zr"
      },
      "source": [
        "# Assignment\n",
        "---"
      ]
    },
    {
      "cell_type": "code",
      "execution_count": 11,
      "metadata": {
        "id": "g7qFgQ3Eg72j"
      },
      "outputs": [],
      "source": [
        "students_data = [\n",
        "    {\n",
        "        'name': 'John Doe',\n",
        "        'marks': {\n",
        "            'Math': 85,\n",
        "            'English': 90,\n",
        "            'Science': 78\n",
        "        }\n",
        "    },\n",
        "    {\n",
        "        'name': 'Jane Smith',\n",
        "        'marks': {\n",
        "            'Math': 75,\n",
        "            'English': 82,\n",
        "            'Science': 89\n",
        "        }\n",
        "    },\n",
        "    {\n",
        "        'name': 'Emily Davis',\n",
        "        'marks': {\n",
        "            'Math': 93,\n",
        "            'English': 87,\n",
        "            'Science': 85\n",
        "        }\n",
        "    },\n",
        "    {\n",
        "        'name': 'Michael Brown',\n",
        "        'marks': {\n",
        "            'Math': 65,\n",
        "            'English': 70,\n",
        "            'Science': 60\n",
        "        }\n",
        "    },\n",
        "    {\n",
        "        'name': 'Chris Johnson',\n",
        "        'marks': {\n",
        "            'Math': 88,\n",
        "            'English': 85,\n",
        "            'Science': 90\n",
        "        }\n",
        "    }\n",
        "]"
      ]
    },
    {
      "cell_type": "code",
      "execution_count": 12,
      "metadata": {
        "colab": {
          "base_uri": "https://localhost:8080/"
        },
        "id": "lGxB0v6Hh-NO",
        "outputId": "98906095-9f38-4456-d1eb-702caba34ff1"
      },
      "outputs": [
        {
          "name": "stdout",
          "output_type": "stream",
          "text": [
            "total :253\n",
            "total :246\n",
            "total :265\n",
            "total :195\n",
            "total :263\n"
          ]
        }
      ],
      "source": [
        "for student in students_data:\n",
        "    total = student[\"marks\"][\"Math\"] +student[\"marks\"][\"English\"] +student[\"marks\"][\"Science\"]\n",
        "    print(f\"total :{total}\")"
      ]
    },
    {
      "cell_type": "code",
      "execution_count": null,
      "metadata": {},
      "outputs": [],
      "source": []
    }
  ],
  "metadata": {
    "colab": {
      "provenance": []
    },
    "kernelspec": {
      "display_name": "Python 3",
      "name": "python3"
    },
    "language_info": {
      "codemirror_mode": {
        "name": "ipython",
        "version": 3
      },
      "file_extension": ".py",
      "mimetype": "text/x-python",
      "name": "python",
      "nbconvert_exporter": "python",
      "pygments_lexer": "ipython3",
      "version": "3.12.5"
    }
  },
  "nbformat": 4,
  "nbformat_minor": 0
}
