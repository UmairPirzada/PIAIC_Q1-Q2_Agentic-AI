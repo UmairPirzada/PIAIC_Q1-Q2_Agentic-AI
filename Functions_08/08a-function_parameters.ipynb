{
 "cells": [
  {
   "cell_type": "markdown",
   "metadata": {},
   "source": [
    "# Function Parameters\n",
    "In this section, we'll learn about parameterless and parameterized functions.\n",
    "\n",
    "### What are function parameters?\n",
    "So far we learnt that functions perform a specific task. To perform the task, in some cases, function needs some inputs/data and in other cases, it doesn't.\n",
    "\n",
    ". Parameters simply can be said the inputs/data required by the function to perform a specific task.\n",
    "\n",
    ". The inputs/data is provided from outside the function but we have to mention them while defining the functions.\n",
    "\n",
    ". Parameters only exist inside the function.\n",
    "\n",
    ". parameters are provided in paranthesis of the function.\n",
    "\n",
    "Let's have a look at parameterless and parameterized function.\n",
    "\n",
    "# Parameterless Fucntions:\n",
    "\n",
    "These type of functions don't require parameters."
   ]
  },
  {
   "cell_type": "code",
   "execution_count": 1,
   "metadata": {},
   "outputs": [
    {
     "name": "stdout",
     "output_type": "stream",
     "text": [
      "Hello Rehan!\n"
     ]
    }
   ],
   "source": [
    "def greetings():\n",
    "    print(\"Hello Rehan!\")\n",
    "\n",
    "greetings()"
   ]
  },
  {
   "cell_type": "markdown",
   "metadata": {},
   "source": [
    "# Parameterized Fucntions:\n",
    "These type of functions require parameters.\n",
    "\n"
   ]
  },
  {
   "cell_type": "code",
   "execution_count": 2,
   "metadata": {},
   "outputs": [
    {
     "name": "stdout",
     "output_type": "stream",
     "text": [
      "Hello Rehan!\n"
     ]
    }
   ],
   "source": [
    "my_name : str = \"Rehan\"\n",
    "def greetings(name):\n",
    "    print(f\"Hello {name}!\")\n",
    "\n",
    "greetings(my_name) "
   ]
  },
  {
   "cell_type": "markdown",
   "metadata": {},
   "source": [
    ". name here, is the parameter provided to the function.\n",
    "\n",
    ". Now our function has become more dynamic. We can provide any name, it will greet that person.\n",
    "\n",
    ". my_name is the argument provided at the time of function invocation."
   ]
  },
  {
   "cell_type": "markdown",
   "metadata": {},
   "source": [
    "# What are Arguments?\n",
    "Arguments are the actual values you pass to a function when you call it. These values get assigned to the function’s parameters."
   ]
  },
  {
   "cell_type": "code",
   "execution_count": 3,
   "metadata": {},
   "outputs": [
    {
     "name": "stdout",
     "output_type": "stream",
     "text": [
      "Hello Rehan!\n"
     ]
    }
   ],
   "source": [
    "greetings(\"Rehan\") "
   ]
  },
  {
   "cell_type": "markdown",
   "metadata": {},
   "source": [
    "Rehan is the argument provided to the function.\n",
    "\n",
    ". Arguments live outside the function.\n",
    "\n",
    ". Arguments can be accessed inside the function. Parameters\n",
    "\n",
    ". Parameters are defined in function at the time of function definition.\n",
    "\n",
    ". Parameters only live inside function. They don't have outside scope.\n",
    "\n",
    "We'll discuss it in details in Scope section."
   ]
  },
  {
   "cell_type": "code",
   "execution_count": null,
   "metadata": {},
   "outputs": [],
   "source": []
  }
 ],
 "metadata": {
  "kernelspec": {
   "display_name": "Python 3",
   "language": "python",
   "name": "python3"
  },
  "language_info": {
   "codemirror_mode": {
    "name": "ipython",
    "version": 3
   },
   "file_extension": ".py",
   "mimetype": "text/x-python",
   "name": "python",
   "nbconvert_exporter": "python",
   "pygments_lexer": "ipython3",
   "version": "3.12.5"
  }
 },
 "nbformat": 4,
 "nbformat_minor": 2
}
