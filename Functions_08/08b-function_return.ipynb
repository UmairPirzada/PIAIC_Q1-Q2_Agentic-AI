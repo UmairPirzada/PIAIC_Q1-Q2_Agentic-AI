{
 "cells": [
  {
   "cell_type": "markdown",
   "metadata": {},
   "source": [
    "# Function Return\n",
    "### 1. Reutrn with expression\n",
    "So far we only discussed the functions which perform specific task but do not provide results. Now we'll discuss the functions which do provide a result and we get this result through return keyword.\n",
    "\n",
    "Let's look at example of a function which takes 2 parameters (numbers), add them (perform a task) and return the result."
   ]
  },
  {
   "cell_type": "code",
   "execution_count": 1,
   "metadata": {},
   "outputs": [
    {
     "name": "stdout",
     "output_type": "stream",
     "text": [
      "13\n",
      "13\n"
     ]
    }
   ],
   "source": [
    "# Define a function\n",
    "def addition(first_number:int, second_number:int)->int:\n",
    "    result : int = first_number + second_number\n",
    "    return result\n",
    "\n",
    "\n",
    "print(addition(5, 8))\n",
    "# Can also do like this\n",
    "get_sum : int = addition(5,8)\n",
    "print(get_sum) \n"
   ]
  },
  {
   "cell_type": "markdown",
   "metadata": {},
   "source": [
    "If we take example of python built_in functions, print() function doesn't return anything while int() returns and integer value.\n",
    "\n",
    "Here we are using return with expression. return result here 'result' is the expression."
   ]
  },
  {
   "cell_type": "markdown",
   "metadata": {},
   "source": [
    "### 2. Reutrn without expression\n",
    "Sometimes, we use return keyword without expression. What will function return in that case. Well, function will then return None\n",
    "\n",
    "Usecase In above example, we were just getting the sum of 2 numbers. Let's add a scenarion. We want our function to add the value only when both of the numbers are non zero. Let's implement it inside the function."
   ]
  },
  {
   "cell_type": "code",
   "execution_count": 2,
   "metadata": {},
   "outputs": [
    {
     "name": "stdout",
     "output_type": "stream",
     "text": [
      "13\n",
      "None\n"
     ]
    }
   ],
   "source": [
    "# Define a function\n",
    "def addition_non_zero(first_number:int, second_number:int)->int | None:\n",
    "    if first_number > 0 and second_number > 0:\n",
    "        result : int = first_number + second_number\n",
    "        return result\n",
    "\n",
    "\n",
    "get_sum : int | None = addition_non_zero(5,8)\n",
    "print(get_sum) \n",
    "\n",
    "get_sum : int | None = addition_non_zero(0,8)\n",
    "print(get_sum) \n"
   ]
  },
  {
   "cell_type": "code",
   "execution_count": 3,
   "metadata": {},
   "outputs": [
    {
     "name": "stdout",
     "output_type": "stream",
     "text": [
      "13\n",
      "8\n"
     ]
    }
   ],
   "source": [
    "# Define a function\n",
    "def addition_non_zero(first_number:int, second_number:int)->int | None:\n",
    "    if first_number > 0 or second_number > 0:\n",
    "        result : int = first_number + second_number\n",
    "        return result\n",
    "\n",
    "\n",
    "get_sum : int | None = addition_non_zero(5,8)\n",
    "print(get_sum) \n",
    "\n",
    "get_sum : int | None = addition_non_zero(0,8)\n",
    "print(get_sum) \n"
   ]
  },
  {
   "cell_type": "markdown",
   "metadata": {},
   "source": [
    "### 3. Return Multiple values\n",
    "Remember, function will always return a single value. So how can we return if we need multiple values. We use tuple in that case. Function still returns a single value (a tuple), but we already know that we can unpack the tuple.\n",
    "\n",
    "### Example"
   ]
  },
  {
   "cell_type": "code",
   "execution_count": 6,
   "metadata": {},
   "outputs": [
    {
     "name": "stdout",
     "output_type": "stream",
     "text": [
      "(20, 9)\n",
      "Multiplication result:20\n",
      "Addition result:9\n"
     ]
    }
   ],
   "source": [
    "def mul_and_add(a:int, b:int)-> tuple[int, int]:\n",
    "    multiplication : int = a * b\n",
    "    addition : int = a + b\n",
    "    return multiplication, addition\n",
    "\n",
    "result = mul_and_add(5, 4)\n",
    "print(result)  \n",
    "\n",
    "# We can unpack it like so\n",
    "mul_result, add_result = mul_and_add(5, 4)\n",
    "print(f\"Multiplication result:{mul_result}\")\n",
    "print(f\"Addition result:{add_result}\")"
   ]
  },
  {
   "cell_type": "code",
   "execution_count": 5,
   "metadata": {},
   "outputs": [
    {
     "name": "stdout",
     "output_type": "stream",
     "text": [
      "(20, 9)\n",
      "Multiplication result:20\n",
      "Addition result:9\n"
     ]
    }
   ],
   "source": [
    "def mul_and_add(a:int, b:int):\n",
    "    multiplication : int = a * b\n",
    "    addition : int = a + b\n",
    "    return multiplication, addition\n",
    "\n",
    "result = mul_and_add(5, 4)\n",
    "print(result)  # Output: (20, 9)\n",
    "\n",
    "# We can unpack it like so\n",
    "mul_result, add_result = mul_and_add(5, 4)\n",
    "print(f\"Multiplication result:{mul_result}\")\n",
    "print(f\"Addition result:{add_result}\")"
   ]
  },
  {
   "cell_type": "markdown",
   "metadata": {},
   "source": [
    "### 4. Return a list"
   ]
  },
  {
   "cell_type": "code",
   "execution_count": 7,
   "metadata": {},
   "outputs": [
    {
     "name": "stdout",
     "output_type": "stream",
     "text": [
      "[0, 2, 4, 6, 8]\n"
     ]
    }
   ],
   "source": [
    "def generate_even_numbers(limit):\n",
    "    even_numbers = [i for i in range(limit) if i % 2 == 0]\n",
    "    return even_numbers\n",
    "\n",
    "result = generate_even_numbers(10)\n",
    "print(result)"
   ]
  },
  {
   "cell_type": "markdown",
   "metadata": {},
   "source": [
    "### 5. Return a dictionary"
   ]
  },
  {
   "cell_type": "code",
   "execution_count": 8,
   "metadata": {},
   "outputs": [
    {
     "name": "stdout",
     "output_type": "stream",
     "text": [
      "{'name': 'John', 'age': 21, 'course': 'Mathematics'}\n"
     ]
    }
   ],
   "source": [
    "def get_student_info(name, age, course):\n",
    "    return {\n",
    "        \"name\": name,\n",
    "        \"age\": age,\n",
    "        \"course\": course\n",
    "    }\n",
    "\n",
    "student_info = get_student_info(\"John\", 21, \"Mathematics\")\n",
    "print(student_info)"
   ]
  }
 ],
 "metadata": {
  "kernelspec": {
   "display_name": "Python 3",
   "language": "python",
   "name": "python3"
  },
  "language_info": {
   "codemirror_mode": {
    "name": "ipython",
    "version": 3
   },
   "file_extension": ".py",
   "mimetype": "text/x-python",
   "name": "python",
   "nbconvert_exporter": "python",
   "pygments_lexer": "ipython3",
   "version": "3.12.5"
  }
 },
 "nbformat": 4,
 "nbformat_minor": 2
}
