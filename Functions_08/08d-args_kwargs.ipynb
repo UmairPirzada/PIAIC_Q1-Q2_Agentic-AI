{
 "cells": [
  {
   "cell_type": "markdown",
   "metadata": {},
   "source": [
    "# *args and **kwargs in Python Functions\n",
    "\n",
    "Python functions allow for a wide range of flexibility when it comes to passing arguments. Two powerful features of Python are *args and **kwargs, which let us pass a variable number of arguments to a function. These features give developers more control and flexibility over how functions handle data."
   ]
  },
  {
   "cell_type": "markdown",
   "metadata": {},
   "source": [
    "### What are *args and **kwargs?\n",
    "### *args:\n",
    " Allows a function to accept any number of positional arguments as a tuple.\n",
    "\n",
    "### **kwargs: \n",
    "Allows a function to accept any number of keyword arguments as a dictionary.\n",
    "\n",
    "These features provide flexibility when we don’t know in advance how many arguments will be passed to our function."
   ]
  },
  {
   "cell_type": "markdown",
   "metadata": {},
   "source": [
    "### How *args Work\n",
    "When a function has *args as a parameter, it can accept any number of positional arguments. Inside the function, these arguments are available as a tuple.\n",
    "\n",
    "### Syntax:"
   ]
  },
  {
   "cell_type": "code",
   "execution_count": 1,
   "metadata": {},
   "outputs": [],
   "source": [
    "def function_name(*args):\n",
    "    # args is a tuple containing all positional arguments\n",
    "    for arg in args:\n",
    "        print(arg)"
   ]
  },
  {
   "cell_type": "markdown",
   "metadata": {},
   "source": [
    "### Example:"
   ]
  },
  {
   "cell_type": "code",
   "execution_count": 2,
   "metadata": {},
   "outputs": [
    {
     "name": "stdout",
     "output_type": "stream",
     "text": [
      "6\n",
      "22\n"
     ]
    }
   ],
   "source": [
    "def sum_numbers(*args):\n",
    "    total = 0\n",
    "    for num in args:\n",
    "        total += num # total = num + total\n",
    "    return total\n",
    "\n",
    "print(sum_numbers(1, 2, 3)) \n",
    "print(sum_numbers(4, 5, 6, 7))  "
   ]
  },
  {
   "cell_type": "code",
   "execution_count": 4,
   "metadata": {},
   "outputs": [
    {
     "name": "stdout",
     "output_type": "stream",
     "text": [
      "6\n",
      "22\n"
     ]
    }
   ],
   "source": [
    "def sum_numbers(*args):\n",
    "    total = 0\n",
    "    for num in args:\n",
    "        total = num + total\n",
    "    return total\n",
    "\n",
    "print(sum_numbers(1, 2, 3)) \n",
    "print(sum_numbers(4, 5, 6, 7))  "
   ]
  },
  {
   "cell_type": "markdown",
   "metadata": {},
   "source": [
    "In this example, the function sum_numbers accepts any number of positional arguments and returns their sum."
   ]
  },
  {
   "cell_type": "markdown",
   "metadata": {},
   "source": [
    "### How **kwargs Work\n",
    "When a function has **kwargs as a parameter, it can accept any number of keyword arguments. Inside the function, these arguments are available as a dictionary where the keys are the argument names and the values are the corresponding values.\n",
    "\n",
    "### Syntax:\n"
   ]
  },
  {
   "cell_type": "code",
   "execution_count": 5,
   "metadata": {},
   "outputs": [],
   "source": [
    "def function_name(**kwargs):\n",
    "    # kwargs is a dictionary containing all keyword arguments\n",
    "    for key, value in kwargs.items():\n",
    "        print(f\"{key}: {value}\")"
   ]
  },
  {
   "cell_type": "markdown",
   "metadata": {},
   "source": [
    "### Example:"
   ]
  },
  {
   "cell_type": "code",
   "execution_count": 6,
   "metadata": {},
   "outputs": [
    {
     "name": "stdout",
     "output_type": "stream",
     "text": [
      "name: Ali\n",
      "age: 25\n",
      "city: New York\n"
     ]
    }
   ],
   "source": [
    "def print_info(**kwargs):\n",
    "    for key, value in kwargs.items():\n",
    "        print(f\"{key}: {value}\")\n",
    "\n",
    "print_info(name=\"Ali\", age=25, city=\"New York\")"
   ]
  },
  {
   "cell_type": "markdown",
   "metadata": {},
   "source": [
    "In this example, print_info accepts any number of keyword arguments and prints them."
   ]
  },
  {
   "cell_type": "markdown",
   "metadata": {},
   "source": [
    "### Examples of Using *args\n",
    "### Example 1: A Function with Multiple Positional Arguments"
   ]
  },
  {
   "cell_type": "code",
   "execution_count": 7,
   "metadata": {},
   "outputs": [
    {
     "name": "stdout",
     "output_type": "stream",
     "text": [
      "24\n",
      "50\n"
     ]
    }
   ],
   "source": [
    "def multiply_numbers(*args):\n",
    "    result = 1\n",
    "    for num in args:\n",
    "        result *= num\n",
    "    return result\n",
    "\n",
    "print(multiply_numbers(2, 3, 4)) \n",
    "print(multiply_numbers(1, 5, 10))  "
   ]
  },
  {
   "cell_type": "code",
   "execution_count": 8,
   "metadata": {},
   "outputs": [
    {
     "name": "stdout",
     "output_type": "stream",
     "text": [
      "24\n",
      "50\n"
     ]
    }
   ],
   "source": [
    "def multiply_numbers(*args):\n",
    "    result = 1\n",
    "    for num in args:\n",
    "        result = num * result\n",
    "    return result\n",
    "\n",
    "print(multiply_numbers(2, 3, 4)) \n",
    "print(multiply_numbers(1, 5, 10))  "
   ]
  },
  {
   "cell_type": "markdown",
   "metadata": {},
   "source": [
    "In this function, multiply_numbers can accept a variable number of arguments and multiply them together."
   ]
  },
  {
   "cell_type": "markdown",
   "metadata": {},
   "source": [
    "### Example 2: Passing a List as *args\n",
    "We can also pass a list of arguments using the * operator."
   ]
  },
  {
   "cell_type": "code",
   "execution_count": 9,
   "metadata": {},
   "outputs": [
    {
     "name": "stdout",
     "output_type": "stream",
     "text": [
      "24\n"
     ]
    }
   ],
   "source": [
    "numbers = [1, 2, 3, 4]\n",
    "print(multiply_numbers(*numbers)) "
   ]
  },
  {
   "cell_type": "markdown",
   "metadata": {},
   "source": [
    "Here, the list numbers is unpacked into positional arguments using *."
   ]
  },
  {
   "cell_type": "markdown",
   "metadata": {},
   "source": [
    "### Examples of Using **kwargs\n",
    "### Example 1: Function with Multiple Keyword Arguments"
   ]
  },
  {
   "cell_type": "code",
   "execution_count": 10,
   "metadata": {},
   "outputs": [
    {
     "name": "stdout",
     "output_type": "stream",
     "text": [
      "Hello Bob!\n",
      "Hello Guest!\n"
     ]
    }
   ],
   "source": [
    "def greet(**kwargs):\n",
    "    if 'name' in kwargs:\n",
    "        print(f\"Hello {kwargs['name']}!\")\n",
    "    else:\n",
    "        print(\"Hello Guest!\")\n",
    "\n",
    "greet(name=\"Bob\")  \n",
    "greet() "
   ]
  },
  {
   "cell_type": "markdown",
   "metadata": {},
   "source": [
    "In this example, greet can accept any number of keyword arguments and checks if a name argument is provided."
   ]
  },
  {
   "cell_type": "markdown",
   "metadata": {},
   "source": [
    "### Example 2: Passing a Dictionary as **kwargs\n",
    "We can pass a dictionary of keyword arguments using the ** operator."
   ]
  },
  {
   "cell_type": "code",
   "execution_count": 11,
   "metadata": {},
   "outputs": [
    {
     "name": "stdout",
     "output_type": "stream",
     "text": [
      "Hello Ali!\n"
     ]
    }
   ],
   "source": [
    "person_info = {\"name\": \"Ali\", \"age\": 30}\n",
    "greet(**person_info)"
   ]
  },
  {
   "cell_type": "markdown",
   "metadata": {},
   "source": [
    "The dictionary person_info is unpacked and passed as keyword arguments to the greet function."
   ]
  },
  {
   "cell_type": "markdown",
   "metadata": {},
   "source": [
    "# Combining *args and **kwargs\n",
    "We can use both *args and **kwargs in the same function to handle a combination of positional and keyword arguments.\n",
    "\n",
    "### Example 1: Handling Both Positional and Keyword Arguments"
   ]
  },
  {
   "cell_type": "code",
   "execution_count": 12,
   "metadata": {},
   "outputs": [
    {
     "name": "stdout",
     "output_type": "stream",
     "text": [
      "Positional arguments: (1, 2, 3)\n",
      "Keyword arguments: {'name': 'Ali', 'age': 25}\n"
     ]
    }
   ],
   "source": [
    "def display_info(*args, **kwargs):\n",
    "    print(\"Positional arguments:\", args)\n",
    "    print(\"Keyword arguments:\", kwargs)\n",
    "\n",
    "display_info(1, 2, 3, name=\"Ali\", age=25)"
   ]
  },
  {
   "cell_type": "markdown",
   "metadata": {},
   "source": [
    "In this example, display_info accepts both positional and keyword arguments and prints them separately."
   ]
  },
  {
   "cell_type": "markdown",
   "metadata": {},
   "source": [
    "### Example 2: Function with Default Arguments, *args, and **kwargs"
   ]
  },
  {
   "cell_type": "code",
   "execution_count": 13,
   "metadata": {},
   "outputs": [
    {
     "name": "stdout",
     "output_type": "stream",
     "text": [
      "Size: large\n",
      "Toppings: pepperoni, mushrooms\n",
      "Details:\n",
      "  name: Ali\n",
      "  delivery_time: 18:00\n"
     ]
    }
   ],
   "source": [
    "def order_pizza(size=\"medium\", *toppings, **details):\n",
    "    print(f\"Size: {size}\")\n",
    "    print(f\"Toppings: {', '.join(toppings)}\")\n",
    "    print(\"Details:\")\n",
    "    for key, value in details.items():\n",
    "        print(f\"  {key}: {value}\")\n",
    "\n",
    "order_pizza(\"large\", \"pepperoni\", \"mushrooms\", name=\"Ali\", delivery_time=\"18:00\")"
   ]
  },
  {
   "cell_type": "markdown",
   "metadata": {},
   "source": [
    "In this example, order_pizza accepts a default argument, multiple toppings as *args, and order details as **kwargs."
   ]
  },
  {
   "cell_type": "markdown",
   "metadata": {},
   "source": [
    "# Best Practices for *args and **kwargs\n",
    "1. Use *args for unknown number of positional arguments: Use *args when you don’t know how many positional arguments will be passed to your function.\n",
    "\n",
    "2. Use **kwargs for optional keyword arguments: Use **kwargs when you want to allow optional keyword arguments.\n",
    "\n",
    "3. Order matters: When defining a function with both *args and **kwargs, the order should be: positional arguments, *args, default parameters, and then **kwargs.\n",
    "\n",
    "4. Descriptive variable names: While *args and **kwargs are the convention, you can give them more descriptive names like *numbers or **options to improve readability."
   ]
  }
 ],
 "metadata": {
  "kernelspec": {
   "display_name": "Python 3",
   "language": "python",
   "name": "python3"
  },
  "language_info": {
   "codemirror_mode": {
    "name": "ipython",
    "version": 3
   },
   "file_extension": ".py",
   "mimetype": "text/x-python",
   "name": "python",
   "nbconvert_exporter": "python",
   "pygments_lexer": "ipython3",
   "version": "3.12.5"
  }
 },
 "nbformat": 4,
 "nbformat_minor": 2
}
