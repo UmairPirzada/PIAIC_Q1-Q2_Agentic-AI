{
 "cells": [
  {
   "cell_type": "markdown",
   "metadata": {},
   "source": [
    "# Positional Arguments in Python Functions\n",
    "When defining a function, we can specify parameters that act as placeholders for values the function will receive. These values, called arguments, are passed when we call the function.\n",
    "\n",
    "One common way to pass arguments is using positional arguments. This means the arguments are assigned to parameters based on their position in the function call.\n",
    "\n",
    "### What Are Positional Arguments?\n",
    "Positional arguments are arguments that are passed to a function based on the order they appear in the function call. The first argument is assigned to the first parameter, the second to the second parameter, and so on.\n",
    "\n",
    "### Syntax:\n",
    "\n",
    "def function_name(parameter1, parameter2, ...):\n",
    "\n",
    "    print(f\"Parameter 1: {parameter1}\")\n",
    "\n",
    "    print(f\"Parameter 2: {parameter2}\")\n",
    "    \n",
    "    return parameter1-parameter2\n"
   ]
  },
  {
   "cell_type": "code",
   "execution_count": 6,
   "metadata": {},
   "outputs": [],
   "source": [
    "def function_name(parameter1, parameter2):\n",
    "    print(f\"Parameter 1: {parameter1}\")\n",
    "    print(f\"Parameter 2: {parameter2}\")\n",
    "    return parameter1-parameter2"
   ]
  },
  {
   "cell_type": "code",
   "execution_count": 7,
   "metadata": {},
   "outputs": [
    {
     "name": "stdout",
     "output_type": "stream",
     "text": [
      "Parameter 1: 4\n",
      "Parameter 2: 6\n"
     ]
    },
    {
     "data": {
      "text/plain": [
       "-2"
      ]
     },
     "execution_count": 7,
     "metadata": {},
     "output_type": "execute_result"
    }
   ],
   "source": [
    "function_name(4,6)"
   ]
  },
  {
   "cell_type": "markdown",
   "metadata": {},
   "source": [
    "When calling the function, we pass values for each parameter in the same order as they were defined.\n",
    "\n",
    "function_name(argument1, argument2, ...)"
   ]
  },
  {
   "cell_type": "markdown",
   "metadata": {},
   "source": [
    "# How Positional Arguments Work\n",
    "The following example illustrates a function that uses positional arguments:"
   ]
  },
  {
   "cell_type": "code",
   "execution_count": 8,
   "metadata": {},
   "outputs": [
    {
     "name": "stdout",
     "output_type": "stream",
     "text": [
      "Hello Ali, Welcome to Python!\n"
     ]
    }
   ],
   "source": [
    "def greet(name, message):\n",
    "    print(f\"Hello {name}, {message}\")\n",
    "\n",
    "greet(\"Ali\", \"Welcome to Python!\")  "
   ]
  },
  {
   "cell_type": "markdown",
   "metadata": {},
   "source": [
    "### In the example:\n",
    "\n",
    ". \"Ali\" is passed as the first argument and is assigned to the name parameter.\n",
    "\n",
    ". \"Welcome to Python!\" is passed as the second argument and is assigned to the message parameter.\n",
    "\n",
    "\n",
    "The position of the arguments is crucial here. If we change the order, the meaning of the arguments changes."
   ]
  },
  {
   "cell_type": "code",
   "execution_count": 9,
   "metadata": {},
   "outputs": [
    {
     "name": "stdout",
     "output_type": "stream",
     "text": [
      "Hello Welcome to Python!, Ali\n"
     ]
    }
   ],
   "source": [
    "greet(\"Welcome to Python!\", \"Ali\")  "
   ]
  },
  {
   "cell_type": "markdown",
   "metadata": {},
   "source": [
    "###  Examples of Positional Arguments\n",
    "Here are some more examples to demonstrate how positional arguments work:\n",
    "\n",
    "### Example 1: A Function with Two Parameters"
   ]
  },
  {
   "cell_type": "code",
   "execution_count": 10,
   "metadata": {},
   "outputs": [
    {
     "name": "stdout",
     "output_type": "stream",
     "text": [
      "5\n"
     ]
    }
   ],
   "source": [
    "def add_numbers(a, b):\n",
    "    return a - b\n",
    "\n",
    "result = add_numbers(10, 5)\n",
    "print(result) "
   ]
  },
  {
   "cell_type": "markdown",
   "metadata": {},
   "source": [
    "In this example, 10 is passed to the parameter a and 5 is passed to b. The difference of the two is returned. However, the result will be changed if we pass the parameter in opposite order. Do check that out. So the order is crucial in positional arguments.\n",
    "\n"
   ]
  },
  {
   "cell_type": "code",
   "execution_count": 11,
   "metadata": {},
   "outputs": [
    {
     "name": "stdout",
     "output_type": "stream",
     "text": [
      "-5\n"
     ]
    }
   ],
   "source": [
    "def add_numbers(a, b):\n",
    "    return a - b\n",
    "\n",
    "result = add_numbers(5, 10)\n",
    "print(result) "
   ]
  },
  {
   "cell_type": "markdown",
   "metadata": {},
   "source": [
    "# Example 2: Function with Three Positional Arguments"
   ]
  },
  {
   "cell_type": "code",
   "execution_count": 12,
   "metadata": {},
   "outputs": [
    {
     "name": "stdout",
     "output_type": "stream",
     "text": [
      "Musa is 25 years old and lives in New York.\n"
     ]
    }
   ],
   "source": [
    "def describe_person(name, age, city):\n",
    "    print(f\"{name} is {age} years old and lives in {city}.\")\n",
    "\n",
    "describe_person(\"Musa\", 25, \"New York\")"
   ]
  },
  {
   "cell_type": "markdown",
   "metadata": {},
   "source": [
    "Here, the arguments are passed in the order corresponding to the parameters: name, age, and city.\n",
    "\n"
   ]
  },
  {
   "cell_type": "markdown",
   "metadata": {},
   "source": [
    "### Multiple Positional Arguments\n",
    "We can pass any number of positional arguments to a function as long as they match the number of parameters defined in the function defination.\n",
    "\n",
    "### Example 3: Function with Multiple Parameters"
   ]
  },
  {
   "cell_type": "code",
   "execution_count": 13,
   "metadata": {},
   "outputs": [
    {
     "name": "stdout",
     "output_type": "stream",
     "text": [
      "24\n"
     ]
    }
   ],
   "source": [
    "def multiply(x, y, z):\n",
    "    return x * y * z\n",
    "\n",
    "result = multiply(2, 3, 4)\n",
    "print(result)"
   ]
  },
  {
   "cell_type": "markdown",
   "metadata": {},
   "source": [
    "The function multiply accepts three positional arguments, and the result is the product of the three numbers."
   ]
  },
  {
   "cell_type": "markdown",
   "metadata": {},
   "source": [
    "# Best Practices for Positional Arguments\n",
    "Order Matters: Since the arguments are mapped to parameters based on their position, always ensure they are passed in the correct order.\n",
    "\n",
    "Matching Parameters: Ensure that the number of arguments matches the number of parameters in the function definition. If the numbers don’t match, Python will raise an error.\n",
    "\n"
   ]
  },
  {
   "cell_type": "code",
   "execution_count": 14,
   "metadata": {},
   "outputs": [
    {
     "name": "stdout",
     "output_type": "stream",
     "text": [
      "5\n"
     ]
    },
    {
     "ename": "TypeError",
     "evalue": "subtract() missing 1 required positional argument: 'b'",
     "output_type": "error",
     "traceback": [
      "\u001b[0;31m---------------------------------------------------------------------------\u001b[0m",
      "\u001b[0;31mTypeError\u001b[0m                                 Traceback (most recent call last)",
      "Cell \u001b[0;32mIn[14], line 8\u001b[0m\n\u001b[1;32m      5\u001b[0m \u001b[38;5;28mprint\u001b[39m(subtract(\u001b[38;5;241m10\u001b[39m, \u001b[38;5;241m5\u001b[39m))  \n\u001b[1;32m      7\u001b[0m \u001b[38;5;66;03m# Incorrect usage\u001b[39;00m\n\u001b[0;32m----> 8\u001b[0m \u001b[38;5;28mprint\u001b[39m(\u001b[43msubtract\u001b[49m\u001b[43m(\u001b[49m\u001b[38;5;241;43m10\u001b[39;49m\u001b[43m)\u001b[49m)  \u001b[38;5;66;03m# Error: subtract() missing 1 required positional argument: 'b'\u001b[39;00m\n",
      "\u001b[0;31mTypeError\u001b[0m: subtract() missing 1 required positional argument: 'b'"
     ]
    }
   ],
   "source": [
    "def subtract(a, b):\n",
    "    return a - b\n",
    "\n",
    "# Correct usage\n",
    "print(subtract(10, 5))  \n",
    "\n",
    "# Incorrect usage\n",
    "print(subtract(10))  # Error: subtract() missing 1 required positional argument: 'b'"
   ]
  },
  {
   "cell_type": "markdown",
   "metadata": {},
   "source": [
    "### Readability:\n",
    " It’s essential to pass arguments in a way that makes the function call readable and understandable."
   ]
  },
  {
   "cell_type": "markdown",
   "metadata": {},
   "source": [
    "# Conclusion\n",
    "Positional arguments in Python allow us to pass values to a function in a straightforward manner, based on their position. Understanding how to use positional arguments effectively is crucial when writing clean, functional Python code. Just remember that order matters, and the number of arguments must match the function’s parameter list.\n",
    "\n",
    "For more advanced functionality, Python also supports keyword arguments, default arguments, and variable-length arguments (*args and **kwargs), but positional arguments are the foundation of function calls in Python. We will see *args and **kwargs in coming sections."
   ]
  },
  {
   "cell_type": "code",
   "execution_count": null,
   "metadata": {},
   "outputs": [],
   "source": []
  }
 ],
 "metadata": {
  "kernelspec": {
   "display_name": "Python 3",
   "language": "python",
   "name": "python3"
  },
  "language_info": {
   "codemirror_mode": {
    "name": "ipython",
    "version": 3
   },
   "file_extension": ".py",
   "mimetype": "text/x-python",
   "name": "python",
   "nbconvert_exporter": "python",
   "pygments_lexer": "ipython3",
   "version": "3.12.5"
  }
 },
 "nbformat": 4,
 "nbformat_minor": 2
}
