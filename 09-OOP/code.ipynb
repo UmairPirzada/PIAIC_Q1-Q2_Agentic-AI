{
 "cells": [
  {
   "cell_type": "code",
   "execution_count": 4,
   "metadata": {},
   "outputs": [
    {
     "name": "stdout",
     "output_type": "stream",
     "text": [
      "['Rehan', 'ali', 'umair']\n",
      "<class 'list'>\n",
      "['U', 'm', 'a', 'i', 'r']\n"
     ]
    }
   ],
   "source": [
    "names = [ \"Rehan\", \"ali\", \"umair\"]\n",
    "print(names)\n",
    "print (type(names))\n",
    "names.append(\"Musa\")\n",
    "my_name = list (\"Umair\")\n",
    "print (my_name)"
   ]
  },
  {
   "cell_type": "code",
   "execution_count": 9,
   "metadata": {},
   "outputs": [
    {
     "name": "stdout",
     "output_type": "stream",
     "text": [
      "<__main__.Person object at 0x105bd3e30>\n",
      "{'cname': 'Umair'}\n",
      "<__main__.Person object at 0x105bd18e0>\n",
      "{'cname': 'Ali'}\n"
     ]
    }
   ],
   "source": [
    "# attributes/variables\n",
    "# methods / functions\n",
    "# pascal case (first latter capital)\n",
    "\n",
    "class Person:\n",
    "    def __init__(self, name): # constructor\n",
    "        self.cname = name # use that time abject\n",
    "        \n",
    "    # object       \n",
    "new_person = Person(\"Umair\")\n",
    "print(new_person)\n",
    "print(new_person.__dict__)\n",
    "\n",
    "another_person =Person(\"Ali\")\n",
    "print(another_person)\n",
    "print(another_person.__dict__)"
   ]
  },
  {
   "cell_type": "code",
   "execution_count": 13,
   "metadata": {},
   "outputs": [
    {
     "name": "stdout",
     "output_type": "stream",
     "text": [
      "My name is Umair\n",
      "Umair\n",
      "My name is Ali\n",
      "Ali\n"
     ]
    }
   ],
   "source": [
    "# attributes/variables\n",
    "# methods / functions\n",
    "# pascal case (first latter capital)\n",
    "# self (object it self)\n",
    "\n",
    "class Person:\n",
    "    def __init__(self, name): # constructor\n",
    "        self.cname = name # use that time abject\n",
    "        \n",
    "    def display_info (self): # method\n",
    "        print(f\"My name is {self.cname}\")\n",
    "        \n",
    "        \n",
    "        \n",
    "# object       \n",
    "new_person = Person(\"Umair\")\n",
    "new_person.display_info()\n",
    "print(new_person.cname)\n",
    "\n",
    "another_person =Person(\"Ali\")\n",
    "another_person.display_info()\n",
    "print(another_person.cname)\n"
   ]
  },
  {
   "cell_type": "code",
   "execution_count": 19,
   "metadata": {},
   "outputs": [
    {
     "name": "stdout",
     "output_type": "stream",
     "text": [
      "Student name is Umair, student age is 21 and enrolled in course ML\n",
      "Student name is Ali, student age is 25 and enrolled in course DL\n"
     ]
    }
   ],
   "source": [
    "# attributes/variables\n",
    "# methods / functions\n",
    "# pascal case (first latter capital)\n",
    "# self (object it self)\n",
    "\n",
    "class Student:\n",
    "    def __init__(self, name, age, course): # constructor\n",
    "        self.cname = name # use that time abject\n",
    "        self.cage = age\n",
    "        self.ccourse = course\n",
    "    def does_not_code_at_home (self): # method\n",
    "        print(f\"Student name is {self.cname}, student age is {self.cage} and enrolled in course {self.ccourse}\")\n",
    "        \n",
    "        \n",
    "        \n",
    "# object       \n",
    "new_student = Student(\"Umair\", 21, \"ML\")\n",
    "new_student.does_not_code_at_home()\n",
    "# print(new_student.cname)\n",
    "\n",
    "new_student2 =Student(\"Ali\", 25 , \"DL\")\n",
    "new_student2.does_not_code_at_home()\n",
    "# print(new_student2.cname)"
   ]
  },
  {
   "cell_type": "code",
   "execution_count": 17,
   "metadata": {},
   "outputs": [
    {
     "name": "stdout",
     "output_type": "stream",
     "text": [
      "Student name is Umair, student age is 21 and enrolled in course AI\n",
      "Umair\n",
      "Student name is Ali, student age is 23 and enrolled in course Data Science\n",
      "Ali\n"
     ]
    }
   ],
   "source": [
    "# Class definition\n",
    "class Student:\n",
    "    def __init__(self, name, age, course):  # constructor with three parameters\n",
    "        self.cname = name  # initializing the name attribute\n",
    "        self.cage = age    # initializing the age attribute\n",
    "        self.ccourse = course  # initializing the course attribute\n",
    "\n",
    "    def does_not_code_at_home(self):  # method to print student details\n",
    "        print(f\"Student name is {self.cname}, student age is {self.cage} and enrolled in course {self.ccourse}\")\n",
    "\n",
    "        \n",
    "# Correctly creating an object by passing all three parameters\n",
    "new_student = Student(\"Umair\", 21, \"AI\")  # pass name, age, and course\n",
    "new_student.does_not_code_at_home()\n",
    "print(new_student.cname)  # access the name attribute\n",
    "\n",
    "# Example with another student\n",
    "new_student2 = Student(\"Ali\", 23, \"Data Science\")\n",
    "new_student2.does_not_code_at_home()\n",
    "print(new_student2.cname)  # access the name attribute\n"
   ]
  },
  {
   "cell_type": "code",
   "execution_count": null,
   "metadata": {},
   "outputs": [],
   "source": []
  }
 ],
 "metadata": {
  "kernelspec": {
   "display_name": "Python 3",
   "language": "python",
   "name": "python3"
  },
  "language_info": {
   "codemirror_mode": {
    "name": "ipython",
    "version": 3
   },
   "file_extension": ".py",
   "mimetype": "text/x-python",
   "name": "python",
   "nbconvert_exporter": "python",
   "pygments_lexer": "ipython3",
   "version": "3.12.5"
  }
 },
 "nbformat": 4,
 "nbformat_minor": 2
}
