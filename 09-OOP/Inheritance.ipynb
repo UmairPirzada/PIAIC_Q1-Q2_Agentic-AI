{
 "cells": [
  {
   "cell_type": "code",
   "execution_count": 16,
   "metadata": {},
   "outputs": [],
   "source": [
    "# Parent class\n",
    "class User:\n",
    "    def __init__(self, username, email):\n",
    "        self.username = username\n",
    "        self.email = email\n",
    "\n",
    "    def display_user_info(self):\n",
    "        print(f\"User: {self.username}, Email: {self.email}\")"
   ]
  },
  {
   "cell_type": "code",
   "execution_count": 17,
   "metadata": {},
   "outputs": [],
   "source": [
    "# Child class inheriting from User\n",
    "class Admin(User):\n",
    "    def __init__(self, username, email, access_level):\n",
    "        # Inheriting the parent class properties using super()\n",
    "        super().__init__(username, email)\n",
    "        self.access_level = access_level\n",
    "        print(\"Parent Constructor\")\n",
    "\n",
    "    def display_admin_info(self):\n",
    "        print(f\"Admin Access Level: {self.access_level}\")"
   ]
  },
  {
   "cell_type": "code",
   "execution_count": 18,
   "metadata": {},
   "outputs": [
    {
     "name": "stdout",
     "output_type": "stream",
     "text": [
      "Parent Constructor\n",
      "User: admin_user, Email: admin@example.com\n",
      "Admin Access Level: SuperUser\n"
     ]
    }
   ],
   "source": [
    "# Creating an instance of Admin\n",
    "admin1 = Admin(\"admin_user\", \"admin@example.com\", \"SuperUser\")\n",
    "admin1.display_user_info()  # Method from the parent class\n",
    "admin1.display_admin_info()  # Method from the child class"
   ]
  },
  {
   "cell_type": "code",
   "execution_count": 20,
   "metadata": {},
   "outputs": [
    {
     "name": "stdout",
     "output_type": "stream",
     "text": [
      "Child Constructor\n",
      "{'username': 'umair', 'email': 'umair@gmail.com', 'access_level': 'Fullaccess'}\n"
     ]
    }
   ],
   "source": [
    "class Admin(User):\n",
    "    def __init__(self, username, email, access_level):\n",
    "        super().__init__(username, email)\n",
    "        self.access_level = access_level\n",
    "        self.username = username\n",
    "        self.email = email\n",
    "        print(\"Child Constructor\")\n",
    "    \n",
    "    \n",
    "user01 = Admin (\"umair\", \"umair@gmail.com\" ,\"Fullaccess\")\n",
    "    \n",
    "# user01 = User (\"umair\", \"umair@gmail.com\" ,\"Fullaccess\")\n",
    "\n",
    "print(user01.__dict__)\n",
    "\n",
    "# user01 = User (\"mr\", \"umair@gmail\")"
   ]
  },
  {
   "cell_type": "code",
   "execution_count": null,
   "metadata": {},
   "outputs": [],
   "source": []
  },
  {
   "cell_type": "code",
   "execution_count": null,
   "metadata": {},
   "outputs": [],
   "source": []
  },
  {
   "cell_type": "code",
   "execution_count": 1,
   "metadata": {},
   "outputs": [
    {
     "name": "stdout",
     "output_type": "stream",
     "text": [
      "100 101 102\n",
      "200 201 202\n",
      "300 301 302\n"
     ]
    }
   ],
   "source": [
    "class TopLevel:\n",
    "    top_class_var = 100\n",
    "    def __init__(self):\n",
    "        self.top_var = 101\n",
    "\n",
    "    def top_method(self):\n",
    "        return 102\n",
    "\n",
    "\n",
    "class MidLevel(TopLevel):\n",
    "    mid_class_var = 200\n",
    "    def __init__(self):\n",
    "        super().__init__()\n",
    "        self.mid_var = 201\n",
    "    \n",
    "    def mid_method(self):\n",
    "        return 202\n",
    "\n",
    "\n",
    "class LowerLevel(MidLevel):\n",
    "    lower_class_var = 300\n",
    "    def __init__(self):\n",
    "        super().__init__()\n",
    "        self.lower_var = 301\n",
    "\n",
    "    def lower_method(self):\n",
    "        return 302\n",
    "\n",
    "\n",
    "obj = LowerLevel()\n",
    "\n",
    "print(obj.top_class_var, obj.top_var, obj.top_method())\n",
    "print(obj.mid_class_var, obj.mid_var, obj.mid_method())\n",
    "print(obj.lower_class_var, obj.lower_var, obj.lower_method())"
   ]
  },
  {
   "cell_type": "code",
   "execution_count": null,
   "metadata": {},
   "outputs": [],
   "source": []
  },
  {
   "cell_type": "markdown",
   "metadata": {},
   "source": [
    "# Overriding Methods in Child Classes"
   ]
  },
  {
   "cell_type": "markdown",
   "metadata": {},
   "source": [
    "Child classes can override methods from the parent class to provide their own implementation."
   ]
  },
  {
   "cell_type": "code",
   "execution_count": 21,
   "metadata": {},
   "outputs": [],
   "source": [
    "class Customer(User):\n",
    "    def display_user_info(self):\n",
    "        print(f\"Customer: {self.username}, Email: {self.email}\")\n",
    "        \n"
   ]
  },
  {
   "cell_type": "code",
   "execution_count": 22,
   "metadata": {},
   "outputs": [
    {
     "name": "stdout",
     "output_type": "stream",
     "text": [
      "Customer: john_doe, Email: john@example.com\n"
     ]
    }
   ],
   "source": [
    "user = Customer(\"john_doe\", \"john@example.com\")\n",
    "user.display_user_info()"
   ]
  },
  {
   "cell_type": "markdown",
   "metadata": {},
   "source": [
    "# Types of Inheritance\n",
    "### 1. Single Inheritance\n",
    "In single inheritance, a child class inherits from one parent class."
   ]
  },
  {
   "cell_type": "code",
   "execution_count": 23,
   "metadata": {},
   "outputs": [],
   "source": [
    "class Customer(User):\n",
    "    def __init__(self, username, email, customer_id):\n",
    "        super().__init__(username, email)\n",
    "        self.customer_id = customer_id\n",
    "\n",
    "    def display_customer_info(self):\n",
    "        print(f\"Customer ID: {self.customer_id}\")"
   ]
  },
  {
   "cell_type": "markdown",
   "metadata": {},
   "source": [
    "### 2. Multiple Inheritance\n",
    "In multiple inheritance, a child class can inherit from more than one parent class.\n",
    "\n",
    "Here, Admin inherits from both User and Notification, meaning it can use methods from both classes."
   ]
  },
  {
   "cell_type": "code",
   "execution_count": 24,
   "metadata": {},
   "outputs": [],
   "source": [
    "class Notification:\n",
    "    def send_notification(self, message):\n",
    "        print(f\"Sending notification: {message}\")\n",
    "\n",
    "class Admin(User, Notification):\n",
    "    def __init__(self, username, email, access_level):\n",
    "        super().__init__(username, email)\n",
    "        self.access_level = access_level\n",
    "\n",
    "    def send_admin_notification(self):\n",
    "        self.send_notification(f\"Admin {self.username} has logged in.\")"
   ]
  },
  {
   "cell_type": "code",
   "execution_count": 28,
   "metadata": {},
   "outputs": [
    {
     "name": "stdout",
     "output_type": "stream",
     "text": [
      "False\n"
     ]
    }
   ],
   "source": [
    "obj = LowerLevel\n",
    "print(isinstance(obj, LowerLevel))"
   ]
  },
  {
   "cell_type": "code",
   "execution_count": 27,
   "metadata": {},
   "outputs": [
    {
     "data": {
      "text/plain": [
       "False"
      ]
     },
     "execution_count": 27,
     "metadata": {},
     "output_type": "execute_result"
    }
   ],
   "source": [
    "obj = LowerLevel\n",
    "isinstance(obj, TopLevel)"
   ]
  },
  {
   "cell_type": "code",
   "execution_count": 30,
   "metadata": {},
   "outputs": [
    {
     "name": "stdout",
     "output_type": "stream",
     "text": [
      "True\n",
      "False\n"
     ]
    }
   ],
   "source": [
    "print(issubclass(LowerLevel, TopLevel))\n",
    "print(issubclass(TopLevel, LowerLevel))"
   ]
  },
  {
   "cell_type": "code",
   "execution_count": 31,
   "metadata": {},
   "outputs": [
    {
     "name": "stdout",
     "output_type": "stream",
     "text": [
      "False\n"
     ]
    }
   ],
   "source": [
    "obj1 = LowerLevel()\n",
    "obj2 = LowerLevel()\n",
    "print (obj1 == obj2)"
   ]
  },
  {
   "cell_type": "markdown",
   "metadata": {},
   "source": [
    "# Polymorphism\n",
    "ploy -- > many\n",
    "morphism --> forms"
   ]
  },
  {
   "cell_type": "code",
   "execution_count": null,
   "metadata": {},
   "outputs": [],
   "source": []
  },
  {
   "cell_type": "markdown",
   "metadata": {},
   "source": []
  }
 ],
 "metadata": {
  "kernelspec": {
   "display_name": "Python 3",
   "language": "python",
   "name": "python3"
  },
  "language_info": {
   "codemirror_mode": {
    "name": "ipython",
    "version": 3
   },
   "file_extension": ".py",
   "mimetype": "text/x-python",
   "name": "python",
   "nbconvert_exporter": "python",
   "pygments_lexer": "ipython3",
   "version": "3.12.5"
  }
 },
 "nbformat": 4,
 "nbformat_minor": 2
}
