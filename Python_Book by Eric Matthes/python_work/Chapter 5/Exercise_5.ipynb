{
 "cells": [
  {
   "cell_type": "markdown",
   "metadata": {},
   "source": [
    "# c5-1. Conditional Tests:\n",
    " Write a series of conditional tests. Print a statement\n",
    "describing each test and your prediction for the results of each test.\n",
    "\n",
    " Your code\n",
    "should look something like this:\n",
    "\n",
    "\n",
    "car = 'subaru'\n",
    "\n",
    "print(\"Is car == 'subaru'? I predict True.\")\n",
    "\n",
    "print(car == 'subaru')\n",
    "\n",
    "print(\"\\nIs car == 'audi'? I predict False.\")\n",
    "\n",
    "print(car == 'audi')\n",
    "\n",
    "• Look closely at your results, and make sure you understand why each line\n",
    "evaluates to True or False.\n",
    "\n",
    "• Create at least 10 tests. Have at least 5 tests evaluate to True and another\n",
    "5 tests evaluate to False."
   ]
  },
  {
   "cell_type": "code",
   "execution_count": 1,
   "metadata": {},
   "outputs": [
    {
     "name": "stdout",
     "output_type": "stream",
     "text": [
      "Is car == 'subaru'? I predict True.\n",
      "True\n"
     ]
    }
   ],
   "source": [
    "# Test 1: Check if the car is 'subaru'\n",
    "car = 'subaru'\n",
    "print(\"Is car == 'subaru'? I predict True.\")\n",
    "print(car == 'subaru')"
   ]
  },
  {
   "cell_type": "code",
   "execution_count": 3,
   "metadata": {},
   "outputs": [
    {
     "name": "stdout",
     "output_type": "stream",
     "text": [
      "Is car == 'audi'? I predict False.\n",
      "False\n"
     ]
    }
   ],
   "source": [
    "# Test 2: Check if the car is 'audi'\n",
    "car = 'subaru'\n",
    "print(\"Is car == 'audi'? I predict False.\")\n",
    "print(car == 'audi') "
   ]
  },
  {
   "cell_type": "code",
   "execution_count": 4,
   "metadata": {},
   "outputs": [
    {
     "name": "stdout",
     "output_type": "stream",
     "text": [
      "Is car != 'ford'? I predict True.\n",
      "True\n"
     ]
    }
   ],
   "source": [
    "# Test 3: Check if car is not 'ford'\n",
    "car = 'subaru'\n",
    "print(\"Is car != 'ford'? I predict True.\")\n",
    "print(car != 'ford') "
   ]
  },
  {
   "cell_type": "code",
   "execution_count": 6,
   "metadata": {},
   "outputs": [
    {
     "name": "stdout",
     "output_type": "stream",
     "text": [
      "Is car == 'toyota'? I predict False.\n",
      "False\n"
     ]
    }
   ],
   "source": [
    "# Test 4: Check if car is 'toyota'\n",
    "car = 'subaru'\n",
    "print(\"Is car == 'toyota'? I predict False.\")\n",
    "print(car == 'toyota')"
   ]
  },
  {
   "cell_type": "code",
   "execution_count": 7,
   "metadata": {},
   "outputs": [
    {
     "name": "stdout",
     "output_type": "stream",
     "text": [
      "Is car == 'SUBARU'.lower()? I predict True.\n",
      "True\n"
     ]
    }
   ],
   "source": [
    "# Test 5: Check if car is in lowercase 'SUBARU'\n",
    "car = 'subaru'\n",
    "print(\"Is car == 'SUBARU'.lower()? I predict True.\")\n",
    "print(car == 'SUBARU'.lower())"
   ]
  },
  {
   "cell_type": "code",
   "execution_count": 8,
   "metadata": {},
   "outputs": [
    {
     "name": "stdout",
     "output_type": "stream",
     "text": [
      "Is 5 > 3? I predict True.\n",
      "True\n"
     ]
    }
   ],
   "source": [
    "# Test 6: Check if 5 is greater than 3\n",
    "number = 5\n",
    "print(\"Is 5 > 3? I predict True.\")\n",
    "print(number > 3)"
   ]
  },
  {
   "cell_type": "code",
   "execution_count": 9,
   "metadata": {},
   "outputs": [
    {
     "name": "stdout",
     "output_type": "stream",
     "text": [
      "Is 5 < 3? I predict False.\n",
      "False\n"
     ]
    }
   ],
   "source": [
    "# Test 7: Check if 5 is less than 3\n",
    "number = 5\n",
    "print(\"Is 5 < 3? I predict False.\")\n",
    "print(number < 3)"
   ]
  },
  {
   "cell_type": "code",
   "execution_count": 11,
   "metadata": {},
   "outputs": [
    {
     "name": "stdout",
     "output_type": "stream",
     "text": [
      "Is len(car) == 6? I predict True.\n",
      "True\n"
     ]
    }
   ],
   "source": [
    "# Test 8: Check if the length of car is 6\n",
    "car = 'subaru'\n",
    "print(\"Is len(car) == 6? I predict True.\")\n",
    "print(len(car) == 6)"
   ]
  },
  {
   "cell_type": "code",
   "execution_count": 12,
   "metadata": {},
   "outputs": [
    {
     "name": "stdout",
     "output_type": "stream",
     "text": [
      "Is len(car) == 7? I predict False.\n",
      "False\n"
     ]
    }
   ],
   "source": [
    "# Test 9: Check if the length of car is 7\n",
    "car = 'subaru'\n",
    "print(\"Is len(car) == 7? I predict False.\")\n",
    "print(len(car) == 7) \n"
   ]
  },
  {
   "cell_type": "code",
   "execution_count": 13,
   "metadata": {},
   "outputs": [
    {
     "name": "stdout",
     "output_type": "stream",
     "text": [
      "Is 10 / 2 == 5? I predict True.\n",
      "True\n"
     ]
    }
   ],
   "source": [
    "# Test 10: Check if 10 divided by 2 equals 5\n",
    "print(\"Is 10 / 2 == 5? I predict True.\")\n",
    "print(10 / 2 == 5)"
   ]
  },
  {
   "cell_type": "markdown",
   "metadata": {},
   "source": [
    "# New tests using 'in' and 'is not'"
   ]
  },
  {
   "cell_type": "code",
   "execution_count": 14,
   "metadata": {},
   "outputs": [
    {
     "name": "stdout",
     "output_type": "stream",
     "text": [
      "Is 'a' in 'subaru'? I predict True.\n",
      "True\n"
     ]
    }
   ],
   "source": [
    "# Test 11: Check if 'a' is in 'subaru'\n",
    "car = 'subaru'\n",
    "print(\"Is 'a' in 'subaru'? I predict True.\")\n",
    "print('a' in car)"
   ]
  },
  {
   "cell_type": "code",
   "execution_count": 15,
   "metadata": {},
   "outputs": [
    {
     "name": "stdout",
     "output_type": "stream",
     "text": [
      "Is 'x' in 'subaru'? I predict False.\n",
      "False\n"
     ]
    }
   ],
   "source": [
    "# Test 12: Check if 'x' is in 'subaru'\n",
    "print(\"Is 'x' in 'subaru'? I predict False.\")\n",
    "print('x' in car)"
   ]
  },
  {
   "cell_type": "code",
   "execution_count": 16,
   "metadata": {},
   "outputs": [
    {
     "name": "stdout",
     "output_type": "stream",
     "text": [
      "Is car is not 'audi'? I predict True.\n",
      "True\n"
     ]
    },
    {
     "name": "stderr",
     "output_type": "stream",
     "text": [
      "<>:3: SyntaxWarning: \"is not\" with 'str' literal. Did you mean \"!=\"?\n",
      "<>:3: SyntaxWarning: \"is not\" with 'str' literal. Did you mean \"!=\"?\n",
      "/var/folders/_8/s5rdtpyj11d2z_9zkw4jmvr40000gn/T/ipykernel_14244/614108514.py:3: SyntaxWarning: \"is not\" with 'str' literal. Did you mean \"!=\"?\n",
      "  print(car is not 'audi')\n"
     ]
    }
   ],
   "source": [
    "# Test 13: Check if car is not 'audi'\n",
    "print(\"Is car is not 'audi'? I predict True.\")\n",
    "print(car is not 'audi')"
   ]
  },
  {
   "cell_type": "code",
   "execution_count": 17,
   "metadata": {},
   "outputs": [
    {
     "name": "stdout",
     "output_type": "stream",
     "text": [
      "Is car is not 'subaru'? I predict False.\n",
      "False\n"
     ]
    },
    {
     "name": "stderr",
     "output_type": "stream",
     "text": [
      "<>:3: SyntaxWarning: \"is not\" with 'str' literal. Did you mean \"!=\"?\n",
      "<>:3: SyntaxWarning: \"is not\" with 'str' literal. Did you mean \"!=\"?\n",
      "/var/folders/_8/s5rdtpyj11d2z_9zkw4jmvr40000gn/T/ipykernel_14244/90596119.py:3: SyntaxWarning: \"is not\" with 'str' literal. Did you mean \"!=\"?\n",
      "  print(car is not 'subaru')\n"
     ]
    }
   ],
   "source": [
    "# Test 14: Check if car is not 'subaru'\n",
    "print(\"Is car is not 'subaru'? I predict False.\")\n",
    "print(car is not 'subaru')"
   ]
  },
  {
   "cell_type": "code",
   "execution_count": 18,
   "metadata": {},
   "outputs": [
    {
     "name": "stdout",
     "output_type": "stream",
     "text": [
      "Is 'sub' in 'subaru'? I predict True.\n",
      "True\n"
     ]
    }
   ],
   "source": [
    "# Test 15: Check if 'sub' is in 'subaru'\n",
    "print(\"Is 'sub' in 'subaru'? I predict True.\")\n",
    "print('sub' in car)"
   ]
  },
  {
   "cell_type": "markdown",
   "metadata": {},
   "source": [
    "# 5-2. More Conditional Tests:\n",
    " You don’t have to limit the number of tests you cre-\n",
    "ate to 10. If you want to try more comparisons, write more tests and add them\n",
    "to conditional_tests.py. Have at least one True and one False result for each of\n",
    "the following:\n",
    "\n",
    "• Tests for equality and inequality with strings\n",
    "\n",
    "• Tests using the lower() method\n",
    "\n",
    "• Numerical tests involving equality and inequality, greater than and less\n",
    "than, greater than or equal to, and less than or equal to\n",
    "\n",
    "• Tests using the and keyword and the or keyword\n",
    "\n",
    "• Test whether an item is in a list\n",
    "\n",
    "• Test whether an item is not in a list"
   ]
  },
  {
   "cell_type": "markdown",
   "metadata": {},
   "source": [
    "# Tests for equality and inequality with strings"
   ]
  },
  {
   "cell_type": "code",
   "execution_count": 19,
   "metadata": {},
   "outputs": [
    {
     "name": "stdout",
     "output_type": "stream",
     "text": [
      "Is name == 'John'? I predict True.\n",
      "True\n"
     ]
    }
   ],
   "source": [
    "name = 'John'\n",
    "\n",
    "print(\"Is name == 'John'? I predict True.\")\n",
    "print(name == 'John')"
   ]
  },
  {
   "cell_type": "code",
   "execution_count": 20,
   "metadata": {},
   "outputs": [
    {
     "name": "stdout",
     "output_type": "stream",
     "text": [
      "\n",
      "Is name != 'John'? I predict False.\n",
      "False\n"
     ]
    }
   ],
   "source": [
    "print(\"\\nIs name != 'John'? I predict False.\")\n",
    "print(name != 'John')"
   ]
  },
  {
   "cell_type": "markdown",
   "metadata": {},
   "source": [
    "# Tests using the lower() method"
   ]
  },
  {
   "cell_type": "code",
   "execution_count": 21,
   "metadata": {},
   "outputs": [
    {
     "name": "stdout",
     "output_type": "stream",
     "text": [
      "Is city.lower() == 'newyork'? I predict True.\n",
      "True\n"
     ]
    }
   ],
   "source": [
    "city = 'NewYork'\n",
    "\n",
    "print(\"Is city.lower() == 'newyork'? I predict True.\")\n",
    "print(city.lower() == 'newyork')"
   ]
  },
  {
   "cell_type": "code",
   "execution_count": 22,
   "metadata": {},
   "outputs": [
    {
     "name": "stdout",
     "output_type": "stream",
     "text": [
      "Is city.lower() == 'NewYork'? I predict False.\n",
      "False\n"
     ]
    }
   ],
   "source": [
    "print(\"Is city.lower() == 'NewYork'? I predict False.\")\n",
    "print(city.lower() == 'NewYork')"
   ]
  },
  {
   "cell_type": "markdown",
   "metadata": {},
   "source": [
    "# Numerical tests involving equality and inequality, greater than and less than, greater than or equal to, and less than or equal to"
   ]
  },
  {
   "cell_type": "code",
   "execution_count": 23,
   "metadata": {},
   "outputs": [
    {
     "name": "stdout",
     "output_type": "stream",
     "text": [
      "Is age == 25? I predict True.\n",
      "True\n"
     ]
    }
   ],
   "source": [
    "age = 25\n",
    "\n",
    "print(\"Is age == 25? I predict True.\")\n",
    "print(age == 25) "
   ]
  },
  {
   "cell_type": "code",
   "execution_count": 24,
   "metadata": {},
   "outputs": [
    {
     "name": "stdout",
     "output_type": "stream",
     "text": [
      "Is age != 30? I predict True.\n",
      "True\n"
     ]
    }
   ],
   "source": [
    "print(\"Is age != 30? I predict True.\")\n",
    "print(age != 30) "
   ]
  },
  {
   "cell_type": "code",
   "execution_count": 25,
   "metadata": {},
   "outputs": [
    {
     "name": "stdout",
     "output_type": "stream",
     "text": [
      "Is age > 20? I predict True.\n",
      "True\n"
     ]
    }
   ],
   "source": [
    "print(\"Is age > 20? I predict True.\")\n",
    "print(age > 20)"
   ]
  },
  {
   "cell_type": "code",
   "execution_count": 26,
   "metadata": {},
   "outputs": [
    {
     "name": "stdout",
     "output_type": "stream",
     "text": [
      "Is age < 30? I predict True.\n",
      "True\n"
     ]
    }
   ],
   "source": [
    "print(\"Is age < 30? I predict True.\")\n",
    "print(age < 30)  "
   ]
  },
  {
   "cell_type": "code",
   "execution_count": 27,
   "metadata": {},
   "outputs": [
    {
     "name": "stdout",
     "output_type": "stream",
     "text": [
      "Is age >= 25? I predict True.\n",
      "True\n",
      "\n",
      "Is age <= 20? I predict False.\n",
      "False\n"
     ]
    }
   ],
   "source": [
    "print(\"Is age >= 25? I predict True.\")\n",
    "print(age >= 25) \n",
    "\n",
    "print(\"\\nIs age <= 20? I predict False.\")\n",
    "print(age <= 20)"
   ]
  },
  {
   "cell_type": "markdown",
   "metadata": {},
   "source": [
    "# Tests using the and keyword and the or keyword"
   ]
  },
  {
   "cell_type": "code",
   "execution_count": 28,
   "metadata": {},
   "outputs": [
    {
     "name": "stdout",
     "output_type": "stream",
     "text": [
      "Is height > 170 and weight < 80? I predict True.\n",
      "True\n"
     ]
    }
   ],
   "source": [
    "height = 180\n",
    "weight = 75\n",
    "\n",
    "print(\"Is height > 170 and weight < 80? I predict True.\")\n",
    "print(height > 170 and weight < 80)"
   ]
  },
  {
   "cell_type": "code",
   "execution_count": 29,
   "metadata": {},
   "outputs": [
    {
     "name": "stdout",
     "output_type": "stream",
     "text": [
      "Is height < 170 or weight > 80? I predict False.\n",
      "False\n"
     ]
    }
   ],
   "source": [
    "print(\"Is height < 170 or weight > 80? I predict False.\")\n",
    "print(height < 170 or weight > 80) "
   ]
  },
  {
   "cell_type": "markdown",
   "metadata": {},
   "source": [
    "# Test whether an item is in a list"
   ]
  },
  {
   "cell_type": "code",
   "execution_count": 30,
   "metadata": {},
   "outputs": [
    {
     "name": "stdout",
     "output_type": "stream",
     "text": [
      "Is 'banana' in fruits? I predict True.\n",
      "True\n"
     ]
    }
   ],
   "source": [
    "fruits = ['apple', 'banana', 'cherry']\n",
    "\n",
    "print(\"Is 'banana' in fruits? I predict True.\")\n",
    "print('banana' in fruits)"
   ]
  },
  {
   "cell_type": "code",
   "execution_count": 31,
   "metadata": {},
   "outputs": [
    {
     "name": "stdout",
     "output_type": "stream",
     "text": [
      "Is 'grape' in fruits? I predict False.\n",
      "False\n"
     ]
    }
   ],
   "source": [
    "print(\"Is 'grape' in fruits? I predict False.\")\n",
    "print('grape' in fruits) "
   ]
  },
  {
   "cell_type": "markdown",
   "metadata": {},
   "source": [
    "# Test whether an item is not in a list"
   ]
  },
  {
   "cell_type": "code",
   "execution_count": 32,
   "metadata": {},
   "outputs": [
    {
     "name": "stdout",
     "output_type": "stream",
     "text": [
      "Is 'grape' not in fruits? I predict True.\n",
      "True\n",
      "\n",
      "Is 'apple' not in fruits? I predict False.\n",
      "False\n"
     ]
    }
   ],
   "source": [
    "fruits = ['apple', 'banana', 'cherry']\n",
    "\n",
    "print(\"Is 'grape' not in fruits? I predict True.\")\n",
    "print('grape' not in fruits) \n",
    "\n",
    "print(\"\\nIs 'apple' not in fruits? I predict False.\")\n",
    "print('apple' not in fruits)"
   ]
  },
  {
   "cell_type": "markdown",
   "metadata": {},
   "source": [
    "# 5-3. Alien Colors #1:\n",
    " Imagine an alien was just shot down in a game. Create a\n",
    "variable called alien_color and assign it a value of \n",
    "\n",
    "'green', 'yellow', or 'red'.\n",
    "\n",
    "• Write an if statement to test whether the alien’s color is green. If it is, print\n",
    "a message that the player just earned 5 points.\n",
    "\n",
    "• Write one version of this program that passes the if test and another that\n",
    "fails. (The version that fails will have no output.)"
   ]
  },
  {
   "cell_type": "markdown",
   "metadata": {},
   "source": [
    "# Alien color is green (This version will pass the if test)\n",
    "Passing Version (Alien color is green, so the condition passes and prints a message):"
   ]
  },
  {
   "cell_type": "code",
   "execution_count": 33,
   "metadata": {},
   "outputs": [
    {
     "name": "stdout",
     "output_type": "stream",
     "text": [
      "You just earned 5 points!\n"
     ]
    }
   ],
   "source": [
    "alien_color = 'green'\n",
    "\n",
    "if alien_color == 'green':\n",
    "    print(\"You just earned 5 points!\")"
   ]
  },
  {
   "cell_type": "markdown",
   "metadata": {},
   "source": [
    "# Alien color is red (This version will fail the if test, so no output)\n",
    "Failing Version (Alien color is not green, so the condition fails and no output is printed):"
   ]
  },
  {
   "cell_type": "code",
   "execution_count": 34,
   "metadata": {},
   "outputs": [],
   "source": [
    "alien_color = 'red'\n",
    "\n",
    "if alien_color == 'green':\n",
    "    print(\"You just earned 5 points!\")"
   ]
  },
  {
   "cell_type": "code",
   "execution_count": 35,
   "metadata": {},
   "outputs": [],
   "source": [
    "alien_color = 'yellow'\n",
    "\n",
    "if alien_color == 'green':\n",
    "    print(\"You just earned 5 points!\")"
   ]
  },
  {
   "cell_type": "markdown",
   "metadata": {},
   "source": [
    "# Alien Colors List"
   ]
  },
  {
   "cell_type": "code",
   "execution_count": 36,
   "metadata": {},
   "outputs": [
    {
     "name": "stdout",
     "output_type": "stream",
     "text": [
      "The player just earned 5 points!\n"
     ]
    }
   ],
   "source": [
    "alien_colors = ['green', 'yellow', 'red']\n",
    "\n",
    "alien_color = 'green'\n",
    "\n",
    "if alien_color == 'green':\n",
    "    print(\"The player just earned 5 points!\")\n"
   ]
  },
  {
   "cell_type": "code",
   "execution_count": 37,
   "metadata": {},
   "outputs": [],
   "source": [
    "alien_colors = ['green', 'yellow', 'red']\n",
    "\n",
    "alien_color = 'red'\n",
    "\n",
    "if alien_color == 'green':\n",
    "    print(\"The player just earned 5 points!\")\n"
   ]
  },
  {
   "cell_type": "code",
   "execution_count": 38,
   "metadata": {},
   "outputs": [],
   "source": [
    "alien_colors = ['green', 'yellow', 'red']\n",
    "\n",
    "alien_color = 'yellow'\n",
    "\n",
    "if alien_color == 'green':\n",
    "    print(\"The player just earned 5 points!\")\n"
   ]
  },
  {
   "cell_type": "markdown",
   "metadata": {},
   "source": [
    "# 5-4. Alien Colors #2: \n",
    "Choose a color for an alien as you did in Exercise 5-3,\n",
    "and write an if-else chain.\n",
    "\n",
    "• If the alien’s color is green, print a statement that the player just earned 5\n",
    "points for shooting the alien.\n",
    "\n",
    "• If the alien’s color isn’t green, print a statement that the player just earned\n",
    "10 points.\n",
    "\n",
    "• Write one version of this program that runs the if block and another that\n",
    "runs the else block."
   ]
  },
  {
   "cell_type": "markdown",
   "metadata": {},
   "source": [
    "# Version where the if block runs (alien's color is green):"
   ]
  },
  {
   "cell_type": "code",
   "execution_count": 39,
   "metadata": {},
   "outputs": [
    {
     "name": "stdout",
     "output_type": "stream",
     "text": [
      "The player just earned 5 points for shooting the alien!\n"
     ]
    }
   ],
   "source": [
    "alien_colors = ['green', 'yellow', 'red']\n",
    "\n",
    "alien_color = 'green'\n",
    "\n",
    "if alien_color == 'green':\n",
    "    print(\"The player just earned 5 points for shooting the alien!\")\n",
    "else:\n",
    "    print(\"The player just earned 10 points!\")\n"
   ]
  },
  {
   "cell_type": "markdown",
   "metadata": {},
   "source": [
    "# Version where the else block runs (alien's color isn't green):"
   ]
  },
  {
   "cell_type": "code",
   "execution_count": 40,
   "metadata": {},
   "outputs": [
    {
     "name": "stdout",
     "output_type": "stream",
     "text": [
      "The player just earned 10 points!\n"
     ]
    }
   ],
   "source": [
    "alien_colors = ['green', 'yellow', 'red']\n",
    "\n",
    "alien_color = 'red'\n",
    "\n",
    "if alien_color == 'green':\n",
    "    print(\"The player just earned 5 points for shooting the alien!\")\n",
    "else:\n",
    "    print(\"The player just earned 10 points!\")\n"
   ]
  },
  {
   "cell_type": "code",
   "execution_count": 41,
   "metadata": {},
   "outputs": [
    {
     "name": "stdout",
     "output_type": "stream",
     "text": [
      "The player just earned 10 points!\n"
     ]
    }
   ],
   "source": [
    "alien_colors = ['green', 'yellow', 'red']\n",
    "\n",
    "alien_color = 'yellow'\n",
    "\n",
    "if alien_color == 'green':\n",
    "    print(\"The player just earned 5 points for shooting the alien!\")\n",
    "else:\n",
    "    print(\"The player just earned 10 points!\")\n"
   ]
  },
  {
   "cell_type": "markdown",
   "metadata": {},
   "source": [
    "# 5-5. Alien Colors #3:\n",
    " Turn your if-else chain from Exercise 5-4 into an if-elif-\n",
    "else chain.\n",
    "\n",
    "• If the alien is green, print a message that the player earned 5 points.\n",
    "\n",
    "• If the alien is yellow, print a message that the player earned 10 points.\n",
    "\n",
    "• If the alien is red, print a message that the player earned 15 points.\n",
    "\n",
    "• Write three versions of this program, making sure each message is printed\n",
    "for the appropriate color alien."
   ]
  },
  {
   "cell_type": "markdown",
   "metadata": {},
   "source": [
    "# Version 1: Alien color is green (5 points):"
   ]
  },
  {
   "cell_type": "code",
   "execution_count": 42,
   "metadata": {},
   "outputs": [
    {
     "name": "stdout",
     "output_type": "stream",
     "text": [
      "The player earned 5 points!\n"
     ]
    }
   ],
   "source": [
    "alien_colors = ['green', 'yellow', 'red']\n",
    "\n",
    "alien_color = 'green'\n",
    "\n",
    "if alien_color == 'green':\n",
    "    print(\"The player earned 5 points!\")\n",
    "elif alien_color == 'yellow':\n",
    "    print(\"The player earned 10 points!\")\n",
    "elif alien_color == 'red':\n",
    "    print(\"The player earned 15 points!\")\n"
   ]
  },
  {
   "cell_type": "markdown",
   "metadata": {},
   "source": [
    "# Version 2: Alien color is yellow (10 points):"
   ]
  },
  {
   "cell_type": "code",
   "execution_count": 43,
   "metadata": {},
   "outputs": [
    {
     "name": "stdout",
     "output_type": "stream",
     "text": [
      "The player earned 10 points!\n"
     ]
    }
   ],
   "source": [
    "alien_colors = ['green', 'yellow', 'red']\n",
    "\n",
    "alien_color = 'yellow'\n",
    "\n",
    "if alien_color == 'green':\n",
    "    print(\"The player earned 5 points!\")\n",
    "elif alien_color == 'yellow':\n",
    "    print(\"The player earned 10 points!\")\n",
    "elif alien_color == 'red':\n",
    "    print(\"The player earned 15 points!\")\n"
   ]
  },
  {
   "cell_type": "markdown",
   "metadata": {},
   "source": [
    "# Version 3: Alien color is red (15 points):"
   ]
  },
  {
   "cell_type": "code",
   "execution_count": 44,
   "metadata": {},
   "outputs": [
    {
     "name": "stdout",
     "output_type": "stream",
     "text": [
      "The player earned 15 points!\n"
     ]
    }
   ],
   "source": [
    "alien_colors = ['green', 'yellow', 'red']\n",
    "\n",
    "alien_color = 'red'\n",
    "\n",
    "if alien_color == 'green':\n",
    "    print(\"The player earned 5 points!\")\n",
    "elif alien_color == 'yellow':\n",
    "    print(\"The player earned 10 points!\")\n",
    "elif alien_color == 'red':\n",
    "    print(\"The player earned 15 points!\")\n"
   ]
  },
  {
   "cell_type": "markdown",
   "metadata": {},
   "source": [
    "# 5-6. Stages of Life:\n",
    " Write an if-elif-else chain that determines a person’s stage\n",
    "of life. Set a value for the variable age, and then:\n",
    "\n",
    "• If the person is less than 2 years old, print a message that the person is\n",
    "a baby.\n",
    "\n",
    "• If the person is at least 2 years old but less than 4, print a message that the\n",
    "person is a toddler.\n",
    "\n",
    "• If the person is at least 4 years old but less than 13, print a message that\n",
    "the person is a kid.\n",
    "\n",
    "• If the person is at least 13 years old but less than 20, print a message that\n",
    "the person is a teenager.\n",
    "\n",
    "• If the person is at least 20 years old but less than 65, print a message that\n",
    "the person is an adult.\n",
    "\n",
    "• If the person is age 65 or older, print a message that the person is an elder."
   ]
  },
  {
   "cell_type": "code",
   "execution_count": 45,
   "metadata": {},
   "outputs": [
    {
     "name": "stdout",
     "output_type": "stream",
     "text": [
      "The person is an adult.\n"
     ]
    }
   ],
   "source": [
    "age = 25\n",
    "\n",
    "if age < 2:\n",
    "    print(\"The person is a baby.\")\n",
    "elif age >= 2 and age < 4:\n",
    "    print(\"The person is a toddler.\")\n",
    "elif age >= 4 and age < 13:\n",
    "    print(\"The person is a kid.\")\n",
    "elif age >= 13 and age < 20:\n",
    "    print(\"The person is a teenager.\")\n",
    "elif age >= 20 and age < 65:\n",
    "    print(\"The person is an adult.\")\n",
    "else:\n",
    "    print(\"The person is an elder.\")\n"
   ]
  },
  {
   "cell_type": "code",
   "execution_count": 46,
   "metadata": {},
   "outputs": [
    {
     "name": "stdout",
     "output_type": "stream",
     "text": [
      "The person is a toddler.\n"
     ]
    }
   ],
   "source": [
    "age = 2\n",
    "\n",
    "if age < 2:\n",
    "    print(\"The person is a baby.\")\n",
    "elif age >= 2 and age < 4:\n",
    "    print(\"The person is a toddler.\")\n",
    "elif age >= 4 and age < 13:\n",
    "    print(\"The person is a kid.\")\n",
    "elif age >= 13 and age < 20:\n",
    "    print(\"The person is a teenager.\")\n",
    "elif age >= 20 and age < 65:\n",
    "    print(\"The person is an adult.\")\n",
    "else:\n",
    "    print(\"The person is an elder.\")\n"
   ]
  },
  {
   "cell_type": "code",
   "execution_count": 47,
   "metadata": {},
   "outputs": [
    {
     "name": "stdout",
     "output_type": "stream",
     "text": [
      "The person is an elder.\n"
     ]
    }
   ],
   "source": [
    "age = 70\n",
    "\n",
    "if age < 2:\n",
    "    print(\"The person is a baby.\")\n",
    "elif age >= 2 and age < 4:\n",
    "    print(\"The person is a toddler.\")\n",
    "elif age >= 4 and age < 13:\n",
    "    print(\"The person is a kid.\")\n",
    "elif age >= 13 and age < 20:\n",
    "    print(\"The person is a teenager.\")\n",
    "elif age >= 20 and age < 65:\n",
    "    print(\"The person is an adult.\")\n",
    "else:\n",
    "    print(\"The person is an elder.\")\n"
   ]
  },
  {
   "cell_type": "markdown",
   "metadata": {},
   "source": [
    "# 5-7. Favorite Fruit: \n",
    "Make a list of your favorite fruits, and then write a series of\n",
    "independent if statements that check for certain fruits in your list.\n",
    "\n",
    "• Make a list of your three favorite fruits and call it favorite_fruits.\n",
    "\n",
    "• Write five if statements. Each should check whether a certain kind of fruit\n",
    "is in your list. \n",
    "\n",
    "If the fruit is in your list, the if block should print a statement,\n",
    "such as You really like bananas!"
   ]
  },
  {
   "cell_type": "code",
   "execution_count": 48,
   "metadata": {},
   "outputs": [
    {
     "name": "stdout",
     "output_type": "stream",
     "text": [
      "You really like mangoes!\n",
      "You really like bananas!\n",
      "You really like apples!\n"
     ]
    }
   ],
   "source": [
    "favorite_fruits = ['mango', 'banana', 'apple']\n",
    "\n",
    "if 'mango' in favorite_fruits:\n",
    "    print(\"You really like mangoes!\")\n",
    "\n",
    "if 'banana' in favorite_fruits:\n",
    "    print(\"You really like bananas!\")\n",
    "\n",
    "if 'apple' in favorite_fruits:\n",
    "    print(\"You really like apples!\")\n",
    "\n",
    "if 'orange' in favorite_fruits:\n",
    "    print(\"You really like oranges!\")\n",
    "\n",
    "if 'grape' in favorite_fruits:\n",
    "    print(\"You really like grapes!\")\n"
   ]
  },
  {
   "cell_type": "markdown",
   "metadata": {},
   "source": [
    "# 5-8. Hello Admin: \n",
    "Make a list of five or more usernames, including the name\n",
    "'admin'.\n",
    "\n",
    " Imagine you are writing code that will print a greeting to each user\n",
    "after they log in to a website. Loop through the list, and print a greeting to\n",
    "each user.\n",
    "\n",
    "• If the username is 'admin', print a special greeting, such as Hello admin,\n",
    "would you like to see a status report?\n",
    "\n",
    "• Otherwise, print a generic greeting, such as Hello Jaden, thank you for\n",
    "logging in again."
   ]
  },
  {
   "cell_type": "code",
   "execution_count": 50,
   "metadata": {},
   "outputs": [
    {
     "name": "stdout",
     "output_type": "stream",
     "text": [
      "Hello Admin, would you like to see a status report?\n",
      "Hello Jaden, thank you for logging in again.\n",
      "Hello Sophia, thank you for logging in again.\n",
      "Hello Liam, thank you for logging in again.\n",
      "Hello Emma, thank you for logging in again.\n",
      "Hello Jon, thank you for logging in again.\n",
      "Hello Sansa, thank you for logging in again.\n"
     ]
    }
   ],
   "source": [
    "usernames = ['admin', 'jaden', 'sophia', 'liam', 'emma', 'Jon', 'sansa']\n",
    "for username in usernames:\n",
    "    if username == 'admin':\n",
    "        print(f\"Hello {username.title()}, would you like to see a status report?\")\n",
    "    else:\n",
    "        print(f\"Hello {username.title()}, thank you for logging in again.\")"
   ]
  },
  {
   "cell_type": "markdown",
   "metadata": {},
   "source": [
    "# 5-9. No Users: \n",
    "Add an if test to hello_admin.py to make sure the list of users is\n",
    "not empty.\n",
    "\n",
    "• If the list is empty, print the message We need to find some users!\n",
    "\n",
    "• Remove all of the usernames from your list, and make sure the correct mes-\n",
    "sage is printed."
   ]
  },
  {
   "cell_type": "markdown",
   "metadata": {},
   "source": [
    "# List of usernames (initially not empty)"
   ]
  },
  {
   "cell_type": "code",
   "execution_count": 51,
   "metadata": {},
   "outputs": [
    {
     "name": "stdout",
     "output_type": "stream",
     "text": [
      "Hello admin, would you like to see a status report?\n",
      "Hello Jaden, thank you for logging in again.\n",
      "Hello Sophia, thank you for logging in again.\n",
      "Hello Liam, thank you for logging in again.\n",
      "Hello Emma, thank you for logging in again.\n"
     ]
    }
   ],
   "source": [
    "usernames = ['admin', 'jaden', 'sophia', 'liam', 'emma']\n",
    "\n",
    "if usernames:\n",
    "    for username in usernames:\n",
    "        if username == 'admin':\n",
    "            print(f\"Hello {username}, would you like to see a status report?\")\n",
    "        else:\n",
    "            print(f\"Hello {username.title()}, thank you for logging in again.\")\n",
    "else:\n",
    "    print(\"We need to find some users!\")\n"
   ]
  },
  {
   "cell_type": "markdown",
   "metadata": {},
   "source": [
    "# Remove all usernames from the list and test the code:"
   ]
  },
  {
   "cell_type": "code",
   "execution_count": 52,
   "metadata": {},
   "outputs": [
    {
     "name": "stdout",
     "output_type": "stream",
     "text": [
      "We need to find some users!\n"
     ]
    }
   ],
   "source": [
    "usernames = [ ]\n",
    "\n",
    "if usernames:\n",
    "    for username in usernames:\n",
    "        if username == 'admin':\n",
    "            print(f\"Hello {username}, would you like to see a status report?\")\n",
    "        else:\n",
    "            print(f\"Hello {username.title()}, thank you for logging in again.\")\n",
    "else:\n",
    "    print(\"We need to find some users!\")\n"
   ]
  },
  {
   "cell_type": "markdown",
   "metadata": {},
   "source": [
    "# 5-10. Checking Usernames: Do the following to create a program that simulates\n",
    "how websites ensure that everyone has a unique username.\n",
    "\n",
    "• Make a list of five or more usernames called current_users.\n",
    "\n",
    "• Make another list of five usernames called new_users. Make sure one or\n",
    "two of the new usernames are also in the current_users list.\n",
    "\n",
    "• Loop through the new_users list to see if each new username has already\n",
    "been used. If it has, print a message that the person will need to enter a\n",
    "new username. If a username has not been used, print a message saying\n",
    "that the username is available.\n",
    "\n",
    "•Make sure your comparison is case insensitive. If 'John' has been used,\n",
    "\n",
    "'JOHN' should not be accepted. (To do this, you’ll need to make a copy of\n",
    "current_users containing the lowercase versions of all existing users.)"
   ]
  },
  {
   "cell_type": "markdown",
   "metadata": {},
   "source": [
    "# Create the lists of current users and new users:\n"
   ]
  },
  {
   "cell_type": "code",
   "execution_count": 53,
   "metadata": {},
   "outputs": [],
   "source": [
    "current_users = ['alice', 'bob', 'charlie', 'dave', 'eve']\n",
    "\n",
    "new_users = ['Alice', 'frank', 'Charlie', 'grace', 'heidi']"
   ]
  },
  {
   "cell_type": "markdown",
   "metadata": {},
   "source": [
    "# Convert current users to lowercase for case insensitive comparison:"
   ]
  },
  {
   "cell_type": "code",
   "execution_count": 54,
   "metadata": {},
   "outputs": [],
   "source": [
    "lowercase_current_users = [user.lower() for user in current_users]"
   ]
  },
  {
   "cell_type": "markdown",
   "metadata": {},
   "source": [
    "# Loop through new users to check for uniqueness:"
   ]
  },
  {
   "cell_type": "code",
   "execution_count": 55,
   "metadata": {},
   "outputs": [
    {
     "name": "stdout",
     "output_type": "stream",
     "text": [
      "Sorry, the username 'Alice' is already taken. Please enter a new username.\n",
      "The username 'frank' is available!\n",
      "Sorry, the username 'Charlie' is already taken. Please enter a new username.\n",
      "The username 'grace' is available!\n",
      "The username 'heidi' is available!\n"
     ]
    }
   ],
   "source": [
    "for new_user in new_users:\n",
    "    if new_user.lower() in lowercase_current_users:\n",
    "        print(f\"Sorry, the username '{new_user}' is already taken. Please enter a new username.\")\n",
    "    else:\n",
    "        print(f\"The username '{new_user}' is available!\")\n"
   ]
  },
  {
   "cell_type": "markdown",
   "metadata": {},
   "source": [
    "# 5-11. Ordinal Numbers: \n",
    "Ordinal numbers indicate their position in a list, such as\n",
    "1st or 2nd. Most ordinal numbers end in th, except 1, 2, and 3.\n",
    "\n",
    "• Store the numbers 1 through 9 in a list.\n",
    "\n",
    "• Loop through the list.\n",
    "\n",
    "• Use an if-elif-else chain inside the loop to print the proper ordinal ending\n",
    "for each number. Your output should read \"1st 2nd 3rd 4th 5th 6th 7th\n",
    "8th 9th\", and each result should be on a separate line."
   ]
  },
  {
   "cell_type": "markdown",
   "metadata": {},
   "source": [
    "# Store the numbers 1 through 9 in a list:"
   ]
  },
  {
   "cell_type": "code",
   "execution_count": 57,
   "metadata": {},
   "outputs": [
    {
     "data": {
      "text/plain": [
       "[1, 2, 3, 4, 5, 6, 7, 8, 9]"
      ]
     },
     "execution_count": 57,
     "metadata": {},
     "output_type": "execute_result"
    }
   ],
   "source": [
    "numbers = list(range(1, 10))\n",
    "numbers"
   ]
  },
  {
   "cell_type": "markdown",
   "metadata": {},
   "source": [
    "# Loop through the list and use an if-elif-else chain for ordinal endings:"
   ]
  },
  {
   "cell_type": "code",
   "execution_count": 58,
   "metadata": {},
   "outputs": [
    {
     "name": "stdout",
     "output_type": "stream",
     "text": [
      "1st\n",
      "2nd\n",
      "3rd\n",
      "4th\n",
      "5th\n",
      "6th\n",
      "7th\n",
      "8th\n",
      "9th\n"
     ]
    }
   ],
   "source": [
    "for number in numbers:\n",
    "    if number == 1:\n",
    "        ordinal = f\"{number}st\"\n",
    "    elif number == 2:\n",
    "        ordinal = f\"{number}nd\"\n",
    "    elif number == 3:\n",
    "        ordinal = f\"{number}rd\"\n",
    "    else:\n",
    "        ordinal = f\"{number}th\"\n",
    "    \n",
    "    print(ordinal)"
   ]
  }
 ],
 "metadata": {
  "kernelspec": {
   "display_name": "Python 3",
   "language": "python",
   "name": "python3"
  },
  "language_info": {
   "codemirror_mode": {
    "name": "ipython",
    "version": 3
   },
   "file_extension": ".py",
   "mimetype": "text/x-python",
   "name": "python",
   "nbconvert_exporter": "python",
   "pygments_lexer": "ipython3",
   "version": "3.12.5"
  }
 },
 "nbformat": 4,
 "nbformat_minor": 2
}
