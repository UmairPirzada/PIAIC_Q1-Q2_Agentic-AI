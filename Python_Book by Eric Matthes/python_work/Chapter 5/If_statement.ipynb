{
 "cells": [
  {
   "cell_type": "markdown",
   "metadata": {},
   "source": [
    "# A Simple Example\n",
    "The following example shows how if tests let you respond to special situa-\n",
    "tions correctly. Imagine you have a list of cars and you want to print out the\n",
    "name of each car. Car names are proper names, so the names of most cars\n",
    "should be printed in title case. However, the value 'bmw' should be printed\n",
    "in all uppercase. \n",
    "\n",
    "The following code loops through a list of car names and\n",
    "looks for the value 'bmw'. Whenever the value is 'bmw', it’s printed in upper-\n",
    "case instead of title case:"
   ]
  },
  {
   "cell_type": "code",
   "execution_count": 1,
   "metadata": {},
   "outputs": [
    {
     "name": "stdout",
     "output_type": "stream",
     "text": [
      "Audi\n",
      "BMW\n",
      "Subaru\n",
      "Toyota\n"
     ]
    }
   ],
   "source": [
    "cars = ['audi', 'bmw', 'subaru', 'toyota']\n",
    "for car in cars:\n",
    "    if car == 'bmw':\n",
    "        print(car.upper())\n",
    "    else:\n",
    "        print(car.title())"
   ]
  },
  {
   "cell_type": "markdown",
   "metadata": {},
   "source": [
    "The loop in this example first checks if the current value of car is 'bmw' .\n",
    "If it is, the value is printed in uppercase. If the value of car is anything other\n",
    "than 'bmw', it’s printed in title case:\n",
    "\n",
    "Audi\n",
    "\n",
    "BMW\n",
    "\n",
    "Subaru\n",
    "\n",
    "Toyota"
   ]
  },
  {
   "cell_type": "code",
   "execution_count": 2,
   "metadata": {},
   "outputs": [
    {
     "name": "stdout",
     "output_type": "stream",
     "text": [
      "audi\n",
      "BMW\n",
      "Subaru\n",
      "Toyota\n"
     ]
    }
   ],
   "source": [
    "cars = ['audi', 'bmw', 'subaru', 'toyota']\n",
    "for car in cars:\n",
    "    if car == 'bmw':\n",
    "        print(car.upper())\n",
    "    elif car == 'audi':\n",
    "        print(car.lower())    \n",
    "    else:\n",
    "        print(car.title())"
   ]
  },
  {
   "cell_type": "markdown",
   "metadata": {},
   "source": [
    "# Conditional Tests\n",
    "At the heart of every if statement is an expression that can be evaluated as\n",
    "True or False and is called a conditional test. Python uses the values True and\n",
    "False to decide whether the code in an if statement should be executed. \n",
    "\n",
    "If a\n",
    "conditional test evaluates to True, Python executes the code following the if\n",
    "statement. \n",
    "\n",
    "If the test evaluates to False, Python ignores the code following\n",
    "the if statement."
   ]
  },
  {
   "cell_type": "markdown",
   "metadata": {},
   "source": [
    "# Checking for Equality\n",
    "Most conditional tests compare the current value of a variable to a specific\n",
    "value of interest. \n",
    "\n",
    "The simplest conditional test checks whether the value of a\n",
    "variable is equal to the value of interest:"
   ]
  },
  {
   "cell_type": "code",
   "execution_count": 3,
   "metadata": {},
   "outputs": [
    {
     "data": {
      "text/plain": [
       "True"
      ]
     },
     "execution_count": 3,
     "metadata": {},
     "output_type": "execute_result"
    }
   ],
   "source": [
    "car = 'bmw'\n",
    "car == 'bmw'"
   ]
  },
  {
   "cell_type": "markdown",
   "metadata": {},
   "source": [
    "The first line sets the value of car to 'bmw' using a single equal sign, as\n",
    "you’ve seen many times already. The next line checks whether the value of\n",
    "car is 'bmw' by using a double equal sign (==). This equality operator returns\n",
    "True if the values on the left and right side of the operator match, and False if\n",
    "they don’t match. The values in this example match, so Python returns True.\n",
    "\n",
    "When the value of car is anything other than 'bmw', this test returns False:"
   ]
  },
  {
   "cell_type": "code",
   "execution_count": 5,
   "metadata": {},
   "outputs": [
    {
     "data": {
      "text/plain": [
       "False"
      ]
     },
     "execution_count": 5,
     "metadata": {},
     "output_type": "execute_result"
    }
   ],
   "source": [
    "car = 'audi'\n",
    "car == 'bmw'"
   ]
  },
  {
   "cell_type": "markdown",
   "metadata": {},
   "source": [
    "A single equal sign is really a statement; you might read the first line\n",
    "of code here as “Set the value of car equal to 'audi'.” On the other hand, a\n",
    "double equal sign asks a question:\n",
    "\n",
    " “Is the value of car equal to 'bmw'?” Most\n",
    "programming languages use equal signs in this way."
   ]
  },
  {
   "cell_type": "markdown",
   "metadata": {},
   "source": [
    "# Ignoring Case When Checking for Equality\n",
    "Testing for equality is case sensitive in Python. For example, two values with\n",
    "different capitalization are not considered equal:"
   ]
  },
  {
   "cell_type": "code",
   "execution_count": 6,
   "metadata": {},
   "outputs": [
    {
     "data": {
      "text/plain": [
       "False"
      ]
     },
     "execution_count": 6,
     "metadata": {},
     "output_type": "execute_result"
    }
   ],
   "source": [
    "car = 'Audi'\n",
    "car == 'audi'"
   ]
  },
  {
   "cell_type": "markdown",
   "metadata": {},
   "source": [
    "If case matters, this behavior is advantageous. But if case doesn’t matter\n",
    "and instead you just want to test the value of a variable, you can convert the\n",
    "variable’s value to lowercase before doing the comparison:"
   ]
  },
  {
   "cell_type": "code",
   "execution_count": 7,
   "metadata": {},
   "outputs": [
    {
     "data": {
      "text/plain": [
       "True"
      ]
     },
     "execution_count": 7,
     "metadata": {},
     "output_type": "execute_result"
    }
   ],
   "source": [
    "car = 'Audi'\n",
    "car.lower() == 'audi'"
   ]
  },
  {
   "cell_type": "markdown",
   "metadata": {},
   "source": [
    "This test will return True no matter how the value 'Audi' is formatted\n",
    "because the test is now case insensitive. The lower() method doesn’t change\n",
    "the value that was originally stored in car, so you can do this kind of com-\n",
    "parison without affecting the original variable:"
   ]
  },
  {
   "cell_type": "code",
   "execution_count": 8,
   "metadata": {},
   "outputs": [
    {
     "data": {
      "text/plain": [
       "True"
      ]
     },
     "execution_count": 8,
     "metadata": {},
     "output_type": "execute_result"
    }
   ],
   "source": [
    "car = 'Audi'\n",
    "car.lower() == 'audi'"
   ]
  },
  {
   "cell_type": "code",
   "execution_count": 9,
   "metadata": {},
   "outputs": [
    {
     "data": {
      "text/plain": [
       "'Audi'"
      ]
     },
     "execution_count": 9,
     "metadata": {},
     "output_type": "execute_result"
    }
   ],
   "source": [
    "car"
   ]
  },
  {
   "cell_type": "markdown",
   "metadata": {},
   "source": [
    "We first assign the capitalized string 'Audi' to the variable car. Then,\n",
    "we convert the value of car to lowercase and compare the lowercase value to\n",
    "the string 'audi'. The two strings match, so Python returns True. We can see\n",
    "that the value stored in car has not been affected by the lower() method."
   ]
  },
  {
   "cell_type": "markdown",
   "metadata": {},
   "source": [
    "Websites enforce certain rules for the data that users enter in a manner\n",
    "similar to this. For example, a site might use a conditional test like this to ensure that every user has a truly unique username, not just a variation on\n",
    "the capitalization of another person’s username. When someone submits a\n",
    "new username, that new username is converted to lowercase and compared\n",
    "to the lowercase versions of all existing usernames. During this check, a user-\n",
    "name like 'John' will be rejected if any variation of 'john' is already in use."
   ]
  },
  {
   "cell_type": "markdown",
   "metadata": {},
   "source": [
    "# Checking for Inequality\n",
    "When you want to determine whether two values are not equal, you can use\n",
    "the inequality operator (!=). Let’s use another if statement to examine how to\n",
    "use the inequality operator. We’ll store a requested pizza topping in a vari-\n",
    "able and then print a message if the person did not order anchovies:"
   ]
  },
  {
   "cell_type": "markdown",
   "metadata": {},
   "source": [
    "# Important note :\n",
    "If the condition is True, then the 'if' block executes; if it is False, the 'if' block does not execute."
   ]
  },
  {
   "cell_type": "code",
   "execution_count": 10,
   "metadata": {},
   "outputs": [
    {
     "name": "stdout",
     "output_type": "stream",
     "text": [
      "Hold the anchovies!\n"
     ]
    }
   ],
   "source": [
    "requested_topping = 'mushrooms'\n",
    "if requested_topping != 'anchovies':\n",
    "    print(\"Hold the anchovies!\")"
   ]
  },
  {
   "cell_type": "code",
   "execution_count": 13,
   "metadata": {},
   "outputs": [],
   "source": [
    "requested_topping = 'mushrooms'\n",
    "if requested_topping != 'mushrooms':\n",
    "    print(\"Hold the anchovies!\")"
   ]
  },
  {
   "cell_type": "code",
   "execution_count": 14,
   "metadata": {},
   "outputs": [],
   "source": [
    "requested_topping = 'mushrooms'\n",
    "if requested_topping == 'anchovies':\n",
    "    print(\"Hold the anchovies!\")"
   ]
  },
  {
   "cell_type": "markdown",
   "metadata": {},
   "source": [
    "This code compares the value of requested_topping to the value 'anchovies'.\n",
    "If these two values do not match, Python returns True and executes the code\n",
    "following the if statement. If the two values match, Python returns False and\n",
    "does not run the code following the if statement.\n",
    "\n",
    "Because the value of requested_topping is not 'anchovies', the print()\n",
    "function is executed:\n",
    "\n",
    "Hold the anchovies!\n",
    "\n",
    "Most of the conditional expressions you write will test for equality, but\n",
    "sometimes you’ll find it more efficient to test for inequality."
   ]
  },
  {
   "cell_type": "markdown",
   "metadata": {},
   "source": [
    "# Numerical Comparisons\n",
    "Testing numerical values is pretty straightforward. For example, the follow-\n",
    "ing code checks whether a person is 18 years old:"
   ]
  },
  {
   "cell_type": "code",
   "execution_count": 15,
   "metadata": {},
   "outputs": [
    {
     "data": {
      "text/plain": [
       "True"
      ]
     },
     "execution_count": 15,
     "metadata": {},
     "output_type": "execute_result"
    }
   ],
   "source": [
    "age = 18\n",
    "age == 18"
   ]
  },
  {
   "cell_type": "markdown",
   "metadata": {},
   "source": [
    "You can also test to see if two numbers are not equal. For example, the\n",
    "following code prints a message if the given answer is not correct:"
   ]
  },
  {
   "cell_type": "code",
   "execution_count": 16,
   "metadata": {},
   "outputs": [
    {
     "data": {
      "text/plain": [
       "False"
      ]
     },
     "execution_count": 16,
     "metadata": {},
     "output_type": "execute_result"
    }
   ],
   "source": [
    "age = 18\n",
    "age != 18"
   ]
  },
  {
   "cell_type": "code",
   "execution_count": 17,
   "metadata": {},
   "outputs": [
    {
     "name": "stdout",
     "output_type": "stream",
     "text": [
      "That is not the correct answer. Please try again!\n"
     ]
    }
   ],
   "source": [
    "answer = 17\n",
    "if answer != 42:\n",
    "    print(\"That is not the correct answer. Please try again!\")"
   ]
  },
  {
   "cell_type": "markdown",
   "metadata": {},
   "source": [
    "The conditional test passes, because the value of answer (17) is not equal\n",
    "to 42. Because the test passes, the indented code block is executed:\n",
    "\n",
    "That is not the correct answer. Please try again!"
   ]
  },
  {
   "cell_type": "markdown",
   "metadata": {},
   "source": [
    "You can include various mathematical comparisons in your conditional\n",
    "statements as well, such as less than, less than or equal to, greater than, and\n",
    "greater than or equal to:"
   ]
  },
  {
   "cell_type": "code",
   "execution_count": 21,
   "metadata": {},
   "outputs": [
    {
     "data": {
      "text/plain": [
       "True"
      ]
     },
     "execution_count": 21,
     "metadata": {},
     "output_type": "execute_result"
    }
   ],
   "source": [
    "age = 19 \n",
    "age < 21"
   ]
  },
  {
   "cell_type": "code",
   "execution_count": 22,
   "metadata": {},
   "outputs": [
    {
     "data": {
      "text/plain": [
       "True"
      ]
     },
     "execution_count": 22,
     "metadata": {},
     "output_type": "execute_result"
    }
   ],
   "source": [
    "age <= 21"
   ]
  },
  {
   "cell_type": "code",
   "execution_count": 23,
   "metadata": {},
   "outputs": [
    {
     "data": {
      "text/plain": [
       "False"
      ]
     },
     "execution_count": 23,
     "metadata": {},
     "output_type": "execute_result"
    }
   ],
   "source": [
    "age > 21"
   ]
  },
  {
   "cell_type": "code",
   "execution_count": 24,
   "metadata": {},
   "outputs": [
    {
     "data": {
      "text/plain": [
       "False"
      ]
     },
     "execution_count": 24,
     "metadata": {},
     "output_type": "execute_result"
    }
   ],
   "source": [
    "age >= 21"
   ]
  },
  {
   "cell_type": "markdown",
   "metadata": {},
   "source": [
    "Each mathematical comparison can be used as part of an if statement,\n",
    "which can help you detect the exact conditions of interest."
   ]
  },
  {
   "cell_type": "markdown",
   "metadata": {},
   "source": [
    "# Checking Multiple Conditions\n",
    "You may want to check multiple conditions at the same time. For example,\n",
    "sometimes you might need two conditions to be True to take an action.\n",
    "Other times, you might be satisfied with just one condition being True. The\n",
    "keywords and and or can help you in these situations."
   ]
  },
  {
   "cell_type": "markdown",
   "metadata": {},
   "source": [
    "# Using and to Check Multiple Conditions\n",
    "To check whether two conditions are both True simultaneously, use the key-\n",
    "word and to combine the two conditional tests; if each test passes, the overall\n",
    "expression evaluates to True. If either test fails or if both tests fail, the expres-\n",
    "sion evaluates to False.\n",
    "\n",
    "For example, you can check whether two people are both over 21 by\n",
    "using the following test:"
   ]
  },
  {
   "cell_type": "code",
   "execution_count": 25,
   "metadata": {},
   "outputs": [
    {
     "data": {
      "text/plain": [
       "False"
      ]
     },
     "execution_count": 25,
     "metadata": {},
     "output_type": "execute_result"
    }
   ],
   "source": [
    "age_0 = 22\n",
    "age_1 = 18\n",
    "age_0 >= 21 and age_1 >= 21"
   ]
  },
  {
   "cell_type": "code",
   "execution_count": 26,
   "metadata": {},
   "outputs": [
    {
     "data": {
      "text/plain": [
       "True"
      ]
     },
     "execution_count": 26,
     "metadata": {},
     "output_type": "execute_result"
    }
   ],
   "source": [
    "age_1 = 22\n",
    "age_0 >= 21 and age_1 >= 21"
   ]
  },
  {
   "cell_type": "markdown",
   "metadata": {},
   "source": [
    "First, we define two ages, age_0 and age_1. Then we check whether both\n",
    "ages are 21 or older . The test on the left passes, but the test on the right\n",
    "fails, so the overall conditional expression evaluates to False. We then change\n",
    "age_1 to 22 . The value of age_1 is now greater than 21, so both individual\n",
    "tests pass, causing the overall conditional expression to evaluate as True.\n",
    "\n",
    "\n",
    "To improve readability, you can use parentheses around the individual\n",
    "tests, but they are not required. If you use parentheses, your test would look\n",
    "like this:"
   ]
  },
  {
   "cell_type": "code",
   "execution_count": 27,
   "metadata": {},
   "outputs": [
    {
     "data": {
      "text/plain": [
       "True"
      ]
     },
     "execution_count": 27,
     "metadata": {},
     "output_type": "execute_result"
    }
   ],
   "source": [
    "(age_0 >= 21) and (age_1 >= 21)"
   ]
  },
  {
   "cell_type": "markdown",
   "metadata": {},
   "source": [
    "# Using or to Check Multiple Conditions\n",
    "The keyword or allows you to check multiple conditions as well, but it passes\n",
    "when either or both of the individual tests pass. An or expression fails only\n",
    "when both individual tests fail.\n",
    "\n",
    "\n",
    "Let’s consider two ages again, but this time we’ll look for only one per-\n",
    "son to be over 21:"
   ]
  },
  {
   "cell_type": "code",
   "execution_count": 28,
   "metadata": {},
   "outputs": [
    {
     "data": {
      "text/plain": [
       "True"
      ]
     },
     "execution_count": 28,
     "metadata": {},
     "output_type": "execute_result"
    }
   ],
   "source": [
    "age_0 = 22\n",
    "age_1 = 18\n",
    "age_0 >= 21 or age_1 >= 21"
   ]
  },
  {
   "cell_type": "code",
   "execution_count": 29,
   "metadata": {},
   "outputs": [
    {
     "data": {
      "text/plain": [
       "False"
      ]
     },
     "execution_count": 29,
     "metadata": {},
     "output_type": "execute_result"
    }
   ],
   "source": [
    "age_0 = 18\n",
    "age_0 >= 21 or age_1 >= 21"
   ]
  },
  {
   "cell_type": "markdown",
   "metadata": {},
   "source": [
    "We start with two age variables again. Because the test for age_0 passes,\n",
    "the overall expression evaluates to True. We then lower age_0 to 18. \n",
    "\n",
    "In the final\n",
    "test , both tests now fail and the overall expression evaluates to False."
   ]
  },
  {
   "cell_type": "markdown",
   "metadata": {},
   "source": [
    "# Checking Whether a Value Is in a List\n",
    "Sometimes it’s important to check whether a list contains a certain value\n",
    "before taking an action. For example, you might want to check whether a\n",
    "new username already exists in a list of current usernames before completing\n",
    "someone’s registration on a website. In a mapping project, you might want to\n",
    "check whether a submitted location already exists in a list of known locations.\n",
    "\n",
    "To find out whether a particular value is already in a list, use the key-\n",
    "word in. Let’s consider some code you might write for a pizzeria. We’ll\n",
    "make a list of toppings a customer has requested for a pizza and then check\n",
    "whether certain toppings are in the list.\n"
   ]
  },
  {
   "cell_type": "code",
   "execution_count": 30,
   "metadata": {},
   "outputs": [
    {
     "data": {
      "text/plain": [
       "True"
      ]
     },
     "execution_count": 30,
     "metadata": {},
     "output_type": "execute_result"
    }
   ],
   "source": [
    "requested_toppings = ['mushrooms', 'onions', 'pineapple']\n",
    "'mushrooms' in requested_toppings"
   ]
  },
  {
   "cell_type": "code",
   "execution_count": 31,
   "metadata": {},
   "outputs": [
    {
     "data": {
      "text/plain": [
       "False"
      ]
     },
     "execution_count": 31,
     "metadata": {},
     "output_type": "execute_result"
    }
   ],
   "source": [
    "'pepperoni' in requested_toppings"
   ]
  },
  {
   "cell_type": "code",
   "execution_count": 32,
   "metadata": {},
   "outputs": [
    {
     "data": {
      "text/plain": [
       "True"
      ]
     },
     "execution_count": 32,
     "metadata": {},
     "output_type": "execute_result"
    }
   ],
   "source": [
    "'onions' in requested_toppings"
   ]
  },
  {
   "cell_type": "code",
   "execution_count": 33,
   "metadata": {},
   "outputs": [
    {
     "data": {
      "text/plain": [
       "False"
      ]
     },
     "execution_count": 33,
     "metadata": {},
     "output_type": "execute_result"
    }
   ],
   "source": [
    "'Chicken' in requested_toppings"
   ]
  },
  {
   "cell_type": "markdown",
   "metadata": {},
   "source": [
    "The keyword in tells Python to check for the existence of 'mushrooms'\n",
    "and 'pepperoni' in the list requested_toppings. This technique is quite power-\n",
    "ful because you can create a list of essential values, and then easily check\n",
    "whether the value you’re testing matches one of the values in the list."
   ]
  },
  {
   "cell_type": "markdown",
   "metadata": {},
   "source": [
    "# Checking Whether a Value Is Not in a List\n",
    "Other times, it’s important to know if a value does not appear in a list. You\n",
    "can use the keyword not in this situation. For example, consider a list of\n",
    "users who are banned from commenting in a forum. \n",
    "\n",
    "You can check whether\n",
    "a user has been banned before allowing that person to submit a comment:"
   ]
  },
  {
   "cell_type": "code",
   "execution_count": 35,
   "metadata": {},
   "outputs": [
    {
     "name": "stdout",
     "output_type": "stream",
     "text": [
      "Marie, you can post a response if you wish.\n"
     ]
    }
   ],
   "source": [
    "banned_users = ['andrew', 'carolina', 'david']\n",
    "user = 'marie'\n",
    "if user not in banned_users:\n",
    "    print(f\"{user.title()}, you can post a response if you wish.\")"
   ]
  },
  {
   "cell_type": "markdown",
   "metadata": {},
   "source": [
    "The if statement here reads quite clearly. If the value of user is not in\n",
    "the list banned_users, Python returns True and executes the indented line.\n",
    "The user 'marie' is not in the list banned_users, so she sees a message\n",
    "inviting her to post a response:\n",
    "\n",
    "Marie, you can post a response if you wish."
   ]
  },
  {
   "cell_type": "code",
   "execution_count": 36,
   "metadata": {},
   "outputs": [],
   "source": [
    "banned_users = ['andrew', 'carolina', 'david']\n",
    "user = 'carolina'\n",
    "if user not in banned_users:\n",
    "    print(f\"{user.title()}, you can post a response if you wish.\")"
   ]
  },
  {
   "cell_type": "markdown",
   "metadata": {},
   "source": [
    "# Boolean Expressions\n",
    "As you learn more about programming, you’ll hear the term Boolean expression\n",
    "at some point. A Boolean expression is just another name for a conditional\n",
    "test. A Boolean value is either True or False, just like the value of a conditional\n",
    "expression after it has been evaluated.\n",
    "\n",
    "\n",
    "Boolean values are often used to keep track of certain conditions, such\n",
    "as whether a game is running or whether a user can edit certain content on\n",
    "a website:"
   ]
  },
  {
   "cell_type": "code",
   "execution_count": 37,
   "metadata": {},
   "outputs": [],
   "source": [
    "game_active = True\n",
    "can_edit = False"
   ]
  },
  {
   "cell_type": "markdown",
   "metadata": {},
   "source": [
    "Boolean values provide an efficient way to track the state of a program\n",
    "or a particular condition that is important in your program."
   ]
  },
  {
   "cell_type": "markdown",
   "metadata": {},
   "source": [
    "# if Statements\n",
    "When you understand conditional tests, you can start writing if statements.\n",
    "Several different kinds of if statements exist, and your choice of which to\n",
    "use depends on the number of conditions you need to test. \n",
    "\n",
    "You saw several\n",
    "examples of if statements in the discussion about conditional tests, but now\n",
    "let’s dig deeper into the topic."
   ]
  },
  {
   "cell_type": "markdown",
   "metadata": {},
   "source": [
    "# Simple if Statements\n",
    "The simplest kind of if statement has one test and one action:"
   ]
  },
  {
   "cell_type": "markdown",
   "metadata": {},
   "source": [
    "if conditional_test:\n",
    "\n",
    "do something\n",
    "\n",
    "You can put any conditional test in the first line and just about any action\n",
    "in the indented block following the test. If the conditional test evaluates to\n",
    "True, Python executes the code following the if statement. If the test evaluates\n",
    "to False, Python ignores the code following the if statement.\n",
    "\n",
    "\n",
    "Let’s say we have a variable representing a person’s age, and we want to\n",
    "know if that person is old enough to vote. The following code tests whether\n",
    "the person can vote:"
   ]
  },
  {
   "cell_type": "code",
   "execution_count": 38,
   "metadata": {},
   "outputs": [
    {
     "name": "stdout",
     "output_type": "stream",
     "text": [
      "You are old enough to vote!\n"
     ]
    }
   ],
   "source": [
    "age = 19\n",
    "if age >= 18:\n",
    "    print(\"You are old enough to vote!\")"
   ]
  },
  {
   "cell_type": "markdown",
   "metadata": {},
   "source": [
    "Python checks to see whether the value of age is greater than or equal\n",
    "to 18. It is, so Python executes the indented print() call:\n",
    "\n",
    "You are old enough to vote!"
   ]
  },
  {
   "cell_type": "markdown",
   "metadata": {},
   "source": [
    "Indentation plays the same role in if statements as it did in for loops. All\n",
    "indented lines after an if statement will be executed if the test passes, and\n",
    "the entire block of indented lines will be ignored if the test does not pass."
   ]
  },
  {
   "cell_type": "markdown",
   "metadata": {},
   "source": [
    "You can have as many lines of code as you want in the block follow-\n",
    "ing the if statement. \n",
    "\n",
    "Let’s add another line of output if the person is old\n",
    "enough to vote, asking if the individual has registered to vote yet:"
   ]
  },
  {
   "cell_type": "code",
   "execution_count": 39,
   "metadata": {},
   "outputs": [
    {
     "name": "stdout",
     "output_type": "stream",
     "text": [
      "You are old enough to vote!\n",
      "Have you registered to vote yet?\n"
     ]
    }
   ],
   "source": [
    "age = 19\n",
    "if age >= 18:\n",
    "    print(\"You are old enough to vote!\")\n",
    "    print(\"Have you registered to vote yet?\")"
   ]
  },
  {
   "cell_type": "markdown",
   "metadata": {},
   "source": [
    "The conditional test passes, and both print() calls are indented, so both\n",
    "lines are printed:\n",
    "\n",
    "You are old enough to vote!\n",
    "\n",
    "Have you registered to vote yet?\n",
    "\n",
    "If the value of age is less than 18, this program would produce no output."
   ]
  },
  {
   "cell_type": "markdown",
   "metadata": {},
   "source": [
    "# if-else Statements\n",
    "Often, you’ll want to take one action when a conditional test passes and a dif-\n",
    "ferent action in all other cases. Python’s if-else syntax makes this possible. An\n",
    "if-else block is similar to a simple if statement, but the else statement allows\n",
    "you to define an action or set of actions that are executed when the condi-\n",
    "tional test fails.\n",
    "\n",
    "We’ll display the same message we had previously if the person is old\n",
    "enough to vote, but this time we’ll add a message for anyone who is not\n",
    "old enough to vote:"
   ]
  },
  {
   "cell_type": "code",
   "execution_count": 40,
   "metadata": {},
   "outputs": [
    {
     "name": "stdout",
     "output_type": "stream",
     "text": [
      "Sorry, you are too young to vote.\n",
      "Please register to vote as soon as you turn 18!\n"
     ]
    }
   ],
   "source": [
    "age = 17\n",
    "if age >= 18:\n",
    "    print(\"You are old enough to vote!\")\n",
    "    print(\"Have you registered to vote yet?\")\n",
    "else:\n",
    "    print(\"Sorry, you are too young to vote.\")\n",
    "    print(\"Please register to vote as soon as you turn 18!\")"
   ]
  },
  {
   "cell_type": "markdown",
   "metadata": {},
   "source": [
    "If the conditional test passes, the first block of indented print()\n",
    "calls is executed. If the test evaluates to False, the else block is executed.\n",
    "Because age is less than 18 this time, the conditional test fails and the code\n",
    "in the else block is executed:\n",
    "\n",
    "Sorry, you are too young to vote.\n",
    "\n",
    "Please register to vote as soon as you turn 18!"
   ]
  },
  {
   "cell_type": "markdown",
   "metadata": {},
   "source": [
    "This code works because it has only two possible situations to evaluate:\n",
    "\n",
    "a person is either old enough to vote or not old enough to vote. The if-else structure works well in situations in which you want Python to always exe-\n",
    "cute one of two possible actions. In a simple if-else chain like this, one of\n",
    "the two actions will always be executed."
   ]
  },
  {
   "cell_type": "markdown",
   "metadata": {},
   "source": [
    "# The if-elif-else Chain\n",
    "Often, you’ll need to test more than two possible situations, and to evaluate\n",
    "these you can use Python’s if-elif-else syntax. Python executes only one\n",
    "block in an if-elif-else chain. It runs each conditional test in order, until\n",
    "one passes. When a test passes, the code following that test is executed and\n",
    "Python skips the rest of the tests.\n",
    "\n",
    "Many real-world situations involve more than two possible conditions.\n",
    "For example, consider an amusement park that charges different rates for\n",
    "different age groups:\n",
    "\n",
    "• Admission for anyone under age 4 is free.\n",
    "\n",
    "• Admission for anyone between the ages of 4 and 18 is $25.\n",
    "\n",
    "• Admission for anyone age 18 or older is $40.\n",
    "\n",
    "How can we use an if statement to determine a person’s admission rate?\n",
    "\n",
    "The following code tests for the age group of a person and then prints an\n",
    "admission price message:"
   ]
  },
  {
   "cell_type": "code",
   "execution_count": 41,
   "metadata": {},
   "outputs": [
    {
     "name": "stdout",
     "output_type": "stream",
     "text": [
      "Your admission cost is $25.\n"
     ]
    }
   ],
   "source": [
    "age = 12\n",
    "if age < 4:\n",
    "    print(\"Your admission cost is $0.\")\n",
    "elif age < 18:\n",
    "    print(\"Your admission cost is $25.\")\n",
    "else:\n",
    "    print(\"Your admission cost is $40.\")"
   ]
  },
  {
   "cell_type": "markdown",
   "metadata": {},
   "source": [
    "The if test checks whether a person is under 4 years old. When the\n",
    "test passes, an appropriate message is printed and Python skips the rest of\n",
    "the tests. The elif line is really another if test, which runs only if the\n",
    "previous test failed. At this point in the chain, we know the person is at least\n",
    "4 years old because the first test failed. If the person is under 18, an appro-\n",
    "priate message is printed and Python skips the else block. If both the if\n",
    "and elif tests fail, Python runs the code in the else block .\n",
    "\n",
    "In this example the if test evaluates to False, so its code block is not\n",
    "executed. However, the elif test evaluates to True (12 is less than 18) so its\n",
    "code is executed. The output is one sentence, informing the user of the\n",
    "admission cost:\n",
    "\n",
    "Your admission cost is $25."
   ]
  },
  {
   "cell_type": "markdown",
   "metadata": {},
   "source": [
    "Any age greater than 17 would cause the first two tests to fail. In these\n",
    "situations, the else block would be executed and the admission price would\n",
    "be $40.\n",
    "\n",
    "\n",
    "Rather than printing the admission price within the if-elif-else block,\n",
    "\n",
    "it would be more concise to set just the price inside the if-elif-else chain and then have a single print() call that runs after the chain has been\n",
    "evaluated:"
   ]
  },
  {
   "cell_type": "code",
   "execution_count": 42,
   "metadata": {},
   "outputs": [
    {
     "name": "stdout",
     "output_type": "stream",
     "text": [
      "Your admission cost is $25.\n"
     ]
    }
   ],
   "source": [
    "age = 12\n",
    "if age < 4:\n",
    "    price = 0\n",
    "elif age < 18:\n",
    "    price = 25\n",
    "else:\n",
    "    price = 40\n",
    "print(f\"Your admission cost is ${price}.\")"
   ]
  },
  {
   "cell_type": "markdown",
   "metadata": {},
   "source": [
    "The indented lines set the value of price according to the person’s age,\n",
    "as in the previous example. After the price is set by the if-elif-else chain, a\n",
    "separate unindented print() call uses this value to display a message report-\n",
    "ing the person’s admission price.\n",
    "\n",
    "This code produces the same output as the previous example, but the\n",
    "purpose of the if-elif-else chain is narrower. Instead of determining a price\n",
    "and displaying a message, it simply determines the admission price. In addi-\n",
    "tion to being more efficient, this revised code is easier to modify than the\n",
    "original approach. To change the text of the output message, you would\n",
    "need to change only one print() call rather than three separate print() calls."
   ]
  },
  {
   "cell_type": "markdown",
   "metadata": {},
   "source": [
    "# Using Multiple elif Blocks\n",
    "You can use as many elif blocks in your code as you like. For example, if the\n",
    "amusement park were to implement a discount for seniors, you could add\n",
    "one more conditional test to the code to determine whether someone quali-\n",
    "fies for the senior discount. \n",
    "\n",
    "Let’s say that anyone 65 or older pays half the\n",
    "regular admission, or $20:"
   ]
  },
  {
   "cell_type": "code",
   "execution_count": 43,
   "metadata": {},
   "outputs": [
    {
     "name": "stdout",
     "output_type": "stream",
     "text": [
      "Your admission cost is $25.\n"
     ]
    }
   ],
   "source": [
    "age = 12\n",
    "if age < 4:\n",
    "    price = 0\n",
    "elif age < 18:\n",
    "    price = 25\n",
    "elif age < 65:\n",
    "    price = 40\n",
    "else:\n",
    "    price = 20\n",
    "print(f\"Your admission cost is ${price}.\")"
   ]
  },
  {
   "cell_type": "code",
   "execution_count": 44,
   "metadata": {},
   "outputs": [
    {
     "name": "stdout",
     "output_type": "stream",
     "text": [
      "Your admission cost is $20.\n"
     ]
    }
   ],
   "source": [
    "age = 68\n",
    "if age < 4:\n",
    "    price = 0\n",
    "elif age < 18:\n",
    "    price = 25\n",
    "elif age < 65:\n",
    "    price = 40\n",
    "else:\n",
    "    price = 20\n",
    "print(f\"Your admission cost is ${price}.\")"
   ]
  },
  {
   "cell_type": "markdown",
   "metadata": {},
   "source": [
    "Most of this code is unchanged. The second elif block now checks to\n",
    "make sure a person is less than age 65 before assigning them the full admis-\n",
    "sion rate of $40. Notice that the value assigned in the else block needs to\n",
    "be changed to $20, because the only ages that make it to this block are for\n",
    "people 65 or older."
   ]
  },
  {
   "cell_type": "markdown",
   "metadata": {},
   "source": [
    "# Omitting the else Block\n",
    "Python does not require an else block at the end of an if-elif chain.\n",
    "Sometimes, an else block is useful. Other times, it’s clearer to use an addi-\n",
    "tional elif statement that catches the specific condition of interest:"
   ]
  },
  {
   "cell_type": "code",
   "execution_count": 45,
   "metadata": {},
   "outputs": [
    {
     "name": "stdout",
     "output_type": "stream",
     "text": [
      "Your admission cost is $25.\n"
     ]
    }
   ],
   "source": [
    "age = 12\n",
    "if age < 4:\n",
    "    price = 0\n",
    "elif age < 18:\n",
    "    price = 25\n",
    "elif age < 65:\n",
    "    price = 40\n",
    "elif age >= 65:\n",
    "    price = 20\n",
    "print(f\"Your admission cost is ${price}.\")"
   ]
  },
  {
   "cell_type": "code",
   "execution_count": 46,
   "metadata": {},
   "outputs": [
    {
     "name": "stdout",
     "output_type": "stream",
     "text": [
      "Your admission cost is $20.\n"
     ]
    }
   ],
   "source": [
    "age = 65\n",
    "if age < 4:\n",
    "    price = 0\n",
    "elif age < 18:\n",
    "    price = 25\n",
    "elif age < 65:\n",
    "    price = 40\n",
    "elif age >= 65:\n",
    "    price = 20\n",
    "print(f\"Your admission cost is ${price}.\")"
   ]
  },
  {
   "cell_type": "markdown",
   "metadata": {},
   "source": [
    "The final elif block assigns a price of $20 when the person is 65 or\n",
    "older, which is a little clearer than the general else block. With this change,\n",
    "every block of code must pass a specific test in order to be executed.\n",
    "\n",
    "\n",
    "The else block is a catchall statement. It matches any condition that\n",
    "wasn’t matched by a specific if or elif test, and that can sometimes include\n",
    "invalid or even malicious data. If you have a specific final condition you’re\n",
    "testing for, consider using a final elif block and omit the else block. As a\n",
    "result, you’ll be more confident that your code will run only under the cor-\n",
    "rect conditions."
   ]
  },
  {
   "cell_type": "markdown",
   "metadata": {},
   "source": [
    "# Testing Multiple Conditions\n",
    "The if-elif-else chain is powerful, but it’s only appropriate to use when you\n",
    "just need one test to pass. As soon as Python finds one test that passes, it\n",
    "skips the rest of the tests. This behavior is beneficial, because it’s efficient\n",
    "and allows you to test for one specific condition.\n",
    "\n",
    "\n",
    "However, sometimes it’s important to check all conditions of interest. In\n",
    "this case, you should use a series of simple if statements with no elif or else\n",
    "blocks. This technique makes sense when more than one condition could\n",
    "be True, and you want to act on every condition that is True.\n",
    "\n",
    "\n",
    "Let’s reconsider the pizzeria example. If someone requests a two-topping\n",
    "pizza, you’ll need to be sure to include both toppings on their pizza:"
   ]
  },
  {
   "cell_type": "code",
   "execution_count": 47,
   "metadata": {},
   "outputs": [
    {
     "name": "stdout",
     "output_type": "stream",
     "text": [
      "Adding mushrooms.\n"
     ]
    }
   ],
   "source": [
    "requested_toppings = ['mushrooms', 'extra cheese']\n",
    "if 'mushrooms' in requested_toppings:\n",
    "    print(\"Adding mushrooms.\")\n",
    "if 'pepperoni' in requested_toppings:\n",
    "    print(\"Adding pepperoni.\")"
   ]
  },
  {
   "cell_type": "code",
   "execution_count": 48,
   "metadata": {},
   "outputs": [
    {
     "name": "stdout",
     "output_type": "stream",
     "text": [
      "Adding mushrooms.\n",
      "Adding extra cheese.\n",
      "\n",
      "Finished making your pizza!\n"
     ]
    }
   ],
   "source": [
    "requested_toppings = ['mushrooms', 'extra cheese']\n",
    "if 'mushrooms' in requested_toppings:\n",
    "    print(\"Adding mushrooms.\")\n",
    "if 'pepperoni' in requested_toppings:\n",
    "    print(\"Adding pepperoni.\")\n",
    "if 'extra cheese' in requested_toppings:\n",
    "    print(\"Adding extra cheese.\")\n",
    "print(\"\\nFinished making your pizza!\")"
   ]
  },
  {
   "cell_type": "markdown",
   "metadata": {},
   "source": [
    "We start with a list containing the requested toppings. The first if\n",
    "statement checks to see whether the person requested mushrooms on their\n",
    "pizza. If so, a message is printed confirming that topping. The test for pep-\n",
    "peroni is another simple if statement, not an elif or else statement, so\n",
    "this test is run regardless of whether the previous test passed or not. The\n",
    "last if statement checks whether extra cheese was requested, regardless of\n",
    "the results from the first two tests. These three independent tests are exe-\n",
    "cuted every time this program is run.\n",
    "\n",
    "\n",
    "Because every condition in this example is evaluated, both mushrooms\n",
    "and extra cheese are added to the pizza:\n",
    "\n",
    "Adding mushrooms.\n",
    "\n",
    "Adding extra cheese.\n",
    "\n",
    "Finished making your pizza!"
   ]
  },
  {
   "cell_type": "markdown",
   "metadata": {},
   "source": [
    "This code would not work properly if we used an if-elif-else block,\n",
    "because the code would stop running after only one test passes. \n",
    "\n",
    "Here’s\n",
    "what that would look like:"
   ]
  },
  {
   "cell_type": "code",
   "execution_count": 49,
   "metadata": {},
   "outputs": [
    {
     "name": "stdout",
     "output_type": "stream",
     "text": [
      "Adding mushrooms.\n",
      "\n",
      "Finished making your pizza!\n"
     ]
    }
   ],
   "source": [
    "requested_toppings = ['mushrooms', 'extra cheese']\n",
    "if 'mushrooms' in requested_toppings:\n",
    "    print(\"Adding mushrooms.\")\n",
    "elif 'pepperoni' in requested_toppings:\n",
    "    print(\"Adding pepperoni.\")\n",
    "elif 'extra cheese' in requested_toppings:\n",
    "    print(\"Adding extra cheese.\")\n",
    "print(\"\\nFinished making your pizza!\")"
   ]
  },
  {
   "cell_type": "markdown",
   "metadata": {},
   "source": [
    "The test for 'mushrooms' is the first test to pass, so mushrooms are added\n",
    "to the pizza. However, the values 'extra cheese' and 'pepperoni' are never\n",
    "checked, because Python doesn’t run any tests beyond the first test that\n",
    "passes in an if-elif-else chain. The customer’s first topping will be added,\n",
    "but all of their other toppings will be missed:\n",
    "\n",
    "Adding mushrooms.\n",
    "\n",
    "Finished making your pizza!\n",
    "\n",
    "# Important Note:\n",
    "In summary, if you want only one block of code to run, use an if-elif-else\n",
    "chain. If more than one block of code needs to run, use a series of independent if statements."
   ]
  },
  {
   "cell_type": "markdown",
   "metadata": {},
   "source": [
    "# Using if Statements with Lists\n",
    "You can do some interesting work when you combine lists and if statements.\n",
    "You can watch for special values that need to be treated differently than\n",
    "other values in the list. You can efficiently manage changing conditions,\n",
    "such as the availability of certain items in a restaurant throughout a shift.\n",
    "You can also begin to prove that your code works as you expect it to in all\n",
    "possible situations."
   ]
  },
  {
   "cell_type": "markdown",
   "metadata": {},
   "source": [
    "# Checking for Special Items\n",
    "This chapter began with a simple example that showed how to handle a spe-\n",
    "cial value like 'bmw', which needed to be printed in a different format than\n",
    "other values in the list. Now that you have a basic understanding of condi-\n",
    "tional tests and if statements, let’s take a closer look at how you can watch\n",
    "for special values in a list and handle those values appropriately.\n",
    "\n",
    "\n",
    "Let’s continue with the pizzeria example. The pizzeria displays a mes-\n",
    "sage whenever a topping is added to your pizza, as it’s being made. \n",
    "\n",
    "The code\n",
    "for this action can be written very efficiently by making a list of toppings the\n",
    "customer has requested and using a loop to announce each topping as it’s\n",
    "added to the pizza:"
   ]
  },
  {
   "cell_type": "code",
   "execution_count": 50,
   "metadata": {},
   "outputs": [
    {
     "name": "stdout",
     "output_type": "stream",
     "text": [
      "Adding mushrooms.\n",
      "Adding green peppers.\n",
      "Adding extra cheese.\n",
      "\n",
      "Finished making your pizza!\n"
     ]
    }
   ],
   "source": [
    "requested_toppings = ['mushrooms', 'green peppers', 'extra cheese']\n",
    "for requested_topping in requested_toppings:\n",
    "    print(f\"Adding {requested_topping}.\")\n",
    "print(\"\\nFinished making your pizza!\")  "
   ]
  },
  {
   "cell_type": "markdown",
   "metadata": {},
   "source": [
    "The output is straightforward because this code is just a simple for loop:\n",
    "\n",
    "Adding mushrooms.\n",
    "\n",
    "Adding green peppers.\n",
    "\n",
    "Adding extra cheese.\n",
    "\n",
    "Finished making your pizza!"
   ]
  },
  {
   "cell_type": "markdown",
   "metadata": {},
   "source": [
    "But what if the pizzeria runs out of green peppers? An if statement\n",
    "inside the for loop can handle this situation appropriately:"
   ]
  },
  {
   "cell_type": "code",
   "execution_count": 51,
   "metadata": {},
   "outputs": [
    {
     "name": "stdout",
     "output_type": "stream",
     "text": [
      "Adding mushrooms.\n",
      "Sorry, we are out of green peppers right now.\n",
      "Adding extra cheese.\n",
      "\n",
      "Finished making your pizza!\n"
     ]
    }
   ],
   "source": [
    "requested_toppings = ['mushrooms', 'green peppers', 'extra cheese']\n",
    "for requested_topping in requested_toppings:\n",
    "        if requested_topping == 'green peppers':\n",
    "            print(\"Sorry, we are out of green peppers right now.\")\n",
    "        else:\n",
    "            print(f\"Adding {requested_topping}.\")\n",
    "print(\"\\nFinished making your pizza!\")"
   ]
  },
  {
   "cell_type": "markdown",
   "metadata": {},
   "source": [
    "This time, we check each requested item before adding it to the pizza.\n",
    "The if statement checks to see if the person requested green peppers. If so,\n",
    "we display a message informing them why they can’t have green peppers.\n",
    "The else block ensures that all other toppings will be added to the pizza.\n",
    "\n",
    "The output shows that each requested topping is handled appropriately.\n",
    "\n",
    "Adding mushrooms.\n",
    "\n",
    "Sorry, we are out of green peppers right now.\n",
    "\n",
    "Adding extra cheese.\n",
    "\n",
    "Finished making your pizza!"
   ]
  },
  {
   "cell_type": "markdown",
   "metadata": {},
   "source": [
    "# vChecking That a List Is Not Empty\n",
    "We’ve made a simple assumption about every list we’ve worked with so far:\n",
    "we’ve assumed that each list has at least one item in it. Soon we’ll let users\n",
    "provide the information that’s stored in a list, so we won’t be able to assume\n",
    "that a list has any items in it each time a loop is run. In this situation, it’s\n",
    "useful to check whether a list is empty before running a for loop.\n",
    "\n",
    "As an example, let’s check whether the list of requested toppings is\n",
    "empty before building the pizza. If the list is empty, we’ll prompt the user\n",
    "and make sure they want a plain pizza. If the list is not empty, we’ll build\n",
    "the pizza just as we did in the previous examples:"
   ]
  },
  {
   "cell_type": "code",
   "execution_count": 52,
   "metadata": {},
   "outputs": [
    {
     "name": "stdout",
     "output_type": "stream",
     "text": [
      "Are you sure you want a plain pizza?\n"
     ]
    }
   ],
   "source": [
    "requested_toppings = []\n",
    "if requested_toppings:\n",
    "    for requested_topping in requested_toppings:\n",
    "        print(f\"Adding {requested_topping}.\")\n",
    "    print(\"\\nFinished making your pizza!\")\n",
    "else:\n",
    "    print(\"Are you sure you want a plain pizza?\")"
   ]
  },
  {
   "cell_type": "markdown",
   "metadata": {},
   "source": [
    "This time we start out with an empty list of requested toppings. Instead\n",
    "of jumping right into a for loop, we do a quick check first. When the name\n",
    "of a list is used in an if statement, Python returns True if the list contains at\n",
    "least one item; an empty list evaluates to False. If requested_toppings passes\n",
    "the conditional test, we run the same for loop we used in the previous example. If the conditional test fails, we print a message asking the cus-\n",
    "tomer if they really want a plain pizza with no toppings.\n",
    "\n",
    "The list is empty in this case, so the output asks if the user really wants\n",
    "a plain pizza:\n",
    "\n",
    "Are you sure you want a plain pizza?\n",
    "\n",
    "If the list is not empty, the output will show each requested topping\n",
    "being added to the pizza."
   ]
  },
  {
   "cell_type": "markdown",
   "metadata": {},
   "source": [
    "# Using Multiple Lists\n",
    "People will ask for just about anything, especially when it comes to pizza\n",
    "toppings. What if a customer actually wants french fries on their pizza? You\n",
    "can use lists and if statements to make sure your input makes sense before\n",
    "you act on it.\n",
    "\n",
    "Let’s watch out for unusual topping requests before we build a pizza.\n",
    "The following example defines two lists. The first is a list of available top-\n",
    "pings at the pizzeria, and the second is the list of toppings that the user has\n",
    "requested. This time, each item in requested_toppings is checked against the\n",
    "list of available toppings before it’s added to the pizza:"
   ]
  },
  {
   "cell_type": "code",
   "execution_count": 53,
   "metadata": {},
   "outputs": [
    {
     "name": "stdout",
     "output_type": "stream",
     "text": [
      "Adding mushrooms.\n",
      "Sorry, we don't have french fries.\n",
      "Adding extra cheese.\n",
      "\n",
      "Finished making your pizza!\n"
     ]
    }
   ],
   "source": [
    "available_toppings = ['mushrooms', 'olives', 'green peppers',\n",
    "'pepperoni', 'pineapple', 'extra cheese']\n",
    "requested_toppings = ['mushrooms', 'french fries', 'extra cheese']\n",
    "for requested_topping in requested_toppings:\n",
    "    if requested_topping in available_toppings:\n",
    "        print(f\"Adding {requested_topping}.\")\n",
    "    else:\n",
    "        print(f\"Sorry, we don't have {requested_topping}.\")\n",
    "print(\"\\nFinished making your pizza!\")"
   ]
  },
  {
   "cell_type": "markdown",
   "metadata": {},
   "source": [
    "First, we define a list of available toppings at this pizzeria. Note that this\n",
    "could be a tuple if the pizzeria has a stable selection of toppings. Then, we\n",
    "make a list of toppings that a customer has requested. There’s an unusual\n",
    "request for a topping in this example: 'french fries' . Next we loop\n",
    "through the list of requested toppings. Inside the loop, we check to see if\n",
    "each requested topping is actually in the list of available toppings . If it is,\n",
    "we add that topping to the pizza. If the requested topping is not in the list\n",
    "of available toppings, the else block will run . The else block prints a mes-\n",
    "sage telling the user which toppings are unavailable.\n",
    "\n",
    "This code syntax produces clean, informative output:\n",
    "\n",
    "Adding mushrooms.\n",
    "\n",
    "Sorry, we don't have french fries.\n",
    "\n",
    "Adding extra cheese.\n",
    "\n",
    "Finished making your pizza!"
   ]
  },
  {
   "cell_type": "markdown",
   "metadata": {},
   "source": [
    "In just a few lines of code, we’ve managed a real-world situation pretty\n",
    "effectively!"
   ]
  },
  {
   "cell_type": "markdown",
   "metadata": {},
   "source": [
    "# Styling Your if Statements\n",
    "In every example in this chapter, you’ve seen good styling habits. The only\n",
    "recommendation PEP 8 provides for styling conditional tests is to use a single\n",
    "space around comparison operators, such as ==\n",
    ", >=, and <=. For example:\n",
    "\n",
    "if age < 4:\n",
    "\n",
    "is better than:\n",
    "\n",
    "if age<4:\n",
    "\n",
    "Such spacing does not affect the way Python interprets your code; it just\n",
    "makes your code easier for you and others to read."
   ]
  }
 ],
 "metadata": {
  "kernelspec": {
   "display_name": "Python 3",
   "language": "python",
   "name": "python3"
  },
  "language_info": {
   "codemirror_mode": {
    "name": "ipython",
    "version": 3
   },
   "file_extension": ".py",
   "mimetype": "text/x-python",
   "name": "python",
   "nbconvert_exporter": "python",
   "pygments_lexer": "ipython3",
   "version": "3.12.5"
  }
 },
 "nbformat": 4,
 "nbformat_minor": 2
}
