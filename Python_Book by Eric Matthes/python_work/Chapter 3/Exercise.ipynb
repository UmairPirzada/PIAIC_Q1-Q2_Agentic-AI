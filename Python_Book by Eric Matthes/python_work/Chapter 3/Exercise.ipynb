{
 "cells": [
  {
   "cell_type": "markdown",
   "metadata": {},
   "source": [
    "# 3-1. Names: \n",
    "Store the names of a few of your friends in a list called names. Print\n",
    "each person’s name by accessing each element in the list, one at a time."
   ]
  },
  {
   "cell_type": "code",
   "execution_count": 1,
   "metadata": {},
   "outputs": [
    {
     "name": "stdout",
     "output_type": "stream",
     "text": [
      "Alice\n",
      "Bob\n",
      "Charlie\n",
      "Diana\n"
     ]
    }
   ],
   "source": [
    "names = [\"Alice\", \"Bob\", \"Charlie\", \"Diana\"]\n",
    "print(names[0])  # Prints the first name\n",
    "print(names[1])  # Prints the second name\n",
    "print(names[2])  # Prints the third name\n",
    "print(names[3])  # Prints the fourth name"
   ]
  },
  {
   "cell_type": "code",
   "execution_count": 2,
   "metadata": {},
   "outputs": [
    {
     "name": "stdout",
     "output_type": "stream",
     "text": [
      "My friends names are: ['Umair', 'Ali', 'Fahad', 'Faizan']\n"
     ]
    }
   ],
   "source": [
    "names = [\"Umair\", \"Ali\" , \"Fahad\", \"Faizan\"]\n",
    "print(f\"My friends names are: {names}\")"
   ]
  },
  {
   "cell_type": "code",
   "execution_count": 3,
   "metadata": {},
   "outputs": [
    {
     "name": "stdout",
     "output_type": "stream",
     "text": [
      "My friend name is: Umair\n"
     ]
    }
   ],
   "source": [
    "print(f\"My friend name is: {names[0]}\")"
   ]
  },
  {
   "cell_type": "code",
   "execution_count": 4,
   "metadata": {},
   "outputs": [
    {
     "name": "stdout",
     "output_type": "stream",
     "text": [
      "My friend name is: Ali\n"
     ]
    }
   ],
   "source": [
    "print(f\"My friend name is: {names[1]}\")"
   ]
  },
  {
   "cell_type": "code",
   "execution_count": 5,
   "metadata": {},
   "outputs": [
    {
     "name": "stdout",
     "output_type": "stream",
     "text": [
      "My friend name is: Fahad\n"
     ]
    }
   ],
   "source": [
    "print(f\"My friend name is: {names[2]}\")"
   ]
  },
  {
   "cell_type": "code",
   "execution_count": 6,
   "metadata": {},
   "outputs": [
    {
     "name": "stdout",
     "output_type": "stream",
     "text": [
      "My friend name is: Faizan\n"
     ]
    }
   ],
   "source": [
    "print(f\"My friend name is: {names[3]}\")"
   ]
  },
  {
   "cell_type": "markdown",
   "metadata": {},
   "source": [
    "# 3-2. Greetings:\n",
    "\n",
    " Start with the list you used in Exercise 3-1, but instead of just\n",
    "printing each person’s name, print a message to them. The text of each mes-\n",
    "sage should be the same, but each message should be personalized with the\n",
    "person’s name."
   ]
  },
  {
   "cell_type": "code",
   "execution_count": 7,
   "metadata": {},
   "outputs": [
    {
     "name": "stdout",
     "output_type": "stream",
     "text": [
      "Hello, Alice! Hope you're having a great day!\n",
      "Hello, Bob! Hope you're having a great day!\n",
      "Hello, Charlie! Hope you're having a great day!\n",
      "Hello, Diana! Hope you're having a great day!\n"
     ]
    }
   ],
   "source": [
    "names = [\"Alice\", \"Bob\", \"Charlie\", \"Diana\"]\n",
    "for name in names:\n",
    "    print(f\"Hello, {name}! Hope you're having a great day!\")\n"
   ]
  },
  {
   "cell_type": "markdown",
   "metadata": {},
   "source": [
    "# 3-3. Your Own List:\n",
    " Think of your favorite mode of transportation, such as a\n",
    "motorcycle or a car, and make a list that stores several examples. Use your list\n",
    "to print a series of statements about these items, such as “I would like to own a\n",
    "Honda motorcycle.”"
   ]
  },
  {
   "cell_type": "code",
   "execution_count": 8,
   "metadata": {},
   "outputs": [
    {
     "name": "stdout",
     "output_type": "stream",
     "text": [
      "I would like to own a Toyota Camry.\n",
      "I would like to own a Honda Accord.\n",
      "I would like to own a Ford Mustang.\n",
      "I would like to own a BMW 3 Series.\n"
     ]
    }
   ],
   "source": [
    "cars = [\"Toyota Camry\", \"Honda Accord\", \"Ford Mustang\", \"BMW 3 Series\"]\n",
    "for car in cars:\n",
    "    print(f\"I would like to own a {car}.\")\n"
   ]
  },
  {
   "cell_type": "markdown",
   "metadata": {},
   "source": [
    "#  Printing different statements about each car"
   ]
  },
  {
   "cell_type": "code",
   "execution_count": 9,
   "metadata": {},
   "outputs": [
    {
     "name": "stdout",
     "output_type": "stream",
     "text": [
      "The Toyota Camry is known for its reliability and comfort.\n",
      "The Honda Accord offers excellent fuel efficiency and a smooth ride.\n",
      "The Ford Mustang is a classic American muscle car with impressive performance.\n",
      "The BMW 3 Series combines luxury with sporty handling.\n"
     ]
    }
   ],
   "source": [
    "cars = [\"Toyota Camry\", \"Honda Accord\", \"Ford Mustang\", \"BMW 3 Series\"]\n",
    "for car in cars:\n",
    "    if car == \"Toyota Camry\":\n",
    "        print(f\"The Toyota Camry is known for its reliability and comfort.\")\n",
    "    elif car == \"Honda Accord\":\n",
    "        print(f\"The Honda Accord offers excellent fuel efficiency and a smooth ride.\")\n",
    "    elif car == \"Ford Mustang\":\n",
    "        print(f\"The Ford Mustang is a classic American muscle car with impressive performance.\")\n",
    "    elif car == \"BMW 3 Series\":\n",
    "        print(f\"The BMW 3 Series combines luxury with sporty handling.\")\n",
    "    else:\n",
    "        print(f\"I have a great appreciation for the {car}.\")\n"
   ]
  },
  {
   "cell_type": "markdown",
   "metadata": {},
   "source": [
    "# 3-4. Guest List: \n",
    "If you could invite anyone, living or deceased, to dinner, who\n",
    "would you invite? Make a list that includes at least three people you’d like to\n",
    "invite to dinner. Then use your list to print a message to each person, inviting\n",
    "them to dinner."
   ]
  },
  {
   "cell_type": "code",
   "execution_count": 10,
   "metadata": {},
   "outputs": [
    {
     "name": "stdout",
     "output_type": "stream",
     "text": [
      "Dear Jon, I would be honored to have you as a guest at my dinner party.\n",
      "Dear Arya, I would be honored to have you as a guest at my dinner party.\n",
      "Dear Robb, I would be honored to have you as a guest at my dinner party.\n",
      "Dear Sansa, I would be honored to have you as a guest at my dinner party.\n"
     ]
    }
   ],
   "source": [
    "guests = [\"Jon\", \"Arya\", \"Robb\", \"Sansa\"]\n",
    "for guest in guests:\n",
    "    print(f\"Dear {guest}, I would be honored to have you as a guest at my dinner party.\")\n"
   ]
  },
  {
   "cell_type": "markdown",
   "metadata": {},
   "source": [
    "# 3-5. Changing Guest List:\n",
    "\n",
    " You just heard that one of your guests can’t make the\n",
    "dinner, so you need to send out a new set of invitations. You’ll have to think of\n",
    "someone else to invite.\n",
    "\n",
    "• Start with your program from Exercise 3-4. Add a print() call at the end of\n",
    "your program, stating the name of the guest who can’t make it.\n",
    "\n",
    "• Modify your list, replacing the name of the guest who can’t make it with the\n",
    "name of the new person you are inviting.\n",
    "\n",
    "• Print a second set of invitation messages, one for each person who is still in\n",
    "your list."
   ]
  },
  {
   "cell_type": "code",
   "execution_count": 11,
   "metadata": {},
   "outputs": [
    {
     "name": "stdout",
     "output_type": "stream",
     "text": [
      "Dear Jon, I would be honored to have you as a guest at my dinner party.\n",
      "Dear Arya, I would be honored to have you as a guest at my dinner party.\n",
      "Dear Robb, I would be honored to have you as a guest at my dinner party.\n",
      "Dear Sansa, I would be honored to have you as a guest at my dinner party.\n",
      "\n",
      "Unfortunately, Arya can't make it to the dinner.\n",
      "\n",
      "Dear Jon, I would be honored to have you as a guest at my dinner party.\n",
      "Dear Ned, I would be honored to have you as a guest at my dinner party.\n",
      "Dear Robb, I would be honored to have you as a guest at my dinner party.\n",
      "Dear Sansa, I would be honored to have you as a guest at my dinner party.\n"
     ]
    }
   ],
   "source": [
    "guests = [\"Jon\", \"Arya\", \"Robb\", \"Sansa\"]\n",
    "for guest in guests:\n",
    "    print(f\"Dear {guest}, I would be honored to have you as a guest at my dinner party.\")\n",
    "\n",
    "print(\"\\nUnfortunately, Arya can't make it to the dinner.\\n\")\n",
    "guests[1] = \"Ned\"\n",
    "for guest in guests:\n",
    "    print(f\"Dear {guest}, I would be honored to have you as a guest at my dinner party.\")"
   ]
  },
  {
   "cell_type": "markdown",
   "metadata": {},
   "source": [
    "# 3-6. More Guests: \n",
    "You just found a bigger dinner table, so now more space is\n",
    "available. Think of three more guests to invite to dinner.\n",
    "\n",
    "• Start with your program from Exercise 3-4 or 3-5. Add a print() call to the\n",
    "end of your program, informing people that you found a bigger table.\n",
    "\n",
    "• Use insert() to add one new guest to the beginning of your list.\n",
    "\n",
    "• Use insert() to add one new guest to the middle of your list.\n",
    "\n",
    "• Use append() to add one new guest to the end of your list.\n",
    "\n",
    "• Print a new set of invitation messages, one for each person in your list."
   ]
  },
  {
   "cell_type": "code",
   "execution_count": 12,
   "metadata": {},
   "outputs": [
    {
     "name": "stdout",
     "output_type": "stream",
     "text": [
      "Dear Jon, I would be honored to have you as a guest at my dinner party.\n",
      "Dear Arya, I would be honored to have you as a guest at my dinner party.\n",
      "Dear Robb, I would be honored to have you as a guest at my dinner party.\n",
      "Dear Sansa, I would be honored to have you as a guest at my dinner party.\n",
      "\n",
      "Great news! I found a bigger dinner table, so I can invite more guests!\n",
      "\n",
      "Dear Tyrion, I would be honored to have you as a guest at my dinner party.\n",
      "Dear Jon, I would be honored to have you as a guest at my dinner party.\n",
      "Dear Joffery, I would be honored to have you as a guest at my dinner party.\n",
      "Dear Arya, I would be honored to have you as a guest at my dinner party.\n",
      "Dear Robb, I would be honored to have you as a guest at my dinner party.\n",
      "Dear Sansa, I would be honored to have you as a guest at my dinner party.\n",
      "Dear Bran, I would be honored to have you as a guest at my dinner party.\n"
     ]
    }
   ],
   "source": [
    "guests = [\"Jon\", \"Arya\", \"Robb\", \"Sansa\"]\n",
    "for guest in guests:\n",
    "    print(f\"Dear {guest}, I would be honored to have you as a guest at my dinner party.\")\n",
    "\n",
    "print(\"\\nGreat news! I found a bigger dinner table, so I can invite more guests!\\n\")\n",
    "guests.insert(0, \"Tyrion\")\n",
    "guests.insert(2, \"Joffery\")\n",
    "guests.append(\"Bran\")\n",
    "for guest in guests:\n",
    "    print(f\"Dear {guest}, I would be honored to have you as a guest at my dinner party.\")"
   ]
  },
  {
   "cell_type": "markdown",
   "metadata": {},
   "source": [
    "# 3-7. Shrinking Guest List: \n",
    "You just found out that your new dinner table won’t\n",
    "arrive in time for the dinner, and now you have space for only two guests.\n",
    "\n",
    "• Start with your program from Exercise 3-6. Add a new line that prints a\n",
    "message saying that you can invite only two people for dinner.\n",
    "\n",
    "• Use pop() to remove guests from your list one at a time until only two\n",
    "names remain in your list. Each time you pop a name from your list, print a\n",
    "message to that person letting them know you’re sorry you can’t invite them\n",
    "to dinner.\n",
    "\n",
    "• Print a message to each of the two people still on your list, letting them\n",
    "know they’re still invited.\n",
    "\n",
    "• Use del to remove the last two names from your list, so you have an empty\n",
    "list. Print your list to make sure you actually have an empty list at the end of\n",
    "your program."
   ]
  },
  {
   "cell_type": "code",
   "execution_count": 13,
   "metadata": {},
   "outputs": [
    {
     "name": "stdout",
     "output_type": "stream",
     "text": [
      "Unfortunately, the new dinner table won't arrive in time. I can only invite two people for dinner.\n",
      "\n",
      "Sorry Bran, I can't invite you to dinner.\n",
      "Sorry Sansa, I can't invite you to dinner.\n",
      "Sorry Robb, I can't invite you to dinner.\n",
      "Sorry Arya, I can't invite you to dinner.\n",
      "Sorry Joffery, I can't invite you to dinner.\n",
      "\n",
      "\n",
      "Dear Tyrion, you're still invited to the dinner party!\n",
      "Dear Jon, you're still invited to the dinner party!\n",
      "\n",
      "Final guest list: []\n"
     ]
    }
   ],
   "source": [
    "print(\"Unfortunately, the new dinner table won't arrive in time. I can only invite two people for dinner.\\n\")\n",
    "while len(guests) > 2:\n",
    "    removed_guest = guests.pop()\n",
    "    print(f\"Sorry {removed_guest}, I can't invite you to dinner.\")\n",
    "\n",
    "print(\"\\n\")\n",
    "for guest in guests:\n",
    "    print(f\"Dear {guest}, you're still invited to the dinner party!\")\n",
    "del guests[0]\n",
    "del guests[0]\n",
    "print(\"\\nFinal guest list:\", guests)"
   ]
  },
  {
   "cell_type": "markdown",
   "metadata": {},
   "source": [
    "# 3-8. Seeing the World: \n",
    "\n",
    "Think of at least five places in the world you’d like\n",
    "to visit.\n",
    "\n",
    "• Store the locations in a list. Make sure the list is not in alphabetical order.\n",
    "\n",
    "• Print your list in its original order. Don’t worry about printing the list neatly;\n",
    "just print it as a raw Python list.\n",
    "\n",
    "• Use sorted() to print your list in alphabetical order without modifying the\n",
    "actual list.\n",
    "\n",
    "• Show that your list is still in its original order by printing it.\n",
    "\n",
    "• Use sorted() to print your list in reverse-alphabetical order without chang-\n",
    "ing the order of the original list.\n",
    "\n",
    "• Show that your list is still in its original order by printing it again.\n",
    "\n",
    "• Use reverse() to change the order of your list. Print the list to show that its\n",
    "order has changed.\n",
    "\n",
    "• Use reverse() to change the order of your list again. Print the list to show\n",
    "it’s back to its original order.\n",
    "\n",
    "• Use sort() to change your list so it’s stored in alphabetical order. Print the\n",
    "list to show that its order has been changed.\n",
    "\n",
    "• Use sort() to change your list so it’s stored in reverse-alphabetical order.\n",
    "Print the list to show that its order has changed."
   ]
  },
  {
   "cell_type": "code",
   "execution_count": 14,
   "metadata": {},
   "outputs": [
    {
     "name": "stdout",
     "output_type": "stream",
     "text": [
      "['Tokyo', 'Paris', 'New York', 'Sydney', 'Istanbul']\n"
     ]
    }
   ],
   "source": [
    "# List of places I want to visit (not in alphabetical order)\n",
    "places = [\"Tokyo\", \"Paris\", \"New York\", \"Sydney\", \"Istanbul\"]\n",
    "print(places)"
   ]
  },
  {
   "cell_type": "code",
   "execution_count": 15,
   "metadata": {},
   "outputs": [
    {
     "name": "stdout",
     "output_type": "stream",
     "text": [
      "\n",
      "List in alphabetical order (using sorted()):\n",
      "['Istanbul', 'New York', 'Paris', 'Sydney', 'Tokyo']\n"
     ]
    }
   ],
   "source": [
    "# Printing the list in alphabetical order without modifying the original list\n",
    "print(\"\\nList in alphabetical order (using sorted()):\")\n",
    "print(sorted(places))"
   ]
  },
  {
   "cell_type": "code",
   "execution_count": 16,
   "metadata": {},
   "outputs": [
    {
     "name": "stdout",
     "output_type": "stream",
     "text": [
      "\n",
      "List after using sorted(), showing it's still in original order:\n",
      "['Tokyo', 'Paris', 'New York', 'Sydney', 'Istanbul']\n"
     ]
    }
   ],
   "source": [
    "# Showing that the list is still in its original order\n",
    "print(\"\\nList after using sorted(), showing it's still in original order:\")\n",
    "print(places)"
   ]
  },
  {
   "cell_type": "code",
   "execution_count": 17,
   "metadata": {},
   "outputs": [
    {
     "name": "stdout",
     "output_type": "stream",
     "text": [
      "\n",
      "List in reverse-alphabetical order (using sorted() with reverse=True):\n",
      "['Tokyo', 'Sydney', 'Paris', 'New York', 'Istanbul']\n"
     ]
    }
   ],
   "source": [
    "# Printing the list in reverse-alphabetical order without modifying the original list\n",
    "print(\"\\nList in reverse-alphabetical order (using sorted() with reverse=True):\")\n",
    "print(sorted(places, reverse=True))"
   ]
  },
  {
   "cell_type": "code",
   "execution_count": 18,
   "metadata": {},
   "outputs": [
    {
     "name": "stdout",
     "output_type": "stream",
     "text": [
      "\n",
      "List after using sorted(reverse=True), showing it's still in original order:\n",
      "['Tokyo', 'Paris', 'New York', 'Sydney', 'Istanbul']\n"
     ]
    }
   ],
   "source": [
    "# Showing that the list is still in its original order\n",
    "print(\"\\nList after using sorted(reverse=True), showing it's still in original order:\")\n",
    "print(places)"
   ]
  },
  {
   "cell_type": "code",
   "execution_count": 19,
   "metadata": {},
   "outputs": [
    {
     "name": "stdout",
     "output_type": "stream",
     "text": [
      "\n",
      "List after using reverse():\n",
      "['Istanbul', 'Sydney', 'New York', 'Paris', 'Tokyo']\n"
     ]
    }
   ],
   "source": [
    "# Using reverse() to change the order of the list and printing it\n",
    "places.reverse()\n",
    "print(\"\\nList after using reverse():\")\n",
    "print(places)"
   ]
  },
  {
   "cell_type": "code",
   "execution_count": 20,
   "metadata": {},
   "outputs": [
    {
     "name": "stdout",
     "output_type": "stream",
     "text": [
      "\n",
      "List after using reverse() again to return to the original order:\n",
      "['Tokyo', 'Paris', 'New York', 'Sydney', 'Istanbul']\n"
     ]
    }
   ],
   "source": [
    "# Using reverse() again to change the list back to its original order and printing it\n",
    "places.reverse()\n",
    "print(\"\\nList after using reverse() again to return to the original order:\")\n",
    "print(places)"
   ]
  },
  {
   "cell_type": "code",
   "execution_count": 21,
   "metadata": {},
   "outputs": [
    {
     "name": "stdout",
     "output_type": "stream",
     "text": [
      "\n",
      "List after using sort() to store in alphabetical order:\n",
      "['Istanbul', 'New York', 'Paris', 'Sydney', 'Tokyo']\n"
     ]
    }
   ],
   "source": [
    "# Using sort() to change the list to alphabetical order and printing it\n",
    "places.sort()\n",
    "print(\"\\nList after using sort() to store in alphabetical order:\")\n",
    "print(places)"
   ]
  },
  {
   "cell_type": "code",
   "execution_count": 22,
   "metadata": {},
   "outputs": [
    {
     "name": "stdout",
     "output_type": "stream",
     "text": [
      "\n",
      "List after using sort(reverse=True) to store in reverse-alphabetical order:\n",
      "['Tokyo', 'Sydney', 'Paris', 'New York', 'Istanbul']\n"
     ]
    }
   ],
   "source": [
    "# Using sort() to change the list to reverse-alphabetical order and printing it\n",
    "places.sort(reverse=True)\n",
    "print(\"\\nList after using sort(reverse=True) to store in reverse-alphabetical order:\")\n",
    "print(places)"
   ]
  },
  {
   "cell_type": "markdown",
   "metadata": {},
   "source": [
    "# 3-9. Dinner Guests: \n",
    "Working with one of the programs from Exercises 3-4\n",
    "through 3-7 (pages 41–42), use len() to print a message indicating the number\n",
    "of people you’re inviting to dinner."
   ]
  },
  {
   "cell_type": "code",
   "execution_count": 23,
   "metadata": {},
   "outputs": [
    {
     "name": "stdout",
     "output_type": "stream",
     "text": [
      "Dear Jon, I would be honored to have you as a guest at my dinner party.\n",
      "Dear Arya, I would be honored to have you as a guest at my dinner party.\n",
      "Dear Robb, I would be honored to have you as a guest at my dinner party.\n",
      "Dear Sansa, I would be honored to have you as a guest at my dinner party.\n",
      "4\n"
     ]
    }
   ],
   "source": [
    "guests = [\"Jon\", \"Arya\", \"Robb\", \"Sansa\"]\n",
    "for guest in guests:\n",
    "    print(f\"Dear {guest}, I would be honored to have you as a guest at my dinner party.\")\n",
    "\n",
    "print(len(guests))"
   ]
  },
  {
   "cell_type": "code",
   "execution_count": 24,
   "metadata": {},
   "outputs": [
    {
     "name": "stdout",
     "output_type": "stream",
     "text": [
      "Dear Jon, I would be honored to have you as a guest at my dinner party.\n",
      "Dear Arya, I would be honored to have you as a guest at my dinner party.\n",
      "Dear Robb, I would be honored to have you as a guest at my dinner party.\n",
      "Dear Sansa, I would be honored to have you as a guest at my dinner party.\n",
      "\n",
      "Unfortunately, Arya can't make it to the dinner.\n",
      "\n",
      "Dear Jon, I would be honored to have you as a guest at my dinner party.\n",
      "Dear Ned, I would be honored to have you as a guest at my dinner party.\n",
      "Dear Robb, I would be honored to have you as a guest at my dinner party.\n",
      "Dear Sansa, I would be honored to have you as a guest at my dinner party.\n",
      "4\n"
     ]
    }
   ],
   "source": [
    "guests = [\"Jon\", \"Arya\", \"Robb\", \"Sansa\"]\n",
    "for guest in guests:\n",
    "    print(f\"Dear {guest}, I would be honored to have you as a guest at my dinner party.\")\n",
    "\n",
    "print(\"\\nUnfortunately, Arya can't make it to the dinner.\\n\")\n",
    "guests[1] = \"Ned\"\n",
    "for guest in guests:\n",
    "    print(f\"Dear {guest}, I would be honored to have you as a guest at my dinner party.\")\n",
    "print(len(guests))"
   ]
  },
  {
   "cell_type": "code",
   "execution_count": 25,
   "metadata": {},
   "outputs": [
    {
     "name": "stdout",
     "output_type": "stream",
     "text": [
      "Dear Jon, I would be honored to have you as a guest at my dinner party.\n",
      "Dear Arya, I would be honored to have you as a guest at my dinner party.\n",
      "Dear Robb, I would be honored to have you as a guest at my dinner party.\n",
      "Dear Sansa, I would be honored to have you as a guest at my dinner party.\n",
      "\n",
      "Great news! I found a bigger dinner table, so I can invite more guests!\n",
      "\n",
      "Dear Tyrion, I would be honored to have you as a guest at my dinner party.\n",
      "Dear Jon, I would be honored to have you as a guest at my dinner party.\n",
      "Dear Joffery, I would be honored to have you as a guest at my dinner party.\n",
      "Dear Arya, I would be honored to have you as a guest at my dinner party.\n",
      "Dear Robb, I would be honored to have you as a guest at my dinner party.\n",
      "Dear Sansa, I would be honored to have you as a guest at my dinner party.\n",
      "Dear Bran, I would be honored to have you as a guest at my dinner party.\n",
      "7\n"
     ]
    }
   ],
   "source": [
    "guests = [\"Jon\", \"Arya\", \"Robb\", \"Sansa\"]\n",
    "for guest in guests:\n",
    "    print(f\"Dear {guest}, I would be honored to have you as a guest at my dinner party.\")\n",
    "\n",
    "print(\"\\nGreat news! I found a bigger dinner table, so I can invite more guests!\\n\")\n",
    "guests.insert(0, \"Tyrion\")\n",
    "guests.insert(2, \"Joffery\")\n",
    "guests.append(\"Bran\")\n",
    "for guest in guests:\n",
    "    print(f\"Dear {guest}, I would be honored to have you as a guest at my dinner party.\")\n",
    "print(len(guests))"
   ]
  },
  {
   "cell_type": "code",
   "execution_count": 26,
   "metadata": {},
   "outputs": [
    {
     "name": "stdout",
     "output_type": "stream",
     "text": [
      "Unfortunately, the new dinner table won't arrive in time. I can only invite two people for dinner.\n",
      "\n",
      "Sorry Bran, I can't invite you to dinner.\n",
      "Sorry Sansa, I can't invite you to dinner.\n",
      "Sorry Robb, I can't invite you to dinner.\n",
      "Sorry Arya, I can't invite you to dinner.\n",
      "Sorry Joffery, I can't invite you to dinner.\n",
      "\n",
      "\n",
      "Dear Tyrion, you're still invited to the dinner party!\n",
      "Dear Jon, you're still invited to the dinner party!\n",
      "\n",
      "Final guest list: []\n",
      "0\n"
     ]
    }
   ],
   "source": [
    "print(\"Unfortunately, the new dinner table won't arrive in time. I can only invite two people for dinner.\\n\")\n",
    "while len(guests) > 2:\n",
    "    removed_guest = guests.pop()\n",
    "    print(f\"Sorry {removed_guest}, I can't invite you to dinner.\")\n",
    "\n",
    "print(\"\\n\")\n",
    "for guest in guests:\n",
    "    print(f\"Dear {guest}, you're still invited to the dinner party!\")\n",
    "del guests[0]\n",
    "del guests[0]\n",
    "print(\"\\nFinal guest list:\", guests)\n",
    "print(len(guests))"
   ]
  },
  {
   "cell_type": "markdown",
   "metadata": {},
   "source": [
    "# 3-10. Every Function: \n",
    "Think of things you could store in a list. For example, you\n",
    "could make a list of mountains, rivers, countries, cities, languages, or anything\n",
    "else you’d like. \n",
    "\n",
    "Write a program that creates a list containing these items and\n",
    "then uses each function introduced in this chapter at least once."
   ]
  },
  {
   "cell_type": "code",
   "execution_count": 27,
   "metadata": {},
   "outputs": [
    {
     "name": "stdout",
     "output_type": "stream",
     "text": [
      "Mountains: ['Everest', 'K2', 'Kilimanjaro', 'Denali', 'Aconcagua', 'Mont Blanc']\n"
     ]
    }
   ],
   "source": [
    "# List of mountains\n",
    "mountains = [\"Everest\", \"K2\", \"Kilimanjaro\", \"Denali\", \"Aconcagua\", \"Mont Blanc\"]\n",
    "print(\"Mountains:\", mountains)"
   ]
  },
  {
   "cell_type": "code",
   "execution_count": 28,
   "metadata": {},
   "outputs": [
    {
     "name": "stdout",
     "output_type": "stream",
     "text": [
      "First mountain: Everest\n",
      "Last mountain: Mont Blanc\n"
     ]
    }
   ],
   "source": [
    "# Access and print individual elements\n",
    "print(f\"First mountain: {mountains[0]}\")\n",
    "print(f\"Last mountain: {mountains[-1]}\")"
   ]
  },
  {
   "cell_type": "code",
   "execution_count": 29,
   "metadata": {},
   "outputs": [
    {
     "name": "stdout",
     "output_type": "stream",
     "text": [
      "Mountains after appending 'Fuji': ['Everest', 'K2', 'Kilimanjaro', 'Denali', 'Aconcagua', 'Mont Blanc', 'Fuji']\n"
     ]
    }
   ],
   "source": [
    "# Append a new mountain\n",
    "mountains.append(\"Fuji\")\n",
    "print(\"Mountains after appending 'Fuji':\", mountains)"
   ]
  },
  {
   "cell_type": "code",
   "execution_count": 30,
   "metadata": {},
   "outputs": [
    {
     "name": "stdout",
     "output_type": "stream",
     "text": [
      "Popped mountain (first): Everest\n",
      "Mountains after popping: ['K2', 'Kilimanjaro', 'Denali', 'Aconcagua', 'Mont Blanc', 'Fuji']\n"
     ]
    }
   ],
   "source": [
    "# Pop an element from the list\n",
    "popped_mountain = mountains.pop(0)\n",
    "print(f\"Popped mountain (first): {popped_mountain}\")\n",
    "print(\"Mountains after popping:\", mountains)\n"
   ]
  },
  {
   "cell_type": "code",
   "execution_count": 31,
   "metadata": {},
   "outputs": [
    {
     "name": "stdout",
     "output_type": "stream",
     "text": [
      "Mountains after reversing: ['Fuji', 'Mont Blanc', 'Aconcagua', 'Denali', 'Kilimanjaro', 'K2']\n"
     ]
    }
   ],
   "source": [
    "# Reverse the list\n",
    "mountains.reverse()\n",
    "print(\"Mountains after reversing:\", mountains)\n"
   ]
  },
  {
   "cell_type": "code",
   "execution_count": 32,
   "metadata": {},
   "outputs": [
    {
     "name": "stdout",
     "output_type": "stream",
     "text": [
      "Mountains after sorting alphabetically: ['Aconcagua', 'Denali', 'Fuji', 'K2', 'Kilimanjaro', 'Mont Blanc']\n"
     ]
    }
   ],
   "source": [
    "# Sort the list alphabetically\n",
    "mountains.sort()\n",
    "print(\"Mountains after sorting alphabetically:\", mountains)\n"
   ]
  },
  {
   "cell_type": "code",
   "execution_count": 33,
   "metadata": {},
   "outputs": [
    {
     "name": "stdout",
     "output_type": "stream",
     "text": [
      "Mountains after sorting in reverse-alphabetical order: ['Mont Blanc', 'Kilimanjaro', 'K2', 'Fuji', 'Denali', 'Aconcagua']\n"
     ]
    }
   ],
   "source": [
    "# Sort the list in reverse-alphabetical order\n",
    "mountains.sort(reverse=True)\n",
    "print(\"Mountains after sorting in reverse-alphabetical order:\", mountains)\n"
   ]
  },
  {
   "cell_type": "code",
   "execution_count": 34,
   "metadata": {},
   "outputs": [
    {
     "name": "stdout",
     "output_type": "stream",
     "text": [
      "6\n"
     ]
    }
   ],
   "source": [
    "print(len(mountains))"
   ]
  },
  {
   "cell_type": "code",
   "execution_count": 35,
   "metadata": {},
   "outputs": [
    {
     "name": "stdout",
     "output_type": "stream",
     "text": [
      "\n",
      "Rivers: ['Amazon', 'Nile', 'Yangtze', 'Mississippi', 'Danube', 'Ganges']\n"
     ]
    }
   ],
   "source": [
    "# List of rivers\n",
    "rivers = [\"Amazon\", \"Nile\", \"Yangtze\", \"Mississippi\", \"Danube\", \"Ganges\"]\n",
    "print(\"\\nRivers:\", rivers)"
   ]
  },
  {
   "cell_type": "code",
   "execution_count": 36,
   "metadata": {},
   "outputs": [
    {
     "name": "stdout",
     "output_type": "stream",
     "text": [
      "First river: Amazon\n",
      "Last river: Ganges\n"
     ]
    }
   ],
   "source": [
    "# Access and print individual elements\n",
    "print(f\"First river: {rivers[0]}\")\n",
    "print(f\"Last river: {rivers[-1]}\")"
   ]
  },
  {
   "cell_type": "code",
   "execution_count": 37,
   "metadata": {},
   "outputs": [
    {
     "name": "stdout",
     "output_type": "stream",
     "text": [
      "Rivers after appending 'Thames': ['Amazon', 'Nile', 'Yangtze', 'Mississippi', 'Danube', 'Ganges', 'Thames']\n"
     ]
    }
   ],
   "source": [
    "# Append a new river\n",
    "rivers.append(\"Thames\")\n",
    "print(\"Rivers after appending 'Thames':\", rivers)"
   ]
  },
  {
   "cell_type": "code",
   "execution_count": 38,
   "metadata": {},
   "outputs": [
    {
     "name": "stdout",
     "output_type": "stream",
     "text": [
      "Rivers after inserting 'Volga' at index 1: ['Amazon', 'Volga', 'Nile', 'Yangtze', 'Mississippi', 'Danube', 'Ganges', 'Thames']\n"
     ]
    }
   ],
   "source": [
    "# Insert a new river at position 1\n",
    "rivers.insert(1, \"Volga\")\n",
    "print(\"Rivers after inserting 'Volga' at index 1:\", rivers)"
   ]
  },
  {
   "cell_type": "code",
   "execution_count": 39,
   "metadata": {},
   "outputs": [
    {
     "name": "stdout",
     "output_type": "stream",
     "text": [
      "Rivers after reversing: ['Thames', 'Ganges', 'Danube', 'Mississippi', 'Yangtze', 'Nile', 'Volga', 'Amazon']\n"
     ]
    }
   ],
   "source": [
    "# Reverse the list\n",
    "rivers.reverse()\n",
    "print(\"Rivers after reversing:\", rivers)"
   ]
  },
  {
   "cell_type": "code",
   "execution_count": 40,
   "metadata": {},
   "outputs": [
    {
     "name": "stdout",
     "output_type": "stream",
     "text": [
      "Rivers temporarily sorted (alphabetical): ['Amazon', 'Danube', 'Ganges', 'Mississippi', 'Nile', 'Thames', 'Volga', 'Yangtze']\n"
     ]
    }
   ],
   "source": [
    "# Temporarily sorted list\n",
    "print(\"Rivers temporarily sorted (alphabetical):\", sorted(rivers))"
   ]
  },
  {
   "cell_type": "code",
   "execution_count": 41,
   "metadata": {},
   "outputs": [
    {
     "name": "stdout",
     "output_type": "stream",
     "text": [
      "8\n"
     ]
    }
   ],
   "source": [
    "print(len(rivers))"
   ]
  },
  {
   "cell_type": "code",
   "execution_count": 42,
   "metadata": {},
   "outputs": [
    {
     "name": "stdout",
     "output_type": "stream",
     "text": [
      "\n",
      "Countries: ['Pakistan', 'Canada', 'Brazil', 'Japan', 'Australia', 'Germany']\n"
     ]
    }
   ],
   "source": [
    "# List of countries\n",
    "countries = [\"Pakistan\", \"Canada\", \"Brazil\", \"Japan\", \"Australia\", \"Germany\"]\n",
    "print(\"\\nCountries:\", countries)"
   ]
  },
  {
   "cell_type": "code",
   "execution_count": 43,
   "metadata": {},
   "outputs": [
    {
     "name": "stdout",
     "output_type": "stream",
     "text": [
      "First country: Pakistan\n",
      "Last country: Germany\n"
     ]
    }
   ],
   "source": [
    "# Access and print individual elements\n",
    "print(f\"First country: {countries[0]}\")\n",
    "print(f\"Last country: {countries[-1]}\")"
   ]
  },
  {
   "cell_type": "code",
   "execution_count": 44,
   "metadata": {},
   "outputs": [
    {
     "name": "stdout",
     "output_type": "stream",
     "text": [
      "Countries after removing 'Germany': ['Pakistan', 'Canada', 'Brazil', 'Japan', 'Australia']\n"
     ]
    }
   ],
   "source": [
    "# Remove an element by value\n",
    "countries.remove(\"Germany\")\n",
    "print(\"Countries after removing 'Germany':\", countries)"
   ]
  },
  {
   "cell_type": "code",
   "execution_count": 45,
   "metadata": {},
   "outputs": [
    {
     "name": "stdout",
     "output_type": "stream",
     "text": [
      "Countries after appending 'Italy': ['Pakistan', 'Canada', 'Brazil', 'Japan', 'Australia', 'Italy']\n"
     ]
    }
   ],
   "source": [
    "# Append a new country\n",
    "countries.append(\"Italy\")\n",
    "print(\"Countries after appending 'Italy':\", countries)"
   ]
  },
  {
   "cell_type": "code",
   "execution_count": 46,
   "metadata": {},
   "outputs": [
    {
     "name": "stdout",
     "output_type": "stream",
     "text": [
      "Countries after sorting alphabetically: ['Australia', 'Brazil', 'Canada', 'Italy', 'Japan', 'Pakistan']\n"
     ]
    }
   ],
   "source": [
    "# Sort the list alphabetically\n",
    "countries.sort()\n",
    "print(\"Countries after sorting alphabetically:\", countries)\n"
   ]
  },
  {
   "cell_type": "code",
   "execution_count": 47,
   "metadata": {},
   "outputs": [
    {
     "name": "stdout",
     "output_type": "stream",
     "text": [
      "Countries after sorting in reverse-alphabetical order: ['Pakistan', 'Japan', 'Italy', 'Canada', 'Brazil', 'Australia']\n"
     ]
    }
   ],
   "source": [
    "# Sort the list in reverse-alphabetical order\n",
    "countries.sort(reverse=True)\n",
    "print(\"Countries after sorting in reverse-alphabetical order:\", countries)"
   ]
  },
  {
   "cell_type": "code",
   "execution_count": 48,
   "metadata": {},
   "outputs": [
    {
     "name": "stdout",
     "output_type": "stream",
     "text": [
      "6\n"
     ]
    }
   ],
   "source": [
    "print(len(countries))"
   ]
  },
  {
   "cell_type": "code",
   "execution_count": 49,
   "metadata": {},
   "outputs": [
    {
     "name": "stdout",
     "output_type": "stream",
     "text": [
      "\n",
      "Cities: ['Karachi', 'Tokyo', 'New York', 'Paris', 'Sydney', 'Toronto']\n"
     ]
    }
   ],
   "source": [
    "# List of cities\n",
    "cities = [\"Karachi\", \"Tokyo\", \"New York\", \"Paris\", \"Sydney\", \"Toronto\"]\n",
    "print(\"\\nCities:\", cities)"
   ]
  },
  {
   "cell_type": "code",
   "execution_count": 50,
   "metadata": {},
   "outputs": [
    {
     "name": "stdout",
     "output_type": "stream",
     "text": [
      "First city: Karachi\n",
      "Last city: Toronto\n"
     ]
    }
   ],
   "source": [
    "# Access and print individual elements\n",
    "print(f\"First city: {cities[0]}\")\n",
    "print(f\"Last city: {cities[-1]}\")"
   ]
  },
  {
   "cell_type": "code",
   "execution_count": 51,
   "metadata": {},
   "outputs": [
    {
     "name": "stdout",
     "output_type": "stream",
     "text": [
      "Popped city (last): Toronto\n",
      "Cities after popping: ['Karachi', 'Tokyo', 'New York', 'Paris', 'Sydney']\n"
     ]
    }
   ],
   "source": [
    "# Pop an element from the list\n",
    "popped_city = cities.pop()\n",
    "print(f\"Popped city (last): {popped_city}\")\n",
    "print(\"Cities after popping:\", cities)"
   ]
  },
  {
   "cell_type": "code",
   "execution_count": 52,
   "metadata": {},
   "outputs": [
    {
     "name": "stdout",
     "output_type": "stream",
     "text": [
      "Cities after appending 'Dubai': ['Karachi', 'Tokyo', 'New York', 'Paris', 'Sydney', 'Dubai']\n"
     ]
    }
   ],
   "source": [
    "# Append a new city\n",
    "cities.append(\"Dubai\")\n",
    "print(\"Cities after appending 'Dubai':\", cities)\n"
   ]
  },
  {
   "cell_type": "code",
   "execution_count": 53,
   "metadata": {},
   "outputs": [
    {
     "name": "stdout",
     "output_type": "stream",
     "text": [
      "Cities after reversing: ['Dubai', 'Sydney', 'Paris', 'New York', 'Tokyo', 'Karachi']\n"
     ]
    }
   ],
   "source": [
    "# Reverse the list\n",
    "cities.reverse()\n",
    "print(\"Cities after reversing:\", cities)\n"
   ]
  },
  {
   "cell_type": "code",
   "execution_count": 54,
   "metadata": {},
   "outputs": [
    {
     "name": "stdout",
     "output_type": "stream",
     "text": [
      "\n",
      "Languages: ['Python', 'JavaScript', 'C++', 'Java', 'Ruby', 'Swift']\n"
     ]
    }
   ],
   "source": [
    "# List of languages\n",
    "languages = [\"Python\", \"JavaScript\", \"C++\", \"Java\", \"Ruby\", \"Swift\"]\n",
    "print(\"\\nLanguages:\", languages)\n"
   ]
  },
  {
   "cell_type": "code",
   "execution_count": 55,
   "metadata": {},
   "outputs": [
    {
     "name": "stdout",
     "output_type": "stream",
     "text": [
      "First language: Python\n",
      "Last language: Swift\n"
     ]
    }
   ],
   "source": [
    "# Access and print individual elements\n",
    "print(f\"First language: {languages[0]}\")\n",
    "print(f\"Last language: {languages[-1]}\")"
   ]
  },
  {
   "cell_type": "code",
   "execution_count": 56,
   "metadata": {},
   "outputs": [
    {
     "name": "stdout",
     "output_type": "stream",
     "text": [
      "Languages after replacing 'C++' with 'Go': ['Python', 'JavaScript', 'Go', 'Java', 'Ruby', 'Swift']\n"
     ]
    }
   ],
   "source": [
    "# Modify an element\n",
    "languages[2] = \"Go\"\n",
    "print(\"Languages after replacing 'C++' with 'Go':\", languages)"
   ]
  },
  {
   "cell_type": "code",
   "execution_count": 57,
   "metadata": {},
   "outputs": [
    {
     "name": "stdout",
     "output_type": "stream",
     "text": [
      "Languages after appending 'Kotlin': ['Python', 'JavaScript', 'Go', 'Java', 'Ruby', 'Swift', 'Kotlin']\n"
     ]
    }
   ],
   "source": [
    "# Append a new language\n",
    "languages.append(\"Kotlin\")\n",
    "print(\"Languages after appending 'Kotlin':\", languages)"
   ]
  },
  {
   "cell_type": "code",
   "execution_count": 58,
   "metadata": {},
   "outputs": [
    {
     "name": "stdout",
     "output_type": "stream",
     "text": [
      "Languages after sorting alphabetically: ['Go', 'Java', 'JavaScript', 'Kotlin', 'Python', 'Ruby', 'Swift']\n"
     ]
    }
   ],
   "source": [
    "# Sort the list alphabetically\n",
    "languages.sort()\n",
    "print(\"Languages after sorting alphabetically:\", languages)"
   ]
  },
  {
   "cell_type": "code",
   "execution_count": 59,
   "metadata": {},
   "outputs": [
    {
     "name": "stdout",
     "output_type": "stream",
     "text": [
      "\n",
      "Fruits: ['Apple', 'Banana', 'Cherry', 'Date', 'Fig', 'Grapes']\n"
     ]
    }
   ],
   "source": [
    "# List of fruits\n",
    "fruits = [\"Apple\", \"Banana\", \"Cherry\", \"Date\", \"Fig\", \"Grapes\"]\n",
    "print(\"\\nFruits:\", fruits)"
   ]
  },
  {
   "cell_type": "code",
   "execution_count": 60,
   "metadata": {},
   "outputs": [
    {
     "name": "stdout",
     "output_type": "stream",
     "text": [
      "First fruit: Apple\n",
      "Last fruit: Grapes\n"
     ]
    }
   ],
   "source": [
    "# Access and print individual elements\n",
    "print(f\"First fruit: {fruits[0]}\")\n",
    "print(f\"Last fruit: {fruits[-1]}\")\n"
   ]
  },
  {
   "cell_type": "code",
   "execution_count": 61,
   "metadata": {},
   "outputs": [
    {
     "name": "stdout",
     "output_type": "stream",
     "text": [
      "Fruits after inserting 'Orange' at index 3: ['Apple', 'Banana', 'Cherry', 'Orange', 'Date', 'Fig', 'Grapes']\n"
     ]
    }
   ],
   "source": [
    "# Insert a new fruit at position 3\n",
    "fruits.insert(3, \"Orange\")\n",
    "print(\"Fruits after inserting 'Orange' at index 3:\", fruits)\n"
   ]
  },
  {
   "cell_type": "code",
   "execution_count": 62,
   "metadata": {},
   "outputs": [
    {
     "name": "stdout",
     "output_type": "stream",
     "text": [
      "Fruits after appending 'Mango': ['Apple', 'Banana', 'Cherry', 'Orange', 'Date', 'Fig', 'Grapes', 'Mango']\n"
     ]
    }
   ],
   "source": [
    "# Append a new fruit\n",
    "fruits.append(\"Mango\")\n",
    "print(\"Fruits after appending 'Mango':\", fruits)"
   ]
  },
  {
   "cell_type": "code",
   "execution_count": 63,
   "metadata": {},
   "outputs": [
    {
     "name": "stdout",
     "output_type": "stream",
     "text": [
      "Fruits after reversing: ['Mango', 'Grapes', 'Fig', 'Date', 'Orange', 'Cherry', 'Banana', 'Apple']\n"
     ]
    }
   ],
   "source": [
    "# Reverse the list\n",
    "fruits.reverse()\n",
    "print(\"Fruits after reversing:\", fruits)\n"
   ]
  },
  {
   "cell_type": "code",
   "execution_count": 64,
   "metadata": {},
   "outputs": [
    {
     "name": "stdout",
     "output_type": "stream",
     "text": [
      "Fruits after sorting alphabetically: ['Apple', 'Banana', 'Cherry', 'Date', 'Fig', 'Grapes', 'Mango', 'Orange']\n"
     ]
    }
   ],
   "source": [
    "# Sort the list alphabetically\n",
    "fruits.sort()\n",
    "print(\"Fruits after sorting alphabetically:\", fruits)"
   ]
  },
  {
   "cell_type": "code",
   "execution_count": 65,
   "metadata": {},
   "outputs": [
    {
     "name": "stdout",
     "output_type": "stream",
     "text": [
      "Fruits after sorting in reverse-alphabetical order: ['Orange', 'Mango', 'Grapes', 'Fig', 'Date', 'Cherry', 'Banana', 'Apple']\n"
     ]
    }
   ],
   "source": [
    "# Sort the list in reverse-alphabetical order\n",
    "fruits.sort(reverse=True)\n",
    "print(\"Fruits after sorting in reverse-alphabetical order:\", fruits)"
   ]
  },
  {
   "cell_type": "code",
   "execution_count": 66,
   "metadata": {},
   "outputs": [
    {
     "name": "stdout",
     "output_type": "stream",
     "text": [
      "Original lists:\n",
      "Mountains: ['Everest', 'K2', 'Kilimanjaro', 'Denali', 'Aconcagua', 'Mont Blanc']\n",
      "Rivers: ['Amazon', 'Nile', 'Yangtze', 'Mississippi', 'Danube', 'Ganges']\n",
      "Countries: ['Pakistan', 'Canada', 'Brazil', 'Japan', 'Australia', 'Germany']\n",
      "Cities: ['Karachi', 'Tokyo', 'New York', 'Paris', 'Sydney', 'Toronto']\n",
      "Languages: ['Python', 'JavaScript', 'C++', 'Java', 'Ruby', 'Swift']\n",
      "Fruits: ['Apple', 'Banana', 'Cherry', 'Date', 'Fig', 'Grapes']\n",
      "\n",
      "Accessing individual elements:\n",
      "First mountain: Everest\n",
      "Last river: Ganges\n",
      "Second country: Canada\n",
      "Third city: New York\n",
      "Fourth language: Java\n",
      "Fifth fruit: Fig\n",
      "\n",
      "Modified list of languages (replacing 'C++' with 'Go'):\n",
      "['Python', 'JavaScript', 'Go', 'Java', 'Ruby', 'Swift']\n",
      "\n",
      "Lists after appending new items:\n",
      "Mountains: ['Everest', 'K2', 'Kilimanjaro', 'Denali', 'Aconcagua', 'Mont Blanc', 'Fuji']\n",
      "Rivers: ['Amazon', 'Nile', 'Yangtze', 'Mississippi', 'Danube', 'Ganges', 'Thames']\n",
      "Countries: ['Pakistan', 'Canada', 'Brazil', 'Japan', 'Australia', 'Germany', 'Italy']\n",
      "Cities: ['Karachi', 'Tokyo', 'New York', 'Paris', 'Sydney', 'Toronto', 'Dubai']\n",
      "Languages: ['Python', 'JavaScript', 'Go', 'Java', 'Ruby', 'Swift', 'Kotlin']\n",
      "Fruits: ['Apple', 'Banana', 'Cherry', 'Date', 'Fig', 'Grapes', 'Mango']\n",
      "\n",
      "Rivers and Fruits after inserting new elements:\n",
      "Rivers: ['Amazon', 'Volga', 'Nile', 'Yangtze', 'Mississippi', 'Danube', 'Ganges', 'Thames']\n",
      "Fruits: ['Apple', 'Banana', 'Cherry', 'Orange', 'Date', 'Fig', 'Grapes', 'Mango']\n",
      "\n",
      "Countries and Languages after removing elements:\n",
      "Countries: ['Pakistan', 'Canada', 'Brazil', 'Japan', 'Australia', 'Italy']\n",
      "Languages: ['Python', 'JavaScript', 'Go', 'Ruby', 'Swift', 'Kotlin']\n",
      "\n",
      "Popped city (last): Dubai\n",
      "Popped mountain (first): Everest\n",
      "Cities after popping: ['Karachi', 'Tokyo', 'New York', 'Paris', 'Sydney', 'Toronto']\n",
      "Mountains after popping: ['K2', 'Kilimanjaro', 'Denali', 'Aconcagua', 'Mont Blanc', 'Fuji']\n",
      "\n",
      "Languages sorted alphabetically:\n",
      "['Go', 'JavaScript', 'Kotlin', 'Python', 'Ruby', 'Swift']\n",
      "\n",
      "Countries sorted in reverse alphabetical order:\n",
      "['Pakistan', 'Japan', 'Italy', 'Canada', 'Brazil', 'Australia']\n",
      "\n",
      "Temporarily sorted rivers (alphabetical):\n",
      "['Amazon', 'Danube', 'Ganges', 'Mississippi', 'Nile', 'Thames', 'Volga', 'Yangtze']\n",
      "\n",
      "Rivers and Fruits after reversing:\n",
      "Rivers: ['Thames', 'Ganges', 'Danube', 'Mississippi', 'Yangtze', 'Nile', 'Volga', 'Amazon']\n",
      "Fruits: ['Mango', 'Grapes', 'Fig', 'Date', 'Orange', 'Cherry', 'Banana', 'Apple']\n",
      "\n",
      "Length of each list:\n",
      "Mountains: 6\n",
      "Rivers: 8\n",
      "Countries: 6\n",
      "Cities: 6\n",
      "Languages: 6\n",
      "Fruits: 8\n"
     ]
    }
   ],
   "source": [
    "# List of mountains\n",
    "mountains = [\"Everest\", \"K2\", \"Kilimanjaro\", \"Denali\", \"Aconcagua\", \"Mont Blanc\"]\n",
    "\n",
    "# List of rivers\n",
    "rivers = [\"Amazon\", \"Nile\", \"Yangtze\", \"Mississippi\", \"Danube\", \"Ganges\"]\n",
    "\n",
    "# List of countries\n",
    "countries = [\"Pakistan\", \"Canada\", \"Brazil\", \"Japan\", \"Australia\", \"Germany\"]\n",
    "\n",
    "# List of cities\n",
    "cities = [\"Karachi\", \"Tokyo\", \"New York\", \"Paris\", \"Sydney\", \"Toronto\"]\n",
    "\n",
    "# List of languages\n",
    "languages = [\"Python\", \"JavaScript\", \"C++\", \"Java\", \"Ruby\", \"Swift\"]\n",
    "\n",
    "# List of fruits\n",
    "fruits = [\"Apple\", \"Banana\", \"Cherry\", \"Date\", \"Fig\", \"Grapes\"]\n",
    "\n",
    "# 1. Print the original lists\n",
    "print(\"Original lists:\")\n",
    "print(\"Mountains:\", mountains)\n",
    "print(\"Rivers:\", rivers)\n",
    "print(\"Countries:\", countries)\n",
    "print(\"Cities:\", cities)\n",
    "print(\"Languages:\", languages)\n",
    "print(\"Fruits:\", fruits)\n",
    "\n",
    "# 2. Access individual elements by index\n",
    "print(\"\\nAccessing individual elements:\")\n",
    "print(f\"First mountain: {mountains[0]}\")\n",
    "print(f\"Last river: {rivers[-1]}\")\n",
    "print(f\"Second country: {countries[1]}\")\n",
    "print(f\"Third city: {cities[2]}\")\n",
    "print(f\"Fourth language: {languages[3]}\")\n",
    "print(f\"Fifth fruit: {fruits[4]}\")\n",
    "\n",
    "# 3. Modify an element in the list\n",
    "languages[2] = \"Go\"\n",
    "print(\"\\nModified list of languages (replacing 'C++' with 'Go'):\")\n",
    "print(languages)\n",
    "\n",
    "# 4. Append elements to the end of the lists\n",
    "mountains.append(\"Fuji\")\n",
    "rivers.append(\"Thames\")\n",
    "countries.append(\"Italy\")\n",
    "cities.append(\"Dubai\")\n",
    "languages.append(\"Kotlin\")\n",
    "fruits.append(\"Mango\")\n",
    "print(\"\\nLists after appending new items:\")\n",
    "print(\"Mountains:\", mountains)\n",
    "print(\"Rivers:\", rivers)\n",
    "print(\"Countries:\", countries)\n",
    "print(\"Cities:\", cities)\n",
    "print(\"Languages:\", languages)\n",
    "print(\"Fruits:\", fruits)\n",
    "\n",
    "# 5. Insert elements at specific positions\n",
    "rivers.insert(1, \"Volga\")\n",
    "fruits.insert(3, \"Orange\")\n",
    "print(\"\\nRivers and Fruits after inserting new elements:\")\n",
    "print(\"Rivers:\", rivers)\n",
    "print(\"Fruits:\", fruits)\n",
    "\n",
    "# 6. Remove elements by value\n",
    "countries.remove(\"Germany\")\n",
    "languages.remove(\"Java\")\n",
    "print(\"\\nCountries and Languages after removing elements:\")\n",
    "print(\"Countries:\", countries)\n",
    "print(\"Languages:\", languages)\n",
    "\n",
    "# 7. Pop elements from the lists\n",
    "popped_city = cities.pop()\n",
    "popped_mountain = mountains.pop(0)\n",
    "print(f\"\\nPopped city (last): {popped_city}\")\n",
    "print(f\"Popped mountain (first): {popped_mountain}\")\n",
    "print(\"Cities after popping:\", cities)\n",
    "print(\"Mountains after popping:\", mountains)\n",
    "\n",
    "# 8. Sort lists alphabetically and reverse-alphabetically\n",
    "languages.sort()\n",
    "countries.sort(reverse=True)\n",
    "print(\"\\nLanguages sorted alphabetically:\")\n",
    "print(languages)\n",
    "print(\"\\nCountries sorted in reverse alphabetical order:\")\n",
    "print(countries)\n",
    "\n",
    "# 9. Temporarily sorted list using sorted()\n",
    "print(\"\\nTemporarily sorted rivers (alphabetical):\")\n",
    "print(sorted(rivers))\n",
    "\n",
    "# 10. Reverse the order of lists\n",
    "rivers.reverse()\n",
    "fruits.reverse()\n",
    "print(\"\\nRivers and Fruits after reversing:\")\n",
    "print(\"Rivers:\", rivers)\n",
    "print(\"Fruits:\", fruits)\n",
    "\n",
    "# 11. Find the length of the lists\n",
    "print(\"\\nLength of each list:\")\n",
    "print(f\"Mountains: {len(mountains)}\")\n",
    "print(f\"Rivers: {len(rivers)}\")\n",
    "print(f\"Countries: {len(countries)}\")\n",
    "print(f\"Cities: {len(cities)}\")\n",
    "print(f\"Languages: {len(languages)}\")\n",
    "print(f\"Fruits: {len(fruits)}\")\n"
   ]
  },
  {
   "cell_type": "code",
   "execution_count": null,
   "metadata": {},
   "outputs": [],
   "source": []
  }
 ],
 "metadata": {
  "kernelspec": {
   "display_name": "Python 3",
   "language": "python",
   "name": "python3"
  },
  "language_info": {
   "codemirror_mode": {
    "name": "ipython",
    "version": 3
   },
   "file_extension": ".py",
   "mimetype": "text/x-python",
   "name": "python",
   "nbconvert_exporter": "python",
   "pygments_lexer": "ipython3",
   "version": "3.12.5"
  }
 },
 "nbformat": 4,
 "nbformat_minor": 2
}
