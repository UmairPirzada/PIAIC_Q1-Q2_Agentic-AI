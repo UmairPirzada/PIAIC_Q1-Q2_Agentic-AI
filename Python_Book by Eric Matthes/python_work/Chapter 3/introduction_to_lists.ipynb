{
 "cells": [
  {
   "cell_type": "markdown",
   "metadata": {},
   "source": [
    "# What Is a List?\n",
    "\n",
    "A list is a collection of items in a particular order. You can make a list that\n",
    "includes the letters of the alphabet, the digits from 0 to 9, or the names of\n",
    "all the people in your family. You can put anything you want into a list, and\n",
    "the items in your list don’t have to be related in any particular way. Because a list usually contains more than one element, it’s a good idea to make the\n",
    "name of your list plural, such as letters, digits, or names."
   ]
  },
  {
   "cell_type": "markdown",
   "metadata": {},
   "source": [
    "In Python, square brackets ([]) indicate a list, and individual elements\n",
    "in the list are separated by commas. Here’s a simple example of a list that\n",
    "contains a few kinds of bicycles:"
   ]
  },
  {
   "cell_type": "code",
   "execution_count": 1,
   "metadata": {},
   "outputs": [
    {
     "name": "stdout",
     "output_type": "stream",
     "text": [
      "['trek', 'cannondale', 'redline', 'specialized']\n"
     ]
    }
   ],
   "source": [
    "bicycles = ['trek', 'cannondale', 'redline', 'specialized']\n",
    "print(bicycles)"
   ]
  },
  {
   "cell_type": "markdown",
   "metadata": {},
   "source": [
    "If you ask Python to print a list, Python returns its representation of the\n",
    "list, including the square brackets:\n",
    "\n",
    "Because this isn’t the output you want your users to see, let’s learn how\n",
    "to access the individual items in a list."
   ]
  },
  {
   "cell_type": "markdown",
   "metadata": {},
   "source": [
    "# Accessing Elements in a List\n",
    "Lists are ordered collections, so you can access any element in a list by\n",
    "telling Python the position, or index, of the item desired. To access an element in a list, write the name of the list followed by the index of the item\n",
    "enclosed in square brackets.\n",
    "\n",
    "\n",
    "For example, let’s pull out the first bicycle in the list bicycles:"
   ]
  },
  {
   "cell_type": "code",
   "execution_count": 2,
   "metadata": {},
   "outputs": [
    {
     "name": "stdout",
     "output_type": "stream",
     "text": [
      "trek\n"
     ]
    }
   ],
   "source": [
    "bicycles = ['trek', 'cannondale', 'redline', 'specialized']\n",
    "print(bicycles[0])"
   ]
  },
  {
   "cell_type": "markdown",
   "metadata": {},
   "source": [
    "When we ask for a single item from a list, Python returns just that element without square brackets:\n",
    "\n",
    "This is the result you want your users to see: clean, neatly formatted\n",
    "output.\n",
    "\n",
    "You can also use the string methods from Chapter 2 on any element in\n",
    "this list. For example, you can format the element 'trek' to look more presentable by using the title() method:"
   ]
  },
  {
   "cell_type": "code",
   "execution_count": 3,
   "metadata": {},
   "outputs": [
    {
     "name": "stdout",
     "output_type": "stream",
     "text": [
      "Trek\n"
     ]
    }
   ],
   "source": [
    "bicycles = ['trek', 'cannondale', 'redline', 'specialized']\n",
    "print(bicycles[0].title())"
   ]
  },
  {
   "cell_type": "code",
   "execution_count": 4,
   "metadata": {},
   "outputs": [
    {
     "name": "stdout",
     "output_type": "stream",
     "text": [
      "TREK\n"
     ]
    }
   ],
   "source": [
    "bicycles = ['trek', 'cannondale', 'redline', 'specialized']\n",
    "print(bicycles[0].upper())"
   ]
  },
  {
   "cell_type": "code",
   "execution_count": 5,
   "metadata": {},
   "outputs": [
    {
     "name": "stdout",
     "output_type": "stream",
     "text": [
      "trek\n"
     ]
    }
   ],
   "source": [
    "bicycles = ['trek', 'cannondale', 'redline', 'specialized']\n",
    "print(bicycles[0].lower())"
   ]
  },
  {
   "cell_type": "markdown",
   "metadata": {},
   "source": [
    "This example produces the same output as the preceding example,\n",
    "except 'Trek' is capitalized."
   ]
  },
  {
   "cell_type": "markdown",
   "metadata": {},
   "source": [
    "# Index Positions Start at 0, Not 1\n",
    "\n",
    "Python considers the first item in a list to be at position 0, not position 1.\n",
    "This is true of most programming languages, and the reason has to do with how the list operations are implemented at a lower level. If you’re receiving\n",
    "unexpected results, ask yourself if you’re making a simple but common off-\n",
    "by-one error.\n",
    "The second item in a list has an index of 1. Using this counting sys-\n",
    "tem, you can get any element you want from a list by subtracting one from\n",
    "its position in the list."
   ]
  },
  {
   "cell_type": "markdown",
   "metadata": {},
   "source": [
    "For instance, to access the fourth item in a list, you\n",
    "request the item at index 3.\n",
    "The following asks for the bicycles at index 1 and index 3:"
   ]
  },
  {
   "cell_type": "code",
   "execution_count": 6,
   "metadata": {},
   "outputs": [
    {
     "name": "stdout",
     "output_type": "stream",
     "text": [
      "cannondale\n",
      "specialized\n"
     ]
    }
   ],
   "source": [
    "# This code returns the second and fourth bicycles in the list:\n",
    "bicycles = ['trek', 'cannondale', 'redline', 'specialized']\n",
    "print(bicycles[1])\n",
    "print(bicycles[3])"
   ]
  },
  {
   "cell_type": "markdown",
   "metadata": {},
   "source": [
    "Python has a special syntax for accessing the last element in a list. If you\n",
    "ask for the item at index -1, Python always returns the last item in the list:"
   ]
  },
  {
   "cell_type": "code",
   "execution_count": 7,
   "metadata": {},
   "outputs": [
    {
     "name": "stdout",
     "output_type": "stream",
     "text": [
      "specialized\n"
     ]
    }
   ],
   "source": [
    "bicycles = ['trek', 'cannondale', 'redline', 'specialized']\n",
    "print(bicycles[-1])"
   ]
  },
  {
   "cell_type": "markdown",
   "metadata": {},
   "source": [
    "This code returns the value 'specialized'. This syntax is quite useful,\n",
    "because you’ll often want to access the last items in a list without knowing\n",
    "exactly how long the list is. This convention extends to other negative index\n",
    "values as well. The index -2 returns the second item from the end of the list,\n",
    "the index -3 returns the third item from the end, and so forth."
   ]
  },
  {
   "cell_type": "markdown",
   "metadata": {},
   "source": [
    "# Using Individual Values from a List\n",
    "\n",
    "You can use individual values from a list just as you would any other variable. For example, you can use f-strings to create a message based on a\n",
    "value from a list.\n",
    "\n",
    "\n",
    "Let’s try pulling the first bicycle from the list and composing a message\n",
    "using that value:"
   ]
  },
  {
   "cell_type": "code",
   "execution_count": 8,
   "metadata": {},
   "outputs": [
    {
     "name": "stdout",
     "output_type": "stream",
     "text": [
      "My first bicycle was a Trek.\n"
     ]
    }
   ],
   "source": [
    "bicycles = ['trek', 'cannondale', 'redline', 'specialized']\n",
    "message = f\"My first bicycle was a {bicycles[0].title()}.\"\n",
    "print(message)"
   ]
  },
  {
   "cell_type": "markdown",
   "metadata": {},
   "source": [
    "We build a sentence using the value at bicycles[0] and assign it to the\n",
    "variable message. The output is a simple sentence about the first bicycle in\n",
    "the list:"
   ]
  },
  {
   "cell_type": "code",
   "execution_count": 9,
   "metadata": {},
   "outputs": [
    {
     "name": "stdout",
     "output_type": "stream",
     "text": [
      "My first bicycle was a SPECIALIZED.\n"
     ]
    }
   ],
   "source": [
    "bicycles = ['trek', 'cannondale', 'redline', 'specialized']\n",
    "message = f\"My first bicycle was a {bicycles[3].upper()}.\"\n",
    "print(message)"
   ]
  },
  {
   "cell_type": "code",
   "execution_count": 10,
   "metadata": {},
   "outputs": [
    {
     "name": "stdout",
     "output_type": "stream",
     "text": [
      "My first bicycle was a redline.\n"
     ]
    }
   ],
   "source": [
    "bicycles = ['trek', 'cannondale', 'redline', 'specialized']\n",
    "message = f\"My first bicycle was a {bicycles[-2].lower()}.\"\n",
    "print(message)"
   ]
  },
  {
   "cell_type": "markdown",
   "metadata": {},
   "source": [
    "# Modifying, Adding, and Removing Elements\n",
    "\n",
    "Most lists you create will be dynamic, meaning you’ll build a list and then\n",
    "add and remove elements from it as your program runs its course. For\n",
    "example, you might create a game in which a player has to shoot aliens out\n",
    "of the sky. You could store the initial set of aliens in a list and then remove\n",
    "an alien from the list each time one is shot down. Each time a new alien\n",
    "appears on the screen, you add it to the list. Your list of aliens will increase\n",
    "and decrease in length throughout the course of the game."
   ]
  },
  {
   "cell_type": "markdown",
   "metadata": {},
   "source": [
    "# Modifying Elements in a List\n",
    "\n",
    "The syntax for modifying an element is similar to the syntax for accessing\n",
    "an element in a list. To change an element, use the name of the list followed\n",
    "by the index of the element you want to change, and then provide the new\n",
    "value you want that item to have.\n",
    "\n",
    "\n",
    "For example, say we have a list of motorcycles and the first item in the\n",
    "list is 'honda'. We can change the value of this first item after the list has\n",
    "been created:"
   ]
  },
  {
   "cell_type": "code",
   "execution_count": 11,
   "metadata": {},
   "outputs": [
    {
     "name": "stdout",
     "output_type": "stream",
     "text": [
      "['honda', 'yamaha', 'suzuki']\n"
     ]
    }
   ],
   "source": [
    "motorcycles = ['honda', 'yamaha', 'suzuki']\n",
    "print(motorcycles)"
   ]
  },
  {
   "cell_type": "code",
   "execution_count": 17,
   "metadata": {},
   "outputs": [
    {
     "name": "stdout",
     "output_type": "stream",
     "text": [
      "['ducati', 'yamaha', 'suzuki', 'Toyata']\n"
     ]
    }
   ],
   "source": [
    "motorcycles[0] = 'ducati'\n",
    "print(motorcycles)"
   ]
  },
  {
   "cell_type": "markdown",
   "metadata": {},
   "source": [
    "Here we define the list motorcycles, with 'honda' as the first element.\n",
    "Then we change the value of the first item to 'ducati'. The output shows\n",
    "that the first item has been changed, while the rest of the list stays the same:\n",
    "\n",
    "\n",
    "You can change the value of any item in a list, not just the first item."
   ]
  },
  {
   "cell_type": "code",
   "execution_count": 18,
   "metadata": {},
   "outputs": [
    {
     "name": "stdout",
     "output_type": "stream",
     "text": [
      "['ducati', 'yamaha', 'CD70', 'Toyata']\n"
     ]
    }
   ],
   "source": [
    "motorcycles[2] = 'CD70'\n",
    "print(motorcycles)"
   ]
  },
  {
   "cell_type": "markdown",
   "metadata": {},
   "source": [
    "# Adding Elements to a List\n",
    "\n",
    "You might want to add a new element to a list for many reasons. For\n",
    "example, you might want to make new aliens appear in a game, add new\n",
    "data to a visualization, or add new registered users to a website you’ve\n",
    "built. Python provides several ways to add new data to existing lists."
   ]
  },
  {
   "cell_type": "markdown",
   "metadata": {},
   "source": [
    "# Appending Elements to the End of a List\n",
    "The simplest way to add a new element to a list is to append the item to the\n",
    "list. When you append an item to a list, the new element is added to the end\n",
    "of the list. Using the same list we had in the previous example, we’ll add the\n",
    "new element 'ducati' to the end of the list:"
   ]
  },
  {
   "cell_type": "code",
   "execution_count": 15,
   "metadata": {},
   "outputs": [
    {
     "name": "stdout",
     "output_type": "stream",
     "text": [
      "['honda', 'yamaha', 'suzuki']\n",
      "['honda', 'yamaha', 'suzuki', 'ducati']\n"
     ]
    }
   ],
   "source": [
    "motorcycles = ['honda', 'yamaha', 'suzuki']\n",
    "print(motorcycles)\n",
    "motorcycles.append('ducati')\n",
    "print(motorcycles)"
   ]
  },
  {
   "cell_type": "markdown",
   "metadata": {},
   "source": [
    "Here the append() method adds 'ducati' to the end of the list, without\n",
    "affecting any of the other elements in the list:"
   ]
  },
  {
   "cell_type": "code",
   "execution_count": 19,
   "metadata": {},
   "outputs": [
    {
     "name": "stdout",
     "output_type": "stream",
     "text": [
      "['honda', 'yamaha', 'suzuki']\n",
      "['honda', 'yamaha', 'suzuki', 'CD70']\n"
     ]
    }
   ],
   "source": [
    "motorcycles = ['honda', 'yamaha', 'suzuki']\n",
    "print(motorcycles)\n",
    "motorcycles.append('CD70')\n",
    "print(motorcycles)"
   ]
  },
  {
   "cell_type": "markdown",
   "metadata": {},
   "source": [
    "The append() method makes it easy to build lists dynamically. For example,\n",
    "you can start with an empty list and then add items to the list using a series\n",
    "of append() calls. Using an empty list, let’s add the elements 'honda', 'yamaha',\n",
    "and 'suzuki' to the list:"
   ]
  },
  {
   "cell_type": "code",
   "execution_count": 20,
   "metadata": {},
   "outputs": [
    {
     "name": "stdout",
     "output_type": "stream",
     "text": [
      "['honda', 'yamaha', 'suzuki']\n"
     ]
    }
   ],
   "source": [
    "motorcycles = []\n",
    "motorcycles.append('honda')\n",
    "motorcycles.append('yamaha')\n",
    "motorcycles.append('suzuki')\n",
    "print(motorcycles)"
   ]
  },
  {
   "cell_type": "markdown",
   "metadata": {},
   "source": [
    "Building lists this way is very common, because you often won’t know\n",
    "the data your users want to store in a program until after the program is\n",
    "running. To put your users in control, start by defining an empty list that\n",
    "will hold the users’ values. Then append each new value provided to the list\n",
    "you just created."
   ]
  },
  {
   "cell_type": "markdown",
   "metadata": {},
   "source": [
    "# Inserting Elements into a List\n",
    "\n",
    "You can add a new element at any position in your list by using the insert()\n",
    "method. You do this by specifying the index of the new element and the\n",
    "value of the new item:"
   ]
  },
  {
   "cell_type": "code",
   "execution_count": 22,
   "metadata": {},
   "outputs": [
    {
     "name": "stdout",
     "output_type": "stream",
     "text": [
      "['ducati', 'honda', 'yamaha', 'suzuki']\n"
     ]
    }
   ],
   "source": [
    "motorcycles = ['honda', 'yamaha', 'suzuki']\n",
    "motorcycles.insert(0, 'ducati')\n",
    "print(motorcycles)"
   ]
  },
  {
   "cell_type": "markdown",
   "metadata": {},
   "source": [
    "In this example, we insert the value 'ducati' at the beginning of the\n",
    "list. The insert() method opens a space at position 0 and stores the value\n",
    "'ducati' at that location:\n",
    "\n",
    "This operation shifts every other value in the list one position to the\n",
    "right."
   ]
  },
  {
   "cell_type": "code",
   "execution_count": 23,
   "metadata": {},
   "outputs": [
    {
     "name": "stdout",
     "output_type": "stream",
     "text": [
      "['honda', 'yamaha', 'suzuki', 'CD70']\n"
     ]
    }
   ],
   "source": [
    "motorcycles = ['honda', 'yamaha', 'suzuki']\n",
    "motorcycles.insert(4, 'CD70')\n",
    "print(motorcycles)"
   ]
  },
  {
   "cell_type": "markdown",
   "metadata": {},
   "source": [
    "# Removing Elements from a List\n",
    "\n",
    "Often, you’ll want to remove an item or a set of items from a list. For example,\n",
    "when a player shoots down an alien from the sky, you’ll most likely want to\n",
    "remove it from the list of active aliens. Or when a user decides to cancel\n",
    "their account on a web application you created, you’ll want to remove that\n",
    "user from the list of active users. You can remove an item according to its\n",
    "position in the list or according to its value."
   ]
  },
  {
   "cell_type": "markdown",
   "metadata": {},
   "source": [
    "# Removing an Item Using the del Statement\n",
    "If you know the position of the item you want to remove from a list, you can\n",
    "use the del statement:"
   ]
  },
  {
   "cell_type": "code",
   "execution_count": 24,
   "metadata": {},
   "outputs": [
    {
     "name": "stdout",
     "output_type": "stream",
     "text": [
      "['honda', 'yamaha', 'suzuki']\n",
      "['yamaha', 'suzuki']\n"
     ]
    }
   ],
   "source": [
    "motorcycles = ['honda', 'yamaha', 'suzuki']\n",
    "print(motorcycles)\n",
    "del motorcycles[0]\n",
    "print(motorcycles)"
   ]
  },
  {
   "cell_type": "markdown",
   "metadata": {},
   "source": [
    "Here we use the del statement to remove the first item, 'honda', from the\n",
    "list of motorcycles:\n",
    "\n",
    "\n",
    "You can remove an item from any position in a list using the del state-\n",
    "ment if you know its index. For example, here’s how to remove the second\n",
    "item, 'yamaha', from the list:"
   ]
  },
  {
   "cell_type": "code",
   "execution_count": 25,
   "metadata": {},
   "outputs": [
    {
     "name": "stdout",
     "output_type": "stream",
     "text": [
      "['honda', 'yamaha', 'suzuki']\n",
      "['honda', 'suzuki']\n"
     ]
    }
   ],
   "source": [
    "motorcycles = ['honda', 'yamaha', 'suzuki']\n",
    "print(motorcycles)\n",
    "del motorcycles[1]\n",
    "print(motorcycles)"
   ]
  },
  {
   "cell_type": "markdown",
   "metadata": {},
   "source": [
    "The second motorcycle is deleted from the list:\n",
    "\n",
    "In both examples, you can no longer access the value that was removed\n",
    "from the list after the del statement is used."
   ]
  },
  {
   "cell_type": "markdown",
   "metadata": {},
   "source": [
    "# Removing an Item Using the pop() Method\n",
    "Sometimes you’ll want to use the value of an item after you remove it from a\n",
    "list. For example, you might want to get the x and y position of an alien that\n",
    "was just shot down, so you can draw an explosion at that position. In a web\n",
    "application, you might want to remove a user from a list of active members\n",
    "and then add that user to a list of inactive members.\n",
    "\n",
    "The pop() method removes the last item in a list, but it lets you work\n",
    "with that item after removing it. The term pop comes from thinking of a\n",
    "list as a stack of items and popping one item off the top of the stack. In this\n",
    "analogy, the top of a stack corresponds to the end of a list.\n",
    "\n",
    "Let’s pop a motorcycle from the list of motorcycles:"
   ]
  },
  {
   "cell_type": "code",
   "execution_count": 26,
   "metadata": {},
   "outputs": [
    {
     "name": "stdout",
     "output_type": "stream",
     "text": [
      "['honda', 'yamaha', 'suzuki']\n",
      "['honda', 'yamaha']\n",
      "suzuki\n"
     ]
    }
   ],
   "source": [
    "motorcycles = ['honda', 'yamaha', 'suzuki']\n",
    "print(motorcycles)\n",
    "popped_motorcycle = motorcycles.pop()\n",
    "print(motorcycles)\n",
    "print(popped_motorcycle)"
   ]
  },
  {
   "cell_type": "markdown",
   "metadata": {},
   "source": [
    "We start by defining and printing the list motorcycles . Then we pop a\n",
    "value from the list, and assign that value to the variable popped_motorcycle .\n",
    "We print the list to show that a value has been removed from the list.\n",
    "Then we print the popped value to prove that we still have access to the\n",
    "value that was removed.\n",
    "\n",
    "The output shows that the value 'suzuki' was removed from the end of\n",
    "the list and is now assigned to the variable popped_motorcycle:"
   ]
  },
  {
   "cell_type": "markdown",
   "metadata": {},
   "source": [
    "How might this pop() method be useful? Imagine that the motorcycles\n",
    "in the list are stored in chronological order, according to when we owned\n",
    "them. If this is the case, we can use the pop() method to print a statement\n",
    "about the last motorcycle we bought:"
   ]
  },
  {
   "cell_type": "code",
   "execution_count": 29,
   "metadata": {},
   "outputs": [
    {
     "name": "stdout",
     "output_type": "stream",
     "text": [
      "The last motorcycle I owned was a Suzuki.\n"
     ]
    }
   ],
   "source": [
    "motorcycles = ['honda', 'yamaha', 'suzuki']\n",
    "last_owned = motorcycles.pop()\n",
    "print(f\"The last motorcycle I owned was a {last_owned.title()}.\")"
   ]
  },
  {
   "cell_type": "markdown",
   "metadata": {},
   "source": [
    "The output is a simple sentence about the most recent motorcycle we\n",
    "owned:"
   ]
  },
  {
   "cell_type": "markdown",
   "metadata": {},
   "source": [
    "# Popping Items from Any Position in a List\n",
    "\n",
    "You can use pop() to remove an item from any position in a list by including\n",
    "the index of the item you want to remove in parentheses:"
   ]
  },
  {
   "cell_type": "code",
   "execution_count": 28,
   "metadata": {},
   "outputs": [
    {
     "name": "stdout",
     "output_type": "stream",
     "text": [
      "['honda', 'yamaha', 'suzuki']\n",
      "['yamaha', 'suzuki']\n",
      "honda\n"
     ]
    }
   ],
   "source": [
    "motorcycles = ['honda', 'yamaha', 'suzuki']\n",
    "print(motorcycles)\n",
    "popped_motorcycle = motorcycles.pop(0)\n",
    "print(motorcycles)\n",
    "print(popped_motorcycle)"
   ]
  },
  {
   "cell_type": "code",
   "execution_count": 30,
   "metadata": {},
   "outputs": [
    {
     "name": "stdout",
     "output_type": "stream",
     "text": [
      "The first motorcycle I owned was a Honda.\n"
     ]
    }
   ],
   "source": [
    "motorcycles = ['honda', 'yamaha', 'suzuki']\n",
    "first_owned = motorcycles.pop(0)\n",
    "print(f\"The first motorcycle I owned was a {first_owned.title()}.\")"
   ]
  },
  {
   "cell_type": "markdown",
   "metadata": {},
   "source": [
    "We start by popping the first motorcycle in the list, and then we print a\n",
    "message about that motorcycle. The output is a simple sentence describing\n",
    "the first motorcycle I ever owned:\n",
    "\n",
    "The first motorcycle I owned was a Honda.\n",
    "\n",
    "\n",
    "Remember that each time you use pop(), the item you work with is no\n",
    "longer stored in the list.\n",
    "\n",
    "If you’re unsure whether to use the del statement or the pop() method,\n",
    "here’s a simple way to decide: when you want to delete an item from a list\n",
    "and not use that item in any way, use the del statement; \n",
    "\n",
    "if you want to use an\n",
    "item as you remove it, use the pop() method."
   ]
  },
  {
   "cell_type": "markdown",
   "metadata": {},
   "source": [
    "# Removing an Item by Value\n",
    "Sometimes you won’t know the position of the value you want to remove\n",
    "from a list. If you only know the value of the item you want to remove, you\n",
    "can use the remove() method.\n",
    "\n",
    "\n",
    "For example, say we want to remove the value 'ducati' from the list of\n",
    "motorcycles:"
   ]
  },
  {
   "cell_type": "code",
   "execution_count": 31,
   "metadata": {},
   "outputs": [
    {
     "name": "stdout",
     "output_type": "stream",
     "text": [
      "['honda', 'yamaha', 'suzuki', 'ducati']\n",
      "['honda', 'yamaha', 'suzuki']\n"
     ]
    }
   ],
   "source": [
    "motorcycles = ['honda', 'yamaha', 'suzuki', 'ducati']\n",
    "print(motorcycles)\n",
    "motorcycles.remove('ducati')\n",
    "print(motorcycles)"
   ]
  },
  {
   "cell_type": "markdown",
   "metadata": {},
   "source": [
    "Here the remove() method tells Python to figure out where 'ducati'\n",
    "appears in the list and remove that element:\n",
    "\n",
    "['honda', 'yamaha', 'suzuki', 'ducati']\n",
    "\n",
    "['honda', 'yamaha', 'suzuki']\n",
    "\n",
    "You can also use the remove() method to work with a value that’s being\n",
    "removed from a list. Let’s remove the value 'ducati' and print a reason for\n",
    "removing it from the list:"
   ]
  },
  {
   "cell_type": "code",
   "execution_count": 32,
   "metadata": {},
   "outputs": [
    {
     "name": "stdout",
     "output_type": "stream",
     "text": [
      "['honda', 'yamaha', 'suzuki', 'ducati']\n",
      "['honda', 'yamaha', 'suzuki']\n",
      "\n",
      "A Ducati is too expensive for me.\n"
     ]
    }
   ],
   "source": [
    "motorcycles = ['honda', 'yamaha', 'suzuki', 'ducati']\n",
    "print(motorcycles)\n",
    "too_expensive = 'ducati'\n",
    "motorcycles.remove(too_expensive)\n",
    "print(motorcycles)\n",
    "print(f\"\\nA {too_expensive.title()} is too expensive for me.\")"
   ]
  },
  {
   "cell_type": "markdown",
   "metadata": {},
   "source": [
    "After defining the list , we assign the value 'ducati' to a variable\n",
    "called too_expensive . We then use this variable to tell Python which value\n",
    "to remove from the list . The value 'ducati' has been removed from\n",
    "the list but is still accessible through the variable too_expensive, allow-\n",
    "ing us to print a statement about why we removed 'ducati' from the list of\n",
    "motorcycles:\n",
    "\n",
    "\n",
    "['honda', 'yamaha', 'suzuki', 'ducati']\n",
    "['honda', 'yamaha', 'suzuki']\n",
    "\n",
    "A Ducati is too expensive for me."
   ]
  },
  {
   "cell_type": "markdown",
   "metadata": {},
   "source": []
  }
 ],
 "metadata": {
  "kernelspec": {
   "display_name": "Python 3",
   "language": "python",
   "name": "python3"
  },
  "language_info": {
   "codemirror_mode": {
    "name": "ipython",
    "version": 3
   },
   "file_extension": ".py",
   "mimetype": "text/x-python",
   "name": "python",
   "nbconvert_exporter": "python",
   "pygments_lexer": "ipython3",
   "version": "3.12.5"
  }
 },
 "nbformat": 4,
 "nbformat_minor": 2
}
