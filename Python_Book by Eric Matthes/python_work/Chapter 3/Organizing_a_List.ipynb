{
 "cells": [
  {
   "cell_type": "markdown",
   "metadata": {},
   "source": [
    "# Organizing a List\n",
    "\n",
    "Often, your lists will be created in an unpredictable order, because you\n",
    "can’t always control the order in which your users provide their data.\n",
    "\n",
    "Although this is unavoidable in most circumstances, you’ll frequently want to present your information in a particular order. Sometimes you’ll want to preserve the original order of your list, and other times you’ll want to\n",
    "change the original order. \n",
    "\n",
    "Python provides a number of different ways to\n",
    "organize your lists, depending on the situation."
   ]
  },
  {
   "cell_type": "markdown",
   "metadata": {},
   "source": [
    "# Sorting a List Permanently with the sort() Method\n",
    "\n",
    "Python’s sort() method makes it relatively easy to sort a list. Imagine we\n",
    "have a list of cars and want to change the order of the list to store them\n",
    "alphabetically. \n",
    "\n",
    "To keep the task simple, let’s assume that all the values in\n",
    "the list are lowercase:"
   ]
  },
  {
   "cell_type": "code",
   "execution_count": 16,
   "metadata": {},
   "outputs": [
    {
     "name": "stdout",
     "output_type": "stream",
     "text": [
      "['audi', 'bmw', 'subaru', 'toyota']\n"
     ]
    }
   ],
   "source": [
    "cars = ['bmw', 'audi', 'toyota', 'subaru']\n",
    "cars.sort()\n",
    "print(cars)"
   ]
  },
  {
   "cell_type": "markdown",
   "metadata": {},
   "source": [
    "The sort() method changes the order of the list permanently. The cars\n",
    "are now in alphabetical order, and we can never revert to the original order:\n",
    "\n",
    "['audi', 'bmw', 'subaru', 'toyota']"
   ]
  },
  {
   "cell_type": "markdown",
   "metadata": {},
   "source": [
    "You can also sort this list in reverse-alphabetical order by passing the\n",
    "argument reverse=True to the sort() method. \n",
    "\n",
    "The following example sorts\n",
    "the list of cars in reverse-alphabetical order:"
   ]
  },
  {
   "cell_type": "code",
   "execution_count": 17,
   "metadata": {},
   "outputs": [
    {
     "name": "stdout",
     "output_type": "stream",
     "text": [
      "['toyota', 'subaru', 'bmw', 'audi']\n"
     ]
    }
   ],
   "source": [
    "cars = ['bmw', 'audi', 'toyota', 'subaru']\n",
    "cars.sort(reverse=True)\n",
    "print(cars)"
   ]
  },
  {
   "cell_type": "markdown",
   "metadata": {},
   "source": [
    "Again, the order of the list is permanently changed:\n",
    "\n",
    "['toyota', 'subaru', 'bmw', 'audi']"
   ]
  },
  {
   "cell_type": "markdown",
   "metadata": {},
   "source": [
    "# Sorting a List Temporarily with the sorted() Function\n",
    "To maintain the original order of a list but present it in a sorted order, you\n",
    "can use the sorted() function. \n",
    "\n",
    "The sorted() function lets you display your list\n",
    "in a particular order, but doesn’t affect the actual order of the list.\n",
    "\n",
    "Let’s try this function on the list of cars."
   ]
  },
  {
   "cell_type": "code",
   "execution_count": 18,
   "metadata": {},
   "outputs": [
    {
     "name": "stdout",
     "output_type": "stream",
     "text": [
      "Here is the original list:\n",
      "['bmw', 'audi', 'toyota', 'subaru']\n",
      "\n",
      "Here is the sorted list:\n",
      "['audi', 'bmw', 'subaru', 'toyota']\n",
      "\n",
      "Here is the original list again:\n",
      "['bmw', 'audi', 'toyota', 'subaru']\n"
     ]
    }
   ],
   "source": [
    "cars = ['bmw', 'audi', 'toyota', 'subaru']\n",
    "print(\"Here is the original list:\")\n",
    "print(cars)\n",
    "print(\"\\nHere is the sorted list:\")\n",
    "print(sorted(cars))\n",
    "print(\"\\nHere is the original list again:\")\n",
    "print(cars)"
   ]
  },
  {
   "cell_type": "markdown",
   "metadata": {},
   "source": [
    "We first print the list in its original order and then in alphabetical\n",
    "order . After the list is displayed in the new order, we show that the list is\n",
    "still stored in its original order :\n",
    "\n",
    "Here is the original list:\n",
    "\n",
    "['bmw', 'audi', 'toyota', 'subaru']\n",
    "\n",
    "Here is the sorted list:\n",
    "\n",
    "['audi', 'bmw', 'subaru', 'toyota']\n",
    "\n",
    "Here is the original list again:\n",
    "\n",
    "['bmw', 'audi', 'toyota', 'subaru']\n",
    "\n",
    "Notice that the list still exists in its original order after the sorted()\n",
    "function has been used. The sorted() function can also accept a reverse=True\n",
    "argument if you want to display a list in reverse-alphabetical order."
   ]
  },
  {
   "cell_type": "code",
   "execution_count": 19,
   "metadata": {},
   "outputs": [
    {
     "name": "stdout",
     "output_type": "stream",
     "text": [
      "Here is the original list:\n",
      "['bmw', 'audi', 'toyota', 'subaru']\n",
      "\n",
      "Here is the sorted list:\n",
      "['toyota', 'subaru', 'bmw', 'audi']\n",
      "\n",
      "Here is the original list again:\n",
      "['bmw', 'audi', 'toyota', 'subaru']\n"
     ]
    }
   ],
   "source": [
    "cars = ['bmw', 'audi', 'toyota', 'subaru']\n",
    "print(\"Here is the original list:\")\n",
    "print(cars)\n",
    "print(\"\\nHere is the sorted list:\")\n",
    "print(sorted(cars,reverse = True))\n",
    "print(\"\\nHere is the original list again:\")\n",
    "print(cars)"
   ]
  },
  {
   "cell_type": "markdown",
   "metadata": {},
   "source": [
    "# N O T E \n",
    "\n",
    "Sorting a list alphabetically is a bit more complicated when all the values are not in\n",
    "lowercase. There are several ways to interpret capital letters when determining a sort\n",
    "order, and specifying the exact order can be more complex than we want to deal with\n",
    "at this time. \n",
    "\n",
    "However, most approaches to sorting will build directly on what you\n",
    "learned in this section."
   ]
  },
  {
   "cell_type": "markdown",
   "metadata": {},
   "source": [
    "# Printing a List in Reverse Order\n",
    "To reverse the original order of a list, you can use the reverse() method. \n",
    "\n",
    "If we originally stored the list of cars in chronological order according to when\n",
    "we owned them, we could easily rearrange the list into reverse-chronological\n",
    "order:"
   ]
  },
  {
   "cell_type": "code",
   "execution_count": 20,
   "metadata": {},
   "outputs": [
    {
     "name": "stdout",
     "output_type": "stream",
     "text": [
      "['bmw', 'audi', 'toyota', 'subaru']\n",
      "['subaru', 'toyota', 'audi', 'bmw']\n"
     ]
    }
   ],
   "source": [
    "cars = ['bmw', 'audi', 'toyota', 'subaru']\n",
    "print(cars)\n",
    "cars.reverse()\n",
    "print(cars)"
   ]
  },
  {
   "cell_type": "markdown",
   "metadata": {},
   "source": [
    "Notice that reverse() doesn’t sort backward alphabetically; \n",
    "it simply\n",
    "reverses the order of the list:\n",
    "\n",
    "['bmw', 'audi', 'toyota', 'subaru']\n",
    "\n",
    "['subaru', 'toyota', 'audi', 'bmw']\n",
    "\n",
    "The reverse() method changes the order of a list permanently, but you\n",
    "can revert to the original order anytime by applying reverse() to the same\n",
    "list a second time."
   ]
  },
  {
   "cell_type": "code",
   "execution_count": 22,
   "metadata": {},
   "outputs": [
    {
     "name": "stdout",
     "output_type": "stream",
     "text": [
      "['subaru', 'toyota', 'audi', 'bmw']\n",
      "['bmw', 'audi', 'toyota', 'subaru']\n"
     ]
    }
   ],
   "source": [
    "print(cars)\n",
    "cars.reverse()\n",
    "print(cars)"
   ]
  },
  {
   "cell_type": "markdown",
   "metadata": {},
   "source": [
    "# Finding the Length of a List\n",
    "You can quickly find the length of a list by using the len() function. \n",
    "\n",
    "The list\n",
    "in this example has four items, so its length is 4:"
   ]
  },
  {
   "cell_type": "code",
   "execution_count": 23,
   "metadata": {},
   "outputs": [
    {
     "data": {
      "text/plain": [
       "4"
      ]
     },
     "execution_count": 23,
     "metadata": {},
     "output_type": "execute_result"
    }
   ],
   "source": [
    "cars = ['bmw', 'audi', 'toyota', 'subaru']\n",
    "len(cars)"
   ]
  },
  {
   "cell_type": "markdown",
   "metadata": {},
   "source": [
    "You’ll find len() useful when you need to identify the number of aliens\n",
    "that still need to be shot down in a game, determine the amount of data\n",
    "you have to manage in a visualization, or figure out the number of regis-\n",
    "tered users on a website, among other tasks.\n",
    "# N O T E \n",
    "Python counts the items in a list starting with one, so you shouldn’t run into any\n",
    "off-by-one errors when determining the length of a list."
   ]
  },
  {
   "cell_type": "markdown",
   "metadata": {},
   "source": [
    "# Avoiding Index Errors When Working with Lists\n",
    "\n",
    "There’s one type of error that’s common to see when you’re working with\n",
    "lists for the first time. \n",
    "\n",
    "Let’s say you have a list with three items, and you ask\n",
    "for the fourth item:"
   ]
  },
  {
   "cell_type": "code",
   "execution_count": 24,
   "metadata": {},
   "outputs": [
    {
     "ename": "IndexError",
     "evalue": "list index out of range",
     "output_type": "error",
     "traceback": [
      "\u001b[0;31m---------------------------------------------------------------------------\u001b[0m",
      "\u001b[0;31mIndexError\u001b[0m                                Traceback (most recent call last)",
      "Cell \u001b[0;32mIn[24], line 2\u001b[0m\n\u001b[1;32m      1\u001b[0m motorcycles \u001b[38;5;241m=\u001b[39m [\u001b[38;5;124m'\u001b[39m\u001b[38;5;124mhonda\u001b[39m\u001b[38;5;124m'\u001b[39m, \u001b[38;5;124m'\u001b[39m\u001b[38;5;124myamaha\u001b[39m\u001b[38;5;124m'\u001b[39m, \u001b[38;5;124m'\u001b[39m\u001b[38;5;124msuzuki\u001b[39m\u001b[38;5;124m'\u001b[39m]\n\u001b[0;32m----> 2\u001b[0m \u001b[38;5;28mprint\u001b[39m(\u001b[43mmotorcycles\u001b[49m\u001b[43m[\u001b[49m\u001b[38;5;241;43m3\u001b[39;49m\u001b[43m]\u001b[49m)\n",
      "\u001b[0;31mIndexError\u001b[0m: list index out of range"
     ]
    }
   ],
   "source": [
    "motorcycles = ['honda', 'yamaha', 'suzuki']\n",
    "print(motorcycles[3])"
   ]
  },
  {
   "cell_type": "markdown",
   "metadata": {},
   "source": [
    "This example results in an index error:\n",
    "\n",
    "Traceback (most recent call last):\n",
    "\n",
    "File \"motorcycles.py\", line 2, in <module>\n",
    "\n",
    "print(motorcycles[3])\n",
    "\n",
    "~~~~~~~~~~~^^^\n",
    "\n",
    "IndexError: list index out of range"
   ]
  },
  {
   "cell_type": "markdown",
   "metadata": {},
   "source": [
    "Python attempts to give you the item at index 3. But when it searches\n",
    "the list, no item in motorcycles has an index of 3. Because of the off-by-one\n",
    "nature of indexing in lists, this error is typical. People think the third item\n",
    "is item number 3, because they start counting at 1. But in Python the third\n",
    "item is number 2, because it starts indexing at 0.\n",
    "\n",
    "An index error means Python can’t find an item at the index you\n",
    "requested. If an index error occurs in your program, try adjusting the\n",
    "index you’re asking for by one. Then run the program again to see if the\n",
    "results are correct."
   ]
  },
  {
   "cell_type": "markdown",
   "metadata": {},
   "source": [
    "Keep in mind that whenever you want to access the last item in a list,\n",
    "you should use the index -1. This will always work, even if your list has\n",
    "changed size since the last time you accessed it:"
   ]
  },
  {
   "cell_type": "code",
   "execution_count": 25,
   "metadata": {},
   "outputs": [
    {
     "name": "stdout",
     "output_type": "stream",
     "text": [
      "suzuki\n"
     ]
    }
   ],
   "source": [
    "motorcycles = ['honda', 'yamaha', 'suzuki']\n",
    "print(motorcycles[-1])"
   ]
  },
  {
   "cell_type": "markdown",
   "metadata": {},
   "source": [
    "The index -1 always returns the last item in a list, in this case the value\n",
    "'suzuki':"
   ]
  },
  {
   "cell_type": "markdown",
   "metadata": {},
   "source": [
    "The only time this approach will cause an error is when you request the\n",
    "last item from an empty list:"
   ]
  },
  {
   "cell_type": "code",
   "execution_count": 26,
   "metadata": {},
   "outputs": [
    {
     "ename": "IndexError",
     "evalue": "list index out of range",
     "output_type": "error",
     "traceback": [
      "\u001b[0;31m---------------------------------------------------------------------------\u001b[0m",
      "\u001b[0;31mIndexError\u001b[0m                                Traceback (most recent call last)",
      "Cell \u001b[0;32mIn[26], line 2\u001b[0m\n\u001b[1;32m      1\u001b[0m motorcycles \u001b[38;5;241m=\u001b[39m []\n\u001b[0;32m----> 2\u001b[0m \u001b[38;5;28mprint\u001b[39m(\u001b[43mmotorcycles\u001b[49m\u001b[43m[\u001b[49m\u001b[38;5;241;43m-\u001b[39;49m\u001b[38;5;241;43m1\u001b[39;49m\u001b[43m]\u001b[49m)\n",
      "\u001b[0;31mIndexError\u001b[0m: list index out of range"
     ]
    }
   ],
   "source": [
    "motorcycles = []\n",
    "print(motorcycles[-1])"
   ]
  },
  {
   "cell_type": "markdown",
   "metadata": {},
   "source": [
    "No items are in motorcycles, so Python returns another\n",
    "\n",
    " index error:\n",
    "\n",
    "Traceback (most recent call last):\n",
    "\n",
    "File \"motorcyles.py\", line 3, in <module>\n",
    "\n",
    "print(motorcycles[-1])\n",
    "\n",
    "~~~~~~~~~~~^^^^\n",
    "\n",
    "IndexError: list index out of range"
   ]
  },
  {
   "cell_type": "code",
   "execution_count": null,
   "metadata": {},
   "outputs": [],
   "source": []
  }
 ],
 "metadata": {
  "kernelspec": {
   "display_name": "Python 3",
   "language": "python",
   "name": "python3"
  },
  "language_info": {
   "codemirror_mode": {
    "name": "ipython",
    "version": 3
   },
   "file_extension": ".py",
   "mimetype": "text/x-python",
   "name": "python",
   "nbconvert_exporter": "python",
   "pygments_lexer": "ipython3",
   "version": "3.12.5"
  }
 },
 "nbformat": 4,
 "nbformat_minor": 2
}
