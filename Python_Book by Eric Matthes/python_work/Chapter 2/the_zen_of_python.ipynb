{
 "cells": [
  {
   "cell_type": "markdown",
   "metadata": {},
   "source": [
    "# The Zen of Python\n",
    "Experienced Python programmers will encourage you to avoid complexity\n",
    "and aim for simplicity whenever possible. The Python community’s philosophy is contained in “The Zen of Python” by Tim Peters. You can access this\n",
    "brief set of principles for writing good Python code by entering import this\n",
    "into your interpreter. I won’t reproduce the entire “Zen of Python” here, but\n",
    "I’ll share a few lines to help you understand why they should be important\n",
    "to you as a beginning Python programmer."
   ]
  },
  {
   "cell_type": "code",
   "execution_count": 1,
   "metadata": {},
   "outputs": [
    {
     "name": "stdout",
     "output_type": "stream",
     "text": [
      "The Zen of Python, by Tim Peters\n",
      "\n",
      "Beautiful is better than ugly.\n",
      "Explicit is better than implicit.\n",
      "Simple is better than complex.\n",
      "Complex is better than complicated.\n",
      "Flat is better than nested.\n",
      "Sparse is better than dense.\n",
      "Readability counts.\n",
      "Special cases aren't special enough to break the rules.\n",
      "Although practicality beats purity.\n",
      "Errors should never pass silently.\n",
      "Unless explicitly silenced.\n",
      "In the face of ambiguity, refuse the temptation to guess.\n",
      "There should be one-- and preferably only one --obvious way to do it.\n",
      "Although that way may not be obvious at first unless you're Dutch.\n",
      "Now is better than never.\n",
      "Although never is often better than *right* now.\n",
      "If the implementation is hard to explain, it's a bad idea.\n",
      "If the implementation is easy to explain, it may be a good idea.\n",
      "Namespaces are one honking great idea -- let's do more of those!\n"
     ]
    }
   ],
   "source": [
    "import this"
   ]
  },
  {
   "cell_type": "markdown",
   "metadata": {},
   "source": [
    "Python programmers embrace the notion that code can be beautiful\n",
    "and elegant. In programming, people solve problems. Programmers have\n",
    "always respected well-designed, efficient, and even beautiful solutions to\n",
    "problems. As you learn more about Python and use it to write more code, someone might look over your shoulder one day and say, “Wow, that’s some\n",
    "beautiful code!”"
   ]
  },
  {
   "cell_type": "markdown",
   "metadata": {},
   "source": [
    "# Simple is better than complex.\n",
    "\n",
    "If you have a choice between a simple and a complex solution, and both\n",
    "work, use the simple solution. Your code will be easier to maintain, and it\n",
    "will be easier for you and others to build on that code later on."
   ]
  },
  {
   "cell_type": "markdown",
   "metadata": {},
   "source": [
    "# Complex is better than complicated.\n",
    "\n",
    "Real life is messy, and sometimes a simple solution to a problem is unattainable. In that case, use the simplest solution that works."
   ]
  },
  {
   "cell_type": "markdown",
   "metadata": {},
   "source": [
    "# Readability counts.\n",
    "\n",
    "Even when your code is complex, aim to make it readable. When you’re\n",
    "working on a project that involves complex coding, focus on writing infor-\n",
    "mative comments for that code."
   ]
  },
  {
   "cell_type": "markdown",
   "metadata": {},
   "source": [
    "# There should be one-- and preferably only one --obvious way to do it.\n",
    "\n",
    "If two Python programmers are asked to solve the same problem, they\n",
    "should come up with fairly compatible solutions. This is not to say there’s\n",
    "no room for creativity in programming. On the contrary, there is plenty of\n",
    "room for creativity! However, much of programming consists of using small,\n",
    "common approaches to simple situations within a larger, more creative\n",
    "project. The nuts and bolts of your programs should make sense to other\n",
    "Python programmers."
   ]
  },
  {
   "cell_type": "markdown",
   "metadata": {},
   "source": [
    "# Now is better than never.\n",
    "You could spend the rest of your life learning all the intricacies of\n",
    "Python and of programming in general, but then you’d never complete any\n",
    "projects. Don’t try to write perfect code; write code that works, and then\n",
    "decide whether to improve your code for that project or move on to some-\n",
    "thing new."
   ]
  },
  {
   "cell_type": "markdown",
   "metadata": {},
   "source": []
  },
  {
   "cell_type": "markdown",
   "metadata": {},
   "source": []
  },
  {
   "cell_type": "code",
   "execution_count": null,
   "metadata": {},
   "outputs": [],
   "source": []
  }
 ],
 "metadata": {
  "kernelspec": {
   "display_name": "Python 3",
   "language": "python",
   "name": "python3"
  },
  "language_info": {
   "codemirror_mode": {
    "name": "ipython",
    "version": 3
   },
   "file_extension": ".py",
   "mimetype": "text/x-python",
   "name": "python",
   "nbconvert_exporter": "python",
   "pygments_lexer": "ipython3",
   "version": "3.12.5"
  }
 },
 "nbformat": 4,
 "nbformat_minor": 2
}
