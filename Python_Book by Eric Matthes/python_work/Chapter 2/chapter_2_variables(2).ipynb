{
 "cells": [
  {
   "cell_type": "markdown",
   "metadata": {},
   "source": [
    "# Variables\n",
    "We’ve added a variable named message. Every variable is connected to a\n",
    "value, which is the information associated with that variable. In this case\n",
    "the value is the \"Hello Python world!\" text.\n",
    "Adding a variable makes a little more work for the Python interpreter.\n",
    "When it processes the first line, it associates the variable message with the\n",
    "\"Hello Python world!\" text. When it reaches the second line, it prints the\n",
    "value associated with message to the screen."
   ]
  },
  {
   "cell_type": "code",
   "execution_count": 1,
   "metadata": {},
   "outputs": [
    {
     "name": "stdout",
     "output_type": "stream",
     "text": [
      "Hello Python World!\n"
     ]
    }
   ],
   "source": [
    "message = \"Hello Python World!\"\n",
    "print (message)"
   ]
  },
  {
   "cell_type": "code",
   "execution_count": 2,
   "metadata": {},
   "outputs": [
    {
     "name": "stdout",
     "output_type": "stream",
     "text": [
      "Hello Python Crash Course world!\n"
     ]
    }
   ],
   "source": [
    "message = \"Hello Python Crash Course world!\"\n",
    "print(message)"
   ]
  },
  {
   "cell_type": "markdown",
   "metadata": {},
   "source": []
  },
  {
   "cell_type": "markdown",
   "metadata": {},
   "source": [
    "# Naming and Using Variables\n",
    "When you’re using variables in Python, you need to adhere to a few rules\n",
    "and guidelines. Breaking some of these rules will cause errors; other guide-\n",
    "lines just help you write code that’s easier to read and understand. Be sure\n",
    "to keep the following rules in mind when working with variables:\n",
    "\n",
    "• Variable names can contain only letters, numbers, and underscores.\n",
    "They can start with a letter or an underscore, but not with a number.\n",
    "For instance, you can call a variable message_1 but not 1_message.\n",
    "\n",
    "• Spaces are not allowed in variable names, but underscores can be used\n",
    "to separate words in variable names. For example, greeting_message works\n",
    "but greeting message will cause errors.\n",
    "\n",
    "• Avoid using Python keywords and function names as variable names.\n",
    "For example, do not use the word print as a variable name; Python\n",
    "has reserved it for a particular programmatic purpose. \n",
    "\n",
    "• Variable names should be short but descriptive. For example, name is\n",
    "better than n, student_name is better than s_n, and name_length is better\n",
    "than length_of_persons_name.\n",
    "\n",
    "• Be careful when using the lowercase letter l and the uppercase letter O\n",
    "because they could be confused with the numbers 1 and 0.\n",
    "\n",
    "It can take some practice to learn how to create good variable names,\n",
    "especially as your programs become more interesting and complicated.\n",
    "As you write more programs and start to read through other people’s code,\n",
    "you’ll get better at coming up with meaningful names."
   ]
  },
  {
   "cell_type": "markdown",
   "metadata": {},
   "source": []
  },
  {
   "cell_type": "markdown",
   "metadata": {},
   "source": [
    "# Avoiding Name Errors When Using Variables\n",
    "Every programmer makes mistakes, and most make mistakes every day.\n",
    "Although good programmers might create errors, they also know how to\n",
    "respond to those errors efficiently. Let’s look at an error you’re likely to\n",
    "make early on and learn how to fix it.\n",
    "\n",
    "We’ll write some code that generates an error on purpose. Enter the fol-\n",
    "lowing code, including the misspelled word mesage, which is shown in bold:\n"
   ]
  },
  {
   "cell_type": "code",
   "execution_count": 3,
   "metadata": {},
   "outputs": [
    {
     "ename": "NameError",
     "evalue": "name 'mesage' is not defined",
     "output_type": "error",
     "traceback": [
      "\u001b[0;31m---------------------------------------------------------------------------\u001b[0m",
      "\u001b[0;31mNameError\u001b[0m                                 Traceback (most recent call last)",
      "Cell \u001b[0;32mIn[3], line 2\u001b[0m\n\u001b[1;32m      1\u001b[0m message \u001b[38;5;241m=\u001b[39m \u001b[38;5;124m\"\u001b[39m\u001b[38;5;124mHello Python Crash Course reader!\u001b[39m\u001b[38;5;124m\"\u001b[39m\n\u001b[0;32m----> 2\u001b[0m \u001b[38;5;28mprint\u001b[39m(\u001b[43mmesage\u001b[49m)\n",
      "\u001b[0;31mNameError\u001b[0m: name 'mesage' is not defined"
     ]
    }
   ],
   "source": [
    "message = \"Hello Python Crash Course reader!\"\n",
    "print(mesage)"
   ]
  },
  {
   "cell_type": "markdown",
   "metadata": {},
   "source": [
    "When an error occurs in your program, the Python interpreter does its\n",
    "best to help you figure out where the problem is. The interpreter provides\n",
    "a traceback when a program cannot run successfully. A traceback is a record\n",
    "of where the interpreter ran into trouble when trying to execute your code.\n",
    "\n",
    "Here’s an example of the traceback that Python provides after you’ve acci-\n",
    "dentally misspelled a variable’s name:\n",
    "\n",
    "Traceback (most recent call last):\n",
    "File \"hello_world.py\", line 2, in <module>\n",
    "\n",
    "print(mesage)\n",
    "\n",
    "^^^^^^\n",
    "NameError: name 'mesage' is not defined. Did you mean: 'message'?"
   ]
  },
  {
   "cell_type": "markdown",
   "metadata": {},
   "source": []
  },
  {
   "cell_type": "markdown",
   "metadata": {},
   "source": [
    "The output reports that an error occurs in line 2 of the file hello_world.py .\n",
    "The interpreter shows this line to help us spot the error quickly and\n",
    "tells us what kind of error it found . In this case it found a name error\n",
    "and reports that the variable being printed, mesage, has not been defined.\n",
    "Python can’t identify the variable name provided. A name error usually\n",
    "means we either forgot to set a variable’s value before using it, or we made a spelling mistake when entering the variable’s name. If Python finds a variable name that’s similar to the one it doesn’t recognize, it will ask if that’s\n",
    "the name you meant to use.\n",
    "\n",
    "In this example we omitted the letter s in the variable name message in\n",
    "the second line. The Python interpreter doesn’t spellcheck your code, but\n",
    "it does ensure that variable names are spelled consistently. \n",
    "For example,\n",
    "watch what happens when we spell message incorrectly in the line that\n",
    "defines the variable:"
   ]
  },
  {
   "cell_type": "code",
   "execution_count": 4,
   "metadata": {},
   "outputs": [
    {
     "name": "stdout",
     "output_type": "stream",
     "text": [
      "Hello Python Crash Course reader!\n"
     ]
    }
   ],
   "source": [
    "mesage = \"Hello Python Crash Course reader!\"\n",
    "print(mesage)"
   ]
  },
  {
   "cell_type": "markdown",
   "metadata": {},
   "source": [
    "In this case, the program runs successfully!\n",
    "Hello Python Crash Course reader!\n",
    "The variable names match, so Python sees no issue. Programming lan-\n",
    "guages are strict, but they disregard good and bad spelling. As a result, you\n",
    "don’t need to consider English spelling and grammar rules when you’re try-\n",
    "ing to create variable names and writing code.\n",
    "\n",
    "Many programming errors are simple, single-character typos in one\n",
    "line of a program. If you find yourself spending a long time searching for\n",
    "one of these errors, know that you’re in good company. \n",
    "\n",
    "Many experienced\n",
    "and talented programmers spend hours hunting down these kinds of tiny\n",
    "errors. Try to laugh about it and move on, knowing it will happen frequently\n",
    "throughout your programming life."
   ]
  },
  {
   "cell_type": "markdown",
   "metadata": {},
   "source": [
    "# Variables Are Labels\n",
    "\n",
    "Variables are often described as boxes you can store values in. This idea can\n",
    "be helpful the first few times you use a variable, but it isn’t an accurate way\n",
    "to describe how variables are represented internally in Python. It’s much\n",
    "better to think of variables as labels that you can assign to values. You can\n",
    "also say that a variable references a certain value."
   ]
  },
  {
   "cell_type": "markdown",
   "metadata": {},
   "source": [
    "# 2-1. Simple Message: \n",
    "Assign a message to a variable, and then print that\n",
    "message."
   ]
  },
  {
   "cell_type": "markdown",
   "metadata": {},
   "source": []
  },
  {
   "cell_type": "code",
   "execution_count": 2,
   "metadata": {},
   "outputs": [
    {
     "name": "stdout",
     "output_type": "stream",
     "text": [
      "Hi! how are you?\n"
     ]
    }
   ],
   "source": [
    "simple_message = \"Hi! how are you?\"\n",
    "print(simple_message)"
   ]
  },
  {
   "cell_type": "markdown",
   "metadata": {},
   "source": [
    "# 2-2. Simple Messages: \n",
    "Assign a message to a variable, and print that message. Then change the value of the variable to a new message, and print the new\n",
    "message."
   ]
  },
  {
   "cell_type": "code",
   "execution_count": null,
   "metadata": {},
   "outputs": [],
   "source": [
    "simple_message = \"Hi! how are you?\"\n",
    "print(simple_message)"
   ]
  },
  {
   "cell_type": "code",
   "execution_count": 3,
   "metadata": {},
   "outputs": [
    {
     "name": "stdout",
     "output_type": "stream",
     "text": [
      "Hello! I am fine. What about you?\n"
     ]
    }
   ],
   "source": [
    "simple_message = \"Hello! I am fine. What about you?\"\n",
    "print(simple_message)"
   ]
  },
  {
   "cell_type": "markdown",
   "metadata": {},
   "source": [
    "# Strings\n",
    "Because most programs define and gather some sort of data and then do\n",
    "something useful with it, it helps to classify different types of data. The first\n",
    "data type we’ll look at is the string. Strings are quite simple at first glance,\n",
    "but you can use them in many different ways.\n",
    "\n",
    "A string is a series of characters. Anything inside quotes is considered\n",
    "a string in Python, and you can use single or double quotes around your\n",
    "strings like this:"
   ]
  },
  {
   "cell_type": "code",
   "execution_count": 4,
   "metadata": {},
   "outputs": [
    {
     "data": {
      "text/plain": [
       "'This is also a string.'"
      ]
     },
     "execution_count": 4,
     "metadata": {},
     "output_type": "execute_result"
    }
   ],
   "source": [
    "\"This is a string.\"\n",
    "\n",
    "'This is also a string.'"
   ]
  },
  {
   "cell_type": "markdown",
   "metadata": {},
   "source": [
    "This flexibility allows you to use quotes and apostrophes within your\n",
    "strings:"
   ]
  },
  {
   "cell_type": "code",
   "execution_count": 5,
   "metadata": {},
   "outputs": [
    {
     "data": {
      "text/plain": [
       "\"One of Python's strengths is its diverse and supportive community.\""
      ]
     },
     "execution_count": 5,
     "metadata": {},
     "output_type": "execute_result"
    }
   ],
   "source": [
    "'I told my friend, \"Python is my favorite language!\"'\n",
    "\"The language 'Python' is named after Monty Python, not the snake.\"\n",
    "\"One of Python's strengths is its diverse and supportive community.\""
   ]
  },
  {
   "cell_type": "markdown",
   "metadata": {},
   "source": [
    "# Let’s explore some of the ways you can use strings."
   ]
  },
  {
   "cell_type": "markdown",
   "metadata": {},
   "source": [
    "# Changing Case in a String with Methods\n",
    "\n",
    "One of the simplest tasks you can do with strings is change the case of the\n",
    "words in a string. Look at the following code, and try to determine what’s\n",
    "happening:"
   ]
  },
  {
   "cell_type": "code",
   "execution_count": 6,
   "metadata": {},
   "outputs": [
    {
     "name": "stdout",
     "output_type": "stream",
     "text": [
      "Ada Lovelace\n"
     ]
    }
   ],
   "source": [
    "name = \"ada lovelace\"\n",
    "print(name.title())"
   ]
  },
  {
   "cell_type": "markdown",
   "metadata": {},
   "source": [
    "In this example, the variable name refers to the lowercase string \"ada\n",
    "lovelace\". The method title() appears after the variable in the print() call. A\n",
    "method is an action that Python can perform on a piece of data. The dot (.)\n",
    "after name in name.title() tells Python to make the title() method act on\n",
    "the variable name. Every method is followed by a set of parentheses, because\n",
    "methods often need additional information to do their work. That informa-\n",
    "tion is provided inside the parentheses. The title() function doesn’t need\n",
    "any additional information, so its parentheses are empty.\n",
    "\n",
    "The title() method changes each word to title case, where each word\n",
    "begins with a capital letter. This is useful because you’ll often want to think\n",
    "of a name as a piece of information. For example, you might want your pro-\n",
    "gram to recognize the input values Ada, ADA, and ada as the same name, and\n",
    "display all of them as Ada."
   ]
  },
  {
   "cell_type": "markdown",
   "metadata": {},
   "source": [
    "Several other useful methods are available for dealing with case as well.\n",
    "For example, you can change a string to all uppercase or all lowercase let-\n",
    "ters like this:"
   ]
  },
  {
   "cell_type": "code",
   "execution_count": 7,
   "metadata": {},
   "outputs": [
    {
     "name": "stdout",
     "output_type": "stream",
     "text": [
      "ADA LOVELACE\n",
      "ada lovelace\n"
     ]
    }
   ],
   "source": [
    "name = \"Ada Lovelace\"\n",
    "print(name.upper())\n",
    "print(name.lower())"
   ]
  },
  {
   "cell_type": "markdown",
   "metadata": {},
   "source": [
    "The lower() method is particularly useful for storing data. You typi-\n",
    "cally won’t want to trust the capitalization that your users provide, so you’ll\n",
    "convert strings to lowercase before storing them. Then when you want to\n",
    "display the information, you’ll use the case that makes the most sense for\n",
    "each string."
   ]
  },
  {
   "cell_type": "markdown",
   "metadata": {},
   "source": [
    "# Using Variables in Strings\n",
    "In some situations, you’ll want to use a variable’s value inside a string. For\n",
    "example, you might want to use two variables to represent a first name and a last name, respectively, and then combine those values to display some-\n",
    "one’s full name:"
   ]
  },
  {
   "cell_type": "code",
   "execution_count": 8,
   "metadata": {},
   "outputs": [
    {
     "name": "stdout",
     "output_type": "stream",
     "text": [
      "ada lovelace\n"
     ]
    }
   ],
   "source": [
    "first_name = \"ada\"\n",
    "last_name = \"lovelace\"\n",
    "full_name = f\"{first_name} {last_name}\"\n",
    "print(full_name)"
   ]
  },
  {
   "cell_type": "markdown",
   "metadata": {},
   "source": [
    "To insert a variable’s value into a string, place the letter f immediately\n",
    "before the opening quotation mark . Put braces around the name or\n",
    "names of any variable you want to use inside the string. Python will replace\n",
    "each variable with its value when the string is displayed.\n",
    "These strings are called f-strings. The f is for format, because Python\n",
    "formats the string by replacing the name of any variable in braces with its\n",
    "value."
   ]
  },
  {
   "cell_type": "markdown",
   "metadata": {},
   "source": [
    "You can do a lot with f-strings. For example, you can use f-strings to\n",
    "compose complete messages using the information associated with a variable, as shown here:"
   ]
  },
  {
   "cell_type": "code",
   "execution_count": 9,
   "metadata": {},
   "outputs": [
    {
     "name": "stdout",
     "output_type": "stream",
     "text": [
      "Hello, Ada Lovelace!\n"
     ]
    }
   ],
   "source": [
    "first_name = \"ada\"\n",
    "last_name = \"lovelace\"\n",
    "full_name = f\"{first_name} {last_name}\"\n",
    "print(f\"Hello, {full_name.title()}!\")"
   ]
  },
  {
   "cell_type": "markdown",
   "metadata": {},
   "source": [
    "The full name is used in a sentence that greets the user , and the\n",
    "title() method changes the name to title case. This code returns a simple\n",
    "but nicely formatted greeting:"
   ]
  },
  {
   "cell_type": "markdown",
   "metadata": {},
   "source": [
    "You can also use f-strings to compose a message, and then assign the\n",
    "entire message to a variable:"
   ]
  },
  {
   "cell_type": "code",
   "execution_count": 10,
   "metadata": {},
   "outputs": [
    {
     "name": "stdout",
     "output_type": "stream",
     "text": [
      "Hello, Ada Lovelace!\n"
     ]
    }
   ],
   "source": [
    "first_name = \"ada\"\n",
    "last_name = \"lovelace\"\n",
    "full_name = f\"{first_name} {last_name}\"\n",
    "message = f\"Hello, {full_name.title()}!\"\n",
    "print(message)"
   ]
  },
  {
   "cell_type": "markdown",
   "metadata": {},
   "source": [
    "This code displays the message Hello, Ada Lovelace! as well, but by\n",
    "assigning the message to a variable we make the final print() call much\n",
    "simpler ."
   ]
  },
  {
   "cell_type": "markdown",
   "metadata": {},
   "source": [
    "# Adding Whitespace to Strings with Tabs or Newlines\n",
    "In programming, whitespace refers to any non_printing characters, such as\n",
    "spaces, tabs, and end-of-line symbols. You can use whitespace to organize\n",
    "your output so it’s easier for users to read."
   ]
  },
  {
   "cell_type": "markdown",
   "metadata": {},
   "source": [
    "# To add a tab to your text, use the character combination \\t:"
   ]
  },
  {
   "cell_type": "code",
   "execution_count": 11,
   "metadata": {},
   "outputs": [
    {
     "name": "stdout",
     "output_type": "stream",
     "text": [
      "python\n"
     ]
    }
   ],
   "source": [
    "print(\"python\")"
   ]
  },
  {
   "cell_type": "code",
   "execution_count": 12,
   "metadata": {},
   "outputs": [
    {
     "name": "stdout",
     "output_type": "stream",
     "text": [
      "\tpython\n"
     ]
    }
   ],
   "source": [
    "print(\"\\tpython\")"
   ]
  },
  {
   "cell_type": "code",
   "execution_count": 13,
   "metadata": {},
   "outputs": [
    {
     "name": "stdout",
     "output_type": "stream",
     "text": [
      "pyt\thon\n"
     ]
    }
   ],
   "source": [
    "print(\"pyt\\thon\")"
   ]
  },
  {
   "cell_type": "code",
   "execution_count": 15,
   "metadata": {},
   "outputs": [
    {
     "name": "stdout",
     "output_type": "stream",
     "text": [
      "python\t!\n"
     ]
    }
   ],
   "source": [
    "print(\"python\\t!\") "
   ]
  },
  {
   "cell_type": "markdown",
   "metadata": {},
   "source": [
    "# To add a newline in a string, use the character combination \\n:"
   ]
  },
  {
   "cell_type": "code",
   "execution_count": 16,
   "metadata": {},
   "outputs": [
    {
     "name": "stdout",
     "output_type": "stream",
     "text": [
      "Languages:\n",
      "Python\n",
      "C\n",
      "JavaScript\n"
     ]
    }
   ],
   "source": [
    "print(\"Languages:\\nPython\\nC\\nJavaScript\")"
   ]
  },
  {
   "cell_type": "markdown",
   "metadata": {},
   "source": [
    "You can also combine tabs and newlines in a single string. The string\n",
    "\"\\n\\t\" tells Python to move to a new line, and start the next line with a tab.\n",
    "The following example shows how you can use a one-line string to generate\n",
    "four lines of output:"
   ]
  },
  {
   "cell_type": "code",
   "execution_count": 17,
   "metadata": {},
   "outputs": [
    {
     "name": "stdout",
     "output_type": "stream",
     "text": [
      "Languages:\n",
      "\tPython\n",
      "\tC\n",
      "\tJavaScript\n"
     ]
    }
   ],
   "source": [
    "print(\"Languages:\\n\\tPython\\n\\tC\\n\\tJavaScript\")"
   ]
  },
  {
   "cell_type": "markdown",
   "metadata": {},
   "source": [
    "# Stripping Whitespace\n",
    "\n",
    "Extra whitespace can be confusing in your programs. To programmers,\n",
    "'python' and 'python ' look pretty much the same. But to a program, they\n",
    "are two different strings. Python detects the extra space in 'python ' and\n",
    "considers it significant unless you tell it otherwise.\n",
    "\n",
    "It’s important to think about whitespace, because often you’ll want to\n",
    "compare two strings to determine whether they are the same. For example,\n",
    "one important instance might involve checking people’s usernames when\n",
    "they log in to a website. Extra whitespace can be confusing in much simpler situations as well. Fortunately, Python makes it easy to eliminate extra\n",
    "whitespace from data that people enter."
   ]
  },
  {
   "cell_type": "markdown",
   "metadata": {},
   "source": [
    "Python can look for extra whitespace on the right and left sides of a\n",
    "string.\n",
    " \n",
    "To ensure that no whitespace exists at the right side of a string, use\n",
    "the rstrip() method:"
   ]
  },
  {
   "cell_type": "code",
   "execution_count": 25,
   "metadata": {},
   "outputs": [
    {
     "data": {
      "text/plain": [
       "'python '"
      ]
     },
     "execution_count": 25,
     "metadata": {},
     "output_type": "execute_result"
    }
   ],
   "source": [
    "favorite_language = 'python '\n",
    "favorite_language"
   ]
  },
  {
   "cell_type": "code",
   "execution_count": 26,
   "metadata": {},
   "outputs": [
    {
     "data": {
      "text/plain": [
       "'python'"
      ]
     },
     "execution_count": 26,
     "metadata": {},
     "output_type": "execute_result"
    }
   ],
   "source": [
    "favorite_language = 'python '\n",
    "favorite_language.rstrip()"
   ]
  },
  {
   "cell_type": "markdown",
   "metadata": {},
   "source": [
    "The value associated with favorite_language contains extra whitespace\n",
    "at the end of the string. When you ask Python for this value in a termi-\n",
    "nal session, you can see the space at the end of the value . When the\n",
    "rstrip() method acts on the variable favorite_language , this extra space is\n",
    "removed. However, it is only removed temporarily. If you ask for the value\n",
    "of favorite_language again, the string looks the same as when it was entered,\n",
    "including the extra whitespace ."
   ]
  },
  {
   "cell_type": "markdown",
   "metadata": {},
   "source": [
    "To remove the whitespace from the string permanently, you have to\n",
    "associate the stripped value with the variable name:"
   ]
  },
  {
   "cell_type": "code",
   "execution_count": 27,
   "metadata": {},
   "outputs": [
    {
     "data": {
      "text/plain": [
       "'python'"
      ]
     },
     "execution_count": 27,
     "metadata": {},
     "output_type": "execute_result"
    }
   ],
   "source": [
    "favorite_language = 'python '\n",
    "favorite_language = favorite_language.rstrip()\n",
    "favorite_language"
   ]
  },
  {
   "cell_type": "markdown",
   "metadata": {},
   "source": [
    "To remove the whitespace from the string, you strip the whitespace\n",
    "from the right side of the string and then associate this new value with\n",
    "the original variable . Changing a variable’s value is done often in pro-\n",
    "gramming. This is how a variable’s value can be updated as a program is\n",
    "executed or in response to user input.\n",
    "\n",
    "\n",
    "You can also strip whitespace from the left side of a string using the\n",
    "lstrip() method, or from both sides at once using strip():"
   ]
  },
  {
   "cell_type": "code",
   "execution_count": 32,
   "metadata": {},
   "outputs": [],
   "source": [
    "favorite_language = ' python '"
   ]
  },
  {
   "cell_type": "code",
   "execution_count": 29,
   "metadata": {},
   "outputs": [
    {
     "data": {
      "text/plain": [
       "' python'"
      ]
     },
     "execution_count": 29,
     "metadata": {},
     "output_type": "execute_result"
    }
   ],
   "source": [
    "favorite_language.rstrip()"
   ]
  },
  {
   "cell_type": "code",
   "execution_count": 30,
   "metadata": {},
   "outputs": [
    {
     "data": {
      "text/plain": [
       "'python '"
      ]
     },
     "execution_count": 30,
     "metadata": {},
     "output_type": "execute_result"
    }
   ],
   "source": [
    "favorite_language.lstrip()"
   ]
  },
  {
   "cell_type": "code",
   "execution_count": 31,
   "metadata": {},
   "outputs": [
    {
     "data": {
      "text/plain": [
       "'python'"
      ]
     },
     "execution_count": 31,
     "metadata": {},
     "output_type": "execute_result"
    }
   ],
   "source": [
    "favorite_language.strip()"
   ]
  },
  {
   "cell_type": "markdown",
   "metadata": {},
   "source": [
    "In this example, we start with a value that has whitespace at the begin-\n",
    "ning and the end . We then remove the extra space from the right side ,\n",
    "from the left side , and from both sides . Experimenting with these strip-\n",
    "ping functions can help you become familiar with manipulating strings. In\n",
    "the real world, these stripping functions are used most often to clean up\n",
    "user input before it’s stored in a program."
   ]
  },
  {
   "cell_type": "markdown",
   "metadata": {},
   "source": [
    "# Removing Prefixes\n",
    "\n",
    "When working with strings, another common task is to remove a prefix.\n",
    "Consider a URL with the common prefix https://. We want to remove this\n",
    "prefix, so we can focus on just the part of the URL that users need to enter\n",
    "into an address bar.\n",
    "\n",
    " Here’s how to do that:"
   ]
  },
  {
   "cell_type": "code",
   "execution_count": 33,
   "metadata": {},
   "outputs": [
    {
     "data": {
      "text/plain": [
       "'nostarch.com'"
      ]
     },
     "execution_count": 33,
     "metadata": {},
     "output_type": "execute_result"
    }
   ],
   "source": [
    "nostarch_url = 'https://nostarch.com'\n",
    "nostarch_url.removeprefix('https://')"
   ]
  },
  {
   "cell_type": "markdown",
   "metadata": {},
   "source": [
    "Enter the name of the variable followed by a dot, and then the method\n",
    "removeprefix(). Inside the parentheses, enter the prefix you want to remove\n",
    "from the original string.\n",
    "\n",
    "\n",
    "Like the methods for removing whitespace, removeprefix() leaves the\n",
    "original string unchanged. If you want to keep the new value with the pre-\n",
    "fix removed, either reassign it to the original variable or assign it to a new\n",
    "variable:"
   ]
  },
  {
   "cell_type": "code",
   "execution_count": 35,
   "metadata": {},
   "outputs": [
    {
     "data": {
      "text/plain": [
       "'nostarch.com'"
      ]
     },
     "execution_count": 35,
     "metadata": {},
     "output_type": "execute_result"
    }
   ],
   "source": [
    "simple_url = nostarch_url.removeprefix('https://')\n",
    "simple_url"
   ]
  },
  {
   "cell_type": "markdown",
   "metadata": {},
   "source": [
    "When you see a URL in an address bar and the https:// part isn’t shown,\n",
    "the browser is probably using a method like removeprefix() behind the\n",
    "scenes."
   ]
  },
  {
   "cell_type": "markdown",
   "metadata": {},
   "source": [
    "# Avoiding Syntax Errors with Strings\n",
    "One kind of error that you might see with some regularity is a syntax error.\n",
    "A syntax error occurs when Python doesn’t recognize a section of your pro-\n",
    "gram as valid Python code. For example, if you use an apostrophe within\n",
    "single quotes, you’ll produce an error. This happens because Python interprets everything between the first single quote and the apostrophe as a\n",
    "string. It then tries to interpret the rest of the text as Python code, which\n",
    "causes errors.\n",
    "\n",
    "Here’s how to use single and double quotes correctly. "
   ]
  },
  {
   "cell_type": "code",
   "execution_count": 36,
   "metadata": {},
   "outputs": [
    {
     "name": "stdout",
     "output_type": "stream",
     "text": [
      "One of Python's strengths is its diverse community.\n"
     ]
    }
   ],
   "source": [
    "message = \"One of Python's strengths is its diverse community.\"\n",
    "print(message)"
   ]
  },
  {
   "cell_type": "markdown",
   "metadata": {},
   "source": [
    "The apostrophe appears inside a set of double quotes, so the Python\n",
    "interpreter has no trouble reading the string correctly:"
   ]
  },
  {
   "cell_type": "markdown",
   "metadata": {},
   "source": [
    "However, if you use single quotes, Python can’t identify where the string\n",
    "should end:"
   ]
  },
  {
   "cell_type": "code",
   "execution_count": 37,
   "metadata": {},
   "outputs": [
    {
     "ename": "SyntaxError",
     "evalue": "unterminated string literal (detected at line 1) (1265700866.py, line 1)",
     "output_type": "error",
     "traceback": [
      "\u001b[0;36m  Cell \u001b[0;32mIn[37], line 1\u001b[0;36m\u001b[0m\n\u001b[0;31m    message = 'One of Python's strengths is its diverse community.'\u001b[0m\n\u001b[0m                                                                  ^\u001b[0m\n\u001b[0;31mSyntaxError\u001b[0m\u001b[0;31m:\u001b[0m unterminated string literal (detected at line 1)\n"
     ]
    }
   ],
   "source": [
    "message = 'One of Python's strengths is its diverse community.'\n",
    "print(message)"
   ]
  },
  {
   "cell_type": "markdown",
   "metadata": {},
   "source": [
    "You’ll see the following output:\n",
    "\n",
    "File \"apostrophe.py\", line 1\n",
    "\n",
    "message = 'One of Python's strengths is its diverse community.'\n",
    "\n",
    "^\n",
    "SyntaxError: unterminated string literal (detected at line 1)\n",
    "\n",
    "In the output you can see that the error occurs right after the final single\n",
    "quote . \n",
    "\n",
    "This syntax error indicates that the interpreter doesn’t recognize.\n",
    "\n",
    "something in the code as valid Python code, and it thinks the problem might\n",
    "be a string that’s not quoted correctly. Errors can come from a variety of\n",
    "sources, and I’ll point out some common ones as they arise. You might see\n",
    "syntax errors often as you learn to write proper Python code. Syntax errors\n",
    "are also the least specific kind of error, so they can be difficult and frustrat-\n",
    "ing to identify and correct. "
   ]
  },
  {
   "cell_type": "markdown",
   "metadata": {},
   "source": [
    "Escape the single quote using a backslash (\\): If you want to use single quotes to enclose the string, you can escape the single quote inside the string."
   ]
  },
  {
   "cell_type": "code",
   "execution_count": null,
   "metadata": {},
   "outputs": [],
   "source": [
    "message = 'One of Python\\'s strengths is its diverse community.'\n",
    "print(message)"
   ]
  }
 ],
 "metadata": {
  "kernelspec": {
   "display_name": "Python 3",
   "language": "python",
   "name": "python3"
  },
  "language_info": {
   "codemirror_mode": {
    "name": "ipython",
    "version": 3
   },
   "file_extension": ".py",
   "mimetype": "text/x-python",
   "name": "python",
   "nbconvert_exporter": "python",
   "pygments_lexer": "ipython3",
   "version": "3.12.5"
  }
 },
 "nbformat": 4,
 "nbformat_minor": 2
}
