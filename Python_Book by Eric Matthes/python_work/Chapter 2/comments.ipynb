{
 "cells": [
  {
   "cell_type": "markdown",
   "metadata": {},
   "source": [
    "# Comments\n",
    "Comments are an extremely useful feature in most programming languages. Everything you’ve written in your programs so far is Python code.\n",
    "As your programs become longer and more complicated, you should add\n",
    "notes within your programs that describe your overall approach to the\n",
    "problem you’re solving. A comment allows you to write notes in your spoken\n",
    "language, within your programs."
   ]
  },
  {
   "cell_type": "markdown",
   "metadata": {},
   "source": [
    "# How Do You Write Comments?\n",
    "\n",
    "In Python, the hash mark (#) indicates a comment. Anything following a\n",
    "hash mark in your code is ignored by the Python interpreter. For example:\n",
    "\n",
    "Python ignores the first line and executes the second line."
   ]
  },
  {
   "cell_type": "code",
   "execution_count": 1,
   "metadata": {},
   "outputs": [
    {
     "name": "stdout",
     "output_type": "stream",
     "text": [
      "Hello Python people!\n"
     ]
    }
   ],
   "source": [
    "# Say hello to everyone.\n",
    "print(\"Hello Python people!\")"
   ]
  },
  {
   "cell_type": "markdown",
   "metadata": {},
   "source": [
    "# What Kinds of Comments Should You Write?\n",
    "\n",
    "The main reason to write comments is to explain what your code is supposed to do and how you are making it work. When you’re in the middle\n",
    "of working on a project, you understand how all of the pieces fit together.\n",
    "But when you return to a project after some time away, you’ll likely have forgotten some of the details. You can always study your code for a while\n",
    "and figure out how segments were supposed to work, but writing good com-\n",
    "ments can save you time by summarizing your overall approach clearly.\n",
    "\n",
    "If you want to become a professional programmer or collaborate with\n",
    "other programmers, you should write meaningful comments. Today, most\n",
    "software is written collaboratively, whether by a group of employees at one\n",
    "company or a group of people working together on an open source project.\n",
    "Skilled programmers expect to see comments in code, so it’s best to start\n",
    "adding descriptive comments to your programs now. Writing clear, concise\n",
    "comments in your code is one of the most beneficial habits you can form as\n",
    "a new programmer.\n",
    "\n",
    "When you’re deciding whether to write a comment, ask yourself if you\n",
    "had to consider several approaches before coming up with a reasonable way\n",
    "to make something work; if so, write a comment about your solution. It’s\n",
    "much easier to delete extra comments later than to go back and write com-\n",
    "ments for a sparsely commented program. "
   ]
  },
  {
   "cell_type": "code",
   "execution_count": null,
   "metadata": {},
   "outputs": [],
   "source": []
  }
 ],
 "metadata": {
  "kernelspec": {
   "display_name": "Python 3",
   "language": "python",
   "name": "python3"
  },
  "language_info": {
   "codemirror_mode": {
    "name": "ipython",
    "version": 3
   },
   "file_extension": ".py",
   "mimetype": "text/x-python",
   "name": "python",
   "nbconvert_exporter": "python",
   "pygments_lexer": "ipython3",
   "version": "3.12.5"
  }
 },
 "nbformat": 4,
 "nbformat_minor": 2
}
