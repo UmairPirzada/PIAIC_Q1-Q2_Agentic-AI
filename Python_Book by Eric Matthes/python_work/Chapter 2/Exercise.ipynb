{
 "cells": [
  {
   "cell_type": "markdown",
   "metadata": {},
   "source": [
    "# 2-3. Personal Message: \n",
    "\n",
    "Use a variable to represent a person’s name, and print\n",
    "a message to that person. Your message should be simple, such as, “Hello Eric,\n",
    "would you like to learn some Python today?”"
   ]
  },
  {
   "cell_type": "code",
   "execution_count": 2,
   "metadata": {},
   "outputs": [
    {
     "name": "stdout",
     "output_type": "stream",
     "text": [
      "Hello Eric, would you like to learn some Python today?\n"
     ]
    }
   ],
   "source": [
    "name = \"Eric\"\n",
    "print(f\"Hello {name}, would you like to learn some Python today?\")\n"
   ]
  },
  {
   "cell_type": "code",
   "execution_count": 1,
   "metadata": {},
   "outputs": [
    {
     "name": "stdout",
     "output_type": "stream",
     "text": [
      "Hello Jon Snow, would you like to learn some Python today?\n"
     ]
    }
   ],
   "source": [
    "person_name = \"Jon Snow\"\n",
    "print(f\"Hello {person_name}, would you like to learn some Python today?\")"
   ]
  },
  {
   "cell_type": "markdown",
   "metadata": {},
   "source": [
    "# 2-4. Name Cases: \n",
    "Use a variable to represent a person’s name, and then print\n",
    "that person’s name in lowercase, uppercase, and title case."
   ]
  },
  {
   "cell_type": "code",
   "execution_count": 4,
   "metadata": {},
   "outputs": [
    {
     "name": "stdout",
     "output_type": "stream",
     "text": [
      "Hello jon snow, would you like to learn some Python today?\n"
     ]
    }
   ],
   "source": [
    "person_name = \"Jon Snow\"\n",
    "print(f\"Hello {person_name.lower()}, would you like to learn some Python today?\")"
   ]
  },
  {
   "cell_type": "code",
   "execution_count": 5,
   "metadata": {},
   "outputs": [
    {
     "name": "stdout",
     "output_type": "stream",
     "text": [
      "Hello JON SNOW, would you like to learn some Python today?\n"
     ]
    }
   ],
   "source": [
    "person_name = \"Jon Snow\"\n",
    "print(f\"Hello {person_name.upper()}, would you like to learn some Python today?\")"
   ]
  },
  {
   "cell_type": "code",
   "execution_count": 6,
   "metadata": {},
   "outputs": [
    {
     "name": "stdout",
     "output_type": "stream",
     "text": [
      "Hello Jon Snow, would you like to learn some Python today?\n"
     ]
    }
   ],
   "source": [
    "person_name = \"Jon Snow\"\n",
    "print(f\"Hello {person_name.title()}, would you like to learn some Python today?\")"
   ]
  },
  {
   "cell_type": "markdown",
   "metadata": {},
   "source": [
    "# 2-5. Famous Quote: \n",
    "Find a quote from a famous person you admire. Print the\n",
    "quote and the name of its author. Your output should look something like the\n",
    "following, including the quotation marks:\n",
    "\n",
    "Albert Einstein once said, “A person who never made a mistake never\n",
    "tried anything new.”"
   ]
  },
  {
   "cell_type": "code",
   "execution_count": 10,
   "metadata": {},
   "outputs": [
    {
     "name": "stdout",
     "output_type": "stream",
     "text": [
      "Albert Einstein once said, “A person who never made a mistake never\n",
      "tried anything new.”\n"
     ]
    }
   ],
   "source": [
    "author = \"\"\"“A person who never made a mistake never\n",
    "tried anything new.”\"\"\"\n",
    "print(f\"Albert Einstein once said, {author}\")"
   ]
  },
  {
   "cell_type": "code",
   "execution_count": 11,
   "metadata": {},
   "outputs": [
    {
     "name": "stdout",
     "output_type": "stream",
     "text": [
      "Franklin D. Roosevelt once said, \"The only limit to our realization of tomorrow is our doubts of today.\"\n"
     ]
    }
   ],
   "source": [
    "quote = \"The only limit to our realization of tomorrow is our doubts of today.\"\n",
    "author = \"Franklin D. Roosevelt\"\n",
    "print(f'{author} once said, \"{quote}\"')\n"
   ]
  },
  {
   "cell_type": "markdown",
   "metadata": {},
   "source": [
    "# 2-6. Famous Quote 2:\n",
    " Repeat Exercise 2-5, but this time, represent the famous\n",
    "person’s name using a variable called famous_person. Then compose your mes-\n",
    "sage and represent it with a new variable called message. Print your message."
   ]
  },
  {
   "cell_type": "code",
   "execution_count": 12,
   "metadata": {},
   "outputs": [
    {
     "name": "stdout",
     "output_type": "stream",
     "text": [
      "Albert Einstein once said, \"A person who never made a mistake never tried anything new.\"\n"
     ]
    }
   ],
   "source": [
    "famous_person = \"Albert Einstein\"\n",
    "quote= \"A person who never made a mistake never tried anything new.\"\n",
    "message = f'{famous_person} once said, \"{quote}\"'\n",
    "print(f\"{message}\")"
   ]
  },
  {
   "cell_type": "markdown",
   "metadata": {},
   "source": [
    "# 2-7. Stripping Names: \n",
    "Use a variable to represent a person’s name, and\n",
    "include some whitespace characters at the beginning and end of the name.\n",
    "\n",
    "Make sure you use each character combination, \"\\t\" and \"\\n\", at least once.\n",
    "Print the name once, so the whitespace around the name is displayed.\n",
    "Then print the name using each of the three stripping functions, lstrip(),\n",
    "rstrip(), and strip()."
   ]
  },
  {
   "cell_type": "code",
   "execution_count": 13,
   "metadata": {},
   "outputs": [
    {
     "data": {
      "text/plain": [
       "' Jon Snow '"
      ]
     },
     "execution_count": 13,
     "metadata": {},
     "output_type": "execute_result"
    }
   ],
   "source": [
    "person_name = \" Jon Snow \"\n",
    "person_name"
   ]
  },
  {
   "cell_type": "code",
   "execution_count": 14,
   "metadata": {},
   "outputs": [
    {
     "data": {
      "text/plain": [
       "' Jon Snow'"
      ]
     },
     "execution_count": 14,
     "metadata": {},
     "output_type": "execute_result"
    }
   ],
   "source": [
    "person_name = \" Jon Snow \"\n",
    "person_name.rstrip()"
   ]
  },
  {
   "cell_type": "code",
   "execution_count": 15,
   "metadata": {},
   "outputs": [
    {
     "data": {
      "text/plain": [
       "'Jon Snow '"
      ]
     },
     "execution_count": 15,
     "metadata": {},
     "output_type": "execute_result"
    }
   ],
   "source": [
    "person_name = \" Jon Snow \"\n",
    "person_name.lstrip()"
   ]
  },
  {
   "cell_type": "code",
   "execution_count": 16,
   "metadata": {},
   "outputs": [
    {
     "data": {
      "text/plain": [
       "'Jon Snow'"
      ]
     },
     "execution_count": 16,
     "metadata": {},
     "output_type": "execute_result"
    }
   ],
   "source": [
    "person_name = \" Jon Snow \"\n",
    "person_name.strip()"
   ]
  },
  {
   "cell_type": "code",
   "execution_count": 22,
   "metadata": {},
   "outputs": [
    {
     "name": "stdout",
     "output_type": "stream",
     "text": [
      "Name with whitespace:\n",
      "\tJohn Doe\n",
      "\n"
     ]
    }
   ],
   "source": [
    "name = \"\\tJohn Doe\\n\"\n",
    "print(\"Name with whitespace:\")\n",
    "print(name)"
   ]
  },
  {
   "cell_type": "code",
   "execution_count": 27,
   "metadata": {},
   "outputs": [
    {
     "name": "stdout",
     "output_type": "stream",
     "text": [
      "\n",
      "Using lstrip():\n",
      "John Doe\n",
      "\n"
     ]
    }
   ],
   "source": [
    "print(\"\\nUsing lstrip():\")\n",
    "print(name.lstrip())"
   ]
  },
  {
   "cell_type": "code",
   "execution_count": 24,
   "metadata": {},
   "outputs": [
    {
     "name": "stdout",
     "output_type": "stream",
     "text": [
      "\n",
      "Using rstrip():\n",
      "\tJohn Doe\n"
     ]
    }
   ],
   "source": [
    "print(\"\\nUsing rstrip():\")\n",
    "print(name.rstrip())"
   ]
  },
  {
   "cell_type": "code",
   "execution_count": 25,
   "metadata": {},
   "outputs": [
    {
     "name": "stdout",
     "output_type": "stream",
     "text": [
      "\n",
      "Using strip():\n",
      "John Doe\n"
     ]
    }
   ],
   "source": [
    "print(\"\\nUsing strip():\")\n",
    "print(name.strip())"
   ]
  },
  {
   "cell_type": "markdown",
   "metadata": {},
   "source": [
    "# 2-8. File Extensions: \n",
    "Python has a removesuffix() method that works exactly\n",
    "like removeprefix(). Assign the value 'python_notes.txt' to a variable called\n",
    "filename. Then use the removesuffix() method to display the filename without\n",
    "the file extension, like some file browsers do."
   ]
  },
  {
   "cell_type": "code",
   "execution_count": 29,
   "metadata": {},
   "outputs": [
    {
     "data": {
      "text/plain": [
       "'python_notes'"
      ]
     },
     "execution_count": 29,
     "metadata": {},
     "output_type": "execute_result"
    }
   ],
   "source": [
    "filename = 'python_notes.txt' \n",
    "filename = filename.removesuffix(\".txt\")\n",
    "filename"
   ]
  },
  {
   "cell_type": "code",
   "execution_count": 30,
   "metadata": {},
   "outputs": [
    {
     "name": "stdout",
     "output_type": "stream",
     "text": [
      "python_notes\n"
     ]
    }
   ],
   "source": [
    "filename = \"python_notes.txt\"\n",
    "filename_without_extension = filename.removesuffix(\".txt\")\n",
    "print(filename_without_extension)\n"
   ]
  },
  {
   "cell_type": "markdown",
   "metadata": {},
   "source": [
    "# 2-9. Number Eight: \n",
    "\n",
    "Write addition, subtraction, multiplication, and division\n",
    "operations that each result in the number 8. Be sure to enclose your operations\n",
    "in print() calls to see the results. You should create four lines that look like this:\n",
    "\n",
    "print(5+3)\n",
    "\n",
    "Your output should be four lines, with the number 8 appearing once on\n",
    "each line."
   ]
  },
  {
   "cell_type": "code",
   "execution_count": 31,
   "metadata": {},
   "outputs": [
    {
     "name": "stdout",
     "output_type": "stream",
     "text": [
      "8\n",
      "8\n",
      "8\n",
      "8.0\n"
     ]
    }
   ],
   "source": [
    "print(5 + 3)\n",
    "print(10 - 2)\n",
    "print(4 * 2)\n",
    "print(16 / 2)\n"
   ]
  },
  {
   "cell_type": "code",
   "execution_count": 35,
   "metadata": {},
   "outputs": [
    {
     "name": "stdout",
     "output_type": "stream",
     "text": [
      "8\n",
      "8\n",
      "8\n",
      "8\n"
     ]
    }
   ],
   "source": [
    "print(5 + 3)\n",
    "print(10 - 2)\n",
    "print(4 * 2)\n",
    "print(f\"{16 / 2:.0f}\")\n"
   ]
  },
  {
   "cell_type": "markdown",
   "metadata": {},
   "source": [
    "# 2-10. Favorite Number:\n",
    "\n",
    " Use a variable to represent your favorite number. Then,\n",
    "using that variable, create a message that reveals your favorite number. Print\n",
    "that message."
   ]
  },
  {
   "cell_type": "code",
   "execution_count": 37,
   "metadata": {},
   "outputs": [
    {
     "name": "stdout",
     "output_type": "stream",
     "text": [
      "My Favorite Number is : 10\n"
     ]
    }
   ],
   "source": [
    "favorite_number = 10\n",
    "print(f\"My Favorite Number is : {favorite_number}\")"
   ]
  },
  {
   "cell_type": "markdown",
   "metadata": {},
   "source": [
    "# 2-11. Adding Comments: \n",
    "\n",
    "Choose two of the programs you’ve written, and\n",
    "add at least one comment to each. If you don’t have anything specific to write\n",
    "because your programs are too simple at this point, just add your name and the\n",
    "current date at the top of each program file. Then write one sentence describing\n",
    "what the program does."
   ]
  },
  {
   "cell_type": "code",
   "execution_count": 38,
   "metadata": {},
   "outputs": [
    {
     "name": "stdout",
     "output_type": "stream",
     "text": [
      "8\n",
      "8\n",
      "8\n",
      "8\n"
     ]
    }
   ],
   "source": [
    "# Program: Basic Arithmetic Operations Resulting in 8\n",
    "# Author: Umair Ahmed\n",
    "# Date: 2024-09-18\n",
    "\n",
    "# Addition\n",
    "print(5 + 3)  # 5 plus 3 equals 8\n",
    "\n",
    "# Subtraction\n",
    "print(10 - 2)  # 10 minus 2 equals 8\n",
    "\n",
    "# Multiplication\n",
    "print(4 * 2)  # 4 times 2 equals 8\n",
    "\n",
    "# Division with formatting to show no decimal places\n",
    "print(f\"{16 / 2:.0f}\")  # 16 divided by 2 equals 8, formatted to show no decimal places\n"
   ]
  },
  {
   "cell_type": "code",
   "execution_count": 39,
   "metadata": {},
   "outputs": [
    {
     "name": "stdout",
     "output_type": "stream",
     "text": [
      "Name with whitespace:\n",
      "\tJohn Doe\n",
      "\n",
      "\n",
      "Using lstrip():\n",
      "John Doe\n",
      "\n",
      "\n",
      "Using rstrip():\n",
      "\tJohn Doe\n",
      "\n",
      "Using strip():\n",
      "John Doe\n"
     ]
    }
   ],
   "source": [
    "# Program: Stripping Whitespace from Names\n",
    "# Author: Umair Ahmed\n",
    "# Date: 2024-09-18\n",
    "\n",
    "# Assigning a name with whitespace characters\n",
    "name = \"\\tJohn Doe\\n\"\n",
    "\n",
    "# Printing the name with the whitespace characters displayed\n",
    "print(\"Name with whitespace:\")\n",
    "print(name)  # Displays the name with leading and trailing whitespace\n",
    "\n",
    "# Printing the name after using lstrip(), rstrip(), and strip()\n",
    "print(\"\\nUsing lstrip():\")\n",
    "print(name.lstrip())  # Removes leading whitespace\n",
    "\n",
    "print(\"\\nUsing rstrip():\")\n",
    "print(name.rstrip())  # Removes trailing whitespace\n",
    "\n",
    "print(\"\\nUsing strip():\")\n",
    "print(name.strip())  # Removes both leading and trailing whitespace\n"
   ]
  },
  {
   "cell_type": "markdown",
   "metadata": {},
   "source": [
    "# 2-12. Zen of Python:\n",
    "\n",
    " Enter import this into a Python terminal session and skim\n",
    "through the additional principles."
   ]
  },
  {
   "cell_type": "code",
   "execution_count": 40,
   "metadata": {},
   "outputs": [
    {
     "name": "stdout",
     "output_type": "stream",
     "text": [
      "The Zen of Python, by Tim Peters\n",
      "\n",
      "Beautiful is better than ugly.\n",
      "Explicit is better than implicit.\n",
      "Simple is better than complex.\n",
      "Complex is better than complicated.\n",
      "Flat is better than nested.\n",
      "Sparse is better than dense.\n",
      "Readability counts.\n",
      "Special cases aren't special enough to break the rules.\n",
      "Although practicality beats purity.\n",
      "Errors should never pass silently.\n",
      "Unless explicitly silenced.\n",
      "In the face of ambiguity, refuse the temptation to guess.\n",
      "There should be one-- and preferably only one --obvious way to do it.\n",
      "Although that way may not be obvious at first unless you're Dutch.\n",
      "Now is better than never.\n",
      "Although never is often better than *right* now.\n",
      "If the implementation is hard to explain, it's a bad idea.\n",
      "If the implementation is easy to explain, it may be a good idea.\n",
      "Namespaces are one honking great idea -- let's do more of those!\n"
     ]
    }
   ],
   "source": [
    "import this"
   ]
  },
  {
   "cell_type": "markdown",
   "metadata": {},
   "source": []
  }
 ],
 "metadata": {
  "kernelspec": {
   "display_name": "Python 3",
   "language": "python",
   "name": "python3"
  },
  "language_info": {
   "codemirror_mode": {
    "name": "ipython",
    "version": 3
   },
   "file_extension": ".py",
   "mimetype": "text/x-python",
   "name": "python",
   "nbconvert_exporter": "python",
   "pygments_lexer": "ipython3",
   "version": "3.12.5"
  }
 },
 "nbformat": 4,
 "nbformat_minor": 2
}
