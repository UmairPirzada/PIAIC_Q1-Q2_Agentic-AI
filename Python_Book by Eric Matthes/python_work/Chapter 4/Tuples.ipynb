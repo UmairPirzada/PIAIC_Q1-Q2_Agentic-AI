{
 "cells": [
  {
   "cell_type": "markdown",
   "metadata": {},
   "source": [
    "# Tuples\n",
    "\n",
    "Lists work well for storing collections of items that can change throughout the\n",
    "life of a program. The ability to modify lists is particularly important when\n",
    "you’re working with a list of users on a website or a list of characters in a game.\n",
    "\n",
    "However, sometimes you’ll want to create a list of items that cannot change.\n",
    "Tuples allow you to do just that. Python refers to values that cannot change as\n",
    "immutable, and an immutable list is called a tuple."
   ]
  },
  {
   "cell_type": "markdown",
   "metadata": {},
   "source": [
    "# Defining a Tuple\n",
    "A tuple looks just like a list, except you use parentheses instead of square\n",
    "brackets. Once you define a tuple, you can access individual elements by\n",
    "using each item’s index, just as you would for a list.\n",
    "\n",
    "For example, if we have a rectangle that should always be a certain size, we\n",
    "can ensure that its size doesn’t change by putting the dimensions into a tuple:"
   ]
  },
  {
   "cell_type": "code",
   "execution_count": 1,
   "metadata": {},
   "outputs": [
    {
     "name": "stdout",
     "output_type": "stream",
     "text": [
      "200\n",
      "50\n"
     ]
    }
   ],
   "source": [
    "dimensions = (200, 50)\n",
    "print(dimensions[0])\n",
    "print(dimensions[1])"
   ]
  },
  {
   "cell_type": "markdown",
   "metadata": {},
   "source": [
    "We define the tuple dimensions, using parentheses instead of square\n",
    "brackets. Then we print each element in the tuple individually, using the\n",
    "same syntax we’ve been using to access elements in a list:\n",
    "\n",
    "200\n",
    "\n",
    "50"
   ]
  },
  {
   "cell_type": "markdown",
   "metadata": {},
   "source": [
    "Let’s see what happens if we try to change one of the items in the tuple\n",
    "dimensions:"
   ]
  },
  {
   "cell_type": "code",
   "execution_count": 2,
   "metadata": {},
   "outputs": [
    {
     "ename": "TypeError",
     "evalue": "'tuple' object does not support item assignment",
     "output_type": "error",
     "traceback": [
      "\u001b[0;31m---------------------------------------------------------------------------\u001b[0m",
      "\u001b[0;31mTypeError\u001b[0m                                 Traceback (most recent call last)",
      "Cell \u001b[0;32mIn[2], line 2\u001b[0m\n\u001b[1;32m      1\u001b[0m dimensions \u001b[38;5;241m=\u001b[39m (\u001b[38;5;241m200\u001b[39m, \u001b[38;5;241m50\u001b[39m)\n\u001b[0;32m----> 2\u001b[0m \u001b[43mdimensions\u001b[49m\u001b[43m[\u001b[49m\u001b[38;5;241;43m0\u001b[39;49m\u001b[43m]\u001b[49m \u001b[38;5;241m=\u001b[39m \u001b[38;5;241m250\u001b[39m\n",
      "\u001b[0;31mTypeError\u001b[0m: 'tuple' object does not support item assignment"
     ]
    }
   ],
   "source": [
    "dimensions = (200, 50)\n",
    "dimensions[0] = 250"
   ]
  },
  {
   "cell_type": "markdown",
   "metadata": {},
   "source": [
    "This code tries to change the value of the first dimension, but Python\n",
    "returns a type error. Because we’re trying to alter a tuple, which can’t be\n",
    "done to that type of object, Python tells us we can’t assign a new value to\n",
    "an item in a tuple:\n",
    "\n",
    "Traceback (most recent call last):\n",
    "\n",
    "File \"dimensions.py\", line 2, in <module>\n",
    "\n",
    "dimensions[0] = 250\n",
    "\n",
    "TypeError: 'tuple' object does not support item assignment"
   ]
  },
  {
   "cell_type": "markdown",
   "metadata": {},
   "source": [
    "This is beneficial because we want Python to raise an error when a line\n",
    "of code tries to change the dimensions of the rectangle.\n",
    "\n",
    "# NOTE:\n",
    "\n",
    "Tuples are technically defined by the presence of a comma; the parentheses make them\n",
    "look neater and more readable. If you want to define a tuple with one element, you\n",
    "need to include a trailing comma:\n",
    "\n",
    "my_t = (3,)\n",
    "\n",
    "It doesn’t often make sense to build a tuple with one element, but this can happen\n",
    "when tuples are generated automatically."
   ]
  },
  {
   "cell_type": "markdown",
   "metadata": {},
   "source": [
    "# Looping Through All Values in a Tuple\n",
    "You can loop over all the values in a tuple using a for loop, just as you did\n",
    "with a list:"
   ]
  },
  {
   "cell_type": "code",
   "execution_count": 3,
   "metadata": {},
   "outputs": [
    {
     "name": "stdout",
     "output_type": "stream",
     "text": [
      "200\n",
      "50\n"
     ]
    }
   ],
   "source": [
    "dimensions = (200, 50)\n",
    "for dimension in dimensions:\n",
    "    print(dimension)"
   ]
  },
  {
   "cell_type": "markdown",
   "metadata": {},
   "source": [
    "Python returns all the elements in the tuple, just as it would for a list:\n",
    "\n",
    "200\n",
    "\n",
    "50"
   ]
  },
  {
   "cell_type": "markdown",
   "metadata": {},
   "source": [
    "# Writing Over a Tuple\n",
    "Although you can’t modify a tuple, you can assign a new value to a variable\n",
    "that represents a tuple. \n",
    "\n",
    "For example, if we wanted to change the dimensions\n",
    "of this rectangle, we could redefine the entire tuple:"
   ]
  },
  {
   "cell_type": "code",
   "execution_count": 5,
   "metadata": {},
   "outputs": [
    {
     "name": "stdout",
     "output_type": "stream",
     "text": [
      "Original dimensions:\n",
      "200\n",
      "50\n",
      "\n",
      "Modified dimensions:\n",
      "400\n",
      "100\n"
     ]
    }
   ],
   "source": [
    "dimensions = (200, 50)\n",
    "print(\"Original dimensions:\")\n",
    "for dimension in dimensions:\n",
    "    print(dimension)\n",
    "    \n",
    "    \n",
    "dimensions = (400, 100)\n",
    "print(\"\\nModified dimensions:\")\n",
    "for dimension in dimensions:\n",
    "    print(dimension)"
   ]
  },
  {
   "cell_type": "markdown",
   "metadata": {},
   "source": [
    "The first four lines define the original tuple and print the initial dimen-\n",
    "sions. We then associate a new tuple with the variable dimensions, and print\n",
    "the new values. Python doesn’t raise any errors this time, because reassign-\n",
    "ing a variable is valid:\n",
    "\n",
    "Original dimensions:\n",
    "\n",
    "200\n",
    "\n",
    "50\n",
    "\n",
    "Modified dimensions:\n",
    "\n",
    "400\n",
    "\n",
    "100\n",
    "\n",
    "When compared with lists, tuples are simple data structures. \n",
    "\n",
    "Use them\n",
    "when you want to store a set of values that should not be changed through-\n",
    "out the life of a program."
   ]
  },
  {
   "cell_type": "code",
   "execution_count": null,
   "metadata": {},
   "outputs": [],
   "source": []
  }
 ],
 "metadata": {
  "kernelspec": {
   "display_name": "Python 3",
   "language": "python",
   "name": "python3"
  },
  "language_info": {
   "codemirror_mode": {
    "name": "ipython",
    "version": 3
   },
   "file_extension": ".py",
   "mimetype": "text/x-python",
   "name": "python",
   "nbconvert_exporter": "python",
   "pygments_lexer": "ipython3",
   "version": "3.12.5"
  }
 },
 "nbformat": 4,
 "nbformat_minor": 2
}
