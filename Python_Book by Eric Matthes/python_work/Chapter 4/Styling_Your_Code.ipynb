{
 "cells": [
  {
   "cell_type": "markdown",
   "metadata": {},
   "source": [
    "# Styling Your Code\n",
    "Now that you’re writing longer programs, it’s a good idea to learn how to\n",
    "style your code consistently. Take the time to make your code as easy as pos-\n",
    "sible to read. Writing easy-to-read code helps you keep track of what your\n",
    "programs are doing and helps others understand your code as well.\n",
    "\n",
    "\n",
    "Python programmers have agreed on a number of styling conventions\n",
    "to ensure that everyone’s code is structured in roughly the same way. Once\n",
    "you’ve learned to write clean Python code, you should be able to understand\n",
    "the overall structure of anyone else’s Python code, as long as they follow the\n",
    "same guidelines. If you’re hoping to become a professional programmer at\n",
    "some point, you should begin following these guidelines as soon as possible\n",
    "to develop good habits."
   ]
  },
  {
   "cell_type": "markdown",
   "metadata": {},
   "source": [
    "# The Style Guide\n",
    "When someone wants to make a change to the Python language, they write a\n",
    " # Python Enhancement Proposal (PEP). \n",
    "One of the oldest PEPs is PEP 8, which\n",
    "instructs Python programmers on how to style their code. PEP 8 is fairly\n",
    "lengthy, but much of it relates to more complex coding structures than what\n",
    "you’ve seen so far.\n",
    "\n",
    "The Python style guide was written with the understanding that code\n",
    "is read more often than it is written. You’ll write your code once and then\n",
    "start reading it as you begin debugging. When you add features to a pro-\n",
    "gram, you’ll spend more time reading your code. When you share your\n",
    "code with other programmers, they’ll read your code as well.\n",
    "\n",
    "Given the choice between writing code that’s easier to write or code\n",
    "that’s easier to read, Python programmers will almost always encourage you\n",
    "to write code that’s easier to read. The following guidelines will help you\n",
    "write clear code from the start."
   ]
  },
  {
   "cell_type": "markdown",
   "metadata": {},
   "source": [
    "# Indentation\n",
    "PEP 8 recommends that you use four spaces per indentation level. Using\n",
    "four spaces improves readability while leaving room for multiple levels of\n",
    "indentation on each line.\n",
    "\n",
    "In a word processing document, people often use tabs rather than\n",
    "spaces to indent. This works well for word processing documents, but the\n",
    "Python interpreter gets confused when tabs are mixed with spaces. Every\n",
    "text editor provides a setting that lets you use the TAB key but then converts\n",
    "each tab to a set number of spaces. You should definitely use your TAB key,\n",
    "but also make sure your editor is set to insert spaces rather than tabs into\n",
    "your document.\n",
    "\n",
    "Mixing tabs and spaces in your file can cause problems that are very\n",
    "difficult to diagnose. If you think you have a mix of tabs and spaces, you\n",
    "can convert all tabs in a file to spaces in most editors."
   ]
  },
  {
   "cell_type": "markdown",
   "metadata": {},
   "source": [
    "# Line Length\n",
    "Many Python programmers recommend that each line should be less than\n",
    "80 characters. Historically, this guideline developed because most com-\n",
    "puters could fit only 79 characters on a single line in a terminal window.\n",
    "Currently, people can fit much longer lines on their screens, but other rea-\n",
    "sons exist to adhere to the 79-character standard line length.\n",
    "\n",
    "Professional programmers often have several files open on the same\n",
    "screen, and using the standard line length allows them to see entire lines\n",
    "in two or three files that are open side by side onscreen. PEP 8 also rec-\n",
    "ommends that you limit all of your comments to 72 characters per line,\n",
    "because some of the tools that generate automatic documentation for\n",
    "larger projects add formatting characters at the beginning of each com-\n",
    "mented line.\n",
    "\n",
    "The PEP 8 guidelines for line length are not set in stone, and some\n",
    "teams prefer a 99-character limit. Don’t worry too much about line length\n",
    "in your code as you’re learning, but be aware that people who are working\n",
    "collaboratively almost always follow the PEP 8 guidelines. Most editors allow\n",
    "you to set up a visual cue, usually a vertical line on your screen, that shows\n",
    "you where these limits are."
   ]
  },
  {
   "cell_type": "markdown",
   "metadata": {},
   "source": [
    "# Blank Lines\n",
    "To group parts of your program visually, use blank lines. You should use\n",
    "blank lines to organize your files, but don’t do so excessively. By following\n",
    "the examples provided in this book, you should strike the right balance.\n",
    "For example, if you have five lines of code that build a list and then another\n",
    "three lines that do something with that list, it’s appropriate to place a blank\n",
    "line between the two sections. However, you should not place three or four\n",
    "blank lines between the two sections.\n",
    "\n",
    "\n",
    "Blank lines won’t affect how your code runs, but they will affect the\n",
    "readability of your code. The Python interpreter uses horizontal inden-\n",
    "tation to interpret the meaning of your code, but it disregards vertical\n",
    "spacing."
   ]
  },
  {
   "cell_type": "markdown",
   "metadata": {},
   "source": [
    "# Other Style Guidelines\n",
    "PEP 8 has many additional styling recommendations, but most of the\n",
    "guidelines refer to more complex programs than what you’re writing at this\n",
    "point. As you learn more complex Python structures, I’ll share the relevant\n",
    "parts of the PEP 8 guidelines."
   ]
  }
 ],
 "metadata": {
  "language_info": {
   "name": "python"
  }
 },
 "nbformat": 4,
 "nbformat_minor": 2
}
