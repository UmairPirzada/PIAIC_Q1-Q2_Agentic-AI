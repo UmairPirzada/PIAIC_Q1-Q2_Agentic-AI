{
 "cells": [
  {
   "cell_type": "markdown",
   "metadata": {},
   "source": [
    "# WORKING WITH LISTS\n",
    "When you want to do the same action with every item in a list, you\n",
    "can use Python’s for loop.\n",
    "\n",
    "Say we have a list of magicians’ names, and we want to print out each\n",
    "name in the list. We could do this by retrieving each name from the list individually, but this approach could cause several problems. For one, it would\n",
    "be repetitive to do this with a long list of names. Also, we’d have to change\n",
    "our code each time the list’s length changed. Using a for loop avoids both of\n",
    "these issues by letting Python manage these issues internally.\n",
    "\n",
    "# Looping Through an Entire List\n",
    "\n",
    "Let’s use a for loop to print out each name in a list of magicians:"
   ]
  },
  {
   "cell_type": "code",
   "execution_count": 2,
   "metadata": {},
   "outputs": [
    {
     "name": "stdout",
     "output_type": "stream",
     "text": [
      "alice\n",
      "david\n",
      "carolina\n"
     ]
    }
   ],
   "source": [
    "magicians = ['alice', 'david', 'carolina']\n",
    "for magician in magicians:\n",
    "    print(magician)"
   ]
  },
  {
   "cell_type": "markdown",
   "metadata": {},
   "source": [
    "We begin by defining a list, just as we did in simple lists. Then we define\n",
    "a for loop. This line tells Python to pull a name from the list magicians,\n",
    "and associate it with the variable magician. Next, we tell Python to print the\n",
    "name that’s just been assigned to magician. Python then repeats these last\n",
    "two lines, once for each name in the list. It might help to read this code as\n",
    "\n",
    "“For every magician in the list of magicians, print the magician’s name.”\n",
    "\n",
    "The output is a simple printout of each name in the list:\n",
    "\n",
    "alice\n",
    "\n",
    "david\n",
    "\n",
    "carolina"
   ]
  },
  {
   "cell_type": "markdown",
   "metadata": {},
   "source": [
    "# A Closer Look at Looping\n",
    "\n",
    "Looping is important because it’s one of the most common ways a computer\n",
    "automates repetitive tasks. For example, in a simple loop like we used in\n",
    "above code, Python initially reads the first line of the loop:\n",
    "\n",
    "for magician in magicians:\n",
    "\n",
    "This line tells Python to retrieve the first value from the list magicians\n",
    "and associate it with the variable magician. This first value is 'alice'. Python\n",
    "then reads the next line:\n",
    "\n",
    "print(magician)\n",
    "\n",
    "Python prints the current value of magician, which is still 'alice'. Because\n",
    "the list contains more values, Python returns to the first line of the loop:\n",
    "\n",
    "for magician in magicians:\n",
    "\n",
    "Python retrieves the next name in the list, 'david', and associates that\n",
    "value with the variable magician. Python then executes the line:\n",
    "\n",
    "print(magician)\n",
    "\n",
    "Python prints the current value of magician again, which is now 'david'.\n",
    "Python repeats the entire loop once more with the last value in the list,\n",
    "'carolina'. Because no more values are in the list, Python moves on to the\n",
    "next line in the program. In this case nothing comes after the for loop, so\n",
    "the program ends.\n",
    "\n",
    "When you’re using loops for the first time, keep in mind that the set of\n",
    "steps is repeated once for each item in the list, no matter how many items\n",
    "are in the list. If you have a million items in your list, Python repeats these\n",
    "steps a million times—and usually very quickly."
   ]
  },
  {
   "cell_type": "markdown",
   "metadata": {},
   "source": [
    "Also keep in mind when writing your own for loops that you can choose\n",
    "any name you want for the temporary variable that will be associated with\n",
    "each value in the list. However, it’s helpful to choose a meaningful name\n",
    "that represents a single item from the list. For example, here’s a good way to\n",
    "start a for loop for a list of cats, a list of dogs, and a general list of items:\n",
    "\n",
    "for cat in cats:\n",
    "\n",
    "for dog in dogs:\n",
    "\n",
    "for item in list_of_items:\n",
    "\n",
    "These naming conventions can help you follow the action being done\n",
    "on each item within a for loop. Using singular and plural names can help\n",
    "you identify whether a section of code is working with a single element from\n",
    "the list or the entire list."
   ]
  },
  {
   "cell_type": "markdown",
   "metadata": {},
   "source": [
    "# Doing More Work Within a for Loop\n",
    "\n",
    "You can do just about anything with each item in a for loop. Let’s build on\n",
    "the previous example by printing a message to each magician, telling them\n",
    "that they performed a great trick:"
   ]
  },
  {
   "cell_type": "code",
   "execution_count": 3,
   "metadata": {},
   "outputs": [
    {
     "name": "stdout",
     "output_type": "stream",
     "text": [
      "Alice, that was a great trick!\n",
      "David, that was a great trick!\n",
      "Carolina, that was a great trick!\n"
     ]
    }
   ],
   "source": [
    "magicians = ['alice', 'david', 'carolina']\n",
    "for magician in magicians:\n",
    "    print(f\"{magician.title()}, that was a great trick!\")"
   ]
  },
  {
   "cell_type": "code",
   "execution_count": 4,
   "metadata": {},
   "outputs": [
    {
     "name": "stdout",
     "output_type": "stream",
     "text": [
      "ALICE, that was a great trick!\n",
      "DAVID, that was a great trick!\n",
      "CAROLINA, that was a great trick!\n"
     ]
    }
   ],
   "source": [
    "magicians = ['alice', 'david', 'carolina']\n",
    "for magician in magicians:\n",
    "    print(f\"{magician.upper()}, that was a great trick!\")"
   ]
  },
  {
   "cell_type": "code",
   "execution_count": 5,
   "metadata": {},
   "outputs": [
    {
     "name": "stdout",
     "output_type": "stream",
     "text": [
      "alice, that was a great trick!\n",
      "david, that was a great trick!\n",
      "carolina, that was a great trick!\n"
     ]
    }
   ],
   "source": [
    "magicians = ['alice', 'david', 'carolina']\n",
    "for magician in magicians:\n",
    "    print(f\"{magician.lower()}, that was a great trick!\")"
   ]
  },
  {
   "cell_type": "markdown",
   "metadata": {},
   "source": [
    "The only difference in this code is where we compose a message to each\n",
    "magician, starting with that magician’s name. The first time through the\n",
    "loop the value of magician is 'alice', so Python starts the first message with the\n",
    "name 'Alice'. The second time through, the message will begin with 'David',\n",
    "and the third time through, the message will begin with 'Carolina'.\n",
    "\n",
    "The output shows a personalized message for each magician in the list:\n",
    "\n",
    "Alice, that was a great trick!\n",
    "\n",
    "David, that was a great trick!\n",
    "\n",
    "Carolina, that was a great trick!\n",
    "\n",
    "You can also write as many lines of code as you like in the for loop. Every\n",
    "indented line following the line for magician in magicians is considered inside\n",
    "the loop, and each indented line is executed once for each value in the list.\n",
    "Therefore, you can do as much work as you like with each value in the list."
   ]
  },
  {
   "cell_type": "markdown",
   "metadata": {},
   "source": [
    "Let’s add a second line to our message, telling each magician that we’re\n",
    "looking forward to their next trick:"
   ]
  },
  {
   "cell_type": "code",
   "execution_count": 6,
   "metadata": {},
   "outputs": [
    {
     "name": "stdout",
     "output_type": "stream",
     "text": [
      "Alice, that was a great trick!\n",
      "I can't wait to see your next trick, Alice.\n",
      "\n",
      "David, that was a great trick!\n",
      "I can't wait to see your next trick, David.\n",
      "\n",
      "Carolina, that was a great trick!\n",
      "I can't wait to see your next trick, Carolina.\n",
      "\n"
     ]
    }
   ],
   "source": [
    "magicians = ['alice', 'david', 'carolina']\n",
    "for magician in magicians:\n",
    "    print(f\"{magician.title()}, that was a great trick!\")\n",
    "    print(f\"I can't wait to see your next trick, {magician.title()}.\\n\")"
   ]
  },
  {
   "cell_type": "code",
   "execution_count": 8,
   "metadata": {},
   "outputs": [
    {
     "name": "stdout",
     "output_type": "stream",
     "text": [
      "ALICE, that was a great trick!\n",
      "I can't wait to see your next trick, ALICE.\n",
      "What is your next trick, I can not wait for it, ALICE.\n",
      "\n",
      "DAVID, that was a great trick!\n",
      "I can't wait to see your next trick, DAVID.\n",
      "What is your next trick, I can not wait for it, DAVID.\n",
      "\n",
      "CAROLINA, that was a great trick!\n",
      "I can't wait to see your next trick, CAROLINA.\n",
      "What is your next trick, I can not wait for it, CAROLINA.\n",
      "\n"
     ]
    }
   ],
   "source": [
    "magicians = ['alice', 'david', 'carolina']\n",
    "for magician in magicians:\n",
    "    print(f\"{magician.upper()}, that was a great trick!\")\n",
    "    print(f\"I can't wait to see your next trick, {magician.upper()}.\")\n",
    "    print(f\"What is your next trick, I can not wait for it, {magician.upper()}.\\n\")"
   ]
  },
  {
   "cell_type": "markdown",
   "metadata": {},
   "source": [
    "Because we have indented both calls to print(), each line will be exe-\n",
    "cuted once for every magician in the list. The newline (\"\\n\") in the second\n",
    "print() call inserts a blank line after each pass through the loop. This cre-\n",
    "ates a set of messages that are neatly grouped for each person in the list:\n",
    "\n",
    "Alice, that was a great trick!\n",
    "\n",
    "I can't wait to see your next trick, Alice.\n",
    "\n",
    "David, that was a great trick!\n",
    "\n",
    "I can't wait to see your next trick, David.\n",
    "\n",
    "Carolina, that was a great trick!\n",
    "\n",
    "I can't wait to see your next trick, Carolina.\n",
    "\n",
    "You can use as many lines as you like in your for loops. \n",
    "In practice,\n",
    "you’ll often find it useful to do a number of different operations with each\n",
    "item in a list when you use a for loop."
   ]
  },
  {
   "cell_type": "markdown",
   "metadata": {},
   "source": [
    "# Doing Something After a for Loop\n",
    "What happens once a for loop has finished executing? Usually, you’ll want\n",
    "to summarize a block of output or move on to other work that your pro-\n",
    "gram must accomplish.\n",
    "\n",
    "Any lines of code after the for loop that are not indented are executed\n",
    "once without repetition. Let’s write a thank you to the group of magicians\n",
    "as a whole, thanking them for putting on an excellent show. \n",
    "\n",
    "To display this\n",
    "group message after all of the individual messages have been printed, we\n",
    "place the thank you message after the for loop, without indentation:"
   ]
  },
  {
   "cell_type": "code",
   "execution_count": 9,
   "metadata": {},
   "outputs": [
    {
     "name": "stdout",
     "output_type": "stream",
     "text": [
      "Alice, that was a great trick!\n",
      "I can't wait to see your next trick, Alice.\n",
      "\n",
      "David, that was a great trick!\n",
      "I can't wait to see your next trick, David.\n",
      "\n",
      "Carolina, that was a great trick!\n",
      "I can't wait to see your next trick, Carolina.\n",
      "\n",
      "Thank you, everyone. That was a great magic show!\n"
     ]
    }
   ],
   "source": [
    "magicians = ['alice', 'david', 'carolina']\n",
    "for magician in magicians:\n",
    "    print(f\"{magician.title()}, that was a great trick!\")\n",
    "    print(f\"I can't wait to see your next trick, {magician.title()}.\\n\")\n",
    "print(\"Thank you, everyone. That was a great magic show!\")"
   ]
  },
  {
   "cell_type": "markdown",
   "metadata": {},
   "source": [
    "The first two calls to print() are repeated once for each magician in the\n",
    "list, as you saw earlier. However, because the last line is not indented, it’s\n",
    "printed only once:\n",
    "\n",
    "Alice, that was a great trick!\n",
    "\n",
    "I can't wait to see your next trick, Alice.\n",
    "\n",
    "David, that was a great trick!\n",
    "\n",
    "I can't wait to see your next trick, David.\n",
    "\n",
    "Carolina, that was a great trick!\n",
    "\n",
    "I can't wait to see your next trick, Carolina.\n",
    "\n",
    "Thank you, everyone. That was a great magic show!\n",
    "\n",
    "\n",
    "When you’re processing data using a for loop, you’ll find that this is a\n",
    "good way to summarize an operation that was performed on an entire data-\n",
    "set. For example, you might use a for loop to initialize a game by running\n",
    "through a list of characters and displaying each character on the screen.\n",
    "You might then write some additional code after this loop that displays a\n",
    "Play Now button after all the characters have been drawn to the screen."
   ]
  },
  {
   "cell_type": "markdown",
   "metadata": {},
   "source": [
    "# Avoiding Indentation Errors\n",
    "\n",
    "Python uses indentation to determine how a line, or group of lines, is related\n",
    "to the rest of the program. In the previous examples, the lines that printed\n",
    "messages to individual magicians were part of the for loop because they\n",
    "were indented. Python’s use of indentation makes code very easy to read.\n",
    "Basically, it uses whitespace to force you to write neatly formatted code with\n",
    "a clear visual structure. In longer Python programs, you’ll notice blocks of\n",
    "code indented at a few different levels. These indentation levels help you\n",
    "gain a general sense of the overall program’s organization.\n",
    "\n",
    "As you begin to write code that relies on proper indentation, you’ll\n",
    "need to watch for a few common indentation errors. For example, people\n",
    "sometimes indent lines of code that don’t need to be indented or forget\n",
    "to indent lines that need to be indented. Seeing examples of these errors\n",
    "now will help you avoid them in the future and correct them when they do\n",
    "appear in your own programs.\n",
    "\n",
    "Let’s examine some of the more common indentation errors."
   ]
  },
  {
   "cell_type": "markdown",
   "metadata": {},
   "source": [
    "# Forgetting to Indent\n",
    "\n",
    "Always indent the line after the for statement in a loop. If you forget, Python\n",
    "will remind you:"
   ]
  },
  {
   "cell_type": "code",
   "execution_count": 10,
   "metadata": {},
   "outputs": [
    {
     "ename": "IndentationError",
     "evalue": "expected an indented block after 'for' statement on line 2 (2510761304.py, line 3)",
     "output_type": "error",
     "traceback": [
      "\u001b[0;36m  Cell \u001b[0;32mIn[10], line 3\u001b[0;36m\u001b[0m\n\u001b[0;31m    print(magician)\u001b[0m\n\u001b[0m    ^\u001b[0m\n\u001b[0;31mIndentationError\u001b[0m\u001b[0;31m:\u001b[0m expected an indented block after 'for' statement on line 2\n"
     ]
    }
   ],
   "source": [
    "magicians = ['alice', 'david', 'carolina']\n",
    "for magician in magicians:\n",
    "print(magician)"
   ]
  },
  {
   "cell_type": "markdown",
   "metadata": {},
   "source": [
    "The call to print() should be indented, but it’s not. When Python\n",
    "expects an indented block and doesn’t find one, it lets you know which line\n",
    "it had a problem with:\n",
    "\n",
    "File \"magicians.py\", line 3\n",
    "\n",
    "print(magician)\n",
    "\n",
    "^\n",
    "\n",
    "IndentationError: expected an indented block after 'for' statement on line 2\n",
    "\n",
    "You can usually resolve this kind of indentation error by indenting the\n",
    "line or lines immediately after the for statement."
   ]
  },
  {
   "cell_type": "markdown",
   "metadata": {},
   "source": [
    "# Forgetting to Indent Additional Lines\n",
    "Sometimes your loop will run without any errors but won’t produce the\n",
    "expected result. This can happen when you’re trying to do several tasks\n",
    "in a loop and you forget to indent some of its lines.\n",
    "\n",
    "\n",
    "For example, this is what happens when we forget to indent the second\n",
    "line in the loop that tells each magician we’re looking forward to their next\n",
    "trick:\n"
   ]
  },
  {
   "cell_type": "code",
   "execution_count": 12,
   "metadata": {},
   "outputs": [
    {
     "name": "stdout",
     "output_type": "stream",
     "text": [
      "Alice, that was a great trick!\n",
      "David, that was a great trick!\n",
      "Carolina, that was a great trick!\n",
      "I can't wait to see your next trick, Carolina.\n",
      "\n"
     ]
    }
   ],
   "source": [
    "magicians = ['alice', 'david', 'carolina']\n",
    "for magician in magicians:\n",
    "    print(f\"{magician.title()}, that was a great trick!\")\n",
    "print(f\"I can't wait to see your next trick, {magician.title()}.\\n\")"
   ]
  },
  {
   "cell_type": "markdown",
   "metadata": {},
   "source": [
    "The second call to print() is supposed to be indented, but because\n",
    "Python finds at least one indented line after the for statement, it doesn’t\n",
    "report an error. As a result, the first print() call is executed once for each\n",
    "name in the list because it is indented. The second print() call is not\n",
    "indented, so it is executed only once after the loop has finished running.\n",
    "Because the final value associated with magician is 'carolina', she is the only\n",
    "one who receives the “looking forward to the next trick” message:\n",
    "\n",
    "Alice, that was a great trick!\n",
    "\n",
    "David, that was a great trick!\n",
    "\n",
    "Carolina, that was a great trick!\n",
    "\n",
    "I can't wait to see your next trick, Carolina.\n",
    "\n",
    "This is a logical error. The syntax is valid Python code, but the code does\n",
    "not produce the desired result because a problem occurs in its logic. If you\n",
    "expect to see a certain action repeated once for each item in a list and it’s\n",
    "executed only once, determine whether you need to simply indent a line or\n",
    "a group of lines."
   ]
  },
  {
   "cell_type": "markdown",
   "metadata": {},
   "source": [
    "# Indenting Unnecessarily\n",
    "If you accidentally indent a line that doesn’t need to be indented, Python\n",
    "informs you about the unexpected indent:"
   ]
  },
  {
   "cell_type": "code",
   "execution_count": 14,
   "metadata": {},
   "outputs": [
    {
     "ename": "IndentationError",
     "evalue": "unexpected indent (2495908521.py, line 2)",
     "output_type": "error",
     "traceback": [
      "\u001b[0;36m  Cell \u001b[0;32mIn[14], line 2\u001b[0;36m\u001b[0m\n\u001b[0;31m    print(message)\u001b[0m\n\u001b[0m    ^\u001b[0m\n\u001b[0;31mIndentationError\u001b[0m\u001b[0;31m:\u001b[0m unexpected indent\n"
     ]
    }
   ],
   "source": [
    "message = \"Hello Python world!\"\n",
    "    print(message)"
   ]
  },
  {
   "cell_type": "markdown",
   "metadata": {},
   "source": [
    "We don’t need to indent the print() call, because it isn’t part of a loop;\n",
    "hence, Python reports that error:\n",
    "\n",
    "File \"hello_world.py\", line 2\n",
    "\n",
    "print(message)\n",
    "\n",
    "^\n",
    "\n",
    "IndentationError: unexpected indent\n",
    "\n",
    "You can avoid unexpected indentation errors by indenting only when\n",
    "you have a specific reason to do so. \n",
    "\n",
    "In the programs you’re writing at this\n",
    "point, the only lines you should indent are the actions you want to repeat\n",
    "for each item in a for loop."
   ]
  },
  {
   "cell_type": "markdown",
   "metadata": {},
   "source": [
    "# Indenting Unnecessarily After the Loop\n",
    "If you accidentally indent code that should run after a loop has finished,\n",
    "that code will be repeated once for each item in the list. Sometimes this\n",
    "prompts Python to report an error, but often this will result in a logical\n",
    "error.\n",
    "\n",
    "\n",
    "For example, let’s see what happens when we accidentally indent the\n",
    "line that thanked the magicians as a group for putting on a good show:"
   ]
  },
  {
   "cell_type": "code",
   "execution_count": 16,
   "metadata": {},
   "outputs": [
    {
     "name": "stdout",
     "output_type": "stream",
     "text": [
      "Alice, that was a great trick!\n",
      "I can't wait to see your next trick, Alice.\n",
      "\n",
      "Thank you everyone, that was a great magic show!\n",
      "David, that was a great trick!\n",
      "I can't wait to see your next trick, David.\n",
      "\n",
      "Thank you everyone, that was a great magic show!\n",
      "Carolina, that was a great trick!\n",
      "I can't wait to see your next trick, Carolina.\n",
      "\n",
      "Thank you everyone, that was a great magic show!\n"
     ]
    }
   ],
   "source": [
    "magicians = ['alice', 'david', 'carolina']\n",
    "for magician in magicians:\n",
    "    print(f\"{magician.title()}, that was a great trick!\")\n",
    "    print(f\"I can't wait to see your next trick, {magician.title()}.\\n\")\n",
    "    \n",
    "    print(\"Thank you everyone, that was a great magic show!\")"
   ]
  },
  {
   "cell_type": "markdown",
   "metadata": {},
   "source": [
    "Because the last line is indented, it’s printed once for each person in\n",
    "the list:\n",
    "\n",
    "Alice, that was a great trick!\n",
    "\n",
    "I can't wait to see your next trick, Alice.\n",
    "\n",
    "Thank you everyone, that was a great magic show!\n",
    "\n",
    "David, that was a great trick!\n",
    "\n",
    "I can't wait to see your next trick, David.\n",
    "\n",
    "\n",
    "Thank you everyone, that was a great magic show!\n",
    "\n",
    "Carolina, that was a great trick!\n",
    "\n",
    "I can't wait to see your next trick, Carolina.\n",
    "\n",
    "Thank you everyone, that was a great magic show!\n",
    "\n",
    "\n",
    "This is another logical error, similar to the one in “Forgetting to Indent\n",
    "Additional Lines”. Because Python doesn’t know what you’re\n",
    "trying to accomplish with your code, it will run all code that is written in\n",
    "valid syntax. If an action is repeated many times when it should be executed\n",
    "only once, you probably need to unindent the code for that action."
   ]
  },
  {
   "cell_type": "markdown",
   "metadata": {},
   "source": [
    "# Forgetting the Colon\n",
    "The colon at the end of a for statement tells Python to interpret the next\n",
    "line as the start of a loop."
   ]
  },
  {
   "cell_type": "code",
   "execution_count": 17,
   "metadata": {},
   "outputs": [
    {
     "ename": "SyntaxError",
     "evalue": "expected ':' (518316207.py, line 2)",
     "output_type": "error",
     "traceback": [
      "\u001b[0;36m  Cell \u001b[0;32mIn[17], line 2\u001b[0;36m\u001b[0m\n\u001b[0;31m    for magician in magicians\u001b[0m\n\u001b[0m                             ^\u001b[0m\n\u001b[0;31mSyntaxError\u001b[0m\u001b[0;31m:\u001b[0m expected ':'\n"
     ]
    }
   ],
   "source": [
    "magicians = ['alice', 'david', 'carolina']\n",
    "for magician in magicians\n",
    "    print(magician)"
   ]
  },
  {
   "cell_type": "markdown",
   "metadata": {},
   "source": [
    "If you accidentally forget the colon , you’ll get a syntax error because\n",
    "Python doesn’t know exactly what you’re trying to do:\n",
    "\n",
    "File \"magicians.py\", line 2\n",
    "\n",
    "for magician in magicians\n",
    "\n",
    "^\n",
    "\n",
    "SyntaxError: expected ':'\n",
    "\n",
    "Python doesn’t know if you simply forgot the colon, or if you meant\n",
    "to write additional code to set up a more complex loop. If the interpreter\n",
    "can identify a possible fix it will suggest one, like adding a colon at the end\n",
    "of a line, as it does here with the response expected ':'. Some errors have\n",
    "easy, obvious fixes, thanks to the suggestions in Python’s tracebacks. \n",
    "\n",
    "Some\n",
    "errors are much harder to resolve, even when the eventual fix only involves\n",
    "a single character. Don’t feel bad when a small fix takes a long time to find;\n",
    "you are absolutely not alone in this experience."
   ]
  },
  {
   "cell_type": "markdown",
   "metadata": {},
   "source": [
    "# Making Numerical Lists\n",
    "Many reasons exist to store a set of numbers. For example, you’ll need to\n",
    "keep track of the positions of each character in a game, and you might want to keep track of a player’s high scores as well. In data visualizations, you’ll\n",
    "almost always work with sets of numbers, such as temperatures, distances,\n",
    "population sizes, or latitude and longitude values, among other types of\n",
    "numerical sets.\n",
    "\n",
    "Lists are ideal for storing sets of numbers, and Python provides a variety\n",
    "of tools to help you work efficiently with lists of numbers. Once you under-\n",
    "stand how to use these tools effectively, your code will work well even when\n",
    "your lists contain millions of items.\n"
   ]
  },
  {
   "cell_type": "markdown",
   "metadata": {},
   "source": [
    "# Using the range() Function\n",
    "Python’s range() function makes it easy to generate a series of numbers.\n",
    "For example, you can use the range() function to print a series of numbers\n",
    "like this:"
   ]
  },
  {
   "cell_type": "code",
   "execution_count": 18,
   "metadata": {},
   "outputs": [
    {
     "name": "stdout",
     "output_type": "stream",
     "text": [
      "1\n",
      "2\n",
      "3\n",
      "4\n"
     ]
    }
   ],
   "source": [
    "for value in range(1,5):\n",
    "    print(value)"
   ]
  },
  {
   "cell_type": "markdown",
   "metadata": {},
   "source": [
    "Although this code looks like it should print the numbers from 1 to 5, it\n",
    "doesn’t print the number 5:\n",
    "\n",
    "1\n",
    "\n",
    "2\n",
    "\n",
    "3\n",
    "\n",
    "4\n",
    "\n",
    "In this example, range() prints only the numbers 1 through 4. This is\n",
    "another result of the off-by-one behavior you’ll see often in programming\n",
    "languages. The range() function causes Python to start counting at the first\n",
    "value you give it, and it stops when it reaches the second value you provide.\n",
    "Because it stops at that second value, the output never contains the end\n",
    "value, which would have been 5 in this case."
   ]
  },
  {
   "cell_type": "markdown",
   "metadata": {},
   "source": [
    "To print the numbers from 1 to 5, you would use range(1, 6):"
   ]
  },
  {
   "cell_type": "code",
   "execution_count": 19,
   "metadata": {},
   "outputs": [
    {
     "name": "stdout",
     "output_type": "stream",
     "text": [
      "1\n",
      "2\n",
      "3\n",
      "4\n",
      "5\n"
     ]
    }
   ],
   "source": [
    "for value in range(1, 6):\n",
    "    print(value)"
   ]
  },
  {
   "cell_type": "markdown",
   "metadata": {},
   "source": [
    "This time the output starts at 1 and ends at 5:\n",
    "\n",
    "1\n",
    "\n",
    "2\n",
    "\n",
    "3\n",
    "\n",
    "4\n",
    "\n",
    "5\n",
    "\n",
    "If your output is different from what you expect when you’re using\n",
    "range(), try adjusting your end value by 1.\n",
    "You can also pass range() only one argument, and it will start the\n",
    "sequence of numbers at 0. \n",
    "\n",
    "For example, range(6) would return the numbers\n",
    "from 0 through 5."
   ]
  },
  {
   "cell_type": "code",
   "execution_count": 20,
   "metadata": {},
   "outputs": [
    {
     "name": "stdout",
     "output_type": "stream",
     "text": [
      "0\n",
      "1\n",
      "2\n",
      "3\n",
      "4\n",
      "5\n"
     ]
    }
   ],
   "source": [
    "for value in range(6):\n",
    "    print(value)"
   ]
  },
  {
   "cell_type": "markdown",
   "metadata": {},
   "source": [
    "# Using range() to Make a List of Numbers\n",
    "If you want to make a list of numbers, you can convert the results of range()\n",
    "directly into a list using the list() function. When you wrap list() around a\n",
    "call to the range() function, the output will be a list of numbers.\n",
    "\n",
    "In the example in the previous section, we simply printed out a series of\n",
    "numbers. We can use list() to convert that same set of numbers into a list:"
   ]
  },
  {
   "cell_type": "code",
   "execution_count": 21,
   "metadata": {},
   "outputs": [
    {
     "name": "stdout",
     "output_type": "stream",
     "text": [
      "[1, 2, 3, 4, 5]\n"
     ]
    }
   ],
   "source": [
    "numbers = list(range(1, 6))\n",
    "print(numbers)"
   ]
  },
  {
   "cell_type": "markdown",
   "metadata": {},
   "source": [
    "This is the result:\n",
    "\n",
    "[1, 2, 3, 4, 5]\n",
    "\n",
    "\n",
    "We can also use the range() function to tell Python to skip numbers in a\n",
    "given range. If you pass a third argument to range(), Python uses that value\n",
    "as a step size when generating numbers.\n",
    "\n",
    "#   List of even numbers:\n",
    "For example, here’s how to list the even numbers between 1 and 10:"
   ]
  },
  {
   "cell_type": "code",
   "execution_count": 22,
   "metadata": {},
   "outputs": [
    {
     "name": "stdout",
     "output_type": "stream",
     "text": [
      "[2, 4, 6, 8, 10]\n"
     ]
    }
   ],
   "source": [
    "even_numbers = list(range(2, 11, 2))\n",
    "print(even_numbers)"
   ]
  },
  {
   "cell_type": "markdown",
   "metadata": {},
   "source": [
    "In this example, the range() function starts with the value 2 and then\n",
    "adds 2 to that value. It adds 2 repeatedly until it reaches or passes the end\n",
    "value, 11, and produces this result:\n",
    "\n",
    "[2, 4, 6, 8, 10]"
   ]
  },
  {
   "cell_type": "markdown",
   "metadata": {},
   "source": [
    "# Square numbers:\n",
    "You can create almost any set of numbers you want to using the range()\n",
    "function. For example, consider how you might make a list of the first 10\n",
    "square numbers (that is, the square of each integer from 1 through 10). In\n",
    "Python, two asterisks (**) represent exponents. \n",
    "\n",
    "Here’s how you might put\n",
    "the first 10 square numbers into a list:\n"
   ]
  },
  {
   "cell_type": "code",
   "execution_count": 23,
   "metadata": {},
   "outputs": [
    {
     "name": "stdout",
     "output_type": "stream",
     "text": [
      "[1, 4, 9, 16, 25, 36, 49, 64, 81, 100]\n"
     ]
    }
   ],
   "source": [
    "squares = []\n",
    "for value in range(1, 11):\n",
    "    square = value ** 2\n",
    "    squares.append(square)\n",
    "print(squares)"
   ]
  },
  {
   "cell_type": "markdown",
   "metadata": {},
   "source": [
    "We start with an empty list called squares. Then, we tell Python to loop\n",
    "through each value from 1 to 10 using the range() function. Inside the loop,\n",
    "the current value is raised to the second power and assigned to the variable\n",
    "square . Each new value of square is then appended to the list squares .\n",
    "Finally, when the loop has finished running, the list of squares is printed:\n",
    "\n",
    "[1, 4, 9, 16, 25, 36, 49, 64, 81, 100]"
   ]
  },
  {
   "cell_type": "markdown",
   "metadata": {},
   "source": [
    "To write this code more concisely, omit the temporary variable square\n",
    "and append each new value directly to the list:"
   ]
  },
  {
   "cell_type": "code",
   "execution_count": 24,
   "metadata": {},
   "outputs": [
    {
     "name": "stdout",
     "output_type": "stream",
     "text": [
      "[1, 4, 9, 16, 25, 36, 49, 64, 81, 100]\n"
     ]
    }
   ],
   "source": [
    "squares = []\n",
    "for value in range(1,11):\n",
    "    squares.append(value**2)\n",
    "print(squares)"
   ]
  },
  {
   "cell_type": "markdown",
   "metadata": {},
   "source": [
    "This line does the same work as the lines inside the for loop in the pre-\n",
    "vious listing. Each value in the loop is raised to the second power and then\n",
    "immediately appended to the list of squares.\n",
    "\n",
    "\n",
    "You can use either of these approaches when you’re making more com-\n",
    "plex lists. Sometimes using a temporary variable makes your code easier to\n",
    "read; other times it makes the code unnecessarily long. Focus first on writ-\n",
    "ing code that you understand clearly, and does what you want it to do. Then\n",
    "look for more efficient approaches as you review your code."
   ]
  },
  {
   "cell_type": "markdown",
   "metadata": {},
   "source": [
    "# Simple Statistics with a List of Numbers\n",
    "A few Python functions are helpful when working with lists of numbers. \n",
    "\n",
    "For\n",
    "example, you can easily find the minimum, maximum, and sum of a list of\n",
    "numbers:"
   ]
  },
  {
   "cell_type": "code",
   "execution_count": 25,
   "metadata": {},
   "outputs": [
    {
     "name": "stdout",
     "output_type": "stream",
     "text": [
      "0\n",
      "9\n",
      "45\n"
     ]
    }
   ],
   "source": [
    "digits = [1, 2, 3, 4, 5, 6, 7, 8, 9, 0]\n",
    "print(min(digits))\n",
    "print(max(digits))\n",
    "print(sum(digits))"
   ]
  },
  {
   "cell_type": "code",
   "execution_count": 28,
   "metadata": {},
   "outputs": [
    {
     "name": "stdout",
     "output_type": "stream",
     "text": [
      "Minimum number in the list is : 0.\n",
      "Maximum number in the list is : 9.\n",
      "Sum of the list is : 45.\n"
     ]
    }
   ],
   "source": [
    "digits = [1, 2, 3, 4, 5, 6, 7, 8, 9, 0]\n",
    "print(f\"Minimum number in the list is : {min(digits)}.\")\n",
    "print(f\"Maximum number in the list is : {max(digits)}.\")\n",
    "print(f\"Sum of the list is : {sum(digits)}.\")\n"
   ]
  },
  {
   "cell_type": "markdown",
   "metadata": {},
   "source": [
    "# NOTE \n",
    "The examples in this section use short lists of numbers that fit easily on the page. They\n",
    "would work just as well if your list contained a million or more numbers."
   ]
  },
  {
   "cell_type": "markdown",
   "metadata": {},
   "source": [
    "# List Comprehensions\n",
    "The approach described earlier for generating the list squares consisted of\n",
    "using three or four lines of code. A list comprehension allows you to generate\n",
    "this same list in just one line of code. A list comprehension combines the\n",
    "for loop and the creation of new elements into one line, and automatically\n",
    "appends each new element. List comprehensions are not always presented\n",
    "to beginners, but I’ve included them here because you’ll most likely see\n",
    "them as soon as you start looking at other people’s code.\n",
    "\n",
    "\n",
    "The following example builds the same list of square numbers you saw\n",
    "earlier but uses a list comprehension:"
   ]
  },
  {
   "cell_type": "code",
   "execution_count": 29,
   "metadata": {},
   "outputs": [
    {
     "name": "stdout",
     "output_type": "stream",
     "text": [
      "[1, 4, 9, 16, 25, 36, 49, 64, 81, 100]\n"
     ]
    }
   ],
   "source": [
    "squares = [value**2 for value in range(1, 11)]\n",
    "print(squares)"
   ]
  },
  {
   "cell_type": "markdown",
   "metadata": {},
   "source": [
    "To use this syntax, begin with a descriptive name for the list, such as\n",
    "squares. Next, open a set of square brackets and define the expression for\n",
    "the values you want to store in the new list. In this example the expression is\n",
    "value**2, which raises the value to the second power. Then, write a for loop\n",
    "to generate the numbers you want to feed into the expression, and close the\n",
    "square brackets. The for loop in this example is for value in range(1, 11),\n",
    "which feeds the values 1 through 10 into the expression value**2. Note that\n",
    "no colon is used at the end of the for statement.\n",
    "\n",
    "The result is the same list of square numbers you saw earlier:\n",
    "\n",
    "[1, 4, 9, 16, 25, 36, 49, 64, 81, 100]\n",
    "\n",
    "It takes practice to write your own list comprehensions, but you’ll find\n",
    "them worthwhile once you become comfortable creating ordinary lists.\n",
    "When you’re writing three or four lines of code to generate lists and it\n",
    "begins to feel repetitive, consider writing your own list comprehensions."
   ]
  },
  {
   "cell_type": "markdown",
   "metadata": {},
   "source": [
    "# Working with Part of a List\n",
    "In Chapter 3 you learned how to access single elements in a list, and in this\n",
    "chapter you’ve been learning how to work through all the elements in a\n",
    "list. You can also work with a specific group of items in a list, called a slice in\n",
    "Python."
   ]
  },
  {
   "cell_type": "markdown",
   "metadata": {},
   "source": [
    "# Slicing a List\n",
    "To make a slice, you specify the index of the first and last elements you want\n",
    "to work with. As with the range() function, Python stops one item before the\n",
    "second index you specify. To output the first three elements in a list, you\n",
    "would request indices 0 through 3, which would return elements 0, 1, and 2.\n",
    "\n",
    "The following example involves a list of players on a team:"
   ]
  },
  {
   "cell_type": "code",
   "execution_count": 1,
   "metadata": {},
   "outputs": [
    {
     "name": "stdout",
     "output_type": "stream",
     "text": [
      "['charles', 'martina', 'michael']\n"
     ]
    }
   ],
   "source": [
    "players = ['charles', 'martina', 'michael', 'florence', 'eli']\n",
    "print(players[0:3])"
   ]
  },
  {
   "cell_type": "markdown",
   "metadata": {},
   "source": [
    "This code prints a slice of the list. \n",
    "\n",
    "The output retains the structure of\n",
    "the list, and includes the first three players in the list:\n",
    "\n",
    "['charles', 'martina', 'michael']"
   ]
  },
  {
   "cell_type": "markdown",
   "metadata": {},
   "source": [
    "You can generate any subset of a list. For example, if you want the sec-\n",
    "ond, third, and fourth items in a list, you would start the slice at index 1 and\n",
    "end it at index 4:"
   ]
  },
  {
   "cell_type": "code",
   "execution_count": 2,
   "metadata": {},
   "outputs": [
    {
     "name": "stdout",
     "output_type": "stream",
     "text": [
      "['martina', 'michael', 'florence']\n"
     ]
    }
   ],
   "source": [
    "players = ['charles', 'martina', 'michael', 'florence', 'eli']\n",
    "print(players[1:4])"
   ]
  },
  {
   "cell_type": "markdown",
   "metadata": {},
   "source": [
    "This time the slice starts with 'martina' and ends with 'florence':\n",
    "\n",
    "['martina', 'michael', 'florence']"
   ]
  },
  {
   "cell_type": "markdown",
   "metadata": {},
   "source": [
    "If you omit the first index in a slice, Python automatically starts your\n",
    "slice at the beginning of the list:"
   ]
  },
  {
   "cell_type": "code",
   "execution_count": 3,
   "metadata": {},
   "outputs": [
    {
     "name": "stdout",
     "output_type": "stream",
     "text": [
      "['charles', 'martina', 'michael', 'florence']\n"
     ]
    }
   ],
   "source": [
    "players = ['charles', 'martina', 'michael', 'florence', 'eli']\n",
    "print(players[:4])"
   ]
  },
  {
   "cell_type": "markdown",
   "metadata": {},
   "source": [
    "Without a starting index, Python starts at the beginning of the list:\n",
    "\n",
    "['charles', 'martina', 'michael', 'florence']"
   ]
  },
  {
   "cell_type": "markdown",
   "metadata": {},
   "source": [
    "A similar syntax works if you want a slice that includes the end of a list.\n",
    "For example, if you want all items from the third item through the last item,\n",
    "you can start with index 2 and omit the second index:"
   ]
  },
  {
   "cell_type": "code",
   "execution_count": 4,
   "metadata": {},
   "outputs": [
    {
     "name": "stdout",
     "output_type": "stream",
     "text": [
      "['michael', 'florence', 'eli']\n"
     ]
    }
   ],
   "source": [
    "players = ['charles', 'martina', 'michael', 'florence', 'eli']\n",
    "print(players[2:])"
   ]
  },
  {
   "cell_type": "markdown",
   "metadata": {},
   "source": [
    "Python returns all items from the third item through the end of the list:\n",
    "\n",
    "['michael', 'florence', 'eli']"
   ]
  },
  {
   "cell_type": "markdown",
   "metadata": {},
   "source": [
    "This syntax allows you to output all of the elements from any point in\n",
    "your list to the end, regardless of the length of the list. Recall that a nega-\n",
    "tive index returns an element a certain distance from the end of a list;\n",
    "therefore, you can output any slice from the end of a list. \n",
    "\n",
    "For example, if\n",
    "we want to output the last three players on the roster, we can use the slice\n",
    "\n",
    "players[-3:]:"
   ]
  },
  {
   "cell_type": "code",
   "execution_count": 5,
   "metadata": {},
   "outputs": [
    {
     "name": "stdout",
     "output_type": "stream",
     "text": [
      "['michael', 'florence', 'eli']\n"
     ]
    }
   ],
   "source": [
    "players = ['charles', 'martina', 'michael', 'florence', 'eli']\n",
    "print(players[-3:])"
   ]
  },
  {
   "cell_type": "markdown",
   "metadata": {},
   "source": [
    "This prints the names of the last three players and will continue to work\n",
    "as the list of players changes in size.\n",
    "\n",
    "# NOTE: \n",
    "\n",
    "You can include a third value in the brackets indicating a slice. If a third value is\n",
    "included, this tells Python how many items to skip between items in the specified\n",
    "range."
   ]
  },
  {
   "cell_type": "code",
   "execution_count": 6,
   "metadata": {},
   "outputs": [
    {
     "name": "stdout",
     "output_type": "stream",
     "text": [
      "['martina', 'florence']\n"
     ]
    }
   ],
   "source": [
    "players = ['charles', 'martina', 'michael', 'florence', 'eli']\n",
    "print(players[1:4:2])"
   ]
  },
  {
   "cell_type": "markdown",
   "metadata": {},
   "source": [
    "# Looping Through a Slice\n",
    "You can use a slice in a for loop if you want to loop through a subset of the\n",
    "elements in a list. \n",
    "\n",
    "In the next example, we loop through the first three play-\n",
    "ers and print their names as part of a simple roster:"
   ]
  },
  {
   "cell_type": "code",
   "execution_count": 8,
   "metadata": {},
   "outputs": [
    {
     "name": "stdout",
     "output_type": "stream",
     "text": [
      "Here are the first three players on my team:\n",
      "Charles\n",
      "Martina\n",
      "Michael\n"
     ]
    }
   ],
   "source": [
    "players = ['charles', 'martina', 'michael', 'florence', 'eli']\n",
    "print(\"Here are the first three players on my team:\")\n",
    "for player in players[:3]:\n",
    "    print(player.title())"
   ]
  },
  {
   "cell_type": "markdown",
   "metadata": {},
   "source": [
    "Instead of looping through the entire list of players, Python loops\n",
    "through only the first three names :\n",
    "\n",
    "Here are the first three players on my team:\n",
    "\n",
    "Charles\n",
    "\n",
    "Martina\n",
    "\n",
    "Michael\n",
    "\n",
    "\n",
    "Slices are very useful in a number of situations. For instance, when\n",
    "you’re creating a game, you could add a player’s final score to a list every\n",
    "time that player finishes playing. You could then get a player’s top three\n",
    "scores by sorting the list in decreasing order and taking a slice that includes\n",
    "just the first three scores. When you’re working with data, you can use slices\n",
    "to process your data in chunks of a specific size. Or, when you’re building\n",
    "a web application, you could use slices to display information in a series of\n",
    "pages with an appropriate amount of information on each page."
   ]
  },
  {
   "cell_type": "markdown",
   "metadata": {},
   "source": [
    "# Copying a List\n",
    "Often, you’ll want to start with an existing list and make an entirely new list\n",
    "based on the first one. Let’s explore how copying a list works and examine\n",
    "one situation in which copying a list is useful.\n",
    "\n",
    "To copy a list, you can make a slice that includes the entire original list\n",
    "by omitting the first index and the second index ([:]). This tells Python to\n",
    "make a slice that starts at the first item and ends with the last item, produc-\n",
    "ing a copy of the entire list.\n",
    "\n",
    "For example, imagine we have a list of our favorite foods and want to\n",
    "make a separate list of foods that a friend likes. This friend likes everything\n",
    "in our list so far, so we can create their list by copying ours:"
   ]
  },
  {
   "cell_type": "code",
   "execution_count": 9,
   "metadata": {},
   "outputs": [
    {
     "name": "stdout",
     "output_type": "stream",
     "text": [
      "My favorite foods are:\n",
      "['pizza', 'falafel', 'carrot cake']\n",
      "\n",
      "My friend's favorite foods are:\n",
      "['pizza', 'falafel', 'carrot cake']\n"
     ]
    }
   ],
   "source": [
    "my_foods = ['pizza', 'falafel', 'carrot cake']\n",
    "friend_foods = my_foods[:]\n",
    "print(\"My favorite foods are:\")\n",
    "print(my_foods)\n",
    "print(\"\\nMy friend's favorite foods are:\")\n",
    "print(friend_foods)"
   ]
  },
  {
   "cell_type": "code",
   "execution_count": 11,
   "metadata": {},
   "outputs": [
    {
     "name": "stdout",
     "output_type": "stream",
     "text": [
      "My favorite foods are: \n",
      "['pizza', 'falafel', 'carrot cake']\n",
      "\n",
      "My friend's favorite foods are:\n",
      " ['pizza', 'falafel', 'carrot cake']\n"
     ]
    }
   ],
   "source": [
    "my_foods = ['pizza', 'falafel', 'carrot cake']\n",
    "friend_foods = my_foods[:]\n",
    "print(f\"My favorite foods are: \\n{my_foods}\")\n",
    "print(f\"\\nMy friend's favorite foods are:\\n {friend_foods}\")\n"
   ]
  },
  {
   "cell_type": "markdown",
   "metadata": {},
   "source": [
    "First, we make a list of the foods we like called my_foods. Then we make\n",
    "a new list called friend_foods. We make a copy of my_foods by asking for a\n",
    "slice of my_foods without specifying any indices , and assign the copy to\n",
    "friend_foods. When we print each list, we see that they both contain the\n",
    "same foods:\n",
    "\n",
    "My favorite foods are:\n",
    "\n",
    "['pizza', 'falafel', 'carrot cake']\n",
    "\n",
    "My friend's favorite foods are:\n",
    "\n",
    "['pizza', 'falafel', 'carrot cake']\n"
   ]
  },
  {
   "cell_type": "markdown",
   "metadata": {},
   "source": [
    "To prove that we actually have two separate lists, we’ll add a new food\n",
    "to each list and show that each list keeps track of the appropriate person’s\n",
    "favorite foods:"
   ]
  },
  {
   "cell_type": "code",
   "execution_count": 12,
   "metadata": {},
   "outputs": [
    {
     "name": "stdout",
     "output_type": "stream",
     "text": [
      "My favorite foods are:\n",
      "['pizza', 'falafel', 'carrot cake', 'cannoli']\n",
      "\n",
      "My friend's favorite foods are:\n",
      "['pizza', 'falafel', 'carrot cake', 'ice cream']\n"
     ]
    }
   ],
   "source": [
    "my_foods = ['pizza', 'falafel', 'carrot cake']\n",
    "friend_foods = my_foods[:]\n",
    "my_foods.append('cannoli')\n",
    "friend_foods.append('ice cream')\n",
    "print(\"My favorite foods are:\")\n",
    "print(my_foods)\n",
    "print(\"\\nMy friend's favorite foods are:\")\n",
    "print(friend_foods)"
   ]
  },
  {
   "cell_type": "markdown",
   "metadata": {},
   "source": [
    "We copy the original items in my_foods to the new list friend_foods, as we\n",
    "did in the previous example . Next, we add a new food to each list: we add\n",
    "'cannoli' to my_foods , and we add 'ice cream' to friend_foods . We then\n",
    "print the two lists to see whether each of these foods is in the appropriate list:\n",
    "\n",
    "My favorite foods are:\n",
    "\n",
    "['pizza', 'falafel', 'carrot cake', 'cannoli']\n",
    "\n",
    "My friend's favorite foods are:\n",
    "\n",
    "['pizza', 'falafel', 'carrot cake', 'ice cream']"
   ]
  },
  {
   "cell_type": "markdown",
   "metadata": {},
   "source": [
    "The output shows that 'cannoli' now appears in our list of favorite foods\n",
    "but 'ice cream' does not. We can see that 'ice cream' now appears in our\n",
    "friend’s list but 'cannoli' does not. \n",
    "\n",
    "\n",
    "If we had simply set friend_foods equal to\n",
    "my_foods, we would not produce two separate lists. \n",
    "\n",
    "For example, here’s what\n",
    "happens when you try to copy a list without using a slice:"
   ]
  },
  {
   "cell_type": "code",
   "execution_count": 13,
   "metadata": {},
   "outputs": [
    {
     "name": "stdout",
     "output_type": "stream",
     "text": [
      "My favorite foods are:\n",
      "['pizza', 'falafel', 'carrot cake', 'cannoli', 'ice cream']\n",
      "\n",
      "My friend's favorite foods are:\n",
      "['pizza', 'falafel', 'carrot cake', 'cannoli', 'ice cream']\n"
     ]
    }
   ],
   "source": [
    "my_foods = ['pizza', 'falafel', 'carrot cake']\n",
    "# This doesn't work:\n",
    "friend_foods = my_foods\n",
    "my_foods.append('cannoli')\n",
    "friend_foods.append('ice cream')\n",
    "print(\"My favorite foods are:\")\n",
    "print(my_foods)\n",
    "print(\"\\nMy friend's favorite foods are:\")\n",
    "print(friend_foods)"
   ]
  },
  {
   "cell_type": "markdown",
   "metadata": {},
   "source": [
    "Instead of assigning a copy of my_foods to friend_foods, we set friend_foods\n",
    "equal to my_foods. This syntax actually tells Python to associate the new vari-\n",
    "able friend_foods with the list that is already associated with my_foods, so now\n",
    "both variables point to the same list. As a result, when we add 'cannoli' to\n",
    "my_foods, it will also appear in friend_foods. Likewise 'ice cream' will appear\n",
    "in both lists, even though it appears to be added only to friend_foods.\n",
    "\n",
    "\n",
    "The output shows that both lists are the same now, which is not what we\n",
    "wanted:\n",
    "\n",
    "My favorite foods are:\n",
    "\n",
    "['pizza', 'falafel', 'carrot cake', 'cannoli', 'ice cream']\n",
    "\n",
    "My friend's favorite foods are:\n",
    "\n",
    "['pizza', 'falafel', 'carrot cake', 'cannoli', 'ice cream']"
   ]
  },
  {
   "cell_type": "markdown",
   "metadata": {},
   "source": [
    "# NOTE\n",
    " Don’t worry about the details in this example for now. If you’re trying to work with\n",
    "a copy of a list and you see unexpected behavior, make sure you are copying the list\n",
    "using a slice, as we did in the first example."
   ]
  }
 ],
 "metadata": {
  "kernelspec": {
   "display_name": "Python 3",
   "language": "python",
   "name": "python3"
  },
  "language_info": {
   "codemirror_mode": {
    "name": "ipython",
    "version": 3
   },
   "file_extension": ".py",
   "mimetype": "text/x-python",
   "name": "python",
   "nbconvert_exporter": "python",
   "pygments_lexer": "ipython3",
   "version": "3.12.5"
  }
 },
 "nbformat": 4,
 "nbformat_minor": 2
}
