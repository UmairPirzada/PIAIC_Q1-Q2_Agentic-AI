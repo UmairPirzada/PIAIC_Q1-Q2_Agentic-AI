{
  "nbformat": 4,
  "nbformat_minor": 0,
  "metadata": {
    "colab": {
      "provenance": []
    },
    "kernelspec": {
      "name": "python3",
      "display_name": "Python 3"
    },
    "language_info": {
      "name": "python"
    }
  },
  "cells": [
    {
      "cell_type": "markdown",
      "source": [
        "# Dictionaries\n",
        "- key-value pair\n",
        "\n",
        "---"
      ],
      "metadata": {
        "id": "nKBsXEWN07qR"
      }
    },
    {
      "cell_type": "code",
      "execution_count": 1,
      "metadata": {
        "id": "GnslKcDg0wr_"
      },
      "outputs": [],
      "source": [
        "students : list[str ]= [\"Alice\", \"Bob\", \"Charlie\"]\n",
        "scores : list[int] = [85, 92, 78]"
      ]
    },
    {
      "cell_type": "markdown",
      "source": [
        "- {key:value},"
      ],
      "metadata": {
        "id": "lRs24gwS1bvw"
      }
    },
    {
      "cell_type": "code",
      "source": [
        "students_scores = {\"Alice\": 85, \"Bob\": 92, \"Charlie\": 78}"
      ],
      "metadata": {
        "id": "NZjF45S61LPI"
      },
      "execution_count": 2,
      "outputs": []
    },
    {
      "cell_type": "code",
      "source": [
        "# Accessing a value using a key\n",
        "print(students_scores[\"Alice\"])  # Output: 85\n",
        "\n",
        "# Using the get() method\n",
        "# print(students_scores.get(\"Bob\"))  # Output: 92"
      ],
      "metadata": {
        "colab": {
          "base_uri": "https://localhost:8080/"
        },
        "id": "zbOQJ0cX3ifV",
        "outputId": "61df067c-75ae-4835-a06e-5924c92078a3"
      },
      "execution_count": 5,
      "outputs": [
        {
          "output_type": "stream",
          "name": "stdout",
          "text": [
            "85\n",
            "92\n"
          ]
        }
      ]
    },
    {
      "cell_type": "code",
      "source": [
        "# print(students_scores[\"Usman\"])\n",
        "print(students_scores.get(\"Usman\"))"
      ],
      "metadata": {
        "colab": {
          "base_uri": "https://localhost:8080/"
        },
        "id": "kynNQh1w4QfQ",
        "outputId": "a6320d6b-c549-4b2d-9c7b-381a7febec24"
      },
      "execution_count": 9,
      "outputs": [
        {
          "output_type": "stream",
          "name": "stdout",
          "text": [
            "None\n"
          ]
        }
      ]
    },
    {
      "cell_type": "code",
      "source": [
        "names = {1:\"Rehan\", 2: \"Usman\", 3:\"Mazhar\"}"
      ],
      "metadata": {
        "id": "nPc3MWfl4u1g"
      },
      "execution_count": null,
      "outputs": []
    },
    {
      "cell_type": "code",
      "source": [
        "names = {1.0:\"Rehan\", 2.0: \"Usman\", 3.0:\"Mazhar\"}"
      ],
      "metadata": {
        "id": "zWNYQXTS5lYg"
      },
      "execution_count": null,
      "outputs": []
    },
    {
      "cell_type": "code",
      "source": [
        "names = {True:\"Rehan\", False: \"Usman\", False:\"Mazhar\"}"
      ],
      "metadata": {
        "id": "VPHxNMhz5uXY"
      },
      "execution_count": null,
      "outputs": []
    },
    {
      "cell_type": "code",
      "source": [
        "# names = {[1,2,3]:\"Rehan\", False: \"Usman\", False:\"Mazhar\"}"
      ],
      "metadata": {
        "colab": {
          "base_uri": "https://localhost:8080/",
          "height": 144
        },
        "id": "jvyVwXL36G2o",
        "outputId": "e9167874-a75b-461d-a53c-60f4bd109cb2"
      },
      "execution_count": 10,
      "outputs": [
        {
          "output_type": "error",
          "ename": "TypeError",
          "evalue": "unhashable type: 'list'",
          "traceback": [
            "\u001b[0;31m---------------------------------------------------------------------------\u001b[0m",
            "\u001b[0;31mTypeError\u001b[0m                                 Traceback (most recent call last)",
            "\u001b[0;32m<ipython-input-10-c9d4a230f89e>\u001b[0m in \u001b[0;36m<cell line: 1>\u001b[0;34m()\u001b[0m\n\u001b[0;32m----> 1\u001b[0;31m \u001b[0mnames\u001b[0m \u001b[0;34m=\u001b[0m \u001b[0;34m{\u001b[0m\u001b[0;34m[\u001b[0m\u001b[0;36m1\u001b[0m\u001b[0;34m,\u001b[0m\u001b[0;36m2\u001b[0m\u001b[0;34m,\u001b[0m\u001b[0;36m3\u001b[0m\u001b[0;34m]\u001b[0m\u001b[0;34m:\u001b[0m\u001b[0;34m\"Rehan\"\u001b[0m\u001b[0;34m,\u001b[0m \u001b[0;32mFalse\u001b[0m\u001b[0;34m:\u001b[0m \u001b[0;34m\"Usman\"\u001b[0m\u001b[0;34m,\u001b[0m \u001b[0;32mFalse\u001b[0m\u001b[0;34m:\u001b[0m\u001b[0;34m\"Mazhar\"\u001b[0m\u001b[0;34m}\u001b[0m\u001b[0;34m\u001b[0m\u001b[0;34m\u001b[0m\u001b[0m\n\u001b[0m",
            "\u001b[0;31mTypeError\u001b[0m: unhashable type: 'list'"
          ]
        }
      ]
    },
    {
      "cell_type": "code",
      "source": [
        "names = {True:{1:\"Rehan\"}, False: [\"Rehan\",\"Usman\"], False:\"Mazhar\"}\n",
        "print(names)"
      ],
      "metadata": {
        "colab": {
          "base_uri": "https://localhost:8080/"
        },
        "id": "z8mIHZvO6I8Z",
        "outputId": "5ff83d79-4d0b-437c-dfa1-2739d5e720f7"
      },
      "execution_count": 12,
      "outputs": [
        {
          "output_type": "stream",
          "name": "stdout",
          "text": [
            "{True: {1: 'Rehan'}, False: 'Mazhar'}\n"
          ]
        }
      ]
    },
    {
      "cell_type": "code",
      "source": [
        "print(names[False])"
      ],
      "metadata": {
        "colab": {
          "base_uri": "https://localhost:8080/"
        },
        "id": "VTIUaeIN7PId",
        "outputId": "6523635e-9a6a-4b91-98a2-27e299f82dc8"
      },
      "execution_count": 13,
      "outputs": [
        {
          "output_type": "stream",
          "name": "stdout",
          "text": [
            "Mazhar\n"
          ]
        }
      ]
    },
    {
      "cell_type": "code",
      "source": [
        "student_details = {}\n",
        "student_details[\"name\"] = \"Rehan\"\n",
        "print(student_details)\n"
      ],
      "metadata": {
        "colab": {
          "base_uri": "https://localhost:8080/"
        },
        "id": "AMtk1PM274zr",
        "outputId": "e0baea95-e0f8-411d-e46c-f7efcc404b2d"
      },
      "execution_count": 15,
      "outputs": [
        {
          "output_type": "stream",
          "name": "stdout",
          "text": [
            "{'name': 'Rehan'}\n"
          ]
        }
      ]
    },
    {
      "cell_type": "code",
      "source": [
        "student_details[\"name\"] = \"Usman\"\n",
        "print(student_details)"
      ],
      "metadata": {
        "colab": {
          "base_uri": "https://localhost:8080/"
        },
        "id": "JxVbcvbp8ya_",
        "outputId": "e6051d8b-6c6e-456f-dd2a-4416427c1413"
      },
      "execution_count": 16,
      "outputs": [
        {
          "output_type": "stream",
          "name": "stdout",
          "text": [
            "{'name': 'Usman'}\n"
          ]
        }
      ]
    },
    {
      "cell_type": "code",
      "source": [
        "del student_details[\"name\"]\n",
        "print(student_details)"
      ],
      "metadata": {
        "colab": {
          "base_uri": "https://localhost:8080/"
        },
        "id": "uhWc8pMh9G_E",
        "outputId": "ba7ce085-915b-48d8-e703-642f0c61bcb8"
      },
      "execution_count": 17,
      "outputs": [
        {
          "output_type": "stream",
          "name": "stdout",
          "text": [
            "{}\n"
          ]
        }
      ]
    },
    {
      "cell_type": "code",
      "source": [
        "student_details.append(\"name\":\"mazhar\")"
      ],
      "metadata": {
        "colab": {
          "base_uri": "https://localhost:8080/",
          "height": 109
        },
        "id": "vDpCjqjf9lSj",
        "outputId": "6edd4392-fdc5-48fd-bcc2-e1caa1f4ff83"
      },
      "execution_count": 19,
      "outputs": [
        {
          "output_type": "error",
          "ename": "SyntaxError",
          "evalue": "invalid syntax (<ipython-input-19-f124c1199e59>, line 1)",
          "traceback": [
            "\u001b[0;36m  File \u001b[0;32m\"<ipython-input-19-f124c1199e59>\"\u001b[0;36m, line \u001b[0;32m1\u001b[0m\n\u001b[0;31m    student_details.append(\"name\":\"mazhar\")\u001b[0m\n\u001b[0m                                 ^\u001b[0m\n\u001b[0;31mSyntaxError\u001b[0m\u001b[0;31m:\u001b[0m invalid syntax\n"
          ]
        }
      ]
    },
    {
      "cell_type": "code",
      "source": [
        "# prompt: append \"name\":\"mazhar\" in students_details\n",
        "\n",
        "student_details[\"name\"] = \"mazhar\"\n",
        "print(student_details)\n"
      ],
      "metadata": {
        "colab": {
          "base_uri": "https://localhost:8080/"
        },
        "id": "KEJFUIHs-Sgr",
        "outputId": "77d9b58e-6f08-48ef-d77d-03f8a43cc46c"
      },
      "execution_count": 20,
      "outputs": [
        {
          "output_type": "stream",
          "name": "stdout",
          "text": [
            "{'name': 'mazhar'}\n"
          ]
        }
      ]
    },
    {
      "cell_type": "code",
      "source": [
        "# prompt: add \"name\":\"mazhar\" through any other way\n",
        "\n",
        "student_details = {\"name\": \"mazhar\"}\n",
        "print(student_details)\n"
      ],
      "metadata": {
        "id": "KiLYGEEP-1ER"
      },
      "execution_count": null,
      "outputs": []
    },
    {
      "cell_type": "code",
      "source": [
        "dir(dict)"
      ],
      "metadata": {
        "id": "Cl9urQjc_Qu1",
        "outputId": "50216f93-cbbf-4686-a84e-035d8c6a0c05",
        "colab": {
          "base_uri": "https://localhost:8080/"
        }
      },
      "execution_count": 22,
      "outputs": [
        {
          "output_type": "execute_result",
          "data": {
            "text/plain": [
              "['__class__',\n",
              " '__class_getitem__',\n",
              " '__contains__',\n",
              " '__delattr__',\n",
              " '__delitem__',\n",
              " '__dir__',\n",
              " '__doc__',\n",
              " '__eq__',\n",
              " '__format__',\n",
              " '__ge__',\n",
              " '__getattribute__',\n",
              " '__getitem__',\n",
              " '__gt__',\n",
              " '__hash__',\n",
              " '__init__',\n",
              " '__init_subclass__',\n",
              " '__ior__',\n",
              " '__iter__',\n",
              " '__le__',\n",
              " '__len__',\n",
              " '__lt__',\n",
              " '__ne__',\n",
              " '__new__',\n",
              " '__or__',\n",
              " '__reduce__',\n",
              " '__reduce_ex__',\n",
              " '__repr__',\n",
              " '__reversed__',\n",
              " '__ror__',\n",
              " '__setattr__',\n",
              " '__setitem__',\n",
              " '__sizeof__',\n",
              " '__str__',\n",
              " '__subclasshook__',\n",
              " 'clear',\n",
              " 'copy',\n",
              " 'fromkeys',\n",
              " 'get',\n",
              " 'items',\n",
              " 'keys',\n",
              " 'pop',\n",
              " 'popitem',\n",
              " 'setdefault',\n",
              " 'update',\n",
              " 'values']"
            ]
          },
          "metadata": {},
          "execution_count": 22
        }
      ]
    },
    {
      "cell_type": "code",
      "source": [
        "students_scores = {\"Alice\": 85, \"Bob\": 92, \"Charlie\": 78}\n",
        "\n",
        "for score in students_scores:\n",
        "    print(f\"key is {score} and corresponding value is {students_scores[score]}\")"
      ],
      "metadata": {
        "id": "nqdJt4Nz_uj2",
        "outputId": "94c2483e-34fc-4b25-f6dd-67c54a918afb",
        "colab": {
          "base_uri": "https://localhost:8080/"
        }
      },
      "execution_count": 25,
      "outputs": [
        {
          "output_type": "stream",
          "name": "stdout",
          "text": [
            "key is Alice and corresponding value is 85\n",
            "key is Bob and corresponding value is 92\n",
            "key is Charlie and corresponding value is 78\n"
          ]
        }
      ]
    },
    {
      "cell_type": "code",
      "source": [
        "students_scores.values()"
      ],
      "metadata": {
        "id": "ptqQYBQrAjmf",
        "outputId": "7029a1aa-7089-47a0-f2cd-6071e6a1a020",
        "colab": {
          "base_uri": "https://localhost:8080/"
        }
      },
      "execution_count": 26,
      "outputs": [
        {
          "output_type": "execute_result",
          "data": {
            "text/plain": [
              "dict_values([85, 92, 78])"
            ]
          },
          "metadata": {},
          "execution_count": 26
        }
      ]
    },
    {
      "cell_type": "code",
      "source": [
        "students_scores.keys()"
      ],
      "metadata": {
        "id": "2AFCMjK2AvUj",
        "outputId": "f72795aa-5d7d-4378-a7e7-67bbe9ba8c52",
        "colab": {
          "base_uri": "https://localhost:8080/"
        }
      },
      "execution_count": 27,
      "outputs": [
        {
          "output_type": "execute_result",
          "data": {
            "text/plain": [
              "dict_keys(['Alice', 'Bob', 'Charlie'])"
            ]
          },
          "metadata": {},
          "execution_count": 27
        }
      ]
    },
    {
      "cell_type": "code",
      "source": [
        "students_scores.items()"
      ],
      "metadata": {
        "id": "pweuELOnAzud",
        "outputId": "6bf07b41-9a72-4718-def0-9d179f473aaa",
        "colab": {
          "base_uri": "https://localhost:8080/"
        }
      },
      "execution_count": 28,
      "outputs": [
        {
          "output_type": "execute_result",
          "data": {
            "text/plain": [
              "dict_items([('Alice', 85), ('Bob', 92), ('Charlie', 78)])"
            ]
          },
          "metadata": {},
          "execution_count": 28
        }
      ]
    },
    {
      "cell_type": "code",
      "source": [
        "students_scores = {\"Alice\": 85, \"Bob\": 92, \"Charlie\": 78}\n",
        "\n",
        "for key,value in students_scores.items():\n",
        "    print(f\"key is {key} and corresponding value is {value}\")"
      ],
      "metadata": {
        "id": "M5qFdZltBLpf",
        "outputId": "24710238-015b-4ddd-b23f-1c5fbfabdb4b",
        "colab": {
          "base_uri": "https://localhost:8080/"
        }
      },
      "execution_count": 35,
      "outputs": [
        {
          "output_type": "stream",
          "name": "stdout",
          "text": [
            "key is Alice and corresponding value is 85\n",
            "key is Bob and corresponding value is 92\n",
            "key is Charlie and corresponding value is 78\n"
          ]
        }
      ]
    },
    {
      "cell_type": "code",
      "source": [
        "values : dict[int,int] = {x:x for x in range(5)}\n",
        "print(values)"
      ],
      "metadata": {
        "id": "Ch1b-hq3CW4x",
        "outputId": "ebb6220c-3000-4f3d-bdc6-421306403fe7",
        "colab": {
          "base_uri": "https://localhost:8080/"
        }
      },
      "execution_count": 30,
      "outputs": [
        {
          "output_type": "stream",
          "name": "stdout",
          "text": [
            "{0: 0, 1: 1, 2: 2, 3: 3, 4: 4}\n"
          ]
        }
      ]
    },
    {
      "cell_type": "code",
      "source": [
        "fruits : list[str] = [\"apple\", \"banana\", \"orange\"]\n",
        "fruits_dict : dict[int,str] = {key:value for key, value in enumerate(fruits)}\n",
        "print(fruits_dict)\n",
        "\n",
        "# for i,fruit in enumerate(fruits):\n",
        "#     print(i,fruit)"
      ],
      "metadata": {
        "id": "rLpBNw04C0rb",
        "outputId": "aaa9f40a-a0aa-4259-a5c9-c832aa8acd02",
        "colab": {
          "base_uri": "https://localhost:8080/"
        }
      },
      "execution_count": 33,
      "outputs": [
        {
          "output_type": "stream",
          "name": "stdout",
          "text": [
            "{0: 'apple', 1: 'banana', 2: 'orange'}\n"
          ]
        }
      ]
    },
    {
      "cell_type": "markdown",
      "source": [
        "# Functions\n",
        "---"
      ],
      "metadata": {
        "id": "ZFeeuWLKMQ8v"
      }
    },
    {
      "cell_type": "code",
      "source": [
        "# 1- Define the function\n",
        "def greet ():\n",
        "    # function body\n",
        "    print(\"Hello Class!\")\n",
        "\n",
        "# 2- Invokation / Call\n",
        "greet()\n",
        "\n",
        "greet()\n",
        "\n",
        "greet()\n"
      ],
      "metadata": {
        "id": "MWcg6bQTMWe9",
        "outputId": "c7ac049b-cefa-4b38-be56-f67037307567",
        "colab": {
          "base_uri": "https://localhost:8080/"
        }
      },
      "execution_count": 38,
      "outputs": [
        {
          "output_type": "stream",
          "name": "stdout",
          "text": [
            "Hello Class!\n",
            "Hello Class!\n",
            "Hello Class!\n"
          ]
        }
      ]
    },
    {
      "cell_type": "code",
      "source": [
        "\n",
        "def addition ():\n",
        "    x = 4\n",
        "    y = 8\n",
        "    print(x + y)\n",
        "\n",
        "addition()\n",
        "addition()\n",
        "addition()"
      ],
      "metadata": {
        "id": "vnHjvP_dNvdD",
        "outputId": "7891bc98-ce7e-469a-a980-24a280ef0bf2",
        "colab": {
          "base_uri": "https://localhost:8080/"
        }
      },
      "execution_count": 40,
      "outputs": [
        {
          "output_type": "stream",
          "name": "stdout",
          "text": [
            "12\n",
            "12\n",
            "12\n"
          ]
        }
      ]
    },
    {
      "cell_type": "code",
      "source": [
        "def addition (x, y):\n",
        "    result = x + y\n",
        "    print(result)\n",
        "\n",
        "\n",
        "addition(5, 10)\n",
        "\n",
        "addition(15, 30)"
      ],
      "metadata": {
        "id": "fJe0MmdSOekK",
        "outputId": "47c87eaa-8fe1-411e-e8fa-feb9e572d2d4",
        "colab": {
          "base_uri": "https://localhost:8080/"
        }
      },
      "execution_count": 43,
      "outputs": [
        {
          "output_type": "stream",
          "name": "stdout",
          "text": [
            "15\n",
            "45\n"
          ]
        }
      ]
    },
    {
      "cell_type": "code",
      "source": [
        "# def addition (x, y):\n",
        "#     result = x + y\n",
        "#     print(result)\n",
        "\n",
        "\n",
        "a = print(\"Rehan\")\n",
        "print(f\"Value of a: {a}\")\n",
        "\n",
        "y = int(\"5\")\n",
        "print(f\" value of {y}\")"
      ],
      "metadata": {
        "id": "bJVpBrCKQh6c",
        "outputId": "70eff75e-a508-4d2e-ea73-9a5023ddbfa1",
        "colab": {
          "base_uri": "https://localhost:8080/"
        }
      },
      "execution_count": 48,
      "outputs": [
        {
          "output_type": "stream",
          "name": "stdout",
          "text": [
            "Rehan\n",
            "Value of a: None\n",
            " value of 5\n"
          ]
        }
      ]
    },
    {
      "cell_type": "code",
      "source": [
        "def addition (x, y):\n",
        "    result = x + y\n",
        "    return result\n",
        "\n",
        "result1 = addition(4,5)\n",
        "# print(result1)\n",
        "\n",
        "print(4*result1)"
      ],
      "metadata": {
        "id": "_k9mvRe4bCkP",
        "outputId": "f484bdef-3ec2-4416-f412-5a88803c9b91",
        "colab": {
          "base_uri": "https://localhost:8080/"
        }
      },
      "execution_count": 52,
      "outputs": [
        {
          "output_type": "stream",
          "name": "stdout",
          "text": [
            "36\n"
          ]
        }
      ]
    },
    {
      "cell_type": "code",
      "source": [
        "def addition (x, y):\n",
        "    if x < 10 or y < 10:\n",
        "        print(\"hi\")\n",
        "        return\n",
        "    return x + y\n",
        "\n",
        "\n",
        "# print(addition(10,12))\n",
        "print(addition(4,5))\n",
        "\n"
      ],
      "metadata": {
        "id": "urmzRlyrc8BI",
        "outputId": "56bb4c00-e691-4c00-c713-4faa5a99d32f",
        "colab": {
          "base_uri": "https://localhost:8080/"
        }
      },
      "execution_count": 58,
      "outputs": [
        {
          "output_type": "stream",
          "name": "stdout",
          "text": [
            "hi\n",
            "None\n"
          ]
        }
      ]
    },
    {
      "cell_type": "code",
      "source": [
        "\n",
        "def return_multiple_values ():\n",
        "    x = 4\n",
        "    y = 5\n",
        "    return x, y\n",
        "\n",
        "print(return_multiple_values())"
      ],
      "metadata": {
        "id": "kaBxpxNXeuWm",
        "outputId": "286f650c-2c3d-4b5f-d0fb-23fcf798056e",
        "colab": {
          "base_uri": "https://localhost:8080/"
        }
      },
      "execution_count": 59,
      "outputs": [
        {
          "output_type": "stream",
          "name": "stdout",
          "text": [
            "(4, 5)\n"
          ]
        }
      ]
    },
    {
      "cell_type": "code",
      "source": [
        "def subtraction (x,y):\n",
        "    return x - y\n",
        "\n",
        "print(subtraction(10,7))\n",
        "\n",
        "print(subtraction(7,10))\n",
        "\n",
        "\n",
        "\n",
        "\n"
      ],
      "metadata": {
        "id": "XSf1a2-jfXDi",
        "outputId": "d3ad4a23-34fa-4f52-a9eb-17604eb7f3a7",
        "colab": {
          "base_uri": "https://localhost:8080/"
        }
      },
      "execution_count": 64,
      "outputs": [
        {
          "output_type": "stream",
          "name": "stdout",
          "text": [
            "3\n",
            "-3\n"
          ]
        }
      ]
    },
    {
      "cell_type": "code",
      "source": [
        "def full_name (first_name, last_name):\n",
        "    print(f\"{first_name} {last_name}\")\n",
        "\n",
        "full_name(\"Rehan\", \"Khan\")\n",
        "\n",
        "full_name(\"khan\", \"Rehan\")"
      ],
      "metadata": {
        "id": "lXzo6WXMgN0V",
        "outputId": "0df1a0e9-f2ae-4754-c83e-1850ba572a2b",
        "colab": {
          "base_uri": "https://localhost:8080/"
        }
      },
      "execution_count": 63,
      "outputs": [
        {
          "output_type": "stream",
          "name": "stdout",
          "text": [
            "Rehan Khan\n",
            "khan Rehan\n"
          ]
        }
      ]
    },
    {
      "cell_type": "markdown",
      "source": [
        "# Assignment\n",
        "---"
      ],
      "metadata": {
        "id": "k0U8baMkD_zr"
      }
    },
    {
      "cell_type": "code",
      "source": [
        "students_data = [\n",
        "    {\n",
        "        'name': 'John Doe',\n",
        "        'marks': {\n",
        "            'Math': 85,\n",
        "            'English': 90,\n",
        "            'Science': 78\n",
        "        }\n",
        "    },\n",
        "    {\n",
        "        'name': 'Jane Smith',\n",
        "        'marks': {\n",
        "            'Math': 75,\n",
        "            'English': 82,\n",
        "            'Science': 89\n",
        "        }\n",
        "    },\n",
        "    {\n",
        "        'name': 'Emily Davis',\n",
        "        'marks': {\n",
        "            'Math': 93,\n",
        "            'English': 87,\n",
        "            'Science': 85\n",
        "        }\n",
        "    },\n",
        "    {\n",
        "        'name': 'Michael Brown',\n",
        "        'marks': {\n",
        "            'Math': 65,\n",
        "            'English': 70,\n",
        "            'Science': 60\n",
        "        }\n",
        "    },\n",
        "    {\n",
        "        'name': 'Chris Johnson',\n",
        "        'marks': {\n",
        "            'Math': 88,\n",
        "            'English': 85,\n",
        "            'Science': 90\n",
        "        }\n",
        "    }\n",
        "]"
      ],
      "metadata": {
        "id": "g7qFgQ3Eg72j"
      },
      "execution_count": 65,
      "outputs": []
    },
    {
      "cell_type": "code",
      "source": [
        "for student in students_data:\n",
        "    total = student[\"marks\"][\"Math\"] +student[\"marks\"][\"English\"] +student[\"marks\"][\"Science\"]\n",
        "    print(f\"total :{total}\")"
      ],
      "metadata": {
        "id": "lGxB0v6Hh-NO",
        "outputId": "98906095-9f38-4456-d1eb-702caba34ff1",
        "colab": {
          "base_uri": "https://localhost:8080/"
        }
      },
      "execution_count": 71,
      "outputs": [
        {
          "output_type": "stream",
          "name": "stdout",
          "text": [
            "total :253\n",
            "total :246\n",
            "total :265\n",
            "total :195\n",
            "total :263\n"
          ]
        }
      ]
    }
  ]
}